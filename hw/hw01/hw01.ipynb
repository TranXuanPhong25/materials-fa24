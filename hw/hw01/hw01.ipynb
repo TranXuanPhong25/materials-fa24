{
 "cells": [
  {
   "cell_type": "code",
   "id": "52e64fc30b75fc54",
   "metadata": {
    "deletable": false,
    "editable": false,
    "ExecuteTime": {
     "end_time": "2025-02-17T12:40:01.917609Z",
     "start_time": "2025-02-17T12:40:01.908873Z"
    }
   },
   "source": [
    "# Initialize Otter\n",
    "import otter\n",
    "grader = otter.Notebook(\"hw01.ipynb\")"
   ],
   "outputs": [],
   "execution_count": 8
  },
  {
   "cell_type": "markdown",
   "id": "3fd1384c7c2099ac",
   "metadata": {},
   "source": [
    "<img src=\"data8logo.png\" alt=\"Data 8 Logo\" style=\"width: 15%; float: right; padding: 1%; margin-right: 2%;\"/>\n",
    "\n",
    "# Homework 1: Causality and Expressions\n",
    "\n",
    "Please complete this notebook by filling in the cells provided. Before you begin, run the previous cell to load the provided tests.\n",
    "\n",
    "**Recommended Readings:**\n",
    "\n",
    "- [What is Data Science?](http://www.inferentialthinking.com/chapters/01/what-is-data-science.html)\n",
    "- [Causality and Experiments](http://www.inferentialthinking.com/chapters/02/causality-and-experiments.html) \n",
    "- [Programming in Python](http://www.inferentialthinking.com/chapters/03/programming-in-python.html)\n",
    "\n",
    "For all problems that you must write explanations and sentences for, you **must** provide your answer in the designated space. Moreover, throughout this homework and all future ones, please be sure to not re-assign variables throughout the notebook! For example, if you use `max_temperature` in your answer to one question, do not reassign it later on. Otherwise, you will fail tests that you thought you were passing previously!\n",
    "\n",
    "**Deadline:**\n",
    "\n",
    "This assignment is **due Wednesday, 9/4 at 5:00pm PT**. Submissions after this time will be accepted for 24 hours and will incur a 20% penalty. Any submissions later than Thursday, 9/5 at 5:00pm PT will not be accepted unless an extension has been granted. Turn it in by Tuesday, 9/3 at 5:00pm PT for 5 extra credit points. For more information check our [policies](http://data8.org/fa24/policies/) page.\n",
    "\n",
    "**Note: This homework has hidden tests on it. That means even though tests may say 100% passed, it doesn't mean your final grade will be 100%. We will be running more hidden tests for correctness once everyone turns in the homework.**\n",
    "\n",
    "Directly sharing answers is not okay, but discussing problems with the course staff or with other students is encouraged. Refer to the [policies](http://data8.org/fa24/policies/#academic-honesty) page to learn more about how to learn cooperatively.\n",
    "\n",
    "You should start early so that you have time to get help if you're stuck. Office hours are held Monday-Friday. The schedule appears on [our website](http://data8.org/fa24/schedule/)."
   ]
  },
  {
   "cell_type": "markdown",
   "id": "f484a3b96a25bced",
   "metadata": {},
   "source": [
    "<hr style=\"border: 5px solid #003262;\" />\n",
    "<hr style=\"border: 1px solid #fdb515;\" />\n",
    "\n",
    "## 1. Scary Arithmetic"
   ]
  },
  {
   "cell_type": "markdown",
   "id": "3dd30587f6d27d09",
   "metadata": {},
   "source": [
    "<!-- BEGIN QUESTION -->\n",
    "\n",
    "---\n",
    "\n",
    "**Question 1.1** An ad for ADT Security Systems says,\n",
    "\n",
    "> \"When you go on vacation, burglars go to work [...] According to FBI statistics, over 25% of home burglaries occur between Memorial Day to Labor Day.\"\n",
    "\n",
    "Do the data in the ad support the claim that burglars are more likely to go to work during the time between Memorial Day to Labor Day? Please explain your answer. **(6 Points)**\n",
    "\n",
    "**Note:** You can assume that \"over 25%\" means only slightly over. Had it been much over, say closer to 30%, then the marketers would have said so.\n",
    "\n",
    "**Note:** Memorial Day is observed on the last Monday of May and Labor Day is observed on the first Monday of September.\n"
   ]
  },
  {
   "cell_type": "markdown",
   "id": "f6b1de20db49cfca",
   "metadata": {},
   "source": [
    "My answer: With big amount of observed situation, 25% of home burglaries is kind of meaningful. So i think the data support the claim that burglars are more likely to go to work during the time between Memorial Day to Labor Day."
   ]
  },
  {
   "cell_type": "markdown",
   "id": "4294e261babdfa52",
   "metadata": {},
   "source": [
    "<!-- END QUESTION -->\n",
    "\n",
    "<hr style=\"border: 5px solid #003262;\" />\n",
    "<hr style=\"border: 1px solid #fdb515;\" />\n",
    "\n",
    "## 2. Characters in Little Women\n"
   ]
  },
  {
   "cell_type": "markdown",
   "id": "22ff10e49b10abe3",
   "metadata": {},
   "source": [
    "In lecture, we counted the number of times that the literary characters were named in each chapter of the classic book, [*Little Women*](https://inferentialthinking.com/chapters/01/3/1/Literary_Characters.html?highlight=little%20women). In computer science, the word \"character\" also refers to a letter, digit, space, or punctuation mark; any single element of a text. The following code generates a scatter plot in which each dot corresponds to a chapter of *Little Women*. The horizontal position of a dot measures the number of periods in the chapter. The vertical position measures the total number of characters."
   ]
  },
  {
   "cell_type": "code",
   "id": "bcd7b212168ad983",
   "metadata": {
    "scrolled": true,
    "tags": [],
    "ExecuteTime": {
     "end_time": "2025-02-17T12:39:58.161446Z",
     "start_time": "2025-02-17T12:39:56.478377Z"
    }
   },
   "source": [
    "# Just run this cell.\n",
    "\n",
    "# This cell contains code that hasn't yet been covered in the course,\n",
    "# but you should be able to interpret the scatter plot it generates.\n",
    "\n",
    "from datascience import *\n",
    "from urllib.request import urlopen\n",
    "import numpy as np\n",
    "%matplotlib inline\n",
    "\n",
    "little_women_url = 'https://www.inferentialthinking.com/data/little_women.txt'\n",
    "chapters = urlopen(little_women_url).read().decode().split('CHAPTER ')[1:]\n",
    "text = Table().with_column('Chapters', chapters)\n",
    "Table().with_columns(\n",
    "    'Periods',    np.char.count(chapters, '.'),\n",
    "    'Characters', text.apply(len, 0)\n",
    "    ).scatter(0)"
   ],
   "outputs": [
    {
     "data": {
      "text/plain": [
       "<Figure size 500x500 with 1 Axes>"
      ],
      "image/png": "[encoded data removed]"
     },
     "metadata": {},
     "output_type": "display_data"
    }
   ],
   "execution_count": 2
  },
  {
   "cell_type": "markdown",
   "id": "fa3bdffa063be18f",
   "metadata": {},
   "source": [
    "---\n",
    "\n",
    "**Question 1.** Around how many periods are there in the chapter with the most characters? Assign either 1, 2, 3, 4, or 5 to the name `characters_q1` below. **(4 Points)**\n",
    "\n",
    "1. 250\n",
    "2. 390\n",
    "3. 440\n",
    "4. 32,000\n",
    "5. 40,000\n",
    "\n",
    "\n",
    "**Note:** If you run into a `NameError: name 'grader' is not defined` error in the autograder cell below (and in any assignment), please re-run the first cell at the very top of this notebook!\n"
   ]
  },
  {
   "cell_type": "code",
   "id": "5d1efb3690d4d1bc",
   "metadata": {
    "tags": [],
    "ExecuteTime": {
     "end_time": "2025-02-17T12:39:58.208951Z",
     "start_time": "2025-02-17T12:39:58.207297Z"
    }
   },
   "source": [
    "characters_q1 = 2"
   ],
   "outputs": [],
   "execution_count": 3
  },
  {
   "cell_type": "code",
   "id": "e04a3cdfb87987f5",
   "metadata": {
    "deletable": false,
    "editable": false,
    "ExecuteTime": {
     "end_time": "2025-02-17T12:39:58.266513Z",
     "start_time": "2025-02-17T12:39:58.258977Z"
    }
   },
   "source": [
    "grader.check(\"q2_1\")"
   ],
   "outputs": [
    {
     "data": {
      "text/plain": [
       "q2_1 results:\n",
       "    q2_1 - 1 result:\n",
       "        ❌ Test case failed\n",
       "        Trying:\n",
       "            1 <= characters_q1 <= 5\n",
       "        Expecting:\n",
       "            True\n",
       "        **********************************************************************\n",
       "        Line 1, in q2_1 0\n",
       "        Failed example:\n",
       "            1 <= characters_q1 <= 5\n",
       "        Exception raised:\n",
       "            Traceback (most recent call last):\n",
       "              File \"/usr/lib64/python3.13/doctest.py\", line 1395, in __run\n",
       "                exec(compile(example.source, filename, \"single\",\n",
       "                ~~~~^^^^^^^^^^^^^^^^^^^^^^^^^^^^^^^^^^^^^^^^^^^^\n",
       "                             compileflags, True), test.globs)\n",
       "                             ^^^^^^^^^^^^^^^^^^^^^^^^^^^^^^^^\n",
       "              File \"<doctest q2_1 0[0]>\", line 1, in <module>\n",
       "                1 <= characters_q1 <= 5\n",
       "                     ^^^^^^^^^^^^^\n",
       "            NameError: name 'characters_q1' is not defined"
      ],
      "text/html": [
       "<p><strong style='color: red;'><pre style='display: inline;'>q2_1</pre> results:</strong></p><p><strong><pre style='display: inline;'>q2_1 - 1</pre> result:</strong></p><pre>    ❌ Test case failed\n",
       "    Trying:\n",
       "        1 <= characters_q1 <= 5\n",
       "    Expecting:\n",
       "        True\n",
       "    **********************************************************************\n",
       "    Line 1, in q2_1 0\n",
       "    Failed example:\n",
       "        1 <= characters_q1 <= 5\n",
       "    Exception raised:\n",
       "        Traceback (most recent call last):\n",
       "          File \"/usr/lib64/python3.13/doctest.py\", line 1395, in __run\n",
       "            exec(compile(example.source, filename, \"single\",\n",
       "            ~~~~^^^^^^^^^^^^^^^^^^^^^^^^^^^^^^^^^^^^^^^^^^^^\n",
       "                         compileflags, True), test.globs)\n",
       "                         ^^^^^^^^^^^^^^^^^^^^^^^^^^^^^^^^\n",
       "          File \"<doctest q2_1 0[0]>\", line 1, in <module>\n",
       "            1 <= characters_q1 <= 5\n",
       "                 ^^^^^^^^^^^^^\n",
       "        NameError: name 'characters_q1' is not defined\n",
       "</pre>"
      ]
     },
     "execution_count": 4,
     "metadata": {},
     "output_type": "execute_result"
    }
   ],
   "execution_count": 4
  },
  {
   "cell_type": "markdown",
   "id": "82b2c642dc09219f",
   "metadata": {},
   "source": [
    "The test above checks that your answers are in the correct format. **This test does not check that you answered correctly**, only that you assigned a number successfully in each multiple-choice answer cell."
   ]
  },
  {
   "cell_type": "markdown",
   "id": "c1d62a38c96110b3",
   "metadata": {},
   "source": [
    "---\n",
    "\n",
    "**Question 2.** Which of the following chapters has the most characters *per* period? Assign either 1, 2, or 3 to the name `characters_q2` below. **(4 Points)**\n",
    "\n",
    "1. The chapter with about 60 periods\n",
    "2. The chapter with about 350 periods\n",
    "3. The chapter with about 440 periods\n"
   ]
  },
  {
   "cell_type": "code",
   "id": "c566fe808dfe3328",
   "metadata": {
    "tags": [],
    "ExecuteTime": {
     "end_time": "2025-02-17T12:39:58.338658Z",
     "start_time": "2025-02-17T12:39:58.336675Z"
    }
   },
   "source": [
    "characters_q2 = ..."
   ],
   "outputs": [],
   "execution_count": 5
  },
  {
   "cell_type": "code",
   "id": "f8ad0a8e55da7b45",
   "metadata": {
    "deletable": false,
    "editable": false,
    "ExecuteTime": {
     "end_time": "2025-02-17T12:39:58.388687Z",
     "start_time": "2025-02-17T12:39:58.383486Z"
    }
   },
   "source": [
    "grader.check(\"q2_2\")"
   ],
   "outputs": [
    {
     "data": {
      "text/plain": [
       "q2_2 results:\n",
       "    q2_2 - 1 result:\n",
       "        ❌ Test case failed\n",
       "        Trying:\n",
       "            1 <= characters_q2 <= 3\n",
       "        Expecting:\n",
       "            True\n",
       "        **********************************************************************\n",
       "        Line 1, in q2_2 0\n",
       "        Failed example:\n",
       "            1 <= characters_q2 <= 3\n",
       "        Exception raised:\n",
       "            Traceback (most recent call last):\n",
       "              File \"/usr/lib64/python3.13/doctest.py\", line 1395, in __run\n",
       "                exec(compile(example.source, filename, \"single\",\n",
       "                ~~~~^^^^^^^^^^^^^^^^^^^^^^^^^^^^^^^^^^^^^^^^^^^^\n",
       "                             compileflags, True), test.globs)\n",
       "                             ^^^^^^^^^^^^^^^^^^^^^^^^^^^^^^^^\n",
       "              File \"<doctest q2_2 0[0]>\", line 1, in <module>\n",
       "                1 <= characters_q2 <= 3\n",
       "                     ^^^^^^^^^^^^^\n",
       "            NameError: name 'characters_q2' is not defined"
      ],
      "text/html": [
       "<p><strong style='color: red;'><pre style='display: inline;'>q2_2</pre> results:</strong></p><p><strong><pre style='display: inline;'>q2_2 - 1</pre> result:</strong></p><pre>    ❌ Test case failed\n",
       "    Trying:\n",
       "        1 <= characters_q2 <= 3\n",
       "    Expecting:\n",
       "        True\n",
       "    **********************************************************************\n",
       "    Line 1, in q2_2 0\n",
       "    Failed example:\n",
       "        1 <= characters_q2 <= 3\n",
       "    Exception raised:\n",
       "        Traceback (most recent call last):\n",
       "          File \"/usr/lib64/python3.13/doctest.py\", line 1395, in __run\n",
       "            exec(compile(example.source, filename, \"single\",\n",
       "            ~~~~^^^^^^^^^^^^^^^^^^^^^^^^^^^^^^^^^^^^^^^^^^^^\n",
       "                         compileflags, True), test.globs)\n",
       "                         ^^^^^^^^^^^^^^^^^^^^^^^^^^^^^^^^\n",
       "          File \"<doctest q2_2 0[0]>\", line 1, in <module>\n",
       "            1 <= characters_q2 <= 3\n",
       "                 ^^^^^^^^^^^^^\n",
       "        NameError: name 'characters_q2' is not defined\n",
       "</pre>"
      ]
     },
     "execution_count": 6,
     "metadata": {},
     "output_type": "execute_result"
    }
   ],
   "execution_count": 6
  },
  {
   "cell_type": "markdown",
   "id": "280ff574f14b1f09",
   "metadata": {},
   "source": [
    "Again, the test above checks that your answers are in the correct format, but not that you have answered correctly."
   ]
  },
  {
   "cell_type": "markdown",
   "id": "971b5e4ab9aca676",
   "metadata": {},
   "source": [
    "To discover more interesting facts from this plot, check out [Section 1.3.2](https://inferentialthinking.com/chapters/01/3/2/Another_Kind_Of_Character.html) in the textbook."
   ]
  },
  {
   "cell_type": "markdown",
   "id": "a92ddcc5ab4222e3",
   "metadata": {},
   "source": [
    "<hr style=\"border: 5px solid #003262;\" />\n",
    "<hr style=\"border: 1px solid #fdb515;\" />\n",
    "\n",
    "## 3. Names and Assignment Statements"
   ]
  },
  {
   "cell_type": "markdown",
   "id": "2f8b25776ba5e224",
   "metadata": {},
   "source": [
    "---\n",
    "\n",
    "**Question 1.** When you run the following cell, Python produces a cryptic error message."
   ]
  },
  {
   "cell_type": "code",
   "id": "c75ba2aa5be518ac",
   "metadata": {
    "tags": [
     "raises-exception"
    ],
    "ExecuteTime": {
     "end_time": "2025-02-17T12:39:58.438954Z",
     "start_time": "2025-02-17T12:39:58.435352Z"
    }
   },
   "source": [
    "4 = 2 + 2"
   ],
   "outputs": [
    {
     "ename": "SyntaxError",
     "evalue": "cannot assign to literal here. Maybe you meant '==' instead of '='? (2769599576.py, line 1)",
     "output_type": "error",
     "traceback": [
      "\u001B[0;36m  Cell \u001B[0;32mIn[7], line 1\u001B[0;36m\u001B[0m\n\u001B[0;31m    4 = 2 + 2\u001B[0m\n\u001B[0m    ^\u001B[0m\n\u001B[0;31mSyntaxError\u001B[0m\u001B[0;31m:\u001B[0m cannot assign to literal here. Maybe you meant '==' instead of '='?\n"
     ]
    }
   ],
   "execution_count": 7
  },
  {
   "cell_type": "markdown",
   "id": "dae993289e69fbee",
   "metadata": {},
   "source": [
    "Choose the best explanation of what's wrong with the code, and then assign 1, 2, 3, or 4 to `names_q1` below to indicate your answer. **(4 Points)**\n",
    "\n",
    "1. Python is smart and already knows `4 = 2 + 2`.\n",
    "\n",
    "2. In Python, it's a rule that the `=` sign must have a variable name to its left, and `4` isn't a variable name.\n",
    "\n",
    "3. It should be `2 + 2 = 4`.\n",
    "\n",
    "4. I don't get an error message. This is a trick question.\n"
   ]
  },
  {
   "cell_type": "code",
   "execution_count": 32,
   "id": "bf7e59b580662b1e",
   "metadata": {
    "ExecuteTime": {
     "end_time": "2025-02-17T12:39:58.484868852Z",
     "start_time": "2025-02-17T09:15:20.353492Z"
    },
    "tags": []
   },
   "outputs": [],
   "source": [
    "names_q1 = 2"
   ]
  },
  {
   "cell_type": "code",
   "execution_count": 33,
   "id": "fc787a96f7084368",
   "metadata": {
    "ExecuteTime": {
     "end_time": "2025-02-17T12:39:58.488617662Z",
     "start_time": "2025-02-17T09:15:22.126384Z"
    },
    "deletable": false,
    "editable": false
   },
   "outputs": [
    {
     "data": {
      "text/html": [
       "<p><strong style='color: red;'><pre style='display: inline;'>q3_1</pre> results:</strong></p><p><strong><pre style='display: inline;'>q3_1 - 1</pre> result:</strong></p><pre>    ❌ Test case failed\n",
       "    Trying:\n",
       "        1 <= names_q1 <= 4\n",
       "    Expecting:\n",
       "        True\n",
       "    **********************************************************************\n",
       "    Line 1, in q3_1 0\n",
       "    Failed example:\n",
       "        1 <= names_q1 <= 4\n",
       "    Exception raised:\n",
       "        Traceback (most recent call last):\n",
       "          File \"/usr/lib64/python3.13/doctest.py\", line 1395, in __run\n",
       "            exec(compile(example.source, filename, \"single\",\n",
       "            ~~~~^^^^^^^^^^^^^^^^^^^^^^^^^^^^^^^^^^^^^^^^^^^^\n",
       "                         compileflags, True), test.globs)\n",
       "                         ^^^^^^^^^^^^^^^^^^^^^^^^^^^^^^^^\n",
       "          File \"<doctest q3_1 0[0]>\", line 1, in <module>\n",
       "            1 <= names_q1 <= 4\n",
       "                 ^^^^^^^^\n",
       "        NameError: name 'names_q1' is not defined\n",
       "</pre>"
      ],
      "text/plain": [
       "q3_1 results:\n",
       "    q3_1 - 1 result:\n",
       "        ❌ Test case failed\n",
       "        Trying:\n",
       "            1 <= names_q1 <= 4\n",
       "        Expecting:\n",
       "            True\n",
       "        **********************************************************************\n",
       "        Line 1, in q3_1 0\n",
       "        Failed example:\n",
       "            1 <= names_q1 <= 4\n",
       "        Exception raised:\n",
       "            Traceback (most recent call last):\n",
       "              File \"/usr/lib64/python3.13/doctest.py\", line 1395, in __run\n",
       "                exec(compile(example.source, filename, \"single\",\n",
       "                ~~~~^^^^^^^^^^^^^^^^^^^^^^^^^^^^^^^^^^^^^^^^^^^^\n",
       "                             compileflags, True), test.globs)\n",
       "                             ^^^^^^^^^^^^^^^^^^^^^^^^^^^^^^^^\n",
       "              File \"<doctest q3_1 0[0]>\", line 1, in <module>\n",
       "                1 <= names_q1 <= 4\n",
       "                     ^^^^^^^^\n",
       "            NameError: name 'names_q1' is not defined"
      ]
     },
     "execution_count": 33,
     "metadata": {},
     "output_type": "execute_result"
    }
   ],
   "source": [
    "grader.check(\"q3_1\")"
   ]
  },
  {
   "cell_type": "markdown",
   "id": "32f90b78fdf17b6f",
   "metadata": {},
   "source": [
    "---\n",
    "\n",
    "**Question 2.** When you run the following cell, Python will produce another cryptic error message."
   ]
  },
  {
   "cell_type": "code",
   "execution_count": null,
   "id": "a3642a3f6fc482f5",
   "metadata": {
    "tags": [
     "raises-exception"
    ]
   },
   "outputs": [],
   "source": [
    "two = 3\n",
    "six = two plus two"
   ]
  },
  {
   "cell_type": "markdown",
   "id": "1f0230738fdeb74a",
   "metadata": {},
   "source": [
    "Choose the best explanation of what's wrong with the code and assign 1, 2, 3, or 4 to `names_q2` below to indicate your answer. **(4 Points)**\n",
    "\n",
    "1. The `plus` operation only applies to numbers, not the word \"two\".\n",
    "\n",
    "2. The name \"two\" cannot be assigned to the number 3.\n",
    "\n",
    "3. Two plus two is four, not six.\n",
    "\n",
    "4. The name `plus` isn't a built-in operator; instead, addition uses `+`.\n"
   ]
  },
  {
   "cell_type": "code",
   "execution_count": 35,
   "id": "6b6b2cbf834e5340",
   "metadata": {
    "ExecuteTime": {
     "end_time": "2025-02-17T12:39:58.491496359Z",
     "start_time": "2025-02-17T09:20:03.623287Z"
    },
    "tags": []
   },
   "outputs": [],
   "source": [
    "names_q2 = 4"
   ]
  },
  {
   "cell_type": "code",
   "execution_count": 36,
   "id": "6a8f169b682f07f5",
   "metadata": {
    "ExecuteTime": {
     "end_time": "2025-02-17T12:39:58.507237095Z",
     "start_time": "2025-02-17T09:20:05.467745Z"
    },
    "deletable": false,
    "editable": false
   },
   "outputs": [
    {
     "data": {
      "text/html": [
       "<p><strong style='color: red;'><pre style='display: inline;'>q3_2</pre> results:</strong></p><p><strong><pre style='display: inline;'>q3_2 - 1</pre> result:</strong></p><pre>    ❌ Test case failed\n",
       "    Trying:\n",
       "        1 <= names_q2 <= 4\n",
       "    Expecting:\n",
       "        True\n",
       "    **********************************************************************\n",
       "    Line 1, in q3_2 0\n",
       "    Failed example:\n",
       "        1 <= names_q2 <= 4\n",
       "    Exception raised:\n",
       "        Traceback (most recent call last):\n",
       "          File \"/usr/lib64/python3.13/doctest.py\", line 1395, in __run\n",
       "            exec(compile(example.source, filename, \"single\",\n",
       "            ~~~~^^^^^^^^^^^^^^^^^^^^^^^^^^^^^^^^^^^^^^^^^^^^\n",
       "                         compileflags, True), test.globs)\n",
       "                         ^^^^^^^^^^^^^^^^^^^^^^^^^^^^^^^^\n",
       "          File \"<doctest q3_2 0[0]>\", line 1, in <module>\n",
       "            1 <= names_q2 <= 4\n",
       "                 ^^^^^^^^\n",
       "        NameError: name 'names_q2' is not defined\n",
       "</pre>"
      ],
      "text/plain": [
       "q3_2 results:\n",
       "    q3_2 - 1 result:\n",
       "        ❌ Test case failed\n",
       "        Trying:\n",
       "            1 <= names_q2 <= 4\n",
       "        Expecting:\n",
       "            True\n",
       "        **********************************************************************\n",
       "        Line 1, in q3_2 0\n",
       "        Failed example:\n",
       "            1 <= names_q2 <= 4\n",
       "        Exception raised:\n",
       "            Traceback (most recent call last):\n",
       "              File \"/usr/lib64/python3.13/doctest.py\", line 1395, in __run\n",
       "                exec(compile(example.source, filename, \"single\",\n",
       "                ~~~~^^^^^^^^^^^^^^^^^^^^^^^^^^^^^^^^^^^^^^^^^^^^\n",
       "                             compileflags, True), test.globs)\n",
       "                             ^^^^^^^^^^^^^^^^^^^^^^^^^^^^^^^^\n",
       "              File \"<doctest q3_2 0[0]>\", line 1, in <module>\n",
       "                1 <= names_q2 <= 4\n",
       "                     ^^^^^^^^\n",
       "            NameError: name 'names_q2' is not defined"
      ]
     },
     "execution_count": 36,
     "metadata": {},
     "output_type": "execute_result"
    }
   ],
   "source": [
    "grader.check(\"q3_2\")"
   ]
  },
  {
   "cell_type": "markdown",
   "id": "f6f1080c8c6d38ab",
   "metadata": {},
   "source": [
    "---\n",
    "\n",
    "**Question 3.** Run the following cell."
   ]
  },
  {
   "cell_type": "code",
   "execution_count": 42,
   "id": "ae492e3c6fe3fd62",
   "metadata": {
    "ExecuteTime": {
     "end_time": "2025-02-17T12:39:58.512292133Z",
     "start_time": "2025-02-17T09:20:21.139532Z"
    },
    "tags": [
     "raises-exception"
    ]
   },
   "outputs": [],
   "source": [
    "x = 2\n",
    "y = 3 * x\n",
    "x = 4"
   ]
  },
  {
   "cell_type": "markdown",
   "id": "b42293242fdb582e",
   "metadata": {},
   "source": [
    "What is `y` after running this cell, and why? Choose the best explanation and assign 1, 2, 3, or 4 to `names_q3` below to indicate your answer. **(4 Points)**\n",
    "\n",
    "1. `y` is equal to 6, because the second `x = 4` has no effect since `x` was already defined.\n",
    "\n",
    "2. `y` is equal to 6, because `x` was 2 when `y` was assigned, and 3 * 2 is 6.\n",
    "\n",
    "3. `y` is equal to 12, because `x` is 4 and 3 * 4 is 12.\n",
    "\n",
    "4. `y` is equal to 12, because assigning `x` to 4 will update `y` to 12 since `y` was defined in terms of `x`.\n"
   ]
  },
  {
   "cell_type": "code",
   "execution_count": 44,
   "id": "959271995cb4fb5c",
   "metadata": {
    "ExecuteTime": {
     "end_time": "2025-02-17T12:39:58.514100769Z",
     "start_time": "2025-02-17T09:20:30.540465Z"
    },
    "tags": []
   },
   "outputs": [],
   "source": [
    "names_q3 = 6"
   ]
  },
  {
   "cell_type": "code",
   "execution_count": 45,
   "id": "7248f686032e9538",
   "metadata": {
    "ExecuteTime": {
     "end_time": "2025-02-17T12:39:58.515848818Z",
     "start_time": "2025-02-17T09:20:32.587659Z"
    },
    "deletable": false,
    "editable": false
   },
   "outputs": [
    {
     "data": {
      "text/html": [
       "<p><strong style='color: red;'><pre style='display: inline;'>q3_3</pre> results:</strong></p><p><strong><pre style='display: inline;'>q3_3 - 1</pre> result:</strong></p><pre>    ❌ Test case failed\n",
       "    Trying:\n",
       "        1 <= names_q3 <= 4\n",
       "    Expecting:\n",
       "        True\n",
       "    **********************************************************************\n",
       "    Line 1, in q3_3 0\n",
       "    Failed example:\n",
       "        1 <= names_q3 <= 4\n",
       "    Exception raised:\n",
       "        Traceback (most recent call last):\n",
       "          File \"/usr/lib64/python3.13/doctest.py\", line 1395, in __run\n",
       "            exec(compile(example.source, filename, \"single\",\n",
       "            ~~~~^^^^^^^^^^^^^^^^^^^^^^^^^^^^^^^^^^^^^^^^^^^^\n",
       "                         compileflags, True), test.globs)\n",
       "                         ^^^^^^^^^^^^^^^^^^^^^^^^^^^^^^^^\n",
       "          File \"<doctest q3_3 0[0]>\", line 1, in <module>\n",
       "            1 <= names_q3 <= 4\n",
       "                 ^^^^^^^^\n",
       "        NameError: name 'names_q3' is not defined\n",
       "</pre>"
      ],
      "text/plain": [
       "q3_3 results:\n",
       "    q3_3 - 1 result:\n",
       "        ❌ Test case failed\n",
       "        Trying:\n",
       "            1 <= names_q3 <= 4\n",
       "        Expecting:\n",
       "            True\n",
       "        **********************************************************************\n",
       "        Line 1, in q3_3 0\n",
       "        Failed example:\n",
       "            1 <= names_q3 <= 4\n",
       "        Exception raised:\n",
       "            Traceback (most recent call last):\n",
       "              File \"/usr/lib64/python3.13/doctest.py\", line 1395, in __run\n",
       "                exec(compile(example.source, filename, \"single\",\n",
       "                ~~~~^^^^^^^^^^^^^^^^^^^^^^^^^^^^^^^^^^^^^^^^^^^^\n",
       "                             compileflags, True), test.globs)\n",
       "                             ^^^^^^^^^^^^^^^^^^^^^^^^^^^^^^^^\n",
       "              File \"<doctest q3_3 0[0]>\", line 1, in <module>\n",
       "                1 <= names_q3 <= 4\n",
       "                     ^^^^^^^^\n",
       "            NameError: name 'names_q3' is not defined"
      ]
     },
     "execution_count": 45,
     "metadata": {},
     "output_type": "execute_result"
    }
   ],
   "source": [
    "grader.check(\"q3_3\")"
   ]
  },
  {
   "cell_type": "markdown",
   "id": "56d3071399568880",
   "metadata": {},
   "source": [
    "<hr style=\"border: 5px solid #003262;\" />\n",
    "<hr style=\"border: 1px solid #fdb515;\" />\n",
    "\n",
    "## 4. Differences Between Majors"
   ]
  },
  {
   "cell_type": "markdown",
   "id": "fdd578bc86a546b9",
   "metadata": {},
   "source": [
    "Berkeley’s Office of Planning and Analysis (OPA) provides data on numerous aspects of the campus. Adapted from the OPA website, the table below displays the number of degree recipients in three majors in the 2008-2009 and 2017-2018 academic years.\n",
    "\n",
    "| Major                              | 2008-2009    | 2017-2018   |\n",
    "|------------------------------------|--------------|-------------|\n",
    "| Gender and Women's Studies         |      17      |    28       |\n",
    "| Linguistics                        |      49      |    67       |\n",
    "| Rhetoric                           |      113     |    56       |\n",
    "\n"
   ]
  },
  {
   "cell_type": "markdown",
   "id": "1860d5e692fa0c95",
   "metadata": {},
   "source": [
    "---\n",
    "\n",
    "**Question 1.** Suppose you want to find the **biggest** absolute difference between the number of degree recipients in the two years, among the three majors.\n",
    "\n",
    "In the cell below, compute this value and call it `biggest_change`. Use a single expression (a single line of code) to compute the answer. Let Python perform all the arithmetic (like subtracting 49 from 67) rather than simplifying the expression yourself. The built-in `abs` function takes a numerical input and returns the absolute value. The built-in `max` function can take in 3 arguments and returns the maximum of the three numbers. **(5 Points)**\n"
   ]
  },
  {
   "cell_type": "code",
   "execution_count": 49,
   "id": "ddba3d5f20f6b8d0",
   "metadata": {
    "ExecuteTime": {
     "end_time": "2025-02-17T12:39:58.517594518Z",
     "start_time": "2025-02-17T09:44:40.886815Z"
    },
    "deletable": false,
    "tags": []
   },
   "outputs": [
    {
     "data": {
      "text/plain": [
       "57"
      ]
     },
     "execution_count": 49,
     "metadata": {},
     "output_type": "execute_result"
    }
   ],
   "source": [
    "biggest_change = max(abs(28-17), abs(67-49), abs(56-113))\n",
    "biggest_change"
   ]
  },
  {
   "cell_type": "code",
   "execution_count": 50,
   "id": "1c39518d94b53769",
   "metadata": {
    "ExecuteTime": {
     "end_time": "2025-02-17T12:39:58.519266782Z",
     "start_time": "2025-02-17T09:44:42.267341Z"
    },
    "deletable": false,
    "editable": false
   },
   "outputs": [
    {
     "data": {
      "text/html": [
       "<p><strong style='color: red;'><pre style='display: inline;'>q4_1</pre> results:</strong></p><p><strong><pre style='display: inline;'>q4_1 - 1</pre> result:</strong></p><pre>    ❌ Test case failed\n",
       "    Trying:\n",
       "        isinstance(biggest_change, (int, float))\n",
       "    Expecting:\n",
       "        True\n",
       "    **********************************************************************\n",
       "    Line 1, in q4_1 0\n",
       "    Failed example:\n",
       "        isinstance(biggest_change, (int, float))\n",
       "    Exception raised:\n",
       "        Traceback (most recent call last):\n",
       "          File \"/usr/lib64/python3.13/doctest.py\", line 1395, in __run\n",
       "            exec(compile(example.source, filename, \"single\",\n",
       "            ~~~~^^^^^^^^^^^^^^^^^^^^^^^^^^^^^^^^^^^^^^^^^^^^\n",
       "                         compileflags, True), test.globs)\n",
       "                         ^^^^^^^^^^^^^^^^^^^^^^^^^^^^^^^^\n",
       "          File \"<doctest q4_1 0[0]>\", line 1, in <module>\n",
       "            isinstance(biggest_change, (int, float))\n",
       "                       ^^^^^^^^^^^^^^\n",
       "        NameError: name 'biggest_change' is not defined\n",
       "</pre>"
      ],
      "text/plain": [
       "q4_1 results:\n",
       "    q4_1 - 1 result:\n",
       "        ❌ Test case failed\n",
       "        Trying:\n",
       "            isinstance(biggest_change, (int, float))\n",
       "        Expecting:\n",
       "            True\n",
       "        **********************************************************************\n",
       "        Line 1, in q4_1 0\n",
       "        Failed example:\n",
       "            isinstance(biggest_change, (int, float))\n",
       "        Exception raised:\n",
       "            Traceback (most recent call last):\n",
       "              File \"/usr/lib64/python3.13/doctest.py\", line 1395, in __run\n",
       "                exec(compile(example.source, filename, \"single\",\n",
       "                ~~~~^^^^^^^^^^^^^^^^^^^^^^^^^^^^^^^^^^^^^^^^^^^^\n",
       "                             compileflags, True), test.globs)\n",
       "                             ^^^^^^^^^^^^^^^^^^^^^^^^^^^^^^^^\n",
       "              File \"<doctest q4_1 0[0]>\", line 1, in <module>\n",
       "                isinstance(biggest_change, (int, float))\n",
       "                           ^^^^^^^^^^^^^^\n",
       "            NameError: name 'biggest_change' is not defined"
      ]
     },
     "execution_count": 50,
     "metadata": {},
     "output_type": "execute_result"
    }
   ],
   "source": [
    "grader.check(\"q4_1\")"
   ]
  },
  {
   "cell_type": "markdown",
   "id": "efcb0d75631d97ab",
   "metadata": {},
   "source": [
    "---\n",
    "\n",
    "**Question 2.** Which of the three majors had the **smallest** absolute difference? Assign `smallest_change_major` to 1, 2, or 3 where each number corresponds to the following major:\n",
    "\n",
    "1. Gender and Women's Studies  \n",
    "2. Linguistics  \n",
    "3. Rhetoric\n",
    "\n",
    "Choose the number that corresponds to the major with the smallest absolute difference. **(4 Points)** \n",
    "\n",
    "_Hint:_ You should be able to answer by rough mental arithmetic, without having to calculate the exact value for each major.\n"
   ]
  },
  {
   "cell_type": "code",
   "execution_count": 51,
   "id": "3d24bdfb64492944",
   "metadata": {
    "ExecuteTime": {
     "end_time": "2025-02-17T12:39:58.520830944Z",
     "start_time": "2025-02-17T09:45:05.522071Z"
    },
    "deletable": false,
    "tags": []
   },
   "outputs": [
    {
     "data": {
      "text/plain": [
       "1"
      ]
     },
     "execution_count": 51,
     "metadata": {},
     "output_type": "execute_result"
    }
   ],
   "source": [
    "smallest_change_major = 1\n",
    "smallest_change_major"
   ]
  },
  {
   "cell_type": "code",
   "execution_count": 52,
   "id": "a79b8daa04b1529a",
   "metadata": {
    "ExecuteTime": {
     "end_time": "2025-02-17T12:39:58.522190176Z",
     "start_time": "2025-02-17T09:45:06.560216Z"
    },
    "deletable": false,
    "editable": false
   },
   "outputs": [
    {
     "data": {
      "text/html": [
       "<p><strong style='color: red;'><pre style='display: inline;'>q4_2</pre> results:</strong></p><p><strong><pre style='display: inline;'>q4_2 - 1</pre> result:</strong></p><pre>    ❌ Test case failed\n",
       "    Trying:\n",
       "        isinstance(smallest_change_major, (int, float))\n",
       "    Expecting:\n",
       "        True\n",
       "    **********************************************************************\n",
       "    Line 1, in q4_2 0\n",
       "    Failed example:\n",
       "        isinstance(smallest_change_major, (int, float))\n",
       "    Exception raised:\n",
       "        Traceback (most recent call last):\n",
       "          File \"/usr/lib64/python3.13/doctest.py\", line 1395, in __run\n",
       "            exec(compile(example.source, filename, \"single\",\n",
       "            ~~~~^^^^^^^^^^^^^^^^^^^^^^^^^^^^^^^^^^^^^^^^^^^^\n",
       "                         compileflags, True), test.globs)\n",
       "                         ^^^^^^^^^^^^^^^^^^^^^^^^^^^^^^^^\n",
       "          File \"<doctest q4_2 0[0]>\", line 1, in <module>\n",
       "            isinstance(smallest_change_major, (int, float))\n",
       "                       ^^^^^^^^^^^^^^^^^^^^^\n",
       "        NameError: name 'smallest_change_major' is not defined\n",
       "</pre><p><strong><pre style='display: inline;'>q4_2 - 2</pre> result:</strong></p><pre>    ❌ Test case failed\n",
       "    Trying:\n",
       "        1 <= smallest_change_major <= 3\n",
       "    Expecting:\n",
       "        True\n",
       "    **********************************************************************\n",
       "    Line 1, in q4_2 1\n",
       "    Failed example:\n",
       "        1 <= smallest_change_major <= 3\n",
       "    Exception raised:\n",
       "        Traceback (most recent call last):\n",
       "          File \"/usr/lib64/python3.13/doctest.py\", line 1395, in __run\n",
       "            exec(compile(example.source, filename, \"single\",\n",
       "            ~~~~^^^^^^^^^^^^^^^^^^^^^^^^^^^^^^^^^^^^^^^^^^^^\n",
       "                         compileflags, True), test.globs)\n",
       "                         ^^^^^^^^^^^^^^^^^^^^^^^^^^^^^^^^\n",
       "          File \"<doctest q4_2 1[0]>\", line 1, in <module>\n",
       "            1 <= smallest_change_major <= 3\n",
       "                 ^^^^^^^^^^^^^^^^^^^^^\n",
       "        NameError: name 'smallest_change_major' is not defined\n",
       "</pre>"
      ],
      "text/plain": [
       "q4_2 results:\n",
       "    q4_2 - 1 result:\n",
       "        ❌ Test case failed\n",
       "        Trying:\n",
       "            isinstance(smallest_change_major, (int, float))\n",
       "        Expecting:\n",
       "            True\n",
       "        **********************************************************************\n",
       "        Line 1, in q4_2 0\n",
       "        Failed example:\n",
       "            isinstance(smallest_change_major, (int, float))\n",
       "        Exception raised:\n",
       "            Traceback (most recent call last):\n",
       "              File \"/usr/lib64/python3.13/doctest.py\", line 1395, in __run\n",
       "                exec(compile(example.source, filename, \"single\",\n",
       "                ~~~~^^^^^^^^^^^^^^^^^^^^^^^^^^^^^^^^^^^^^^^^^^^^\n",
       "                             compileflags, True), test.globs)\n",
       "                             ^^^^^^^^^^^^^^^^^^^^^^^^^^^^^^^^\n",
       "              File \"<doctest q4_2 0[0]>\", line 1, in <module>\n",
       "                isinstance(smallest_change_major, (int, float))\n",
       "                           ^^^^^^^^^^^^^^^^^^^^^\n",
       "            NameError: name 'smallest_change_major' is not defined\n",
       "\n",
       "    q4_2 - 2 result:\n",
       "        ❌ Test case failed\n",
       "        Trying:\n",
       "            1 <= smallest_change_major <= 3\n",
       "        Expecting:\n",
       "            True\n",
       "        **********************************************************************\n",
       "        Line 1, in q4_2 1\n",
       "        Failed example:\n",
       "            1 <= smallest_change_major <= 3\n",
       "        Exception raised:\n",
       "            Traceback (most recent call last):\n",
       "              File \"/usr/lib64/python3.13/doctest.py\", line 1395, in __run\n",
       "                exec(compile(example.source, filename, \"single\",\n",
       "                ~~~~^^^^^^^^^^^^^^^^^^^^^^^^^^^^^^^^^^^^^^^^^^^^\n",
       "                             compileflags, True), test.globs)\n",
       "                             ^^^^^^^^^^^^^^^^^^^^^^^^^^^^^^^^\n",
       "              File \"<doctest q4_2 1[0]>\", line 1, in <module>\n",
       "                1 <= smallest_change_major <= 3\n",
       "                     ^^^^^^^^^^^^^^^^^^^^^\n",
       "            NameError: name 'smallest_change_major' is not defined"
      ]
     },
     "execution_count": 52,
     "metadata": {},
     "output_type": "execute_result"
    }
   ],
   "source": [
    "grader.check(\"q4_2\")"
   ]
  },
  {
   "cell_type": "markdown",
   "id": "36aefc9ec70cd3b2",
   "metadata": {},
   "source": [
    "---\n",
    "\n",
    "**Question 3.**  For each major, define the “relative change” to be the following: $\\large{\\frac{\\text{absolute difference}}{\\text{value in 2008-2009}} * 100}$ \n",
    "\n",
    "Fill in the code below such that `gws_relative_change`, `linguistics_relative_change` and `rhetoric_relative_change` are assigned to the relative changes for their respective majors. **(5 Points)**\n"
   ]
  },
  {
   "cell_type": "code",
   "execution_count": 53,
   "id": "29f8c36222fba073",
   "metadata": {
    "ExecuteTime": {
     "end_time": "2025-02-17T12:39:58.524468027Z",
     "start_time": "2025-02-17T10:43:39.177845Z"
    },
    "deletable": false,
    "for_assignment_type": "student",
    "tags": []
   },
   "outputs": [
    {
     "data": {
      "text/plain": [
       "(64.70588235294117, 36.734693877551024, 50.442477876106196)"
      ]
     },
     "execution_count": 53,
     "metadata": {},
     "output_type": "execute_result"
    }
   ],
   "source": [
    "gws_relative_change = (abs(28-17) / 17) * 100\n",
    "linguistics_relative_change = (abs(67-49) / 49) * 100\n",
    "rhetoric_relative_change = (abs(56-113) / 113) * 100\n",
    "gws_relative_change, linguistics_relative_change, rhetoric_relative_change"
   ]
  },
  {
   "cell_type": "code",
   "execution_count": 54,
   "id": "ea63afe96de4d65b",
   "metadata": {
    "ExecuteTime": {
     "end_time": "2025-02-17T12:39:58.526222095Z",
     "start_time": "2025-02-17T10:43:41.441811Z"
    },
    "deletable": false,
    "editable": false
   },
   "outputs": [
    {
     "data": {
      "text/html": [
       "<p><strong style='color: red;'><pre style='display: inline;'>q4_3</pre> results:</strong></p><p><strong><pre style='display: inline;'>q4_3 - 1</pre> result:</strong></p><pre>    ❌ Test case failed\n",
       "    Trying:\n",
       "        isinstance(gws_relative_change, (int, float))\n",
       "    Expecting:\n",
       "        True\n",
       "    **********************************************************************\n",
       "    Line 1, in q4_3 0\n",
       "    Failed example:\n",
       "        isinstance(gws_relative_change, (int, float))\n",
       "    Exception raised:\n",
       "        Traceback (most recent call last):\n",
       "          File \"/usr/lib64/python3.13/doctest.py\", line 1395, in __run\n",
       "            exec(compile(example.source, filename, \"single\",\n",
       "            ~~~~^^^^^^^^^^^^^^^^^^^^^^^^^^^^^^^^^^^^^^^^^^^^\n",
       "                         compileflags, True), test.globs)\n",
       "                         ^^^^^^^^^^^^^^^^^^^^^^^^^^^^^^^^\n",
       "          File \"<doctest q4_3 0[0]>\", line 1, in <module>\n",
       "            isinstance(gws_relative_change, (int, float))\n",
       "                       ^^^^^^^^^^^^^^^^^^^\n",
       "        NameError: name 'gws_relative_change' is not defined\n",
       "</pre><p><strong><pre style='display: inline;'>q4_3 - 2</pre> result:</strong></p><pre>    ❌ Test case failed\n",
       "    Trying:\n",
       "        isinstance(linguistics_relative_change, (int, float))\n",
       "    Expecting:\n",
       "        True\n",
       "    **********************************************************************\n",
       "    Line 1, in q4_3 1\n",
       "    Failed example:\n",
       "        isinstance(linguistics_relative_change, (int, float))\n",
       "    Exception raised:\n",
       "        Traceback (most recent call last):\n",
       "          File \"/usr/lib64/python3.13/doctest.py\", line 1395, in __run\n",
       "            exec(compile(example.source, filename, \"single\",\n",
       "            ~~~~^^^^^^^^^^^^^^^^^^^^^^^^^^^^^^^^^^^^^^^^^^^^\n",
       "                         compileflags, True), test.globs)\n",
       "                         ^^^^^^^^^^^^^^^^^^^^^^^^^^^^^^^^\n",
       "          File \"<doctest q4_3 1[0]>\", line 1, in <module>\n",
       "            isinstance(linguistics_relative_change, (int, float))\n",
       "                       ^^^^^^^^^^^^^^^^^^^^^^^^^^^\n",
       "        NameError: name 'linguistics_relative_change' is not defined\n",
       "</pre><p><strong><pre style='display: inline;'>q4_3 - 3</pre> result:</strong></p><pre>    ❌ Test case failed\n",
       "    Trying:\n",
       "        isinstance(rhetoric_relative_change, (int, float))\n",
       "    Expecting:\n",
       "        True\n",
       "    **********************************************************************\n",
       "    Line 1, in q4_3 2\n",
       "    Failed example:\n",
       "        isinstance(rhetoric_relative_change, (int, float))\n",
       "    Exception raised:\n",
       "        Traceback (most recent call last):\n",
       "          File \"/usr/lib64/python3.13/doctest.py\", line 1395, in __run\n",
       "            exec(compile(example.source, filename, \"single\",\n",
       "            ~~~~^^^^^^^^^^^^^^^^^^^^^^^^^^^^^^^^^^^^^^^^^^^^\n",
       "                         compileflags, True), test.globs)\n",
       "                         ^^^^^^^^^^^^^^^^^^^^^^^^^^^^^^^^\n",
       "          File \"<doctest q4_3 2[0]>\", line 1, in <module>\n",
       "            isinstance(rhetoric_relative_change, (int, float))\n",
       "                       ^^^^^^^^^^^^^^^^^^^^^^^^\n",
       "        NameError: name 'rhetoric_relative_change' is not defined\n",
       "</pre>"
      ],
      "text/plain": [
       "q4_3 results:\n",
       "    q4_3 - 1 result:\n",
       "        ❌ Test case failed\n",
       "        Trying:\n",
       "            isinstance(gws_relative_change, (int, float))\n",
       "        Expecting:\n",
       "            True\n",
       "        **********************************************************************\n",
       "        Line 1, in q4_3 0\n",
       "        Failed example:\n",
       "            isinstance(gws_relative_change, (int, float))\n",
       "        Exception raised:\n",
       "            Traceback (most recent call last):\n",
       "              File \"/usr/lib64/python3.13/doctest.py\", line 1395, in __run\n",
       "                exec(compile(example.source, filename, \"single\",\n",
       "                ~~~~^^^^^^^^^^^^^^^^^^^^^^^^^^^^^^^^^^^^^^^^^^^^\n",
       "                             compileflags, True), test.globs)\n",
       "                             ^^^^^^^^^^^^^^^^^^^^^^^^^^^^^^^^\n",
       "              File \"<doctest q4_3 0[0]>\", line 1, in <module>\n",
       "                isinstance(gws_relative_change, (int, float))\n",
       "                           ^^^^^^^^^^^^^^^^^^^\n",
       "            NameError: name 'gws_relative_change' is not defined\n",
       "\n",
       "    q4_3 - 2 result:\n",
       "        ❌ Test case failed\n",
       "        Trying:\n",
       "            isinstance(linguistics_relative_change, (int, float))\n",
       "        Expecting:\n",
       "            True\n",
       "        **********************************************************************\n",
       "        Line 1, in q4_3 1\n",
       "        Failed example:\n",
       "            isinstance(linguistics_relative_change, (int, float))\n",
       "        Exception raised:\n",
       "            Traceback (most recent call last):\n",
       "              File \"/usr/lib64/python3.13/doctest.py\", line 1395, in __run\n",
       "                exec(compile(example.source, filename, \"single\",\n",
       "                ~~~~^^^^^^^^^^^^^^^^^^^^^^^^^^^^^^^^^^^^^^^^^^^^\n",
       "                             compileflags, True), test.globs)\n",
       "                             ^^^^^^^^^^^^^^^^^^^^^^^^^^^^^^^^\n",
       "              File \"<doctest q4_3 1[0]>\", line 1, in <module>\n",
       "                isinstance(linguistics_relative_change, (int, float))\n",
       "                           ^^^^^^^^^^^^^^^^^^^^^^^^^^^\n",
       "            NameError: name 'linguistics_relative_change' is not defined\n",
       "\n",
       "    q4_3 - 3 result:\n",
       "        ❌ Test case failed\n",
       "        Trying:\n",
       "            isinstance(rhetoric_relative_change, (int, float))\n",
       "        Expecting:\n",
       "            True\n",
       "        **********************************************************************\n",
       "        Line 1, in q4_3 2\n",
       "        Failed example:\n",
       "            isinstance(rhetoric_relative_change, (int, float))\n",
       "        Exception raised:\n",
       "            Traceback (most recent call last):\n",
       "              File \"/usr/lib64/python3.13/doctest.py\", line 1395, in __run\n",
       "                exec(compile(example.source, filename, \"single\",\n",
       "                ~~~~^^^^^^^^^^^^^^^^^^^^^^^^^^^^^^^^^^^^^^^^^^^^\n",
       "                             compileflags, True), test.globs)\n",
       "                             ^^^^^^^^^^^^^^^^^^^^^^^^^^^^^^^^\n",
       "              File \"<doctest q4_3 2[0]>\", line 1, in <module>\n",
       "                isinstance(rhetoric_relative_change, (int, float))\n",
       "                           ^^^^^^^^^^^^^^^^^^^^^^^^\n",
       "            NameError: name 'rhetoric_relative_change' is not defined"
      ]
     },
     "execution_count": 54,
     "metadata": {},
     "output_type": "execute_result"
    }
   ],
   "source": [
    "grader.check(\"q4_3\")"
   ]
  },
  {
   "cell_type": "markdown",
   "id": "168f9036a7b7c485",
   "metadata": {},
   "source": [
    "---\n",
    "\n",
    "**Question 4.** Assign `biggest_rel_change_major` to 1, 2, or 3 where each number corresponds to to the following: \n",
    "\n",
    "1. Gender and Women's Studies  \n",
    "2. Linguistics  \n",
    "3. Rhetoric\n",
    "\n",
    "Choose the number that corresponds to the major with the biggest relative change. **(4 Points)**\n"
   ]
  },
  {
   "cell_type": "code",
   "execution_count": 55,
   "id": "68440378bc86b4de",
   "metadata": {
    "ExecuteTime": {
     "end_time": "2025-02-17T12:39:58.528438508Z",
     "start_time": "2025-02-17T10:45:41.420763Z"
    },
    "deletable": false,
    "tags": []
   },
   "outputs": [
    {
     "data": {
      "text/plain": [
       "1"
      ]
     },
     "execution_count": 55,
     "metadata": {},
     "output_type": "execute_result"
    }
   ],
   "source": [
    "biggest_rel_change_major = 1\n",
    "biggest_rel_change_major"
   ]
  },
  {
   "cell_type": "code",
   "execution_count": 56,
   "id": "18933516d7bb9ec0",
   "metadata": {
    "ExecuteTime": {
     "end_time": "2025-02-17T12:39:58.530074587Z",
     "start_time": "2025-02-17T10:45:43.279663Z"
    },
    "deletable": false,
    "editable": false
   },
   "outputs": [
    {
     "data": {
      "text/html": [
       "<p><strong style='color: red;'><pre style='display: inline;'>q4_4</pre> results:</strong></p><p><strong><pre style='display: inline;'>q4_4 - 1</pre> result:</strong></p><pre>    ❌ Test case failed\n",
       "    Trying:\n",
       "        isinstance(biggest_rel_change_major, (int, float))\n",
       "    Expecting:\n",
       "        True\n",
       "    **********************************************************************\n",
       "    Line 1, in q4_4 0\n",
       "    Failed example:\n",
       "        isinstance(biggest_rel_change_major, (int, float))\n",
       "    Exception raised:\n",
       "        Traceback (most recent call last):\n",
       "          File \"/usr/lib64/python3.13/doctest.py\", line 1395, in __run\n",
       "            exec(compile(example.source, filename, \"single\",\n",
       "            ~~~~^^^^^^^^^^^^^^^^^^^^^^^^^^^^^^^^^^^^^^^^^^^^\n",
       "                         compileflags, True), test.globs)\n",
       "                         ^^^^^^^^^^^^^^^^^^^^^^^^^^^^^^^^\n",
       "          File \"<doctest q4_4 0[0]>\", line 1, in <module>\n",
       "            isinstance(biggest_rel_change_major, (int, float))\n",
       "                       ^^^^^^^^^^^^^^^^^^^^^^^^\n",
       "        NameError: name 'biggest_rel_change_major' is not defined\n",
       "</pre><p><strong><pre style='display: inline;'>q4_4 - 2</pre> result:</strong></p><pre>    ❌ Test case failed\n",
       "    Trying:\n",
       "        1 <= biggest_rel_change_major <= 3\n",
       "    Expecting:\n",
       "        True\n",
       "    **********************************************************************\n",
       "    Line 1, in q4_4 1\n",
       "    Failed example:\n",
       "        1 <= biggest_rel_change_major <= 3\n",
       "    Exception raised:\n",
       "        Traceback (most recent call last):\n",
       "          File \"/usr/lib64/python3.13/doctest.py\", line 1395, in __run\n",
       "            exec(compile(example.source, filename, \"single\",\n",
       "            ~~~~^^^^^^^^^^^^^^^^^^^^^^^^^^^^^^^^^^^^^^^^^^^^\n",
       "                         compileflags, True), test.globs)\n",
       "                         ^^^^^^^^^^^^^^^^^^^^^^^^^^^^^^^^\n",
       "          File \"<doctest q4_4 1[0]>\", line 1, in <module>\n",
       "            1 <= biggest_rel_change_major <= 3\n",
       "                 ^^^^^^^^^^^^^^^^^^^^^^^^\n",
       "        NameError: name 'biggest_rel_change_major' is not defined\n",
       "</pre>"
      ],
      "text/plain": [
       "q4_4 results:\n",
       "    q4_4 - 1 result:\n",
       "        ❌ Test case failed\n",
       "        Trying:\n",
       "            isinstance(biggest_rel_change_major, (int, float))\n",
       "        Expecting:\n",
       "            True\n",
       "        **********************************************************************\n",
       "        Line 1, in q4_4 0\n",
       "        Failed example:\n",
       "            isinstance(biggest_rel_change_major, (int, float))\n",
       "        Exception raised:\n",
       "            Traceback (most recent call last):\n",
       "              File \"/usr/lib64/python3.13/doctest.py\", line 1395, in __run\n",
       "                exec(compile(example.source, filename, \"single\",\n",
       "                ~~~~^^^^^^^^^^^^^^^^^^^^^^^^^^^^^^^^^^^^^^^^^^^^\n",
       "                             compileflags, True), test.globs)\n",
       "                             ^^^^^^^^^^^^^^^^^^^^^^^^^^^^^^^^\n",
       "              File \"<doctest q4_4 0[0]>\", line 1, in <module>\n",
       "                isinstance(biggest_rel_change_major, (int, float))\n",
       "                           ^^^^^^^^^^^^^^^^^^^^^^^^\n",
       "            NameError: name 'biggest_rel_change_major' is not defined\n",
       "\n",
       "    q4_4 - 2 result:\n",
       "        ❌ Test case failed\n",
       "        Trying:\n",
       "            1 <= biggest_rel_change_major <= 3\n",
       "        Expecting:\n",
       "            True\n",
       "        **********************************************************************\n",
       "        Line 1, in q4_4 1\n",
       "        Failed example:\n",
       "            1 <= biggest_rel_change_major <= 3\n",
       "        Exception raised:\n",
       "            Traceback (most recent call last):\n",
       "              File \"/usr/lib64/python3.13/doctest.py\", line 1395, in __run\n",
       "                exec(compile(example.source, filename, \"single\",\n",
       "                ~~~~^^^^^^^^^^^^^^^^^^^^^^^^^^^^^^^^^^^^^^^^^^^^\n",
       "                             compileflags, True), test.globs)\n",
       "                             ^^^^^^^^^^^^^^^^^^^^^^^^^^^^^^^^\n",
       "              File \"<doctest q4_4 1[0]>\", line 1, in <module>\n",
       "                1 <= biggest_rel_change_major <= 3\n",
       "                     ^^^^^^^^^^^^^^^^^^^^^^^^\n",
       "            NameError: name 'biggest_rel_change_major' is not defined"
      ]
     },
     "execution_count": 56,
     "metadata": {},
     "output_type": "execute_result"
    }
   ],
   "source": [
    "grader.check(\"q4_4\")"
   ]
  },
  {
   "cell_type": "markdown",
   "id": "977a9838a93adb81",
   "metadata": {},
   "source": [
    "<hr style=\"border: 5px solid #003262;\" />\n",
    "<hr style=\"border: 1px solid #fdb515;\" />\n",
    "\n",
    "## 5. Nearsightedness Study"
   ]
  },
  {
   "cell_type": "markdown",
   "id": "3d0ea32a85a81490",
   "metadata": {},
   "source": [
    "[Myopia](https://en.wikipedia.org/wiki/Myopia), or nearsightedness, results from a number of genetic and environmental factors. In 1999, Quinn et al studied the relation between myopia and ambient lighting at night (for example, from nightlights or room lights) during childhood."
   ]
  },
  {
   "cell_type": "markdown",
   "id": "7d17ff0bfd826b68",
   "metadata": {},
   "source": [
    "<!-- BEGIN QUESTION -->\n",
    "\n",
    "---\n",
    "\n",
    "**Question 5.1.** The data were gathered by the following procedure, reported in the study. \"Between January and June 1998, parents of children aged 2-16 years [...] that were seen as outpatients in a university pediatric ophthalmology clinic completed a questionnaire on the child's light exposure both at present and before the age of 2 years.\" Was this study observational, or was it a controlled experiment? Explain. **(5 Points)**\n"
   ]
  },
  {
   "cell_type": "markdown",
   "id": "dfc4b823bd9f2ba4",
   "metadata": {},
   "source": [
    "_I think this is observational._"
   ]
  },
  {
   "cell_type": "markdown",
   "id": "ba20a3cb3ee4e699",
   "metadata": {},
   "source": [
    "<!-- END QUESTION -->\n",
    "\n",
    "<!-- BEGIN QUESTION -->\n",
    "\n",
    "---\n",
    "\n",
    "**Question 5.2.** The study found that of the children who slept with a room light on before the age of 2, 55% were myopic. Of the children who slept with a night light on before the age of 2, 34% were myopic. Of the children who slept in the dark before the age of 2, 10% were myopic. The study concluded the following: \"The prevalence of myopia [...] during childhood was strongly associated with ambient light exposure during sleep at night in the first two years after birth.\"\n",
    "\n",
    "Do the data support this statement? Why or why not? You may interpret \"strongly\" in any reasonable qualitative way. **(5 Points)**\n"
   ]
  },
  {
   "cell_type": "markdown",
   "id": "e7c0d55941277afe",
   "metadata": {},
   "source": [
    "_Yes, the data strongly support that statement. Because the different observation result between room light and dark are obviously distinct. This conclude show that the impact of the light during sleep on children before the age of 2._"
   ]
  },
  {
   "cell_type": "markdown",
   "id": "d31ee13011c2cc99",
   "metadata": {},
   "source": [
    "<!-- END QUESTION -->\n",
    "\n",
    "<!-- BEGIN QUESTION -->\n",
    "\n",
    "---\n",
    "\n",
    "**Question 5.3.** On May 13, 1999, CNN reported the results of this study under the headline, \"Night light may lead to nearsightedness.\" Does the original study claim that night light causes nearsightedness? **(5 Points)**\n"
   ]
  },
  {
   "cell_type": "markdown",
   "id": "981fbd4bdbbe603e",
   "metadata": {},
   "source": [
    "_My answer: Original study do not claim that night light causes nearsightedness, it concludes that the ambient light exposure during sleep at night affect to the children's eyesight._"
   ]
  },
  {
   "cell_type": "markdown",
   "id": "2ca10cb535df637e",
   "metadata": {},
   "source": [
    "<!-- END QUESTION -->\n",
    "\n",
    "<!-- BEGIN QUESTION -->\n",
    "\n",
    "---\n",
    "\n",
    "**Question 5.4.** The final paragraph of the CNN report said that \"several eye specialists\" had pointed out that the study should have accounted for heredity.\n",
    "\n",
    "Myopia is passed down from parents to children. Myopic parents are more likely to have myopic children, and may also be more likely to leave lights on habitually (since the parents have poor vision). In what way does the knowledge of this possible genetic link affect how we interpret the data from the study? Explain. **(5 Points)**\n"
   ]
  },
  {
   "cell_type": "markdown",
   "id": "9919195cee455e91",
   "metadata": {},
   "source": "My answer: The knowledge indicates that the way we should interpret the data relatively. But the conclusion has a precision about what data describe."
  },
  {
   "cell_type": "markdown",
   "id": "171822bbaae47d6c",
   "metadata": {},
   "source": [
    "<!-- END QUESTION -->\n",
    "\n",
    "<hr style=\"border: 5px solid #003262;\" />\n",
    "<hr style=\"border: 1px solid #fdb515;\" />\n",
    "\n",
    "## 6. Studying the Survivors"
   ]
  },
  {
   "cell_type": "markdown",
   "id": "53f2d10de4f35b1c",
   "metadata": {},
   "source": [
    "---\n",
    "\n",
    "**Question 6.1.** The Reverend Henry Whitehead was skeptical of John Snow’s conclusion about the Broad Street pump. After the Broad Street cholera epidemic ended, Whitehead set about trying to prove Snow wrong.  (The history of the event is detailed [here](http://www.ncbi.nlm.nih.gov/pmc/articles/PMC1034367/pdf/medhist00183-0026.pdf).)\n",
    "\n",
    "He realized that Snow had focused his analysis almost entirely on those who had died. Whitehead, therefore, investigated the drinking habits of people in the Broad Street area who had not died in the outbreak.\n",
    "\n",
    "What is the main reason it was important to study this group? Assign either 1, 2, or 3 to the name `survivor_answer` below. **(4 Points)**\n",
    "\n",
    "1. If Whitehead had found that many people had drunk water from the Broad Street pump and not caught cholera, that would have been evidence against Snow's hypothesis.\n",
    "\n",
    "2. Survivors could provide additional information about what else could have caused the cholera, potentially unearthing another cause.\n",
    "\n",
    "3. Through considering the survivors, Whitehead could have identified a cure for cholera.\n"
   ]
  },
  {
   "cell_type": "code",
   "id": "fd2c058a053279eb",
   "metadata": {
    "deletable": false,
    "tags": [],
    "ExecuteTime": {
     "end_time": "2025-02-17T12:39:58.531873301Z",
     "start_time": "2025-02-17T12:24:24.108853Z"
    }
   },
   "source": "survivor_answer = 1",
   "outputs": [],
   "execution_count": 57
  },
  {
   "cell_type": "code",
   "id": "394036e39c3f634d",
   "metadata": {
    "deletable": false,
    "editable": false,
    "ExecuteTime": {
     "end_time": "2025-02-17T12:39:58.533270772Z",
     "start_time": "2025-02-17T12:24:24.818746Z"
    }
   },
   "source": [
    "grader.check(\"q6_1\")"
   ],
   "outputs": [
    {
     "data": {
      "text/plain": [
       "q6_1 results:\n",
       "    q6_1 - 1 result:\n",
       "        ❌ Test case failed\n",
       "        Trying:\n",
       "            1 <= survivor_answer <= 3\n",
       "        Expecting:\n",
       "            True\n",
       "        **********************************************************************\n",
       "        Line 1, in q6_1 0\n",
       "        Failed example:\n",
       "            1 <= survivor_answer <= 3\n",
       "        Exception raised:\n",
       "            Traceback (most recent call last):\n",
       "              File \"/usr/lib64/python3.13/doctest.py\", line 1395, in __run\n",
       "                exec(compile(example.source, filename, \"single\",\n",
       "                ~~~~^^^^^^^^^^^^^^^^^^^^^^^^^^^^^^^^^^^^^^^^^^^^\n",
       "                             compileflags, True), test.globs)\n",
       "                             ^^^^^^^^^^^^^^^^^^^^^^^^^^^^^^^^\n",
       "              File \"<doctest q6_1 0[0]>\", line 1, in <module>\n",
       "                1 <= survivor_answer <= 3\n",
       "                     ^^^^^^^^^^^^^^^\n",
       "            NameError: name 'survivor_answer' is not defined"
      ],
      "text/html": [
       "<p><strong style='color: red;'><pre style='display: inline;'>q6_1</pre> results:</strong></p><p><strong><pre style='display: inline;'>q6_1 - 1</pre> result:</strong></p><pre>    ❌ Test case failed\n",
       "    Trying:\n",
       "        1 <= survivor_answer <= 3\n",
       "    Expecting:\n",
       "        True\n",
       "    **********************************************************************\n",
       "    Line 1, in q6_1 0\n",
       "    Failed example:\n",
       "        1 <= survivor_answer <= 3\n",
       "    Exception raised:\n",
       "        Traceback (most recent call last):\n",
       "          File \"/usr/lib64/python3.13/doctest.py\", line 1395, in __run\n",
       "            exec(compile(example.source, filename, \"single\",\n",
       "            ~~~~^^^^^^^^^^^^^^^^^^^^^^^^^^^^^^^^^^^^^^^^^^^^\n",
       "                         compileflags, True), test.globs)\n",
       "                         ^^^^^^^^^^^^^^^^^^^^^^^^^^^^^^^^\n",
       "          File \"<doctest q6_1 0[0]>\", line 1, in <module>\n",
       "            1 <= survivor_answer <= 3\n",
       "                 ^^^^^^^^^^^^^^^\n",
       "        NameError: name 'survivor_answer' is not defined\n",
       "</pre>"
      ]
     },
     "execution_count": 58,
     "metadata": {},
     "output_type": "execute_result"
    }
   ],
   "execution_count": 58
  },
  {
   "cell_type": "markdown",
   "id": "4579bd6fe13773d5",
   "metadata": {},
   "source": [
    "**Note:** Whitehead ended up finding further proof that the Broad Street pump played a central role in spreading the disease to the people who lived near it. Eventually, he became one of Snow’s greatest defenders."
   ]
  },
  {
   "cell_type": "markdown",
   "id": "b20d86a77f2f35a1",
   "metadata": {},
   "source": [
    "<hr style=\"border: 5px solid #003262;\" />\n",
    "<hr style=\"border: 1px solid #fdb515;\" />\n",
    "\n",
    "## 7. Policies and Administrivia"
   ]
  },
  {
   "cell_type": "markdown",
   "id": "1b8c3e8b67e8848d",
   "metadata": {},
   "source": [
    "This section of the homework is to ensure that you have read over the policies and frequently asked questions for the course. \n",
    "\n",
    "**It's important that you read through this section of the homework very carefully**. If you can get through all of this section and are sure you have all of the correct resources set up, you will be able to focus on the actual material this semester!\n",
    "\n",
    "Reading through the [policies](http://data8.org/fa24/policies/) and the [FAQ](http://data8.org/fa24/faq/) will help you get through this section very easily. It is recommended you do this before proceeding. "
   ]
  },
  {
   "cell_type": "markdown",
   "id": "9e3ddb406ee2c8c3",
   "metadata": {},
   "source": [
    "---\n",
    "\n",
    "**Question 1.** You have a question regarding the grading of your assignments that has not been previously answered on Ed or the FAQ. Who do you contact? Assign `contact` to the number corresponding to the best choice below. **(4 Points)**\n",
    "\n",
    "1. The Instructors\n",
    "2. Post on Ed\n",
    "3. Contact your Lab TA\n"
   ]
  },
  {
   "cell_type": "code",
   "execution_count": null,
   "id": "2c7088d25708fa06",
   "metadata": {
    "tags": []
   },
   "outputs": [],
   "source": "contact = 3"
  },
  {
   "cell_type": "code",
   "id": "cc083805ce3d3536",
   "metadata": {
    "deletable": false,
    "editable": false,
    "ExecuteTime": {
     "end_time": "2025-02-17T12:42:47.598231Z",
     "start_time": "2025-02-17T12:42:47.590991Z"
    }
   },
   "source": [
    "grader.check(\"q7_1\")"
   ],
   "outputs": [
    {
     "data": {
      "text/plain": [
       "q7_1 results:\n",
       "    q7_1 - 1 result:\n",
       "        ❌ Test case failed\n",
       "        Trying:\n",
       "            contact == 3\n",
       "        Expecting:\n",
       "            True\n",
       "        **********************************************************************\n",
       "        Line 1, in q7_1 0\n",
       "        Failed example:\n",
       "            contact == 3\n",
       "        Exception raised:\n",
       "            Traceback (most recent call last):\n",
       "              File \"/usr/lib64/python3.13/doctest.py\", line 1395, in __run\n",
       "                exec(compile(example.source, filename, \"single\",\n",
       "                ~~~~^^^^^^^^^^^^^^^^^^^^^^^^^^^^^^^^^^^^^^^^^^^^\n",
       "                             compileflags, True), test.globs)\n",
       "                             ^^^^^^^^^^^^^^^^^^^^^^^^^^^^^^^^\n",
       "              File \"<doctest q7_1 0[0]>\", line 1, in <module>\n",
       "                contact == 3\n",
       "                ^^^^^^^\n",
       "            NameError: name 'contact' is not defined"
      ],
      "text/html": [
       "<p><strong style='color: red;'><pre style='display: inline;'>q7_1</pre> results:</strong></p><p><strong><pre style='display: inline;'>q7_1 - 1</pre> result:</strong></p><pre>    ❌ Test case failed\n",
       "    Trying:\n",
       "        contact == 3\n",
       "    Expecting:\n",
       "        True\n",
       "    **********************************************************************\n",
       "    Line 1, in q7_1 0\n",
       "    Failed example:\n",
       "        contact == 3\n",
       "    Exception raised:\n",
       "        Traceback (most recent call last):\n",
       "          File \"/usr/lib64/python3.13/doctest.py\", line 1395, in __run\n",
       "            exec(compile(example.source, filename, \"single\",\n",
       "            ~~~~^^^^^^^^^^^^^^^^^^^^^^^^^^^^^^^^^^^^^^^^^^^^\n",
       "                         compileflags, True), test.globs)\n",
       "                         ^^^^^^^^^^^^^^^^^^^^^^^^^^^^^^^^\n",
       "          File \"<doctest q7_1 0[0]>\", line 1, in <module>\n",
       "            contact == 3\n",
       "            ^^^^^^^\n",
       "        NameError: name 'contact' is not defined\n",
       "</pre>"
      ]
     },
     "execution_count": 10,
     "metadata": {},
     "output_type": "execute_result"
    }
   ],
   "execution_count": 10
  },
  {
   "cell_type": "markdown",
   "id": "f29f67825619b12f",
   "metadata": {},
   "source": [
    "---\n",
    "\n",
    "**Question 2.** Why are there typically 2 items listed on Gradescope for each homework assignment? Assign `grades` to the number corresponding to the best choice below. **(4 Points)**\n",
    "\n",
    "1. There was a mistake in the grading. I should contact someone about this.\n",
    "2. One assignment is for coding questions (which I will submit through a zip file), and the other is for written responses (which I will submit through a pdf and manually assign the pages to their proper question).\n",
    "3. Trick question.\n"
   ]
  },
  {
   "cell_type": "code",
   "id": "216fab5ca31a1cde",
   "metadata": {
    "tags": [],
    "ExecuteTime": {
     "end_time": "2025-02-17T13:05:25.196513Z",
     "start_time": "2025-02-17T13:05:25.194212Z"
    }
   },
   "source": "grades = 2",
   "outputs": [],
   "execution_count": 11
  },
  {
   "cell_type": "code",
   "id": "46102763dfedb4b7",
   "metadata": {
    "deletable": false,
    "editable": false,
    "ExecuteTime": {
     "end_time": "2025-02-17T13:05:25.918314Z",
     "start_time": "2025-02-17T13:05:25.911647Z"
    }
   },
   "source": [
    "grader.check(\"q7_2\")"
   ],
   "outputs": [
    {
     "data": {
      "text/plain": [
       "q7_2 results:\n",
       "    q7_2 - 1 result:\n",
       "        ❌ Test case failed\n",
       "        Trying:\n",
       "            grades == 2\n",
       "        Expecting:\n",
       "            True\n",
       "        **********************************************************************\n",
       "        Line 1, in q7_2 0\n",
       "        Failed example:\n",
       "            grades == 2\n",
       "        Exception raised:\n",
       "            Traceback (most recent call last):\n",
       "              File \"/usr/lib64/python3.13/doctest.py\", line 1395, in __run\n",
       "                exec(compile(example.source, filename, \"single\",\n",
       "                ~~~~^^^^^^^^^^^^^^^^^^^^^^^^^^^^^^^^^^^^^^^^^^^^\n",
       "                             compileflags, True), test.globs)\n",
       "                             ^^^^^^^^^^^^^^^^^^^^^^^^^^^^^^^^\n",
       "              File \"<doctest q7_2 0[0]>\", line 1, in <module>\n",
       "                grades == 2\n",
       "                ^^^^^^\n",
       "            NameError: name 'grades' is not defined"
      ],
      "text/html": [
       "<p><strong style='color: red;'><pre style='display: inline;'>q7_2</pre> results:</strong></p><p><strong><pre style='display: inline;'>q7_2 - 1</pre> result:</strong></p><pre>    ❌ Test case failed\n",
       "    Trying:\n",
       "        grades == 2\n",
       "    Expecting:\n",
       "        True\n",
       "    **********************************************************************\n",
       "    Line 1, in q7_2 0\n",
       "    Failed example:\n",
       "        grades == 2\n",
       "    Exception raised:\n",
       "        Traceback (most recent call last):\n",
       "          File \"/usr/lib64/python3.13/doctest.py\", line 1395, in __run\n",
       "            exec(compile(example.source, filename, \"single\",\n",
       "            ~~~~^^^^^^^^^^^^^^^^^^^^^^^^^^^^^^^^^^^^^^^^^^^^\n",
       "                         compileflags, True), test.globs)\n",
       "                         ^^^^^^^^^^^^^^^^^^^^^^^^^^^^^^^^\n",
       "          File \"<doctest q7_2 0[0]>\", line 1, in <module>\n",
       "            grades == 2\n",
       "            ^^^^^^\n",
       "        NameError: name 'grades' is not defined\n",
       "</pre>"
      ]
     },
     "execution_count": 12,
     "metadata": {},
     "output_type": "execute_result"
    }
   ],
   "execution_count": 12
  },
  {
   "cell_type": "markdown",
   "id": "9d2f40eaa9ccd1b9",
   "metadata": {},
   "source": [
    "---\n",
    "\n",
    "**Question 3.** Regrade deadline dates will always be posted on the same Ed post that releases the assignment grades, common mistakes, and solutions. Can you ask for parts of your assignment regraded after the regrade request window has passed? Assign `regrade` to the number corresponding to the best choice below. **(4 Points)**\n",
    "\n",
    "1. Yes\n",
    "2. No\n"
   ]
  },
  {
   "cell_type": "code",
   "execution_count": null,
   "id": "e3cafcf2049ccfd9",
   "metadata": {
    "tags": []
   },
   "outputs": [],
   "source": "regrade = 2"
  },
  {
   "cell_type": "code",
   "execution_count": null,
   "id": "2b77701e20a8b098",
   "metadata": {
    "deletable": false,
    "editable": false
   },
   "outputs": [],
   "source": [
    "grader.check(\"q7_3\")"
   ]
  },
  {
   "cell_type": "markdown",
   "id": "d038c588b51fb89e",
   "metadata": {},
   "source": [
    "---\n",
    "\n",
    "**Question 4.** Do you have an Gradescope account? Head to [gradescope.com](http://gradescope.com) and check if you see Data 8. If you do not, please send your Lab TA an email with your email and student ID number. \n",
    "\n",
    "Once you have been enrolled, go to the Data 8 Gradescope course website. At the end of the url link, you should see a six-digit number. Assign `gradescope` to this number as an integer. **(4 Points)**\n"
   ]
  },
  {
   "cell_type": "code",
   "id": "dff59cb0ea8f1588",
   "metadata": {
    "tags": [],
    "ExecuteTime": {
     "end_time": "2025-02-17T13:10:32.319862Z",
     "start_time": "2025-02-17T13:10:32.317671Z"
    }
   },
   "source": "gradescope = 835871 #I'm stuck at sign up process",
   "outputs": [],
   "execution_count": 13
  },
  {
   "cell_type": "code",
   "id": "bb12c47c1aed0a17",
   "metadata": {
    "deletable": false,
    "editable": false,
    "ExecuteTime": {
     "end_time": "2025-02-17T13:10:34.577178Z",
     "start_time": "2025-02-17T13:10:34.571099Z"
    }
   },
   "source": [
    "grader.check(\"q7_4\")"
   ],
   "outputs": [
    {
     "data": {
      "text/plain": [
       "q7_4 results:\n",
       "    q7_4 - 1 result:\n",
       "        ❌ Test case failed\n",
       "        Trying:\n",
       "            gradescope == 835871\n",
       "        Expecting:\n",
       "            True\n",
       "        **********************************************************************\n",
       "        Line 1, in q7_4 0\n",
       "        Failed example:\n",
       "            gradescope == 835871\n",
       "        Exception raised:\n",
       "            Traceback (most recent call last):\n",
       "              File \"/usr/lib64/python3.13/doctest.py\", line 1395, in __run\n",
       "                exec(compile(example.source, filename, \"single\",\n",
       "                ~~~~^^^^^^^^^^^^^^^^^^^^^^^^^^^^^^^^^^^^^^^^^^^^\n",
       "                             compileflags, True), test.globs)\n",
       "                             ^^^^^^^^^^^^^^^^^^^^^^^^^^^^^^^^\n",
       "              File \"<doctest q7_4 0[0]>\", line 1, in <module>\n",
       "                gradescope == 835871\n",
       "                ^^^^^^^^^^\n",
       "            NameError: name 'gradescope' is not defined"
      ],
      "text/html": [
       "<p><strong style='color: red;'><pre style='display: inline;'>q7_4</pre> results:</strong></p><p><strong><pre style='display: inline;'>q7_4 - 1</pre> result:</strong></p><pre>    ❌ Test case failed\n",
       "    Trying:\n",
       "        gradescope == 835871\n",
       "    Expecting:\n",
       "        True\n",
       "    **********************************************************************\n",
       "    Line 1, in q7_4 0\n",
       "    Failed example:\n",
       "        gradescope == 835871\n",
       "    Exception raised:\n",
       "        Traceback (most recent call last):\n",
       "          File \"/usr/lib64/python3.13/doctest.py\", line 1395, in __run\n",
       "            exec(compile(example.source, filename, \"single\",\n",
       "            ~~~~^^^^^^^^^^^^^^^^^^^^^^^^^^^^^^^^^^^^^^^^^^^^\n",
       "                         compileflags, True), test.globs)\n",
       "                         ^^^^^^^^^^^^^^^^^^^^^^^^^^^^^^^^\n",
       "          File \"<doctest q7_4 0[0]>\", line 1, in <module>\n",
       "            gradescope == 835871\n",
       "            ^^^^^^^^^^\n",
       "        NameError: name 'gradescope' is not defined\n",
       "</pre>"
      ]
     },
     "execution_count": 14,
     "metadata": {},
     "output_type": "execute_result"
    }
   ],
   "execution_count": 14
  },
  {
   "cell_type": "markdown",
   "id": "14a0483eaaf191e",
   "metadata": {},
   "source": [
    "---\n",
    "\n",
    "**Question 5.** Given the following scenarios, assign `acceptable` to the corresponding number of the scenario that is permissible given the guidelines on the [policies](http://data8.org/su24/policies/) page. **(4 Points)**\n",
    "\n",
    "1. Jessica gets stuck on a homework assignment, so she googles a fix. She stumbles across a pdf of the solutions for the homework assignment from a previous semester's offering of Data 8. After inspecting the solution, Nicole writes her own solution and submits the assignment.\n",
    "\n",
    "2. After getting confused by a project, Atticus asks his friend for help. His friend Kelsey helps by walking Atticus through her own logic, without showing her code, pointing out areas that are important given the context of the question. Upon hearing his friend's logic, Atticus writes his own code and completes the project.\n",
    "\n",
    "3. Edwin (who is in a regular lab) has an extremely busy schedule, so he really wants to leave lab early by finishing it and getting checked off. His neighbor, Gamy, simply turns his computer so Edwin can see how he completed some questions. After looking at his code, Edwin finishes the lab and gets checked off.\n"
   ]
  },
  {
   "cell_type": "code",
   "execution_count": null,
   "id": "17e0f69c71d71c7a",
   "metadata": {
    "tags": []
   },
   "outputs": [],
   "source": "acceptable = 2"
  },
  {
   "cell_type": "code",
   "execution_count": null,
   "id": "d815d1181b6e57ff",
   "metadata": {
    "deletable": false,
    "editable": false
   },
   "outputs": [],
   "source": [
    "grader.check(\"q7_5\")"
   ]
  },
  {
   "cell_type": "markdown",
   "id": "44cc41566dacdabd",
   "metadata": {},
   "source": [
    "---\n",
    "\n",
    "**Question 6.** To make sure you have read through the [policies](http://data8.org/fa24/policies/) and the [FAQ](http://data8.org/fa24/faq/) carefully, how many HW and lab drops are there? Assign `drops` to the number corresponding to the best choice below. **(4 Points)**\n",
    "\n",
    "1. Two homework drops and three lab drops\n",
    "2. Two homework drops and two lab drops\n",
    "3. Only two homework drops\n",
    "4. One homework drop and two lab drops\n",
    "\n",
    "*Note:* You should reserve drops for extenuating circumstances."
   ]
  },
  {
   "cell_type": "code",
   "execution_count": null,
   "id": "c9a24cd53cd19473",
   "metadata": {
    "tags": []
   },
   "outputs": [],
   "source": "drops = 2"
  },
  {
   "cell_type": "code",
   "execution_count": null,
   "id": "6b62b2a44c0e1ede",
   "metadata": {
    "deletable": false,
    "editable": false
   },
   "outputs": [],
   "source": [
    "grader.check(\"q7_6\")"
   ]
  },
  {
   "cell_type": "markdown",
   "id": "2e74746b6030b7be",
   "metadata": {},
   "source": [
    "---\n",
    "\n",
    "**Question 7.** Does Data 8 offer alternate final exam to those with class conflicts? Assign `exams` to the number corresponding to the best choice below. **(3 Points)**\n",
    "\n",
    "1. Yes\n",
    "2. No\n"
   ]
  },
  {
   "cell_type": "code",
   "execution_count": null,
   "id": "7f103773f0d26c48",
   "metadata": {
    "tags": []
   },
   "outputs": [],
   "source": "exams = 1"
  },
  {
   "cell_type": "code",
   "execution_count": null,
   "id": "efd21583d18d3a69",
   "metadata": {
    "deletable": false,
    "editable": false
   },
   "outputs": [],
   "source": [
    "grader.check(\"q7_7\")"
   ]
  },
  {
   "cell_type": "markdown",
   "id": "463ba26ddb4c4414",
   "metadata": {},
   "source": [
    "---\n",
    "\n",
    "**Question 8:** Are you actually checking Ed? Go to this semester's [Data 8 Ed](https://edstem.org/us/courses/64093/discussion/) and find a lead posted thread with a certain secret phrase. Assign `secret` to this secret phrase in quotes (i.e. as a string). **(4 Points)**"
   ]
  },
  {
   "cell_type": "code",
   "execution_count": null,
   "id": "3c92bc030db149c7",
   "metadata": {
    "tags": []
   },
   "outputs": [],
   "source": "secret = \"idk because i don't have an Ed account\""
  },
  {
   "cell_type": "code",
   "id": "36116a5a898b07b7",
   "metadata": {
    "deletable": false,
    "editable": false,
    "ExecuteTime": {
     "end_time": "2025-02-17T13:17:02.589294Z",
     "start_time": "2025-02-17T13:17:02.581552Z"
    }
   },
   "source": [
    "grader.check(\"q7_8\")"
   ],
   "outputs": [
    {
     "data": {
      "text/plain": [
       "q7_8 results:\n",
       "    q7_8 - 1 result:\n",
       "        ❌ Test case failed\n",
       "        Trying:\n",
       "            type(secret) == str\n",
       "        Expecting:\n",
       "            True\n",
       "        **********************************************************************\n",
       "        Line 3, in q7_8 0\n",
       "        Failed example:\n",
       "            type(secret) == str\n",
       "        Exception raised:\n",
       "            Traceback (most recent call last):\n",
       "              File \"/usr/lib64/python3.13/doctest.py\", line 1395, in __run\n",
       "                exec(compile(example.source, filename, \"single\",\n",
       "                ~~~~^^^^^^^^^^^^^^^^^^^^^^^^^^^^^^^^^^^^^^^^^^^^\n",
       "                             compileflags, True), test.globs)\n",
       "                             ^^^^^^^^^^^^^^^^^^^^^^^^^^^^^^^^\n",
       "              File \"<doctest q7_8 0[0]>\", line 1, in <module>\n",
       "                type(secret) == str\n",
       "                     ^^^^^^\n",
       "            NameError: name 'secret' is not defined\n",
       "\n",
       "    q7_8 - 2 result:\n",
       "        ❌ Test case failed\n",
       "        Trying:\n",
       "            len(secret)\n",
       "        Expecting:\n",
       "            8\n",
       "        **********************************************************************\n",
       "        Line 1, in q7_8 1\n",
       "        Failed example:\n",
       "            len(secret)\n",
       "        Exception raised:\n",
       "            Traceback (most recent call last):\n",
       "              File \"/usr/lib64/python3.13/doctest.py\", line 1395, in __run\n",
       "                exec(compile(example.source, filename, \"single\",\n",
       "                ~~~~^^^^^^^^^^^^^^^^^^^^^^^^^^^^^^^^^^^^^^^^^^^^\n",
       "                             compileflags, True), test.globs)\n",
       "                             ^^^^^^^^^^^^^^^^^^^^^^^^^^^^^^^^\n",
       "              File \"<doctest q7_8 1[0]>\", line 1, in <module>\n",
       "                len(secret)\n",
       "                    ^^^^^^\n",
       "            NameError: name 'secret' is not defined"
      ],
      "text/html": [
       "<p><strong style='color: red;'><pre style='display: inline;'>q7_8</pre> results:</strong></p><p><strong><pre style='display: inline;'>q7_8 - 1</pre> result:</strong></p><pre>    ❌ Test case failed\n",
       "    Trying:\n",
       "        type(secret) == str\n",
       "    Expecting:\n",
       "        True\n",
       "    **********************************************************************\n",
       "    Line 3, in q7_8 0\n",
       "    Failed example:\n",
       "        type(secret) == str\n",
       "    Exception raised:\n",
       "        Traceback (most recent call last):\n",
       "          File \"/usr/lib64/python3.13/doctest.py\", line 1395, in __run\n",
       "            exec(compile(example.source, filename, \"single\",\n",
       "            ~~~~^^^^^^^^^^^^^^^^^^^^^^^^^^^^^^^^^^^^^^^^^^^^\n",
       "                         compileflags, True), test.globs)\n",
       "                         ^^^^^^^^^^^^^^^^^^^^^^^^^^^^^^^^\n",
       "          File \"<doctest q7_8 0[0]>\", line 1, in <module>\n",
       "            type(secret) == str\n",
       "                 ^^^^^^\n",
       "        NameError: name 'secret' is not defined\n",
       "</pre><p><strong><pre style='display: inline;'>q7_8 - 2</pre> result:</strong></p><pre>    ❌ Test case failed\n",
       "    Trying:\n",
       "        len(secret)\n",
       "    Expecting:\n",
       "        8\n",
       "    **********************************************************************\n",
       "    Line 1, in q7_8 1\n",
       "    Failed example:\n",
       "        len(secret)\n",
       "    Exception raised:\n",
       "        Traceback (most recent call last):\n",
       "          File \"/usr/lib64/python3.13/doctest.py\", line 1395, in __run\n",
       "            exec(compile(example.source, filename, \"single\",\n",
       "            ~~~~^^^^^^^^^^^^^^^^^^^^^^^^^^^^^^^^^^^^^^^^^^^^\n",
       "                         compileflags, True), test.globs)\n",
       "                         ^^^^^^^^^^^^^^^^^^^^^^^^^^^^^^^^\n",
       "          File \"<doctest q7_8 1[0]>\", line 1, in <module>\n",
       "            len(secret)\n",
       "                ^^^^^^\n",
       "        NameError: name 'secret' is not defined\n",
       "</pre>"
      ]
     },
     "execution_count": 15,
     "metadata": {},
     "output_type": "execute_result"
    }
   ],
   "execution_count": 15
  },
  {
   "cell_type": "markdown",
   "id": "fb35797267b2cb62",
   "metadata": {},
   "source": [
    "<hr style=\"border: 5px solid #003262;\" />\n",
    "<hr style=\"border: 1px solid #fdb515;\" />\n",
    "\n",
    "## 8. Welcome Survey"
   ]
  },
  {
   "cell_type": "markdown",
   "id": "ad6adef544f331cb",
   "metadata": {},
   "source": [
    "---\n",
    "\n",
    "**Question 1.** Please complete the welcome survey below in order to receive credit for homework 1. Keep an eye out for the secret phrase once you submit! **(1 Point)**\n",
    "\n",
    "- [Fall 2024 Welcome Survey](https://docs.google.com/forms/d/e/1FAIpQLScKKq88X5wh2br5xmdMcLvm40n0fA11H39K4J3glmdbf11pwg/viewform?usp=sf_link)"
   ]
  },
  {
   "cell_type": "markdown",
   "id": "a40428f20369de1f",
   "metadata": {},
   "source": [
    "Assign `survey` to the secret phrase given at the end of the welcome survey. Make sure the phrase is in quotes (i.e. is a string)!\n"
   ]
  },
  {
   "cell_type": "code",
   "execution_count": null,
   "id": "332a5812809c4e62",
   "metadata": {
    "tags": []
   },
   "outputs": [],
   "source": "survey = \"data8 is data gr8\""
  },
  {
   "cell_type": "code",
   "id": "932d82ae14a93287",
   "metadata": {
    "deletable": false,
    "editable": false,
    "ExecuteTime": {
     "end_time": "2025-02-17T13:18:36.902058Z",
     "start_time": "2025-02-17T13:18:36.898024Z"
    }
   },
   "source": [
    "grader.check(\"q8_1\")"
   ],
   "outputs": [
    {
     "data": {
      "text/plain": [
       "q8_1 results:\n",
       "    q8_1 - 1 result:\n",
       "        ❌ Test case failed\n",
       "        Trying:\n",
       "            survey == \"data8 is data gr8\"\n",
       "        Expecting:\n",
       "            True\n",
       "        **********************************************************************\n",
       "        Line 1, in q8_1 0\n",
       "        Failed example:\n",
       "            survey == \"data8 is data gr8\"\n",
       "        Exception raised:\n",
       "            Traceback (most recent call last):\n",
       "              File \"/usr/lib64/python3.13/doctest.py\", line 1395, in __run\n",
       "                exec(compile(example.source, filename, \"single\",\n",
       "                ~~~~^^^^^^^^^^^^^^^^^^^^^^^^^^^^^^^^^^^^^^^^^^^^\n",
       "                             compileflags, True), test.globs)\n",
       "                             ^^^^^^^^^^^^^^^^^^^^^^^^^^^^^^^^\n",
       "              File \"<doctest q8_1 0[0]>\", line 1, in <module>\n",
       "                survey == \"data8 is data gr8\"\n",
       "                ^^^^^^\n",
       "            NameError: name 'survey' is not defined"
      ],
      "text/html": [
       "<p><strong style='color: red;'><pre style='display: inline;'>q8_1</pre> results:</strong></p><p><strong><pre style='display: inline;'>q8_1 - 1</pre> result:</strong></p><pre>    ❌ Test case failed\n",
       "    Trying:\n",
       "        survey == \"data8 is data gr8\"\n",
       "    Expecting:\n",
       "        True\n",
       "    **********************************************************************\n",
       "    Line 1, in q8_1 0\n",
       "    Failed example:\n",
       "        survey == \"data8 is data gr8\"\n",
       "    Exception raised:\n",
       "        Traceback (most recent call last):\n",
       "          File \"/usr/lib64/python3.13/doctest.py\", line 1395, in __run\n",
       "            exec(compile(example.source, filename, \"single\",\n",
       "            ~~~~^^^^^^^^^^^^^^^^^^^^^^^^^^^^^^^^^^^^^^^^^^^^\n",
       "                         compileflags, True), test.globs)\n",
       "                         ^^^^^^^^^^^^^^^^^^^^^^^^^^^^^^^^\n",
       "          File \"<doctest q8_1 0[0]>\", line 1, in <module>\n",
       "            survey == \"data8 is data gr8\"\n",
       "            ^^^^^^\n",
       "        NameError: name 'survey' is not defined\n",
       "</pre>"
      ]
     },
     "execution_count": 16,
     "metadata": {},
     "output_type": "execute_result"
    }
   ],
   "execution_count": 16
  },
  {
   "cell_type": "markdown",
   "id": "e71b9dbe09438794",
   "metadata": {},
   "source": [
    "You're done with Homework 1! \n",
    "\n",
    "The point breakdown for this assignment is given in the table below:\n",
    "| Category | Points |\n",
    "| --- | --- |\n",
    "| Autograder (Coding questions) | 74 |\n",
    "| Written (1.1, 5.1, 5.2, 5.3, 5.4) | 26 |\n",
    "| **Total** | 100 |\n",
    "\n",
    "Once you have submitted to the autograder, your Gradescope assignment should look something like the following image if you have passed all public tests.\n",
    "\n",
    "**Note:** *This is a photo of a generic Gradescope submission result, and it does not included the same test numbers as this assignment. Please check that all test cases have passed for each question.*\n",
    "\n",
    "<img src=\"gradescope.png\">"
   ]
  },
  {
   "cell_type": "markdown",
   "id": "628f03c8dcebca7",
   "metadata": {},
   "source": [
    "## Pets of Data 8\n",
    "**Leo** says congrats on finishing **the FIRST Data 8 Homework**! Leo hopes you can enjoy a well deserved rest, just like him!\n",
    "\n",
    "<img src=\"./leo.jpeg\" width=\"40%\" alt=\"Flame point siamese cat sleeping on the top of a grey couch.\"/>"
   ]
  },
  {
   "cell_type": "markdown",
   "id": "8f6fad1ddd10d383",
   "metadata": {},
   "source": [
    "## Submission\n",
    "\n",
    "Below, you will see two cells. Running the first cell will automatically generate a PDF of all questions that need to be manually graded, and running the second cell will automatically generate a zip with your autograded answers. You are responsible for submitting both the coding portion (the zip) and the written portion (the PDF) to their respective Gradescope portals. **Please save before exporting!**\n",
    "\n",
    "> **Important: You must correctly assign the pages of your PDF after you submit to the correct gradescope assignment. If your pages are not correctly assigned and/or not in the correct PDF format by the deadline, we reserve the right to award no points for your written work.**\n",
    "\n",
    "If there are issues with automatically generating the PDF in the first cell, you can try downloading the notebook as a PDF by colicking on `File -> Save and Export Notebook As... -> PDF`. If that doesn't work either, you can manually take screenshots of your answers to the manually graded questions and submit those. Either way, **you are responsible for ensuring your submision follows our requirements, we will NOT be granting regrade requests for submissions that don't follow instructions.**\n",
    "\n",
    "**You must submit the PDF generated via one of these methods, we will not accept screenshots or Word documents.**"
   ]
  },
  {
   "cell_type": "code",
   "execution_count": null,
   "id": "6f9def4a01bb8505",
   "metadata": {},
   "outputs": [],
   "source": [
    "from otter.export import export_notebook\n",
    "from os import path\n",
    "from IPython.display import display, HTML\n",
    "name = 'hw01'\n",
    "export_notebook(f\"{name}.ipynb\", filtering=True, pagebreaks=True)\n",
    "if(path.exists(f'{name}.pdf')):\n",
    "    display(HTML(f\"Download your PDF <a href='{name}.pdf' download>here</a>.\"))\n",
    "else:\n",
    "    print(\"\\n Pdf generation failed, please try the other methods described above\")"
   ]
  },
  {
   "cell_type": "markdown",
   "id": "e408eb1fbe3a44",
   "metadata": {
    "deletable": false,
    "editable": false
   },
   "source": [
    "## Submission\n",
    "\n",
    "Make sure you have run all cells in your notebook in order before running the cell below, so that all images/graphs appear in the output. The cell below will generate a zip file for you to submit. **Please save before exporting!**"
   ]
  },
  {
   "cell_type": "code",
   "execution_count": 46,
   "id": "e9d7104e4dedd4ea",
   "metadata": {
    "ExecuteTime": {
     "end_time": "2025-02-17T12:39:58.542107033Z",
     "start_time": "2025-02-17T09:26:24.623243Z"
    },
    "deletable": false,
    "editable": false
   },
   "outputs": [
    {
     "name": "stdout",
     "output_type": "stream",
     "text": [
      "Running your submission against local test cases...\n",
      "\n",
      "\n",
      "Your submission received the following results when run against available test cases:\n",
      "\n",
      "    q2_1 results:\n",
      "        q2_1 - 1 result:\n",
      "            ❌ Test case failed\n",
      "            Trying:\n",
      "                1 <= characters_q1 <= 5\n",
      "            Expecting:\n",
      "                True\n",
      "            **********************************************************************\n",
      "            Line 1, in q2_1 0\n",
      "            Failed example:\n",
      "                1 <= characters_q1 <= 5\n",
      "            Exception raised:\n",
      "                Traceback (most recent call last):\n",
      "                  File \"/usr/lib64/python3.13/doctest.py\", line 1395, in __run\n",
      "                    exec(compile(example.source, filename, \"single\",\n",
      "                    ~~~~^^^^^^^^^^^^^^^^^^^^^^^^^^^^^^^^^^^^^^^^^^^^\n",
      "                                 compileflags, True), test.globs)\n",
      "                                 ^^^^^^^^^^^^^^^^^^^^^^^^^^^^^^^^\n",
      "                  File \"<doctest q2_1 0[0]>\", line 1, in <module>\n",
      "                    1 <= characters_q1 <= 5\n",
      "                         ^^^^^^^^^^^^^\n",
      "                NameError: name 'characters_q1' is not defined\n",
      "\n",
      "    q2_2 results:\n",
      "        q2_2 - 1 result:\n",
      "            ❌ Test case failed\n",
      "            Trying:\n",
      "                1 <= characters_q2 <= 3\n",
      "            Expecting:\n",
      "                True\n",
      "            **********************************************************************\n",
      "            Line 1, in q2_2 0\n",
      "            Failed example:\n",
      "                1 <= characters_q2 <= 3\n",
      "            Exception raised:\n",
      "                Traceback (most recent call last):\n",
      "                  File \"/usr/lib64/python3.13/doctest.py\", line 1395, in __run\n",
      "                    exec(compile(example.source, filename, \"single\",\n",
      "                    ~~~~^^^^^^^^^^^^^^^^^^^^^^^^^^^^^^^^^^^^^^^^^^^^\n",
      "                                 compileflags, True), test.globs)\n",
      "                                 ^^^^^^^^^^^^^^^^^^^^^^^^^^^^^^^^\n",
      "                  File \"<doctest q2_2 0[0]>\", line 1, in <module>\n",
      "                    1 <= characters_q2 <= 3\n",
      "                         ^^^^^^^^^^^^^\n",
      "                NameError: name 'characters_q2' is not defined\n",
      "\n",
      "    q3_1 results:\n",
      "        q3_1 - 1 result:\n",
      "            ❌ Test case failed\n",
      "            Trying:\n",
      "                1 <= names_q1 <= 4\n",
      "            Expecting:\n",
      "                True\n",
      "            **********************************************************************\n",
      "            Line 1, in q3_1 0\n",
      "            Failed example:\n",
      "                1 <= names_q1 <= 4\n",
      "            Exception raised:\n",
      "                Traceback (most recent call last):\n",
      "                  File \"/usr/lib64/python3.13/doctest.py\", line 1395, in __run\n",
      "                    exec(compile(example.source, filename, \"single\",\n",
      "                    ~~~~^^^^^^^^^^^^^^^^^^^^^^^^^^^^^^^^^^^^^^^^^^^^\n",
      "                                 compileflags, True), test.globs)\n",
      "                                 ^^^^^^^^^^^^^^^^^^^^^^^^^^^^^^^^\n",
      "                  File \"<doctest q3_1 0[0]>\", line 1, in <module>\n",
      "                    1 <= names_q1 <= 4\n",
      "                         ^^^^^^^^\n",
      "                NameError: name 'names_q1' is not defined\n",
      "\n",
      "    q3_2 results:\n",
      "        q3_2 - 1 result:\n",
      "            ❌ Test case failed\n",
      "            Trying:\n",
      "                1 <= names_q2 <= 4\n",
      "            Expecting:\n",
      "                True\n",
      "            **********************************************************************\n",
      "            Line 1, in q3_2 0\n",
      "            Failed example:\n",
      "                1 <= names_q2 <= 4\n",
      "            Exception raised:\n",
      "                Traceback (most recent call last):\n",
      "                  File \"/usr/lib64/python3.13/doctest.py\", line 1395, in __run\n",
      "                    exec(compile(example.source, filename, \"single\",\n",
      "                    ~~~~^^^^^^^^^^^^^^^^^^^^^^^^^^^^^^^^^^^^^^^^^^^^\n",
      "                                 compileflags, True), test.globs)\n",
      "                                 ^^^^^^^^^^^^^^^^^^^^^^^^^^^^^^^^\n",
      "                  File \"<doctest q3_2 0[0]>\", line 1, in <module>\n",
      "                    1 <= names_q2 <= 4\n",
      "                         ^^^^^^^^\n",
      "                NameError: name 'names_q2' is not defined\n",
      "\n",
      "    q3_3 results:\n",
      "        q3_3 - 1 result:\n",
      "            ❌ Test case failed\n",
      "            Trying:\n",
      "                1 <= names_q3 <= 4\n",
      "            Expecting:\n",
      "                True\n",
      "            **********************************************************************\n",
      "            Line 1, in q3_3 0\n",
      "            Failed example:\n",
      "                1 <= names_q3 <= 4\n",
      "            Exception raised:\n",
      "                Traceback (most recent call last):\n",
      "                  File \"/usr/lib64/python3.13/doctest.py\", line 1395, in __run\n",
      "                    exec(compile(example.source, filename, \"single\",\n",
      "                    ~~~~^^^^^^^^^^^^^^^^^^^^^^^^^^^^^^^^^^^^^^^^^^^^\n",
      "                                 compileflags, True), test.globs)\n",
      "                                 ^^^^^^^^^^^^^^^^^^^^^^^^^^^^^^^^\n",
      "                  File \"<doctest q3_3 0[0]>\", line 1, in <module>\n",
      "                    1 <= names_q3 <= 4\n",
      "                         ^^^^^^^^\n",
      "                NameError: name 'names_q3' is not defined\n",
      "\n",
      "    q4_1 results:\n",
      "        q4_1 - 1 result:\n",
      "            ❌ Test case failed\n",
      "            Trying:\n",
      "                isinstance(biggest_change, (int, float))\n",
      "            Expecting:\n",
      "                True\n",
      "            **********************************************************************\n",
      "            Line 1, in q4_1 0\n",
      "            Failed example:\n",
      "                isinstance(biggest_change, (int, float))\n",
      "            Exception raised:\n",
      "                Traceback (most recent call last):\n",
      "                  File \"/usr/lib64/python3.13/doctest.py\", line 1395, in __run\n",
      "                    exec(compile(example.source, filename, \"single\",\n",
      "                    ~~~~^^^^^^^^^^^^^^^^^^^^^^^^^^^^^^^^^^^^^^^^^^^^\n",
      "                                 compileflags, True), test.globs)\n",
      "                                 ^^^^^^^^^^^^^^^^^^^^^^^^^^^^^^^^\n",
      "                  File \"<doctest q4_1 0[0]>\", line 1, in <module>\n",
      "                    isinstance(biggest_change, (int, float))\n",
      "                               ^^^^^^^^^^^^^^\n",
      "                NameError: name 'biggest_change' is not defined\n",
      "\n",
      "    q4_2 results:\n",
      "        q4_2 - 1 result:\n",
      "            ❌ Test case failed\n",
      "            Trying:\n",
      "                isinstance(smallest_change_major, (int, float))\n",
      "            Expecting:\n",
      "                True\n",
      "            **********************************************************************\n",
      "            Line 1, in q4_2 0\n",
      "            Failed example:\n",
      "                isinstance(smallest_change_major, (int, float))\n",
      "            Exception raised:\n",
      "                Traceback (most recent call last):\n",
      "                  File \"/usr/lib64/python3.13/doctest.py\", line 1395, in __run\n",
      "                    exec(compile(example.source, filename, \"single\",\n",
      "                    ~~~~^^^^^^^^^^^^^^^^^^^^^^^^^^^^^^^^^^^^^^^^^^^^\n",
      "                                 compileflags, True), test.globs)\n",
      "                                 ^^^^^^^^^^^^^^^^^^^^^^^^^^^^^^^^\n",
      "                  File \"<doctest q4_2 0[0]>\", line 1, in <module>\n",
      "                    isinstance(smallest_change_major, (int, float))\n",
      "                               ^^^^^^^^^^^^^^^^^^^^^\n",
      "                NameError: name 'smallest_change_major' is not defined\n",
      "\n",
      "        q4_2 - 2 result:\n",
      "            ❌ Test case failed\n",
      "            Trying:\n",
      "                1 <= smallest_change_major <= 3\n",
      "            Expecting:\n",
      "                True\n",
      "            **********************************************************************\n",
      "            Line 1, in q4_2 1\n",
      "            Failed example:\n",
      "                1 <= smallest_change_major <= 3\n",
      "            Exception raised:\n",
      "                Traceback (most recent call last):\n",
      "                  File \"/usr/lib64/python3.13/doctest.py\", line 1395, in __run\n",
      "                    exec(compile(example.source, filename, \"single\",\n",
      "                    ~~~~^^^^^^^^^^^^^^^^^^^^^^^^^^^^^^^^^^^^^^^^^^^^\n",
      "                                 compileflags, True), test.globs)\n",
      "                                 ^^^^^^^^^^^^^^^^^^^^^^^^^^^^^^^^\n",
      "                  File \"<doctest q4_2 1[0]>\", line 1, in <module>\n",
      "                    1 <= smallest_change_major <= 3\n",
      "                         ^^^^^^^^^^^^^^^^^^^^^\n",
      "                NameError: name 'smallest_change_major' is not defined\n",
      "\n",
      "    q4_3 results:\n",
      "        q4_3 - 1 result:\n",
      "            ❌ Test case failed\n",
      "            Trying:\n",
      "                isinstance(gws_relative_change, (int, float))\n",
      "            Expecting:\n",
      "                True\n",
      "            **********************************************************************\n",
      "            Line 1, in q4_3 0\n",
      "            Failed example:\n",
      "                isinstance(gws_relative_change, (int, float))\n",
      "            Exception raised:\n",
      "                Traceback (most recent call last):\n",
      "                  File \"/usr/lib64/python3.13/doctest.py\", line 1395, in __run\n",
      "                    exec(compile(example.source, filename, \"single\",\n",
      "                    ~~~~^^^^^^^^^^^^^^^^^^^^^^^^^^^^^^^^^^^^^^^^^^^^\n",
      "                                 compileflags, True), test.globs)\n",
      "                                 ^^^^^^^^^^^^^^^^^^^^^^^^^^^^^^^^\n",
      "                  File \"<doctest q4_3 0[0]>\", line 1, in <module>\n",
      "                    isinstance(gws_relative_change, (int, float))\n",
      "                               ^^^^^^^^^^^^^^^^^^^\n",
      "                NameError: name 'gws_relative_change' is not defined\n",
      "\n",
      "        q4_3 - 2 result:\n",
      "            ❌ Test case failed\n",
      "            Trying:\n",
      "                isinstance(linguistics_relative_change, (int, float))\n",
      "            Expecting:\n",
      "                True\n",
      "            **********************************************************************\n",
      "            Line 1, in q4_3 1\n",
      "            Failed example:\n",
      "                isinstance(linguistics_relative_change, (int, float))\n",
      "            Exception raised:\n",
      "                Traceback (most recent call last):\n",
      "                  File \"/usr/lib64/python3.13/doctest.py\", line 1395, in __run\n",
      "                    exec(compile(example.source, filename, \"single\",\n",
      "                    ~~~~^^^^^^^^^^^^^^^^^^^^^^^^^^^^^^^^^^^^^^^^^^^^\n",
      "                                 compileflags, True), test.globs)\n",
      "                                 ^^^^^^^^^^^^^^^^^^^^^^^^^^^^^^^^\n",
      "                  File \"<doctest q4_3 1[0]>\", line 1, in <module>\n",
      "                    isinstance(linguistics_relative_change, (int, float))\n",
      "                               ^^^^^^^^^^^^^^^^^^^^^^^^^^^\n",
      "                NameError: name 'linguistics_relative_change' is not defined\n",
      "\n",
      "        q4_3 - 3 result:\n",
      "            ❌ Test case failed\n",
      "            Trying:\n",
      "                isinstance(rhetoric_relative_change, (int, float))\n",
      "            Expecting:\n",
      "                True\n",
      "            **********************************************************************\n",
      "            Line 1, in q4_3 2\n",
      "            Failed example:\n",
      "                isinstance(rhetoric_relative_change, (int, float))\n",
      "            Exception raised:\n",
      "                Traceback (most recent call last):\n",
      "                  File \"/usr/lib64/python3.13/doctest.py\", line 1395, in __run\n",
      "                    exec(compile(example.source, filename, \"single\",\n",
      "                    ~~~~^^^^^^^^^^^^^^^^^^^^^^^^^^^^^^^^^^^^^^^^^^^^\n",
      "                                 compileflags, True), test.globs)\n",
      "                                 ^^^^^^^^^^^^^^^^^^^^^^^^^^^^^^^^\n",
      "                  File \"<doctest q4_3 2[0]>\", line 1, in <module>\n",
      "                    isinstance(rhetoric_relative_change, (int, float))\n",
      "                               ^^^^^^^^^^^^^^^^^^^^^^^^\n",
      "                NameError: name 'rhetoric_relative_change' is not defined\n",
      "\n",
      "    q4_4 results:\n",
      "        q4_4 - 1 result:\n",
      "            ❌ Test case failed\n",
      "            Trying:\n",
      "                isinstance(biggest_rel_change_major, (int, float))\n",
      "            Expecting:\n",
      "                True\n",
      "            **********************************************************************\n",
      "            Line 1, in q4_4 0\n",
      "            Failed example:\n",
      "                isinstance(biggest_rel_change_major, (int, float))\n",
      "            Exception raised:\n",
      "                Traceback (most recent call last):\n",
      "                  File \"/usr/lib64/python3.13/doctest.py\", line 1395, in __run\n",
      "                    exec(compile(example.source, filename, \"single\",\n",
      "                    ~~~~^^^^^^^^^^^^^^^^^^^^^^^^^^^^^^^^^^^^^^^^^^^^\n",
      "                                 compileflags, True), test.globs)\n",
      "                                 ^^^^^^^^^^^^^^^^^^^^^^^^^^^^^^^^\n",
      "                  File \"<doctest q4_4 0[0]>\", line 1, in <module>\n",
      "                    isinstance(biggest_rel_change_major, (int, float))\n",
      "                               ^^^^^^^^^^^^^^^^^^^^^^^^\n",
      "                NameError: name 'biggest_rel_change_major' is not defined\n",
      "\n",
      "        q4_4 - 2 result:\n",
      "            ❌ Test case failed\n",
      "            Trying:\n",
      "                1 <= biggest_rel_change_major <= 3\n",
      "            Expecting:\n",
      "                True\n",
      "            **********************************************************************\n",
      "            Line 1, in q4_4 1\n",
      "            Failed example:\n",
      "                1 <= biggest_rel_change_major <= 3\n",
      "            Exception raised:\n",
      "                Traceback (most recent call last):\n",
      "                  File \"/usr/lib64/python3.13/doctest.py\", line 1395, in __run\n",
      "                    exec(compile(example.source, filename, \"single\",\n",
      "                    ~~~~^^^^^^^^^^^^^^^^^^^^^^^^^^^^^^^^^^^^^^^^^^^^\n",
      "                                 compileflags, True), test.globs)\n",
      "                                 ^^^^^^^^^^^^^^^^^^^^^^^^^^^^^^^^\n",
      "                  File \"<doctest q4_4 1[0]>\", line 1, in <module>\n",
      "                    1 <= biggest_rel_change_major <= 3\n",
      "                         ^^^^^^^^^^^^^^^^^^^^^^^^\n",
      "                NameError: name 'biggest_rel_change_major' is not defined\n",
      "\n",
      "    q6_1 results:\n",
      "        q6_1 - 1 result:\n",
      "            ❌ Test case failed\n",
      "            Trying:\n",
      "                1 <= survivor_answer <= 3\n",
      "            Expecting:\n",
      "                True\n",
      "            **********************************************************************\n",
      "            Line 1, in q6_1 0\n",
      "            Failed example:\n",
      "                1 <= survivor_answer <= 3\n",
      "            Exception raised:\n",
      "                Traceback (most recent call last):\n",
      "                  File \"/usr/lib64/python3.13/doctest.py\", line 1395, in __run\n",
      "                    exec(compile(example.source, filename, \"single\",\n",
      "                    ~~~~^^^^^^^^^^^^^^^^^^^^^^^^^^^^^^^^^^^^^^^^^^^^\n",
      "                                 compileflags, True), test.globs)\n",
      "                                 ^^^^^^^^^^^^^^^^^^^^^^^^^^^^^^^^\n",
      "                  File \"<doctest q6_1 0[0]>\", line 1, in <module>\n",
      "                    1 <= survivor_answer <= 3\n",
      "                         ^^^^^^^^^^^^^^^\n",
      "                NameError: name 'survivor_answer' is not defined\n",
      "\n",
      "    q7_1 results:\n",
      "        q7_1 - 1 result:\n",
      "            ❌ Test case failed\n",
      "            Trying:\n",
      "                contact == 3\n",
      "            Expecting:\n",
      "                True\n",
      "            **********************************************************************\n",
      "            Line 1, in q7_1 0\n",
      "            Failed example:\n",
      "                contact == 3\n",
      "            Exception raised:\n",
      "                Traceback (most recent call last):\n",
      "                  File \"/usr/lib64/python3.13/doctest.py\", line 1395, in __run\n",
      "                    exec(compile(example.source, filename, \"single\",\n",
      "                    ~~~~^^^^^^^^^^^^^^^^^^^^^^^^^^^^^^^^^^^^^^^^^^^^\n",
      "                                 compileflags, True), test.globs)\n",
      "                                 ^^^^^^^^^^^^^^^^^^^^^^^^^^^^^^^^\n",
      "                  File \"<doctest q7_1 0[0]>\", line 1, in <module>\n",
      "                    contact == 3\n",
      "                    ^^^^^^^\n",
      "                NameError: name 'contact' is not defined\n",
      "\n",
      "    q7_2 results:\n",
      "        q7_2 - 1 result:\n",
      "            ❌ Test case failed\n",
      "            Trying:\n",
      "                grades == 2\n",
      "            Expecting:\n",
      "                True\n",
      "            **********************************************************************\n",
      "            Line 1, in q7_2 0\n",
      "            Failed example:\n",
      "                grades == 2\n",
      "            Exception raised:\n",
      "                Traceback (most recent call last):\n",
      "                  File \"/usr/lib64/python3.13/doctest.py\", line 1395, in __run\n",
      "                    exec(compile(example.source, filename, \"single\",\n",
      "                    ~~~~^^^^^^^^^^^^^^^^^^^^^^^^^^^^^^^^^^^^^^^^^^^^\n",
      "                                 compileflags, True), test.globs)\n",
      "                                 ^^^^^^^^^^^^^^^^^^^^^^^^^^^^^^^^\n",
      "                  File \"<doctest q7_2 0[0]>\", line 1, in <module>\n",
      "                    grades == 2\n",
      "                    ^^^^^^\n",
      "                NameError: name 'grades' is not defined\n",
      "\n",
      "    q7_3 results:\n",
      "        q7_3 - 1 result:\n",
      "            ❌ Test case failed\n",
      "            Trying:\n",
      "                regrade == 2\n",
      "            Expecting:\n",
      "                True\n",
      "            **********************************************************************\n",
      "            Line 1, in q7_3 0\n",
      "            Failed example:\n",
      "                regrade == 2\n",
      "            Exception raised:\n",
      "                Traceback (most recent call last):\n",
      "                  File \"/usr/lib64/python3.13/doctest.py\", line 1395, in __run\n",
      "                    exec(compile(example.source, filename, \"single\",\n",
      "                    ~~~~^^^^^^^^^^^^^^^^^^^^^^^^^^^^^^^^^^^^^^^^^^^^\n",
      "                                 compileflags, True), test.globs)\n",
      "                                 ^^^^^^^^^^^^^^^^^^^^^^^^^^^^^^^^\n",
      "                  File \"<doctest q7_3 0[0]>\", line 1, in <module>\n",
      "                    regrade == 2\n",
      "                    ^^^^^^^\n",
      "                NameError: name 'regrade' is not defined\n",
      "\n",
      "    q7_4 results:\n",
      "        q7_4 - 1 result:\n",
      "            ❌ Test case failed\n",
      "            Trying:\n",
      "                gradescope == 835871\n",
      "            Expecting:\n",
      "                True\n",
      "            **********************************************************************\n",
      "            Line 1, in q7_4 0\n",
      "            Failed example:\n",
      "                gradescope == 835871\n",
      "            Exception raised:\n",
      "                Traceback (most recent call last):\n",
      "                  File \"/usr/lib64/python3.13/doctest.py\", line 1395, in __run\n",
      "                    exec(compile(example.source, filename, \"single\",\n",
      "                    ~~~~^^^^^^^^^^^^^^^^^^^^^^^^^^^^^^^^^^^^^^^^^^^^\n",
      "                                 compileflags, True), test.globs)\n",
      "                                 ^^^^^^^^^^^^^^^^^^^^^^^^^^^^^^^^\n",
      "                  File \"<doctest q7_4 0[0]>\", line 1, in <module>\n",
      "                    gradescope == 835871\n",
      "                    ^^^^^^^^^^\n",
      "                NameError: name 'gradescope' is not defined\n",
      "\n",
      "    q7_5 results:\n",
      "        q7_5 - 1 result:\n",
      "            ❌ Test case failed\n",
      "            Trying:\n",
      "                acceptable == 2\n",
      "            Expecting:\n",
      "                True\n",
      "            **********************************************************************\n",
      "            Line 1, in q7_5 0\n",
      "            Failed example:\n",
      "                acceptable == 2\n",
      "            Exception raised:\n",
      "                Traceback (most recent call last):\n",
      "                  File \"/usr/lib64/python3.13/doctest.py\", line 1395, in __run\n",
      "                    exec(compile(example.source, filename, \"single\",\n",
      "                    ~~~~^^^^^^^^^^^^^^^^^^^^^^^^^^^^^^^^^^^^^^^^^^^^\n",
      "                                 compileflags, True), test.globs)\n",
      "                                 ^^^^^^^^^^^^^^^^^^^^^^^^^^^^^^^^\n",
      "                  File \"<doctest q7_5 0[0]>\", line 1, in <module>\n",
      "                    acceptable == 2\n",
      "                    ^^^^^^^^^^\n",
      "                NameError: name 'acceptable' is not defined\n",
      "\n",
      "    q7_6 results:\n",
      "        q7_6 - 1 result:\n",
      "            ❌ Test case failed\n",
      "            Trying:\n",
      "                drops == 2\n",
      "            Expecting:\n",
      "                True\n",
      "            **********************************************************************\n",
      "            Line 1, in q7_6 0\n",
      "            Failed example:\n",
      "                drops == 2\n",
      "            Exception raised:\n",
      "                Traceback (most recent call last):\n",
      "                  File \"/usr/lib64/python3.13/doctest.py\", line 1395, in __run\n",
      "                    exec(compile(example.source, filename, \"single\",\n",
      "                    ~~~~^^^^^^^^^^^^^^^^^^^^^^^^^^^^^^^^^^^^^^^^^^^^\n",
      "                                 compileflags, True), test.globs)\n",
      "                                 ^^^^^^^^^^^^^^^^^^^^^^^^^^^^^^^^\n",
      "                  File \"<doctest q7_6 0[0]>\", line 1, in <module>\n",
      "                    drops == 2\n",
      "                    ^^^^^\n",
      "                NameError: name 'drops' is not defined\n",
      "\n",
      "    q7_7 results:\n",
      "        q7_7 - 1 result:\n",
      "            ❌ Test case failed\n",
      "            Trying:\n",
      "                exams == 2\n",
      "            Expecting:\n",
      "                True\n",
      "            **********************************************************************\n",
      "            Line 1, in q7_7 0\n",
      "            Failed example:\n",
      "                exams == 2\n",
      "            Exception raised:\n",
      "                Traceback (most recent call last):\n",
      "                  File \"/usr/lib64/python3.13/doctest.py\", line 1395, in __run\n",
      "                    exec(compile(example.source, filename, \"single\",\n",
      "                    ~~~~^^^^^^^^^^^^^^^^^^^^^^^^^^^^^^^^^^^^^^^^^^^^\n",
      "                                 compileflags, True), test.globs)\n",
      "                                 ^^^^^^^^^^^^^^^^^^^^^^^^^^^^^^^^\n",
      "                  File \"<doctest q7_7 0[0]>\", line 1, in <module>\n",
      "                    exams == 2\n",
      "                    ^^^^^\n",
      "                NameError: name 'exams' is not defined\n",
      "\n",
      "    q7_8 results:\n",
      "        q7_8 - 1 result:\n",
      "            ❌ Test case failed\n",
      "            Trying:\n",
      "                type(secret) == str\n",
      "            Expecting:\n",
      "                True\n",
      "            **********************************************************************\n",
      "            Line 3, in q7_8 0\n",
      "            Failed example:\n",
      "                type(secret) == str\n",
      "            Exception raised:\n",
      "                Traceback (most recent call last):\n",
      "                  File \"/usr/lib64/python3.13/doctest.py\", line 1395, in __run\n",
      "                    exec(compile(example.source, filename, \"single\",\n",
      "                    ~~~~^^^^^^^^^^^^^^^^^^^^^^^^^^^^^^^^^^^^^^^^^^^^\n",
      "                                 compileflags, True), test.globs)\n",
      "                                 ^^^^^^^^^^^^^^^^^^^^^^^^^^^^^^^^\n",
      "                  File \"<doctest q7_8 0[0]>\", line 1, in <module>\n",
      "                    type(secret) == str\n",
      "                         ^^^^^^\n",
      "                NameError: name 'secret' is not defined\n",
      "\n",
      "        q7_8 - 2 result:\n",
      "            ❌ Test case failed\n",
      "            Trying:\n",
      "                len(secret)\n",
      "            Expecting:\n",
      "                8\n",
      "            **********************************************************************\n",
      "            Line 1, in q7_8 1\n",
      "            Failed example:\n",
      "                len(secret)\n",
      "            Exception raised:\n",
      "                Traceback (most recent call last):\n",
      "                  File \"/usr/lib64/python3.13/doctest.py\", line 1395, in __run\n",
      "                    exec(compile(example.source, filename, \"single\",\n",
      "                    ~~~~^^^^^^^^^^^^^^^^^^^^^^^^^^^^^^^^^^^^^^^^^^^^\n",
      "                                 compileflags, True), test.globs)\n",
      "                                 ^^^^^^^^^^^^^^^^^^^^^^^^^^^^^^^^\n",
      "                  File \"<doctest q7_8 1[0]>\", line 1, in <module>\n",
      "                    len(secret)\n",
      "                        ^^^^^^\n",
      "                NameError: name 'secret' is not defined\n",
      "\n",
      "    q8_1 results:\n",
      "        q8_1 - 1 result:\n",
      "            ❌ Test case failed\n",
      "            Trying:\n",
      "                survey == \"data8 is data gr8\"\n",
      "            Expecting:\n",
      "                True\n",
      "            **********************************************************************\n",
      "            Line 1, in q8_1 0\n",
      "            Failed example:\n",
      "                survey == \"data8 is data gr8\"\n",
      "            Exception raised:\n",
      "                Traceback (most recent call last):\n",
      "                  File \"/usr/lib64/python3.13/doctest.py\", line 1395, in __run\n",
      "                    exec(compile(example.source, filename, \"single\",\n",
      "                    ~~~~^^^^^^^^^^^^^^^^^^^^^^^^^^^^^^^^^^^^^^^^^^^^\n",
      "                                 compileflags, True), test.globs)\n",
      "                                 ^^^^^^^^^^^^^^^^^^^^^^^^^^^^^^^^\n",
      "                  File \"<doctest q8_1 0[0]>\", line 1, in <module>\n",
      "                    survey == \"data8 is data gr8\"\n",
      "                    ^^^^^^\n",
      "                NameError: name 'survey' is not defined\n"
     ]
    },
    {
     "data": {
      "text/html": [
       "\n",
       "                    <p>\n",
       "                        Your submission has been exported. Click\n",
       "                        <a href=\"hw01_2025_02_17T16_26_24_625942.zip\" download=\"hw01_2025_02_17T16_26_24_625942.zip\" target=\"_blank\">here</a> to download\n",
       "                        the zip file.\n",
       "                    </p>\n",
       "                "
      ],
      "text/plain": [
       "<IPython.core.display.HTML object>"
      ]
     },
     "metadata": {},
     "output_type": "display_data"
    }
   ],
   "source": [
    "# Save your notebook first, then run this cell to export your submission.\n",
    "grader.export(pdf=False, run_tests=True)"
   ]
  },
  {
   "cell_type": "markdown",
   "id": "1a8b9e9c4b7ee1ce",
   "metadata": {},
   "source": [
    " "
   ]
  }
 ],
 "metadata": {
  "kernelspec": {
   "display_name": "Python 3 (ipykernel)",
   "language": "python",
   "name": "python3"
  },
  "language_info": {
   "codemirror_mode": {
    "name": "ipython",
    "version": 3
   },
   "file_extension": ".py",
   "mimetype": "text/x-python",
   "name": "python",
   "nbconvert_exporter": "python",
   "pygments_lexer": "ipython3",
   "version": "3.13.2"
  },
  "otter": {
   "OK_FORMAT": true,
   "tests": {
    "q2_1": {
     "name": "q2_1",
     "points": [
      0
     ],
     "suites": [
      {
       "cases": [
        {
         "code": ">>> 1 <= characters_q1 <= 5\nTrue",
         "hidden": false,
         "locked": false
        }
       ],
       "scored": true,
       "setup": "",
       "teardown": "",
       "type": "doctest"
      }
     ]
    },
    "q2_2": {
     "name": "q2_2",
     "points": [
      0
     ],
     "suites": [
      {
       "cases": [
        {
         "code": ">>> 1 <= characters_q2 <= 3\nTrue",
         "hidden": false,
         "locked": false
        }
       ],
       "scored": true,
       "setup": "",
       "teardown": "",
       "type": "doctest"
      }
     ]
    },
    "q3_1": {
     "name": "q3_1",
     "points": [
      0
     ],
     "suites": [
      {
       "cases": [
        {
         "code": ">>> 1 <= names_q1 <= 4\nTrue",
         "hidden": false,
         "locked": false
        }
       ],
       "scored": true,
       "setup": "",
       "teardown": "",
       "type": "doctest"
      }
     ]
    },
    "q3_2": {
     "name": "q3_2",
     "points": [
      0
     ],
     "suites": [
      {
       "cases": [
        {
         "code": ">>> 1 <= names_q2 <= 4\nTrue",
         "hidden": false,
         "locked": false
        }
       ],
       "scored": true,
       "setup": "",
       "teardown": "",
       "type": "doctest"
      }
     ]
    },
    "q3_3": {
     "name": "q3_3",
     "points": [
      0
     ],
     "suites": [
      {
       "cases": [
        {
         "code": ">>> 1 <= names_q3 <= 4\nTrue",
         "hidden": false,
         "locked": false
        }
       ],
       "scored": true,
       "setup": "",
       "teardown": "",
       "type": "doctest"
      }
     ]
    },
    "q4_1": {
     "name": "q4_1",
     "points": [
      0
     ],
     "suites": [
      {
       "cases": [
        {
         "code": ">>> isinstance(biggest_change, (int, float))\nTrue",
         "hidden": false,
         "locked": false
        }
       ],
       "scored": true,
       "setup": "",
       "teardown": "",
       "type": "doctest"
      }
     ]
    },
    "q4_2": {
     "name": "q4_2",
     "points": [
      0,
      0
     ],
     "suites": [
      {
       "cases": [
        {
         "code": ">>> isinstance(smallest_change_major, (int, float))\nTrue",
         "hidden": false,
         "locked": false
        },
        {
         "code": ">>> 1 <= smallest_change_major <= 3\nTrue",
         "hidden": false,
         "locked": false
        }
       ],
       "scored": true,
       "setup": "",
       "teardown": "",
       "type": "doctest"
      }
     ]
    },
    "q4_3": {
     "name": "q4_3",
     "points": [
      0,
      0,
      0
     ],
     "suites": [
      {
       "cases": [
        {
         "code": ">>> isinstance(gws_relative_change, (int, float))\nTrue",
         "hidden": false,
         "locked": false
        },
        {
         "code": ">>> isinstance(linguistics_relative_change, (int, float))\nTrue",
         "hidden": false,
         "locked": false
        },
        {
         "code": ">>> isinstance(rhetoric_relative_change, (int, float))\nTrue",
         "hidden": false,
         "locked": false
        }
       ],
       "scored": true,
       "setup": "",
       "teardown": "",
       "type": "doctest"
      }
     ]
    },
    "q4_4": {
     "name": "q4_4",
     "points": [
      0,
      0
     ],
     "suites": [
      {
       "cases": [
        {
         "code": ">>> isinstance(biggest_rel_change_major, (int, float))\nTrue",
         "hidden": false,
         "locked": false
        },
        {
         "code": ">>> 1 <= biggest_rel_change_major <= 3\nTrue",
         "hidden": false,
         "locked": false
        }
       ],
       "scored": true,
       "setup": "",
       "teardown": "",
       "type": "doctest"
      }
     ]
    },
    "q6_1": {
     "name": "q6_1",
     "points": [
      0
     ],
     "suites": [
      {
       "cases": [
        {
         "code": ">>> 1 <= survivor_answer <= 3\nTrue",
         "hidden": false,
         "locked": false
        }
       ],
       "scored": true,
       "setup": "",
       "teardown": "",
       "type": "doctest"
      }
     ]
    },
    "q7_1": {
     "name": "q7_1",
     "points": [
      4
     ],
     "suites": [
      {
       "cases": [
        {
         "code": ">>> contact == 3\nTrue",
         "hidden": false,
         "locked": false
        }
       ],
       "scored": true,
       "setup": "",
       "teardown": "",
       "type": "doctest"
      }
     ]
    },
    "q7_2": {
     "name": "q7_2",
     "points": [
      4
     ],
     "suites": [
      {
       "cases": [
        {
         "code": ">>> grades == 2\nTrue",
         "hidden": false,
         "locked": false
        }
       ],
       "scored": true,
       "setup": "",
       "teardown": "",
       "type": "doctest"
      }
     ]
    },
    "q7_3": {
     "name": "q7_3",
     "points": [
      4
     ],
     "suites": [
      {
       "cases": [
        {
         "code": ">>> regrade == 2\nTrue",
         "hidden": false,
         "locked": false
        }
       ],
       "scored": true,
       "setup": "",
       "teardown": "",
       "type": "doctest"
      }
     ]
    },
    "q7_4": {
     "name": "q7_4",
     "points": [
      4
     ],
     "suites": [
      {
       "cases": [
        {
         "code": ">>> gradescope == 835871\nTrue",
         "hidden": false,
         "locked": false
        }
       ],
       "scored": true,
       "setup": "",
       "teardown": "",
       "type": "doctest"
      }
     ]
    },
    "q7_5": {
     "name": "q7_5",
     "points": [
      4
     ],
     "suites": [
      {
       "cases": [
        {
         "code": ">>> acceptable == 2\nTrue",
         "hidden": false,
         "locked": false
        }
       ],
       "scored": true,
       "setup": "",
       "teardown": "",
       "type": "doctest"
      }
     ]
    },
    "q7_6": {
     "name": "q7_6",
     "points": [
      4
     ],
     "suites": [
      {
       "cases": [
        {
         "code": ">>> drops == 2\nTrue",
         "hidden": false,
         "locked": false
        }
       ],
       "scored": true,
       "setup": "",
       "teardown": "",
       "type": "doctest"
      }
     ]
    },
    "q7_7": {
     "name": "q7_7",
     "points": [
      3
     ],
     "suites": [
      {
       "cases": [
        {
         "code": ">>> exams == 2\nTrue",
         "hidden": false,
         "locked": false
        }
       ],
       "scored": true,
       "setup": "",
       "teardown": "",
       "type": "doctest"
      }
     ]
    },
    "q7_8": {
     "name": "q7_8",
     "points": [
      0,
      0
     ],
     "suites": [
      {
       "cases": [
        {
         "code": ">>> # Please actually go on Ed and look at the threads.\n>>> # Looks like you didn't make a string.\n>>> type(secret) == str\nTrue",
         "hidden": false,
         "locked": false
        },
        {
         "code": ">>> len(secret)\n8",
         "hidden": false,
         "locked": false
        }
       ],
       "scored": true,
       "setup": "",
       "teardown": "",
       "type": "doctest"
      }
     ]
    },
    "q8_1": {
     "name": "q8_1",
     "points": [
      1
     ],
     "suites": [
      {
       "cases": [
        {
         "code": ">>> survey == \"data8 is data gr8\"\nTrue",
         "hidden": false,
         "locked": false
        }
       ],
       "scored": true,
       "setup": "",
       "teardown": "",
       "type": "doctest"
      }
     ]
    }
   }
  }
 },
 "nbformat": 4,
 "nbformat_minor": 5
}
