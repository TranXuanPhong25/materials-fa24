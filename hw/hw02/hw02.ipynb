{
 "cells": [
  {
   "cell_type": "code",
   "metadata": {
    "deletable": false,
    "editable": false,
    "ExecuteTime": {
     "end_time": "2025-02-17T13:20:16.830264Z",
     "start_time": "2025-02-17T13:20:16.156878Z"
    }
   },
   "source": [
    "# Initialize Otter\n",
    "import otter\n",
    "from numpy.ma.extras import average\n",
    "\n",
    "grader = otter.Notebook(\"hw02.ipynb\")"
   ],
   "id": "f6c7fec9057be848",
   "outputs": [
    {
     "name": "stderr",
     "output_type": "stream",
     "text": [
      "/home/rengumin/.local/lib/python3.13/site-packages/nbformat/__init__.py:96: MissingIDFieldWarning: Cell is missing an id field, this will become a hard error in future nbformat versions. You may want to use `normalize()` on your notebooks before validations (available since nbformat 5.1.4). Previous versions of nbformat are fixing this issue transparently, and will stop doing so in the future.\n",
      "  validate(nb)\n"
     ]
    }
   ],
   "execution_count": 1
  },
  {
   "cell_type": "markdown",
   "metadata": {},
   "source": [
    "<img src=\"data8logo.png\" alt=\"Data 8 Logo\" style=\"width: 15%; float: right; padding: 1%; margin-right: 2%;\"/>\n",
    "\n",
    "# Homework 2: Arrays and Tables\n",
    "\n",
    "Please complete this notebook by filling in the cells provided. Before you begin, execute the previous cell to load the provided tests.\n",
    "\n",
    "**Helpful Resource:**\n",
    "- [Python Reference](http://data8.org/fa24/reference/): Cheat sheet of helpful array & table methods used in Data 8!\n",
    "\n",
    "**Recommended Readings:**\n",
    "- [Arrays](https://inferentialthinking.com/chapters/05/1/Arrays.html)\n",
    "- [Data 8 Arrays Guide](https://drive.google.com/file/d/1vTduvivHyEX7cdpMCq9B2jC4iy6A3Tru/view?usp=sharing)\n",
    "- [What is Data Science?](http://www.inferentialthinking.com/chapters/01/what-is-data-science.html)\n",
    "- [Causality and Experiments](http://www.inferentialthinking.com/chapters/02/causality-and-experiments.html) \n",
    "- [Programming in Python](http://www.inferentialthinking.com/chapters/03/programming-in-python.html)\n",
    "\n",
    "For all problems that you must write explanations and sentences for, you **must** provide your answer in the designated space. Moreover, throughout this homework and all future ones, **please be sure to not re-assign variables throughout the notebook!** For example, if you use `max_temperature` in your answer to one question, do not reassign it later on. Otherwise, you will fail tests that you thought you were passing previously!\n",
    "\n",
    "**Deadline:**\n",
    "\n",
    "This assignment is **due Wednesday, 9/11 at 5:00pm PT**. Submissions after this time will be accepted for 24 hours and will incur a 20% penalty. Any submissions later than this 24 hour period will not be accepted unless an extension has been granted as per the [policies](http://data8.org/fa24/policies/) page. Turn it in by Tuesday, 9/10 at 5:00pm PT for 5 extra credit points.\n",
    "\n",
    "<span style=\"color:red\">**Note: This homework has hidden tests on it. That means even though tests may say 100% passed, it doesn't mean your final grade will be 100%. We will be running more tests for correctness once everyone turns in the homework.**</span>\n",
    "\n",
    "Directly sharing answers is not okay, but discussing problems with the course staff or with other students is encouraged. Refer to the policies page to learn more about how to learn cooperatively.\n",
    "\n",
    "You should start early so that you have time to get help if you're stuck. Office hours are held Monday through Friday in [Warren Hall](https://www.berkeley.edu/map/warren-hall/) 101B. The office hours schedule appears on [https://www.data8.org/fa24/schedule/](https://www.data8.org/fa24/schedule/)."
   ],
   "id": "1b0bdb5cbf3d1e6a"
  },
  {
   "cell_type": "markdown",
   "metadata": {},
   "source": [
    "---\n",
    "\n",
    "The point breakdown for this assignment is given in the table below:\n",
    "| Category | Points |\n",
    "| --- | --- |\n",
    "| Autograder (Coding questions) | 100 |\n",
    "| Written | 0 |\n",
    "| **Total** | 100 |\n",
    "\n",
    "<span style=\"color:red\">**Note:**</span> Since there are no written/manual questions in this homework, there is no PDF to submit."
   ],
   "id": "3c4a9154371b8289"
  },
  {
   "cell_type": "code",
   "metadata": {
    "ExecuteTime": {
     "end_time": "2025-02-17T13:20:26.248850Z",
     "start_time": "2025-02-17T13:20:26.245562Z"
    }
   },
   "source": [
    "# Run this cell and ignore the output. It is checking to see if you ran the first cell! \n",
    "# If you get a NameError, please run the cell at the very TOP of this notebook!\n",
    "\n",
    "grader"
   ],
   "id": "6fcce7c56667da9",
   "outputs": [
    {
     "data": {
      "text/plain": [
       "<otter.check.notebook.Notebook at 0x7fb478d17230>"
      ]
     },
     "execution_count": 2,
     "metadata": {},
     "output_type": "execute_result"
    }
   ],
   "execution_count": 2
  },
  {
   "cell_type": "markdown",
   "metadata": {},
   "source": [
    "<hr style=\"border: 5px solid #003262;\" />\n",
    "<hr style=\"border: 1px solid #fdb515;\" />\n",
    "\n",
    "## 1. Creating Arrays"
   ],
   "id": "9d602191a50c1540"
  },
  {
   "cell_type": "code",
   "metadata": {
    "ExecuteTime": {
     "end_time": "2025-02-17T13:20:33.551585Z",
     "start_time": "2025-02-17T13:20:32.889892Z"
    }
   },
   "source": [
    "# Run this cell to set up the notebook, but please don't change it.\n",
    "\n",
    "import numpy as np\n",
    "from datascience import *\n",
    "import warnings\n",
    "\n",
    "warnings.simplefilter('ignore', FutureWarning)"
   ],
   "id": "f96cf4aa54dea69",
   "outputs": [],
   "execution_count": 3
  },
  {
   "cell_type": "markdown",
   "metadata": {},
   "source": [
    "---\n",
    "\n",
    "**Question 1.** Make an array called `weird_numbers` containing the following numbers (in the given order) **(4 Points)**:\n",
    "\n",
    "1. -2\n",
    "2. the floor of 17.6\n",
    "3. 3\n",
    "4. 5 to the power of the ceil of 5.3\n",
    "\n",
    "*Hint:* `floor` and `ceil` are functions in the `math` module. Importing modules is covered in Lab 2!\n",
    "\n",
    "*Note:* Python lists are different/behave differently than NumPy arrays. In Data 8, we use NumPy arrays, so please make an **array**, not a Python list.\n"
   ],
   "id": "5528d76afe542efd"
  },
  {
   "cell_type": "code",
   "metadata": {
    "tags": [],
    "ExecuteTime": {
     "end_time": "2025-02-17T13:22:58.120605Z",
     "start_time": "2025-02-17T13:22:58.117976Z"
    }
   },
   "source": [
    "# Our solution involved one extra line of code before creating weird_numbers.\n",
    "import numpy as np\n",
    "\n",
    "weird_numbers = [-2, np.floor(17.6), 3, pow(5, np.ceil(5.3))]\n",
    "weird_numbers"
   ],
   "id": "ebc0151501e9e53c",
   "outputs": [
    {
     "data": {
      "text/plain": [
       "[-2, 17.0, 3, 15625.0]"
      ]
     },
     "execution_count": 4,
     "metadata": {},
     "output_type": "execute_result"
    }
   ],
   "execution_count": 4
  },
  {
   "cell_type": "code",
   "metadata": {
    "deletable": false,
    "editable": false,
    "ExecuteTime": {
     "end_time": "2025-02-17T13:23:04.364874Z",
     "start_time": "2025-02-17T13:23:04.356369Z"
    }
   },
   "source": [
    "grader.check(\"q1_1\")"
   ],
   "id": "5150fbebf92906b4",
   "outputs": [
    {
     "data": {
      "text/plain": [
       "q1_1 results:\n",
       "    q1_1 - 1 result:\n",
       "        ❌ Test case failed\n",
       "        Trying:\n",
       "            import numpy as np\n",
       "        Expecting nothing\n",
       "        ok\n",
       "        Trying:\n",
       "            type(weird_numbers) == np.ndarray\n",
       "        Expecting:\n",
       "            True\n",
       "        **********************************************************************\n",
       "        Line 3, in q1_1 0\n",
       "        Failed example:\n",
       "            type(weird_numbers) == np.ndarray\n",
       "        Exception raised:\n",
       "            Traceback (most recent call last):\n",
       "              File \"/usr/lib64/python3.13/doctest.py\", line 1395, in __run\n",
       "                exec(compile(example.source, filename, \"single\",\n",
       "                ~~~~^^^^^^^^^^^^^^^^^^^^^^^^^^^^^^^^^^^^^^^^^^^^\n",
       "                             compileflags, True), test.globs)\n",
       "                             ^^^^^^^^^^^^^^^^^^^^^^^^^^^^^^^^\n",
       "              File \"<doctest q1_1 0[1]>\", line 1, in <module>\n",
       "                type(weird_numbers) == np.ndarray\n",
       "                     ^^^^^^^^^^^^^\n",
       "            NameError: name 'weird_numbers' is not defined\n",
       "\n",
       "    q1_1 - 2 result:\n",
       "        ❌ Test case failed\n",
       "        Trying:\n",
       "            len(weird_numbers) == 4\n",
       "        Expecting:\n",
       "            True\n",
       "        **********************************************************************\n",
       "        Line 1, in q1_1 1\n",
       "        Failed example:\n",
       "            len(weird_numbers) == 4\n",
       "        Exception raised:\n",
       "            Traceback (most recent call last):\n",
       "              File \"/usr/lib64/python3.13/doctest.py\", line 1395, in __run\n",
       "                exec(compile(example.source, filename, \"single\",\n",
       "                ~~~~^^^^^^^^^^^^^^^^^^^^^^^^^^^^^^^^^^^^^^^^^^^^\n",
       "                             compileflags, True), test.globs)\n",
       "                             ^^^^^^^^^^^^^^^^^^^^^^^^^^^^^^^^\n",
       "              File \"<doctest q1_1 1[0]>\", line 1, in <module>\n",
       "                len(weird_numbers) == 4\n",
       "                    ^^^^^^^^^^^^^\n",
       "            NameError: name 'weird_numbers' is not defined"
      ],
      "text/html": [
       "<p><strong style='color: red;'><pre style='display: inline;'>q1_1</pre> results:</strong></p><p><strong><pre style='display: inline;'>q1_1 - 1</pre> result:</strong></p><pre>    ❌ Test case failed\n",
       "    Trying:\n",
       "        import numpy as np\n",
       "    Expecting nothing\n",
       "    ok\n",
       "    Trying:\n",
       "        type(weird_numbers) == np.ndarray\n",
       "    Expecting:\n",
       "        True\n",
       "    **********************************************************************\n",
       "    Line 3, in q1_1 0\n",
       "    Failed example:\n",
       "        type(weird_numbers) == np.ndarray\n",
       "    Exception raised:\n",
       "        Traceback (most recent call last):\n",
       "          File \"/usr/lib64/python3.13/doctest.py\", line 1395, in __run\n",
       "            exec(compile(example.source, filename, \"single\",\n",
       "            ~~~~^^^^^^^^^^^^^^^^^^^^^^^^^^^^^^^^^^^^^^^^^^^^\n",
       "                         compileflags, True), test.globs)\n",
       "                         ^^^^^^^^^^^^^^^^^^^^^^^^^^^^^^^^\n",
       "          File \"<doctest q1_1 0[1]>\", line 1, in <module>\n",
       "            type(weird_numbers) == np.ndarray\n",
       "                 ^^^^^^^^^^^^^\n",
       "        NameError: name 'weird_numbers' is not defined\n",
       "</pre><p><strong><pre style='display: inline;'>q1_1 - 2</pre> result:</strong></p><pre>    ❌ Test case failed\n",
       "    Trying:\n",
       "        len(weird_numbers) == 4\n",
       "    Expecting:\n",
       "        True\n",
       "    **********************************************************************\n",
       "    Line 1, in q1_1 1\n",
       "    Failed example:\n",
       "        len(weird_numbers) == 4\n",
       "    Exception raised:\n",
       "        Traceback (most recent call last):\n",
       "          File \"/usr/lib64/python3.13/doctest.py\", line 1395, in __run\n",
       "            exec(compile(example.source, filename, \"single\",\n",
       "            ~~~~^^^^^^^^^^^^^^^^^^^^^^^^^^^^^^^^^^^^^^^^^^^^\n",
       "                         compileflags, True), test.globs)\n",
       "                         ^^^^^^^^^^^^^^^^^^^^^^^^^^^^^^^^\n",
       "          File \"<doctest q1_1 1[0]>\", line 1, in <module>\n",
       "            len(weird_numbers) == 4\n",
       "                ^^^^^^^^^^^^^\n",
       "        NameError: name 'weird_numbers' is not defined\n",
       "</pre>"
      ]
     },
     "execution_count": 5,
     "metadata": {},
     "output_type": "execute_result"
    }
   ],
   "execution_count": 5
  },
  {
   "cell_type": "markdown",
   "metadata": {},
   "source": [
    "---\n",
    "\n",
    "**Question 2.** Make an array called `book_title_words` containing the following three strings: \"Eats\", \"Shoots\", and \"and Leaves\". **(4 Points)**\n"
   ],
   "id": "1574e2ab8d5ad5c7"
  },
  {
   "cell_type": "code",
   "metadata": {
    "tags": [],
    "ExecuteTime": {
     "end_time": "2025-02-17T13:23:38.783659Z",
     "start_time": "2025-02-17T13:23:38.780274Z"
    }
   },
   "source": [
    "book_title_words = [\"Eats\", \"Shoots\", \"and Leaves\"]\n",
    "book_title_words"
   ],
   "id": "8ce8d44ebb190026",
   "outputs": [
    {
     "data": {
      "text/plain": [
       "['Eats', 'Shoots', 'and Leaves']"
      ]
     },
     "execution_count": 6,
     "metadata": {},
     "output_type": "execute_result"
    }
   ],
   "execution_count": 6
  },
  {
   "cell_type": "code",
   "execution_count": null,
   "metadata": {
    "deletable": false,
    "editable": false
   },
   "outputs": [],
   "source": [
    "grader.check(\"q1_2\")"
   ],
   "id": "bc2eabcd5680a7a3"
  },
  {
   "cell_type": "markdown",
   "metadata": {},
   "source": [
    "Strings have a special method called `join`. `join` takes one argument, an array of strings.  It returns a single string.  Specifically, the value of `a_string.join(an_array)` is a single string that's the [concatenation](https://en.wikipedia.org/wiki/Concatenation) (\"putting together\") of all the strings in `an_array`, **except** `a_string` is inserted in between each string.\n",
    "\n",
    "---\n",
    "\n",
    "**Question 3.** Use the array `book_title_words` and the method `join` to make two strings **(4 Points)**:\n",
    "\n",
    "1. \"Eats, Shoots, and Leaves\" (call this one `with_commas`)\n",
    "2. \"Eats Shoots and Leaves\" (call this one `without_commas`)\n",
    "\n",
    "*Hint:* If you're not sure what `join` does, first try just calling, for example, `\"data8\".join(book_title_words)` .\n"
   ],
   "id": "b8924d86eb040e4"
  },
  {
   "cell_type": "code",
   "metadata": {
    "tags": [],
    "ExecuteTime": {
     "end_time": "2025-02-17T13:24:57.654472Z",
     "start_time": "2025-02-17T13:24:57.652082Z"
    }
   },
   "source": [
    "with_commas = \", \".join(book_title_words)\n",
    "without_commas = \" \".join(book_title_words)\n",
    "\n",
    "# These lines are provided just to print out your answers.\n",
    "print('with_commas:', with_commas)\n",
    "print('without_commas:', without_commas)"
   ],
   "id": "8b5b43be8963142",
   "outputs": [
    {
     "name": "stdout",
     "output_type": "stream",
     "text": [
      "with_commas: Eats, Shoots, and Leaves\n",
      "without_commas: Eats Shoots and Leaves\n"
     ]
    }
   ],
   "execution_count": 9
  },
  {
   "cell_type": "code",
   "metadata": {
    "deletable": false,
    "editable": false,
    "ExecuteTime": {
     "end_time": "2025-02-17T13:25:15.811919Z",
     "start_time": "2025-02-17T13:25:15.806407Z"
    }
   },
   "source": [
    "grader.check(\"q1_3\")"
   ],
   "id": "ac3b098a59981e80",
   "outputs": [
    {
     "data": {
      "text/plain": [
       "q1_3 results:\n",
       "    q1_3 - 1 result:\n",
       "        ❌ Test case failed\n",
       "        Trying:\n",
       "            with_commas == 'Eats, Shoots, and Leaves'\n",
       "        Expecting:\n",
       "            True\n",
       "        **********************************************************************\n",
       "        Line 1, in q1_3 0\n",
       "        Failed example:\n",
       "            with_commas == 'Eats, Shoots, and Leaves'\n",
       "        Exception raised:\n",
       "            Traceback (most recent call last):\n",
       "              File \"/usr/lib64/python3.13/doctest.py\", line 1395, in __run\n",
       "                exec(compile(example.source, filename, \"single\",\n",
       "                ~~~~^^^^^^^^^^^^^^^^^^^^^^^^^^^^^^^^^^^^^^^^^^^^\n",
       "                             compileflags, True), test.globs)\n",
       "                             ^^^^^^^^^^^^^^^^^^^^^^^^^^^^^^^^\n",
       "              File \"<doctest q1_3 0[0]>\", line 1, in <module>\n",
       "                with_commas == 'Eats, Shoots, and Leaves'\n",
       "                ^^^^^^^^^^^\n",
       "            NameError: name 'with_commas' is not defined\n",
       "\n",
       "    q1_3 - 2 result:\n",
       "        ❌ Test case failed\n",
       "        Trying:\n",
       "            without_commas == 'Eats Shoots and Leaves'\n",
       "        Expecting:\n",
       "            True\n",
       "        **********************************************************************\n",
       "        Line 1, in q1_3 1\n",
       "        Failed example:\n",
       "            without_commas == 'Eats Shoots and Leaves'\n",
       "        Exception raised:\n",
       "            Traceback (most recent call last):\n",
       "              File \"/usr/lib64/python3.13/doctest.py\", line 1395, in __run\n",
       "                exec(compile(example.source, filename, \"single\",\n",
       "                ~~~~^^^^^^^^^^^^^^^^^^^^^^^^^^^^^^^^^^^^^^^^^^^^\n",
       "                             compileflags, True), test.globs)\n",
       "                             ^^^^^^^^^^^^^^^^^^^^^^^^^^^^^^^^\n",
       "              File \"<doctest q1_3 1[0]>\", line 1, in <module>\n",
       "                without_commas == 'Eats Shoots and Leaves'\n",
       "                ^^^^^^^^^^^^^^\n",
       "            NameError: name 'without_commas' is not defined"
      ],
      "text/html": [
       "<p><strong style='color: red;'><pre style='display: inline;'>q1_3</pre> results:</strong></p><p><strong><pre style='display: inline;'>q1_3 - 1</pre> result:</strong></p><pre>    ❌ Test case failed\n",
       "    Trying:\n",
       "        with_commas == 'Eats, Shoots, and Leaves'\n",
       "    Expecting:\n",
       "        True\n",
       "    **********************************************************************\n",
       "    Line 1, in q1_3 0\n",
       "    Failed example:\n",
       "        with_commas == 'Eats, Shoots, and Leaves'\n",
       "    Exception raised:\n",
       "        Traceback (most recent call last):\n",
       "          File \"/usr/lib64/python3.13/doctest.py\", line 1395, in __run\n",
       "            exec(compile(example.source, filename, \"single\",\n",
       "            ~~~~^^^^^^^^^^^^^^^^^^^^^^^^^^^^^^^^^^^^^^^^^^^^\n",
       "                         compileflags, True), test.globs)\n",
       "                         ^^^^^^^^^^^^^^^^^^^^^^^^^^^^^^^^\n",
       "          File \"<doctest q1_3 0[0]>\", line 1, in <module>\n",
       "            with_commas == 'Eats, Shoots, and Leaves'\n",
       "            ^^^^^^^^^^^\n",
       "        NameError: name 'with_commas' is not defined\n",
       "</pre><p><strong><pre style='display: inline;'>q1_3 - 2</pre> result:</strong></p><pre>    ❌ Test case failed\n",
       "    Trying:\n",
       "        without_commas == 'Eats Shoots and Leaves'\n",
       "    Expecting:\n",
       "        True\n",
       "    **********************************************************************\n",
       "    Line 1, in q1_3 1\n",
       "    Failed example:\n",
       "        without_commas == 'Eats Shoots and Leaves'\n",
       "    Exception raised:\n",
       "        Traceback (most recent call last):\n",
       "          File \"/usr/lib64/python3.13/doctest.py\", line 1395, in __run\n",
       "            exec(compile(example.source, filename, \"single\",\n",
       "            ~~~~^^^^^^^^^^^^^^^^^^^^^^^^^^^^^^^^^^^^^^^^^^^^\n",
       "                         compileflags, True), test.globs)\n",
       "                         ^^^^^^^^^^^^^^^^^^^^^^^^^^^^^^^^\n",
       "          File \"<doctest q1_3 1[0]>\", line 1, in <module>\n",
       "            without_commas == 'Eats Shoots and Leaves'\n",
       "            ^^^^^^^^^^^^^^\n",
       "        NameError: name 'without_commas' is not defined\n",
       "</pre>"
      ]
     },
     "execution_count": 10,
     "metadata": {},
     "output_type": "execute_result"
    }
   ],
   "execution_count": 10
  },
  {
   "cell_type": "markdown",
   "metadata": {},
   "source": [
    "<hr style=\"border: 5px solid #003262;\" />\n",
    "<hr style=\"border: 1px solid #fdb515;\" />\n",
    "\n",
    "## 2. Indexing Arrays"
   ],
   "id": "87baa1ab4e9b4ecd"
  },
  {
   "attachments": {},
   "cell_type": "markdown",
   "metadata": {},
   "source": [
    "These exercises give you practice on accessing individual elements of arrays. In Python, each element is accessed by its index. An index indicates the position of an element within an array. For example, the first element is the element at index 0. Indices must be **integers**.\n",
    "\n",
    "***Note:* If you have previous coding experience, you may be familiar with bracket notation. DO NOT use bracket notation when indexing (i.e. `arr[0]`), as this can yield different data type outputs than what we will be expecting. This can cause you to fail an autograder test.**\n",
    "\n",
    "Be sure to refer to the [Python Reference](http://data8.org/fa24/reference/) on the website if you feel stuck!"
   ],
   "id": "c4cbf996ff47d429"
  },
  {
   "cell_type": "markdown",
   "metadata": {},
   "source": [
    "---\n",
    "\n",
    "**Question 1.** The cell below creates an array of some numbers.  Set `third_element` to the third element of `some_numbers`. **(4 Points)**\n"
   ],
   "id": "f0342ce8b3b94809"
  },
  {
   "cell_type": "code",
   "metadata": {
    "tags": [],
    "ExecuteTime": {
     "end_time": "2025-02-17T13:27:21.751600Z",
     "start_time": "2025-02-17T13:27:21.748018Z"
    }
   },
   "source": [
    "some_numbers = make_array(-1, -3, -6, -10, -15)\n",
    "\n",
    "third_element = some_numbers.item(2)\n",
    "third_element"
   ],
   "id": "120e1d759fef785d",
   "outputs": [
    {
     "data": {
      "text/plain": [
       "-6"
      ]
     },
     "execution_count": 13,
     "metadata": {},
     "output_type": "execute_result"
    }
   ],
   "execution_count": 13
  },
  {
   "cell_type": "code",
   "metadata": {
    "deletable": false,
    "editable": false,
    "ExecuteTime": {
     "end_time": "2025-02-17T13:25:56.402216Z",
     "start_time": "2025-02-17T13:25:56.397012Z"
    }
   },
   "source": [
    "grader.check(\"q2_1\")"
   ],
   "id": "77c4e32f21293b03",
   "outputs": [
    {
     "data": {
      "text/plain": [
       "q2_1 results:\n",
       "    q2_1 - 1 result:\n",
       "        ❌ Test case failed\n",
       "        Trying:\n",
       "            third_element != -10\n",
       "        Expecting:\n",
       "            True\n",
       "        **********************************************************************\n",
       "        Line 4, in q2_1 0\n",
       "        Failed example:\n",
       "            third_element != -10\n",
       "        Exception raised:\n",
       "            Traceback (most recent call last):\n",
       "              File \"/usr/lib64/python3.13/doctest.py\", line 1395, in __run\n",
       "                exec(compile(example.source, filename, \"single\",\n",
       "                ~~~~^^^^^^^^^^^^^^^^^^^^^^^^^^^^^^^^^^^^^^^^^^^^\n",
       "                             compileflags, True), test.globs)\n",
       "                             ^^^^^^^^^^^^^^^^^^^^^^^^^^^^^^^^\n",
       "              File \"<doctest q2_1 0[0]>\", line 1, in <module>\n",
       "                third_element != -10\n",
       "                ^^^^^^^^^^^^^\n",
       "            NameError: name 'third_element' is not defined\n",
       "\n",
       "    q2_1 - 2 result:\n",
       "        ❌ Test case failed\n",
       "        Trying:\n",
       "            third_element == -6\n",
       "        Expecting:\n",
       "            True\n",
       "        **********************************************************************\n",
       "        Line 1, in q2_1 1\n",
       "        Failed example:\n",
       "            third_element == -6\n",
       "        Exception raised:\n",
       "            Traceback (most recent call last):\n",
       "              File \"/usr/lib64/python3.13/doctest.py\", line 1395, in __run\n",
       "                exec(compile(example.source, filename, \"single\",\n",
       "                ~~~~^^^^^^^^^^^^^^^^^^^^^^^^^^^^^^^^^^^^^^^^^^^^\n",
       "                             compileflags, True), test.globs)\n",
       "                             ^^^^^^^^^^^^^^^^^^^^^^^^^^^^^^^^\n",
       "              File \"<doctest q2_1 1[0]>\", line 1, in <module>\n",
       "                third_element == -6\n",
       "                ^^^^^^^^^^^^^\n",
       "            NameError: name 'third_element' is not defined"
      ],
      "text/html": [
       "<p><strong style='color: red;'><pre style='display: inline;'>q2_1</pre> results:</strong></p><p><strong><pre style='display: inline;'>q2_1 - 1</pre> result:</strong></p><pre>    ❌ Test case failed\n",
       "    Trying:\n",
       "        third_element != -10\n",
       "    Expecting:\n",
       "        True\n",
       "    **********************************************************************\n",
       "    Line 4, in q2_1 0\n",
       "    Failed example:\n",
       "        third_element != -10\n",
       "    Exception raised:\n",
       "        Traceback (most recent call last):\n",
       "          File \"/usr/lib64/python3.13/doctest.py\", line 1395, in __run\n",
       "            exec(compile(example.source, filename, \"single\",\n",
       "            ~~~~^^^^^^^^^^^^^^^^^^^^^^^^^^^^^^^^^^^^^^^^^^^^\n",
       "                         compileflags, True), test.globs)\n",
       "                         ^^^^^^^^^^^^^^^^^^^^^^^^^^^^^^^^\n",
       "          File \"<doctest q2_1 0[0]>\", line 1, in <module>\n",
       "            third_element != -10\n",
       "            ^^^^^^^^^^^^^\n",
       "        NameError: name 'third_element' is not defined\n",
       "</pre><p><strong><pre style='display: inline;'>q2_1 - 2</pre> result:</strong></p><pre>    ❌ Test case failed\n",
       "    Trying:\n",
       "        third_element == -6\n",
       "    Expecting:\n",
       "        True\n",
       "    **********************************************************************\n",
       "    Line 1, in q2_1 1\n",
       "    Failed example:\n",
       "        third_element == -6\n",
       "    Exception raised:\n",
       "        Traceback (most recent call last):\n",
       "          File \"/usr/lib64/python3.13/doctest.py\", line 1395, in __run\n",
       "            exec(compile(example.source, filename, \"single\",\n",
       "            ~~~~^^^^^^^^^^^^^^^^^^^^^^^^^^^^^^^^^^^^^^^^^^^^\n",
       "                         compileflags, True), test.globs)\n",
       "                         ^^^^^^^^^^^^^^^^^^^^^^^^^^^^^^^^\n",
       "          File \"<doctest q2_1 1[0]>\", line 1, in <module>\n",
       "            third_element == -6\n",
       "            ^^^^^^^^^^^^^\n",
       "        NameError: name 'third_element' is not defined\n",
       "</pre>"
      ]
     },
     "execution_count": 12,
     "metadata": {},
     "output_type": "execute_result"
    }
   ],
   "execution_count": 12
  },
  {
   "cell_type": "markdown",
   "metadata": {},
   "source": [
    "---\n",
    "\n",
    "**Question 2.** The next cell creates a table that displays some information about the elements of `some_numbers` and their order.  Run the cell to see the partially-completed table, then fill in the missing information (the cells that say \"Ellipsis\") by assigning `blank_a`, `blank_b`, `blank_c`, and `blank_d` to the correct elements in the table. **(4 Points)**\n",
    "\n",
    "*Hint:* Replace the `...` with strings or numbers. As a reminder, indices should be **integers**.\n"
   ],
   "id": "735d67ccfca011d"
  },
  {
   "cell_type": "code",
   "metadata": {
    "for_assignment_type": "student",
    "tags": [],
    "ExecuteTime": {
     "end_time": "2025-02-17T13:30:38.372908Z",
     "start_time": "2025-02-17T13:30:38.368630Z"
    }
   },
   "source": [
    "blank_a = \"third\"\n",
    "blank_b = \"fourth\"\n",
    "blank_c = 0\n",
    "blank_d = 3\n",
    "elements_of_some_numbers = Table().with_columns(\n",
    "    \"English name for position\", make_array(\"first\", \"second\", blank_a, blank_b, \"fifth\"),\n",
    "    \"Index\", make_array(blank_c, 1, 2, blank_d, 4),\n",
    "    \"Element\", some_numbers)\n",
    "elements_of_some_numbers"
   ],
   "id": "b0121e61874f7f98",
   "outputs": [
    {
     "data": {
      "text/plain": [
       "English name for position | Index | Element\n",
       "first                     | 0     | -1\n",
       "second                    | 1     | -3\n",
       "third                     | 2     | -6\n",
       "fourth                    | 3     | -10\n",
       "fifth                     | 4     | -15"
      ],
      "text/html": [
       "<table border=\"1\" class=\"dataframe\">\n",
       "    <thead>\n",
       "        <tr>\n",
       "            <th>English name for position</th> <th>Index</th> <th>Element</th>\n",
       "        </tr>\n",
       "    </thead>\n",
       "    <tbody>\n",
       "        <tr>\n",
       "            <td>first                    </td> <td>0    </td> <td>-1     </td>\n",
       "        </tr>\n",
       "        <tr>\n",
       "            <td>second                   </td> <td>1    </td> <td>-3     </td>\n",
       "        </tr>\n",
       "        <tr>\n",
       "            <td>third                    </td> <td>2    </td> <td>-6     </td>\n",
       "        </tr>\n",
       "        <tr>\n",
       "            <td>fourth                   </td> <td>3    </td> <td>-10    </td>\n",
       "        </tr>\n",
       "        <tr>\n",
       "            <td>fifth                    </td> <td>4    </td> <td>-15    </td>\n",
       "        </tr>\n",
       "    </tbody>\n",
       "</table>"
      ]
     },
     "execution_count": 14,
     "metadata": {},
     "output_type": "execute_result"
    }
   ],
   "execution_count": 14
  },
  {
   "cell_type": "code",
   "execution_count": null,
   "metadata": {
    "deletable": false,
    "editable": false
   },
   "outputs": [],
   "source": [
    "grader.check(\"q2_2\")"
   ],
   "id": "b471800910884c82"
  },
  {
   "cell_type": "markdown",
   "metadata": {},
   "source": [
    "---\n",
    "\n",
    "**Question 3.** You'll sometimes want to find the **last** element of an array.  Suppose an array has 142 elements.  What is the index of its last element? **(4 Points)**\n",
    "\n",
    "*Note:* Your answer must be a positive number.\n"
   ],
   "id": "15e960c252a50c85"
  },
  {
   "cell_type": "code",
   "metadata": {
    "tags": [],
    "ExecuteTime": {
     "end_time": "2025-02-17T13:31:10.195184Z",
     "start_time": "2025-02-17T13:31:10.193382Z"
    }
   },
   "source": "index_of_last_element = 141",
   "id": "7bc0d3594b459619",
   "outputs": [],
   "execution_count": 15
  },
  {
   "cell_type": "code",
   "metadata": {
    "deletable": false,
    "editable": false,
    "ExecuteTime": {
     "end_time": "2025-02-17T13:31:11.074642Z",
     "start_time": "2025-02-17T13:31:11.070373Z"
    }
   },
   "source": [
    "grader.check(\"q2_3\")"
   ],
   "id": "f88176c80cb4ff44",
   "outputs": [
    {
     "data": {
      "text/plain": [
       "q2_3 results:\n",
       "    q2_3 - 1 result:\n",
       "        ❌ Test case failed\n",
       "        Trying:\n",
       "            type(index_of_last_element) == int\n",
       "        Expecting:\n",
       "            True\n",
       "        **********************************************************************\n",
       "        Line 3, in q2_3 0\n",
       "        Failed example:\n",
       "            type(index_of_last_element) == int\n",
       "        Exception raised:\n",
       "            Traceback (most recent call last):\n",
       "              File \"/usr/lib64/python3.13/doctest.py\", line 1395, in __run\n",
       "                exec(compile(example.source, filename, \"single\",\n",
       "                ~~~~^^^^^^^^^^^^^^^^^^^^^^^^^^^^^^^^^^^^^^^^^^^^\n",
       "                             compileflags, True), test.globs)\n",
       "                             ^^^^^^^^^^^^^^^^^^^^^^^^^^^^^^^^\n",
       "              File \"<doctest q2_3 0[0]>\", line 1, in <module>\n",
       "                type(index_of_last_element) == int\n",
       "                     ^^^^^^^^^^^^^^^^^^^^^\n",
       "            NameError: name 'index_of_last_element' is not defined"
      ],
      "text/html": [
       "<p><strong style='color: red;'><pre style='display: inline;'>q2_3</pre> results:</strong></p><p><strong><pre style='display: inline;'>q2_3 - 1</pre> result:</strong></p><pre>    ❌ Test case failed\n",
       "    Trying:\n",
       "        type(index_of_last_element) == int\n",
       "    Expecting:\n",
       "        True\n",
       "    **********************************************************************\n",
       "    Line 3, in q2_3 0\n",
       "    Failed example:\n",
       "        type(index_of_last_element) == int\n",
       "    Exception raised:\n",
       "        Traceback (most recent call last):\n",
       "          File \"/usr/lib64/python3.13/doctest.py\", line 1395, in __run\n",
       "            exec(compile(example.source, filename, \"single\",\n",
       "            ~~~~^^^^^^^^^^^^^^^^^^^^^^^^^^^^^^^^^^^^^^^^^^^^\n",
       "                         compileflags, True), test.globs)\n",
       "                         ^^^^^^^^^^^^^^^^^^^^^^^^^^^^^^^^\n",
       "          File \"<doctest q2_3 0[0]>\", line 1, in <module>\n",
       "            type(index_of_last_element) == int\n",
       "                 ^^^^^^^^^^^^^^^^^^^^^\n",
       "        NameError: name 'index_of_last_element' is not defined\n",
       "</pre>"
      ]
     },
     "execution_count": 16,
     "metadata": {},
     "output_type": "execute_result"
    }
   ],
   "execution_count": 16
  },
  {
   "cell_type": "markdown",
   "metadata": {},
   "source": [
    "More often, you don't know the number of elements in an array, which is its *length*.  (For example, it might be a large dataset you found on the Internet.)  The function `len` takes a single argument, an array, and returns an integer that represents the `len`gth of that array.\n",
    "\n",
    "---\n",
    "\n",
    "**Question 4.** The cell below loads an array called `president_birth_years`.  Calling `tbl.column(...)` on a table returns an array of the column specified, in this case the `Birth Year` column of the `president_births` table. The last element in that array is the most recent among the birth years of all the deceased Presidents. Assign that year to `most_recent_birth_year`. **(4 Points)**\n",
    "\n",
    "**Note:** Avoid Googling the answer. You should be able to answer this question only using table methods.\n"
   ],
   "id": "6b5a5c2ecd0d3545"
  },
  {
   "cell_type": "code",
   "metadata": {
    "tags": [],
    "ExecuteTime": {
     "end_time": "2025-02-17T14:00:52.494806Z",
     "start_time": "2025-02-17T14:00:52.448047Z"
    }
   },
   "source": [
    "president_birth_years = Table.read_table(\"president_births.csv\").column('Birth Year')\n",
    "\n",
    "most_recent_birth_year = president_birth_years.item(-1)\n",
    "most_recent_birth_year"
   ],
   "id": "5dad090a1d5a8425",
   "outputs": [
    {
     "data": {
      "text/plain": [
       "1917"
      ]
     },
     "execution_count": 17,
     "metadata": {},
     "output_type": "execute_result"
    }
   ],
   "execution_count": 17
  },
  {
   "cell_type": "code",
   "metadata": {
    "deletable": false,
    "editable": false,
    "ExecuteTime": {
     "end_time": "2025-02-17T14:00:54.832007Z",
     "start_time": "2025-02-17T14:00:54.820338Z"
    }
   },
   "source": [
    "grader.check(\"q2_4\")"
   ],
   "id": "7c20cc6401913c61",
   "outputs": [
    {
     "data": {
      "text/plain": [
       "q2_4 results:\n",
       "    q2_4 - 1 result:\n",
       "        ❌ Test case failed\n",
       "        Trying:\n",
       "            most_recent_birth_year == 1917\n",
       "        Expecting:\n",
       "            True\n",
       "        **********************************************************************\n",
       "        Line 1, in q2_4 0\n",
       "        Failed example:\n",
       "            most_recent_birth_year == 1917\n",
       "        Exception raised:\n",
       "            Traceback (most recent call last):\n",
       "              File \"/usr/lib64/python3.13/doctest.py\", line 1395, in __run\n",
       "                exec(compile(example.source, filename, \"single\",\n",
       "                ~~~~^^^^^^^^^^^^^^^^^^^^^^^^^^^^^^^^^^^^^^^^^^^^\n",
       "                             compileflags, True), test.globs)\n",
       "                             ^^^^^^^^^^^^^^^^^^^^^^^^^^^^^^^^\n",
       "              File \"<doctest q2_4 0[0]>\", line 1, in <module>\n",
       "                most_recent_birth_year == 1917\n",
       "                ^^^^^^^^^^^^^^^^^^^^^^\n",
       "            NameError: name 'most_recent_birth_year' is not defined"
      ],
      "text/html": [
       "<p><strong style='color: red;'><pre style='display: inline;'>q2_4</pre> results:</strong></p><p><strong><pre style='display: inline;'>q2_4 - 1</pre> result:</strong></p><pre>    ❌ Test case failed\n",
       "    Trying:\n",
       "        most_recent_birth_year == 1917\n",
       "    Expecting:\n",
       "        True\n",
       "    **********************************************************************\n",
       "    Line 1, in q2_4 0\n",
       "    Failed example:\n",
       "        most_recent_birth_year == 1917\n",
       "    Exception raised:\n",
       "        Traceback (most recent call last):\n",
       "          File \"/usr/lib64/python3.13/doctest.py\", line 1395, in __run\n",
       "            exec(compile(example.source, filename, \"single\",\n",
       "            ~~~~^^^^^^^^^^^^^^^^^^^^^^^^^^^^^^^^^^^^^^^^^^^^\n",
       "                         compileflags, True), test.globs)\n",
       "                         ^^^^^^^^^^^^^^^^^^^^^^^^^^^^^^^^\n",
       "          File \"<doctest q2_4 0[0]>\", line 1, in <module>\n",
       "            most_recent_birth_year == 1917\n",
       "            ^^^^^^^^^^^^^^^^^^^^^^\n",
       "        NameError: name 'most_recent_birth_year' is not defined\n",
       "</pre>"
      ]
     },
     "execution_count": 18,
     "metadata": {},
     "output_type": "execute_result"
    }
   ],
   "execution_count": 18
  },
  {
   "cell_type": "markdown",
   "metadata": {},
   "source": [
    "---\n",
    "\n",
    "**Question 5.** Finally, assign `min_of_birth_years` to the minimum of the first, sixteenth, and last birth years listed in `president_birth_years`. **(4 Points)**\n",
    "\n",
    "**Note:** Use the Python `min` function and table methods to find the answer. Avoid manually calculating the result yourself!\n"
   ],
   "id": "941c68396a6b0cb3"
  },
  {
   "cell_type": "code",
   "metadata": {
    "tags": [],
    "ExecuteTime": {
     "end_time": "2025-02-17T14:01:36.087569Z",
     "start_time": "2025-02-17T14:01:36.083915Z"
    }
   },
   "source": [
    "min_of_birth_years = min(president_birth_years.item(0), president_birth_years.item(15), president_birth_years.item(-1))\n",
    "min_of_birth_years"
   ],
   "id": "7202e8b4d1654085",
   "outputs": [
    {
     "data": {
      "text/plain": [
       "1732"
      ]
     },
     "execution_count": 19,
     "metadata": {},
     "output_type": "execute_result"
    }
   ],
   "execution_count": 19
  },
  {
   "cell_type": "code",
   "metadata": {
    "deletable": false,
    "editable": false,
    "ExecuteTime": {
     "end_time": "2025-02-17T14:01:37.218171Z",
     "start_time": "2025-02-17T14:01:37.212232Z"
    }
   },
   "source": [
    "grader.check(\"q2_5\")"
   ],
   "id": "81edf62fbb3fd51e",
   "outputs": [
    {
     "data": {
      "text/plain": [
       "q2_5 results:\n",
       "    q2_5 - 1 result:\n",
       "        ❌ Test case failed\n",
       "        Trying:\n",
       "            min_of_birth_years > 0\n",
       "        Expecting:\n",
       "            True\n",
       "        **********************************************************************\n",
       "        Line 1, in q2_5 0\n",
       "        Failed example:\n",
       "            min_of_birth_years > 0\n",
       "        Exception raised:\n",
       "            Traceback (most recent call last):\n",
       "              File \"/usr/lib64/python3.13/doctest.py\", line 1395, in __run\n",
       "                exec(compile(example.source, filename, \"single\",\n",
       "                ~~~~^^^^^^^^^^^^^^^^^^^^^^^^^^^^^^^^^^^^^^^^^^^^\n",
       "                             compileflags, True), test.globs)\n",
       "                             ^^^^^^^^^^^^^^^^^^^^^^^^^^^^^^^^\n",
       "              File \"<doctest q2_5 0[0]>\", line 1, in <module>\n",
       "                min_of_birth_years > 0\n",
       "                ^^^^^^^^^^^^^^^^^^\n",
       "            NameError: name 'min_of_birth_years' is not defined"
      ],
      "text/html": [
       "<p><strong style='color: red;'><pre style='display: inline;'>q2_5</pre> results:</strong></p><p><strong><pre style='display: inline;'>q2_5 - 1</pre> result:</strong></p><pre>    ❌ Test case failed\n",
       "    Trying:\n",
       "        min_of_birth_years > 0\n",
       "    Expecting:\n",
       "        True\n",
       "    **********************************************************************\n",
       "    Line 1, in q2_5 0\n",
       "    Failed example:\n",
       "        min_of_birth_years > 0\n",
       "    Exception raised:\n",
       "        Traceback (most recent call last):\n",
       "          File \"/usr/lib64/python3.13/doctest.py\", line 1395, in __run\n",
       "            exec(compile(example.source, filename, \"single\",\n",
       "            ~~~~^^^^^^^^^^^^^^^^^^^^^^^^^^^^^^^^^^^^^^^^^^^^\n",
       "                         compileflags, True), test.globs)\n",
       "                         ^^^^^^^^^^^^^^^^^^^^^^^^^^^^^^^^\n",
       "          File \"<doctest q2_5 0[0]>\", line 1, in <module>\n",
       "            min_of_birth_years > 0\n",
       "            ^^^^^^^^^^^^^^^^^^\n",
       "        NameError: name 'min_of_birth_years' is not defined\n",
       "</pre>"
      ]
     },
     "execution_count": 20,
     "metadata": {},
     "output_type": "execute_result"
    }
   ],
   "execution_count": 20
  },
  {
   "cell_type": "markdown",
   "metadata": {},
   "source": [
    "<hr style=\"border: 5px solid #003262;\" />\n",
    "<hr style=\"border: 1px solid #fdb515;\" />\n",
    "\n",
    "## 3. Basic Array Arithmetic"
   ],
   "id": "915ecf1cfae72b06"
  },
  {
   "cell_type": "markdown",
   "metadata": {},
   "source": [
    "---\n",
    "\n",
    "**Question 1.** Multiply the numbers 42, -4224, 424224242, and 250 by 157. Assign each variable below such that `first_product` is assigned to the result of $42 * 157$, `second_product` is assigned to the result of $-4224 * 157$, and so on. **(4 Points)**\n",
    "\n",
    "*Note*: For this question, **don't** use arrays.\n"
   ],
   "id": "df0cafff09e34c39"
  },
  {
   "cell_type": "code",
   "metadata": {
    "tags": [],
    "ExecuteTime": {
     "end_time": "2025-02-17T14:03:12.910037Z",
     "start_time": "2025-02-17T14:03:12.906724Z"
    }
   },
   "source": [
    "first_product = 42 * 157\n",
    "second_product = -4224 * 157\n",
    "third_product = 424224242 * 157\n",
    "fourth_product = 250 * 157\n",
    "print(\"First Product:\", first_product)\n",
    "print(\"Second Product:\", second_product)\n",
    "print(\"Third Product:\", third_product)\n",
    "print(\"Fourth Product:\", fourth_product)"
   ],
   "id": "2b9b60e0f4e6d7e6",
   "outputs": [
    {
     "name": "stdout",
     "output_type": "stream",
     "text": [
      "First Product: 6594\n",
      "Second Product: -663168\n",
      "Third Product: 66603205994\n",
      "Fourth Product: 39250\n"
     ]
    }
   ],
   "execution_count": 21
  },
  {
   "cell_type": "code",
   "metadata": {
    "deletable": false,
    "editable": false,
    "ExecuteTime": {
     "end_time": "2025-02-17T14:03:14.347411Z",
     "start_time": "2025-02-17T14:03:14.341171Z"
    }
   },
   "source": [
    "grader.check(\"q3_1\")"
   ],
   "id": "a0995f94781a6657",
   "outputs": [
    {
     "data": {
      "text/plain": [
       "q3_1 results:\n",
       "    q3_1 - 1 result:\n",
       "        ❌ Test case failed\n",
       "        Trying:\n",
       "            first_product > 0, second_product < 0, third_product > 0, fourth_product > 0\n",
       "        Expecting:\n",
       "            (True, True, True, True)\n",
       "        **********************************************************************\n",
       "        Line 1, in q3_1 0\n",
       "        Failed example:\n",
       "            first_product > 0, second_product < 0, third_product > 0, fourth_product > 0\n",
       "        Exception raised:\n",
       "            Traceback (most recent call last):\n",
       "              File \"/usr/lib64/python3.13/doctest.py\", line 1395, in __run\n",
       "                exec(compile(example.source, filename, \"single\",\n",
       "                ~~~~^^^^^^^^^^^^^^^^^^^^^^^^^^^^^^^^^^^^^^^^^^^^\n",
       "                             compileflags, True), test.globs)\n",
       "                             ^^^^^^^^^^^^^^^^^^^^^^^^^^^^^^^^\n",
       "              File \"<doctest q3_1 0[0]>\", line 1, in <module>\n",
       "                first_product > 0, second_product < 0, third_product > 0, fourth_product > 0\n",
       "                ^^^^^^^^^^^^^\n",
       "            NameError: name 'first_product' is not defined"
      ],
      "text/html": [
       "<p><strong style='color: red;'><pre style='display: inline;'>q3_1</pre> results:</strong></p><p><strong><pre style='display: inline;'>q3_1 - 1</pre> result:</strong></p><pre>    ❌ Test case failed\n",
       "    Trying:\n",
       "        first_product > 0, second_product < 0, third_product > 0, fourth_product > 0\n",
       "    Expecting:\n",
       "        (True, True, True, True)\n",
       "    **********************************************************************\n",
       "    Line 1, in q3_1 0\n",
       "    Failed example:\n",
       "        first_product > 0, second_product < 0, third_product > 0, fourth_product > 0\n",
       "    Exception raised:\n",
       "        Traceback (most recent call last):\n",
       "          File \"/usr/lib64/python3.13/doctest.py\", line 1395, in __run\n",
       "            exec(compile(example.source, filename, \"single\",\n",
       "            ~~~~^^^^^^^^^^^^^^^^^^^^^^^^^^^^^^^^^^^^^^^^^^^^\n",
       "                         compileflags, True), test.globs)\n",
       "                         ^^^^^^^^^^^^^^^^^^^^^^^^^^^^^^^^\n",
       "          File \"<doctest q3_1 0[0]>\", line 1, in <module>\n",
       "            first_product > 0, second_product < 0, third_product > 0, fourth_product > 0\n",
       "            ^^^^^^^^^^^^^\n",
       "        NameError: name 'first_product' is not defined\n",
       "</pre>"
      ]
     },
     "execution_count": 22,
     "metadata": {},
     "output_type": "execute_result"
    }
   ],
   "execution_count": 22
  },
  {
   "cell_type": "markdown",
   "metadata": {},
   "source": [
    "---\n",
    "\n",
    "**Question 2.** Now, do the same calculation, but using an array called `numbers` and only a single multiplication (`*`) operator.  Store the 4 results in an array named `products`. **(4 Points)**\n"
   ],
   "id": "c781d613c1031396"
  },
  {
   "cell_type": "code",
   "metadata": {
    "tags": [],
    "ExecuteTime": {
     "end_time": "2025-02-17T14:06:45.282113Z",
     "start_time": "2025-02-17T14:06:45.278553Z"
    }
   },
   "source": [
    "numbers = [42, -4224, 424224242, 250]\n",
    "products = np.array(numbers) * 157\n",
    "products"
   ],
   "id": "e19d879f3e8d5950",
   "outputs": [
    {
     "data": {
      "text/plain": [
       "array([       6594,     -663168, 66603205994,       39250])"
      ]
     },
     "execution_count": 31,
     "metadata": {},
     "output_type": "execute_result"
    }
   ],
   "execution_count": 31
  },
  {
   "cell_type": "code",
   "execution_count": null,
   "metadata": {
    "deletable": false,
    "editable": false
   },
   "outputs": [],
   "source": [
    "grader.check(\"q3_2\")"
   ],
   "id": "10e2ffdd28bb5dc"
  },
  {
   "cell_type": "markdown",
   "metadata": {},
   "source": [
    "---\n",
    "\n",
    "**Question 3.** Oops, we made a typo!  Instead of 157, we wanted to multiply each number by 1577.  Compute the correct products in the cell below using array arithmetic.  Notice that your job is really easy if you previously defined an array containing the 4 numbers. **(4 Points)**\n"
   ],
   "id": "cb71aba69480bb93"
  },
  {
   "cell_type": "code",
   "metadata": {
    "tags": [],
    "ExecuteTime": {
     "end_time": "2025-02-17T14:06:48.263665Z",
     "start_time": "2025-02-17T14:06:48.260379Z"
    }
   },
   "source": [
    "correct_products = np.array(numbers) * 1577\n",
    "correct_products"
   ],
   "id": "4b8422db35dc3df2",
   "outputs": [
    {
     "data": {
      "text/plain": [
       "array([       66234,     -6661248, 669001629634,       394250])"
      ]
     },
     "execution_count": 32,
     "metadata": {},
     "output_type": "execute_result"
    }
   ],
   "execution_count": 32
  },
  {
   "cell_type": "code",
   "execution_count": null,
   "metadata": {
    "deletable": false,
    "editable": false
   },
   "outputs": [],
   "source": [
    "grader.check(\"q3_3\")"
   ],
   "id": "2fe16197e8cf40d"
  },
  {
   "cell_type": "markdown",
   "metadata": {},
   "source": [
    "---\n",
    "\n",
    "**Question 4.** We've loaded an array of temperatures in the next cell.  Each number is the highest temperature observed on a day at a climate observation station, mostly from the US.  Since they're from the US government agency [NOAA](https://www.noaa.gov/), all the temperatures are in Fahrenheit.\n",
    "\n",
    "Convert all the temperatures to Celsius by first subtracting 32 from them, then multiplying the results by $\\frac{5}{9}$, i.e. $C = (F - 32) * \\frac{5}{9}$. After converting the temperatures to Celsius, make sure to **ROUND** the final result  to the nearest integer using the `np.round` function. **(4 Points)**\n"
   ],
   "id": "a640c52503e76f80"
  },
  {
   "cell_type": "code",
   "metadata": {
    "tags": [],
    "ExecuteTime": {
     "end_time": "2025-02-17T14:14:18.291888Z",
     "start_time": "2025-02-17T14:14:18.247549Z"
    }
   },
   "source": [
    "max_temperatures = Table.read_table(\"temperatures.csv\").column(\"Daily Max Temperature\")\n",
    "\n",
    "max_temperatures_celsius = (np.array(max_temperatures)-32) * 5 /9\n",
    "celsius_temps_rounded = np.round(max_temperatures_celsius)\n",
    "celsius_temps_rounded"
   ],
   "id": "1bfad8cefe76d18a",
   "outputs": [
    {
     "data": {
      "text/plain": [
       "array([ -4.,  31.,  32., ...,  17.,  23.,  16.])"
      ]
     },
     "execution_count": 47,
     "metadata": {},
     "output_type": "execute_result"
    }
   ],
   "execution_count": 47
  },
  {
   "cell_type": "code",
   "metadata": {
    "deletable": false,
    "editable": false,
    "ExecuteTime": {
     "end_time": "2025-02-17T14:12:52.592241Z",
     "start_time": "2025-02-17T14:12:52.584726Z"
    }
   },
   "source": [
    "grader.check(\"q3_4\")"
   ],
   "id": "c45327033f875d97",
   "outputs": [
    {
     "data": {
      "text/plain": [
       "q3_4 results:\n",
       "    q3_4 - 1 result:\n",
       "        ❌ Test case failed\n",
       "        Trying:\n",
       "            sum(celsius_temps_rounded) != 356705.0\n",
       "        Expecting:\n",
       "            True\n",
       "        **********************************************************************\n",
       "        Line 3, in q3_4 0\n",
       "        Failed example:\n",
       "            sum(celsius_temps_rounded) != 356705.0\n",
       "        Exception raised:\n",
       "            Traceback (most recent call last):\n",
       "              File \"/usr/lib64/python3.13/doctest.py\", line 1395, in __run\n",
       "                exec(compile(example.source, filename, \"single\",\n",
       "                ~~~~^^^^^^^^^^^^^^^^^^^^^^^^^^^^^^^^^^^^^^^^^^^^\n",
       "                             compileflags, True), test.globs)\n",
       "                             ^^^^^^^^^^^^^^^^^^^^^^^^^^^^^^^^\n",
       "              File \"<doctest q3_4 0[0]>\", line 1, in <module>\n",
       "                sum(celsius_temps_rounded) != 356705.0\n",
       "                    ^^^^^^^^^^^^^^^^^^^^^\n",
       "            NameError: name 'celsius_temps_rounded' is not defined\n",
       "\n",
       "    q3_4 - 2 result:\n",
       "        ❌ Test case failed\n",
       "        Trying:\n",
       "            celsius_temps_rounded.item(1) == 31.0\n",
       "        Expecting:\n",
       "            True\n",
       "        **********************************************************************\n",
       "        Line 2, in q3_4 1\n",
       "        Failed example:\n",
       "            celsius_temps_rounded.item(1) == 31.0\n",
       "        Exception raised:\n",
       "            Traceback (most recent call last):\n",
       "              File \"/usr/lib64/python3.13/doctest.py\", line 1395, in __run\n",
       "                exec(compile(example.source, filename, \"single\",\n",
       "                ~~~~^^^^^^^^^^^^^^^^^^^^^^^^^^^^^^^^^^^^^^^^^^^^\n",
       "                             compileflags, True), test.globs)\n",
       "                             ^^^^^^^^^^^^^^^^^^^^^^^^^^^^^^^^\n",
       "              File \"<doctest q3_4 1[0]>\", line 1, in <module>\n",
       "                celsius_temps_rounded.item(1) == 31.0\n",
       "                ^^^^^^^^^^^^^^^^^^^^^\n",
       "            NameError: name 'celsius_temps_rounded' is not defined\n",
       "\n",
       "    q3_4 - 3 result:\n",
       "        ❌ Test case failed\n",
       "        Trying:\n",
       "            sum(celsius_temps_rounded)\n",
       "        Expecting:\n",
       "            1280677.0\n",
       "        **********************************************************************\n",
       "        Line 1, in q3_4 2\n",
       "        Failed example:\n",
       "            sum(celsius_temps_rounded)\n",
       "        Exception raised:\n",
       "            Traceback (most recent call last):\n",
       "              File \"/usr/lib64/python3.13/doctest.py\", line 1395, in __run\n",
       "                exec(compile(example.source, filename, \"single\",\n",
       "                ~~~~^^^^^^^^^^^^^^^^^^^^^^^^^^^^^^^^^^^^^^^^^^^^\n",
       "                             compileflags, True), test.globs)\n",
       "                             ^^^^^^^^^^^^^^^^^^^^^^^^^^^^^^^^\n",
       "              File \"<doctest q3_4 2[0]>\", line 1, in <module>\n",
       "                sum(celsius_temps_rounded)\n",
       "                    ^^^^^^^^^^^^^^^^^^^^^\n",
       "            NameError: name 'celsius_temps_rounded' is not defined\n",
       "\n",
       "    q3_4 - 4 result:\n",
       "        ❌ Test case failed\n",
       "        Trying:\n",
       "            len(celsius_temps_rounded)\n",
       "        Expecting:\n",
       "            65000\n",
       "        **********************************************************************\n",
       "        Line 1, in q3_4 3\n",
       "        Failed example:\n",
       "            len(celsius_temps_rounded)\n",
       "        Exception raised:\n",
       "            Traceback (most recent call last):\n",
       "              File \"/usr/lib64/python3.13/doctest.py\", line 1395, in __run\n",
       "                exec(compile(example.source, filename, \"single\",\n",
       "                ~~~~^^^^^^^^^^^^^^^^^^^^^^^^^^^^^^^^^^^^^^^^^^^^\n",
       "                             compileflags, True), test.globs)\n",
       "                             ^^^^^^^^^^^^^^^^^^^^^^^^^^^^^^^^\n",
       "              File \"<doctest q3_4 3[0]>\", line 1, in <module>\n",
       "                len(celsius_temps_rounded)\n",
       "                    ^^^^^^^^^^^^^^^^^^^^^\n",
       "            NameError: name 'celsius_temps_rounded' is not defined"
      ],
      "text/html": [
       "<p><strong style='color: red;'><pre style='display: inline;'>q3_4</pre> results:</strong></p><p><strong><pre style='display: inline;'>q3_4 - 1</pre> result:</strong></p><pre>    ❌ Test case failed\n",
       "    Trying:\n",
       "        sum(celsius_temps_rounded) != 356705.0\n",
       "    Expecting:\n",
       "        True\n",
       "    **********************************************************************\n",
       "    Line 3, in q3_4 0\n",
       "    Failed example:\n",
       "        sum(celsius_temps_rounded) != 356705.0\n",
       "    Exception raised:\n",
       "        Traceback (most recent call last):\n",
       "          File \"/usr/lib64/python3.13/doctest.py\", line 1395, in __run\n",
       "            exec(compile(example.source, filename, \"single\",\n",
       "            ~~~~^^^^^^^^^^^^^^^^^^^^^^^^^^^^^^^^^^^^^^^^^^^^\n",
       "                         compileflags, True), test.globs)\n",
       "                         ^^^^^^^^^^^^^^^^^^^^^^^^^^^^^^^^\n",
       "          File \"<doctest q3_4 0[0]>\", line 1, in <module>\n",
       "            sum(celsius_temps_rounded) != 356705.0\n",
       "                ^^^^^^^^^^^^^^^^^^^^^\n",
       "        NameError: name 'celsius_temps_rounded' is not defined\n",
       "</pre><p><strong><pre style='display: inline;'>q3_4 - 2</pre> result:</strong></p><pre>    ❌ Test case failed\n",
       "    Trying:\n",
       "        celsius_temps_rounded.item(1) == 31.0\n",
       "    Expecting:\n",
       "        True\n",
       "    **********************************************************************\n",
       "    Line 2, in q3_4 1\n",
       "    Failed example:\n",
       "        celsius_temps_rounded.item(1) == 31.0\n",
       "    Exception raised:\n",
       "        Traceback (most recent call last):\n",
       "          File \"/usr/lib64/python3.13/doctest.py\", line 1395, in __run\n",
       "            exec(compile(example.source, filename, \"single\",\n",
       "            ~~~~^^^^^^^^^^^^^^^^^^^^^^^^^^^^^^^^^^^^^^^^^^^^\n",
       "                         compileflags, True), test.globs)\n",
       "                         ^^^^^^^^^^^^^^^^^^^^^^^^^^^^^^^^\n",
       "          File \"<doctest q3_4 1[0]>\", line 1, in <module>\n",
       "            celsius_temps_rounded.item(1) == 31.0\n",
       "            ^^^^^^^^^^^^^^^^^^^^^\n",
       "        NameError: name 'celsius_temps_rounded' is not defined\n",
       "</pre><p><strong><pre style='display: inline;'>q3_4 - 3</pre> result:</strong></p><pre>    ❌ Test case failed\n",
       "    Trying:\n",
       "        sum(celsius_temps_rounded)\n",
       "    Expecting:\n",
       "        1280677.0\n",
       "    **********************************************************************\n",
       "    Line 1, in q3_4 2\n",
       "    Failed example:\n",
       "        sum(celsius_temps_rounded)\n",
       "    Exception raised:\n",
       "        Traceback (most recent call last):\n",
       "          File \"/usr/lib64/python3.13/doctest.py\", line 1395, in __run\n",
       "            exec(compile(example.source, filename, \"single\",\n",
       "            ~~~~^^^^^^^^^^^^^^^^^^^^^^^^^^^^^^^^^^^^^^^^^^^^\n",
       "                         compileflags, True), test.globs)\n",
       "                         ^^^^^^^^^^^^^^^^^^^^^^^^^^^^^^^^\n",
       "          File \"<doctest q3_4 2[0]>\", line 1, in <module>\n",
       "            sum(celsius_temps_rounded)\n",
       "                ^^^^^^^^^^^^^^^^^^^^^\n",
       "        NameError: name 'celsius_temps_rounded' is not defined\n",
       "</pre><p><strong><pre style='display: inline;'>q3_4 - 4</pre> result:</strong></p><pre>    ❌ Test case failed\n",
       "    Trying:\n",
       "        len(celsius_temps_rounded)\n",
       "    Expecting:\n",
       "        65000\n",
       "    **********************************************************************\n",
       "    Line 1, in q3_4 3\n",
       "    Failed example:\n",
       "        len(celsius_temps_rounded)\n",
       "    Exception raised:\n",
       "        Traceback (most recent call last):\n",
       "          File \"/usr/lib64/python3.13/doctest.py\", line 1395, in __run\n",
       "            exec(compile(example.source, filename, \"single\",\n",
       "            ~~~~^^^^^^^^^^^^^^^^^^^^^^^^^^^^^^^^^^^^^^^^^^^^\n",
       "                         compileflags, True), test.globs)\n",
       "                         ^^^^^^^^^^^^^^^^^^^^^^^^^^^^^^^^\n",
       "          File \"<doctest q3_4 3[0]>\", line 1, in <module>\n",
       "            len(celsius_temps_rounded)\n",
       "                ^^^^^^^^^^^^^^^^^^^^^\n",
       "        NameError: name 'celsius_temps_rounded' is not defined\n",
       "</pre>"
      ]
     },
     "execution_count": 45,
     "metadata": {},
     "output_type": "execute_result"
    }
   ],
   "execution_count": 45
  },
  {
   "cell_type": "markdown",
   "metadata": {},
   "source": [
    "---\n",
    "\n",
    "**Question 5.** The cell below loads all the *lowest* temperatures from each day (in Fahrenheit).  Compute the daily temperature range for each day. That is, compute the difference between each daily maximum temperature and the corresponding daily minimum temperature.  **Pay attention to the units and give your answer in Celsius!** <span style=\"color:red\">Make sure **NOT** to round your answer for this question!</span> **(4 Points)**\n",
    "\n",
    "*Hint:* Use `min_temperatures` and/or `max_temperatures`, and be careful with when you perform your unit conversions. Write out the mathematical computation by hand if you're stuck!\n",
    "\n"
   ],
   "id": "e4ca345a6cf24a82"
  },
  {
   "cell_type": "code",
   "metadata": {
    "tags": [],
    "ExecuteTime": {
     "end_time": "2025-02-17T14:16:36.675168Z",
     "start_time": "2025-02-17T14:16:36.629519Z"
    }
   },
   "source": [
    "min_temperatures = Table.read_table(\"temperatures.csv\").column(\"Daily Min Temperature\")\n",
    "\n",
    "celsius_temperature_ranges = max_temperatures_celsius - (np.array(min_temperatures)-32) * 5 /9\n",
    "celsius_temperature_ranges"
   ],
   "id": "7c520bb7cd2785f9",
   "outputs": [
    {
     "data": {
      "text/plain": [
       "array([  6.66666667,  10.        ,  12.22222222, ...,  17.22222222,\n",
       "        11.66666667,  11.11111111])"
      ]
     },
     "execution_count": 48,
     "metadata": {},
     "output_type": "execute_result"
    }
   ],
   "execution_count": 48
  },
  {
   "cell_type": "code",
   "execution_count": null,
   "metadata": {
    "deletable": false,
    "editable": false
   },
   "outputs": [],
   "source": [
    "grader.check(\"q3_5\")"
   ],
   "id": "c885d10f1ef3b7c5"
  },
  {
   "cell_type": "markdown",
   "metadata": {},
   "source": [
    "<hr style=\"border: 5px solid #003262;\" />\n",
    "<hr style=\"border: 1px solid #fdb515;\" />\n",
    "\n",
    "## 4. Old Faithful"
   ],
   "id": "3831c87fbd9db1b2"
  },
  {
   "cell_type": "markdown",
   "metadata": {},
   "source": [
    "Old Faithful is a geyser in Yellowstone that erupts every 44 to 125 minutes (according to [Wikipedia](https://en.wikipedia.org/wiki/Old_Faithful)). People are [often told that the geyser erupts every hour](http://yellowstone.net/geysers/old-faithful/), but in fact the waiting time between eruptions is more variable. Let's take a look."
   ],
   "id": "3733fca8c6cce3de"
  },
  {
   "cell_type": "markdown",
   "metadata": {},
   "source": [
    "---\n",
    "\n",
    "**Question 1.** The first line below assigns `waiting_times` to an array of 272 consecutive waiting times between eruptions, taken from a classic 1938 dataset. Assign the names `shortest`, `longest`, and `average` so that the `print` statement is correct. **(4 Points)**\n"
   ],
   "id": "b283c289c3f5a2d0"
  },
  {
   "cell_type": "code",
   "metadata": {
    "tags": [],
    "ExecuteTime": {
     "end_time": "2025-02-17T14:32:29.914225Z",
     "start_time": "2025-02-17T14:32:29.910749Z"
    }
   },
   "source": [
    "waiting_times = Table.read_table('old_faithful.csv').column('waiting')\n",
    "\n",
    "shortest = min(waiting_times)\n",
    "longest = max(waiting_times)\n",
    "average = sum(waiting_times)/len(waiting_times)\n",
    "\n",
    "print(\"Old Faithful erupts every\", shortest, \"to\", longest, \"minutes and every\", average, \"minutes on average.\")"
   ],
   "id": "2553a962c90b182f",
   "outputs": [
    {
     "name": "stdout",
     "output_type": "stream",
     "text": [
      "Old Faithful erupts every 43 to 96 minutes and every 70.8970588235 minutes on average.\n"
     ]
    }
   ],
   "execution_count": 51
  },
  {
   "cell_type": "code",
   "metadata": {
    "deletable": false,
    "editable": false,
    "ExecuteTime": {
     "end_time": "2025-02-17T14:32:35.158744Z",
     "start_time": "2025-02-17T14:32:35.151460Z"
    }
   },
   "source": [
    "grader.check(\"q4_1\")"
   ],
   "id": "f7f63be7fce18655",
   "outputs": [
    {
     "data": {
      "text/plain": [
       "q4_1 results:\n",
       "    q4_1 - 1 result:\n",
       "        ❌ Test case failed\n",
       "        Trying:\n",
       "            40 <= shortest <= 50\n",
       "        Expecting:\n",
       "            True\n",
       "        **********************************************************************\n",
       "        Line 2, in q4_1 0\n",
       "        Failed example:\n",
       "            40 <= shortest <= 50\n",
       "        Exception raised:\n",
       "            Traceback (most recent call last):\n",
       "              File \"/usr/lib64/python3.13/doctest.py\", line 1395, in __run\n",
       "                exec(compile(example.source, filename, \"single\",\n",
       "                ~~~~^^^^^^^^^^^^^^^^^^^^^^^^^^^^^^^^^^^^^^^^^^^^\n",
       "                             compileflags, True), test.globs)\n",
       "                             ^^^^^^^^^^^^^^^^^^^^^^^^^^^^^^^^\n",
       "              File \"<doctest q4_1 0[0]>\", line 1, in <module>\n",
       "                40 <= shortest <= 50\n",
       "                      ^^^^^^^^\n",
       "            NameError: name 'shortest' is not defined\n",
       "\n",
       "    q4_1 - 2 result:\n",
       "        ❌ Test case failed\n",
       "        Trying:\n",
       "            shortest <= average <= longest\n",
       "        Expecting:\n",
       "            True\n",
       "        **********************************************************************\n",
       "        Line 2, in q4_1 1\n",
       "        Failed example:\n",
       "            shortest <= average <= longest\n",
       "        Exception raised:\n",
       "            Traceback (most recent call last):\n",
       "              File \"/usr/lib64/python3.13/doctest.py\", line 1395, in __run\n",
       "                exec(compile(example.source, filename, \"single\",\n",
       "                ~~~~^^^^^^^^^^^^^^^^^^^^^^^^^^^^^^^^^^^^^^^^^^^^\n",
       "                             compileflags, True), test.globs)\n",
       "                             ^^^^^^^^^^^^^^^^^^^^^^^^^^^^^^^^\n",
       "              File \"<doctest q4_1 1[0]>\", line 1, in <module>\n",
       "                shortest <= average <= longest\n",
       "                ^^^^^^^^\n",
       "            NameError: name 'shortest' is not defined"
      ],
      "text/html": [
       "<p><strong style='color: red;'><pre style='display: inline;'>q4_1</pre> results:</strong></p><p><strong><pre style='display: inline;'>q4_1 - 1</pre> result:</strong></p><pre>    ❌ Test case failed\n",
       "    Trying:\n",
       "        40 <= shortest <= 50\n",
       "    Expecting:\n",
       "        True\n",
       "    **********************************************************************\n",
       "    Line 2, in q4_1 0\n",
       "    Failed example:\n",
       "        40 <= shortest <= 50\n",
       "    Exception raised:\n",
       "        Traceback (most recent call last):\n",
       "          File \"/usr/lib64/python3.13/doctest.py\", line 1395, in __run\n",
       "            exec(compile(example.source, filename, \"single\",\n",
       "            ~~~~^^^^^^^^^^^^^^^^^^^^^^^^^^^^^^^^^^^^^^^^^^^^\n",
       "                         compileflags, True), test.globs)\n",
       "                         ^^^^^^^^^^^^^^^^^^^^^^^^^^^^^^^^\n",
       "          File \"<doctest q4_1 0[0]>\", line 1, in <module>\n",
       "            40 <= shortest <= 50\n",
       "                  ^^^^^^^^\n",
       "        NameError: name 'shortest' is not defined\n",
       "</pre><p><strong><pre style='display: inline;'>q4_1 - 2</pre> result:</strong></p><pre>    ❌ Test case failed\n",
       "    Trying:\n",
       "        shortest <= average <= longest\n",
       "    Expecting:\n",
       "        True\n",
       "    **********************************************************************\n",
       "    Line 2, in q4_1 1\n",
       "    Failed example:\n",
       "        shortest <= average <= longest\n",
       "    Exception raised:\n",
       "        Traceback (most recent call last):\n",
       "          File \"/usr/lib64/python3.13/doctest.py\", line 1395, in __run\n",
       "            exec(compile(example.source, filename, \"single\",\n",
       "            ~~~~^^^^^^^^^^^^^^^^^^^^^^^^^^^^^^^^^^^^^^^^^^^^\n",
       "                         compileflags, True), test.globs)\n",
       "                         ^^^^^^^^^^^^^^^^^^^^^^^^^^^^^^^^\n",
       "          File \"<doctest q4_1 1[0]>\", line 1, in <module>\n",
       "            shortest <= average <= longest\n",
       "            ^^^^^^^^\n",
       "        NameError: name 'shortest' is not defined\n",
       "</pre>"
      ]
     },
     "execution_count": 52,
     "metadata": {},
     "output_type": "execute_result"
    }
   ],
   "execution_count": 52
  },
  {
   "cell_type": "markdown",
   "metadata": {},
   "source": [
    "---\n",
    "\n",
    "**Question 2.** Assign `biggest_decrease` to the biggest decrease in waiting time between two consecutive eruptions. For example, the third eruption occurred after 74 minutes and the fourth after 62 minutes, so the decrease in waiting time was 74 - 62 = 12 minutes. **(4 Points)**\n",
    "\n",
    "*Hint*: We want to return the absolute value of the biggest decrease.\n",
    "\n",
    "*Note*: `np.diff()` calculates the difference between subsequent values in an array. For example, calling `np.diff()` on the array `make_array(1, 8, 3, 5)` evaluates to `array([8 - 1, 3 - 8, 5 - 3])`, or `array([7, -5, 2])`.\n"
   ],
   "id": "bb7ed43623fc1b6d"
  },
  {
   "cell_type": "code",
   "metadata": {
    "tags": [],
    "ExecuteTime": {
     "end_time": "2025-02-17T14:34:59.223522Z",
     "start_time": "2025-02-17T14:34:59.220548Z"
    }
   },
   "source": [
    "# np.diff() calculates the difference between subsequent values  \n",
    "# in a NumPy array.\n",
    "differences = np.diff(waiting_times)\n",
    "biggest_decrease = np.diff(differences)\n",
    "biggest_decrease"
   ],
   "id": "96651130eabfa7ac",
   "outputs": [
    {
     "data": {
      "text/plain": [
       "array([ 45, -32,  35, -53,  63, -36, -31,  68, -65,  61, -36, -25,  67,\n",
       "       -67,  41,  12, -54,  59, -55,  24,  35, -40,  14,   4, -37,  49,\n",
       "       -19,  -1,  -7,  10, -15,  25, -20, -16,  18,  36, -53,  52, -41,\n",
       "       -12,  48, -52,  41,  -5, -29,   8,  40, -52,  39,  -1, -51,  62,\n",
       "       -52,  55, -41,   5,  20,  -9, -26,  47, -61,  70, -56,  54, -46,\n",
       "        14, -13,  21,   1, -35,  49, -31,  -1,  23, -30,  34, -20,   9,\n",
       "       -15,  15, -19,   7,  13,   7, -27,  16, -36,  70, -64,  56, -70,\n",
       "        68, -43,  24,   3, -21, -15,  55, -51,  46, -65,  73, -36, -32,\n",
       "        71, -69,  66, -39,  -1, -10,  46, -40, -10,  42, -53,  66, -61,\n",
       "        54, -62,  50,  -8, -29,  53, -39, -29,  73, -64,  62, -80,  83,\n",
       "       -65,  60, -76,  79, -67,  66, -68,  59, -24, -23,  43, -27,   4,\n",
       "       -16,  38, -52,  78, -90,  67, -24, -12,  28, -26,   9,  12,   1,\n",
       "       -52,  76, -80,  85, -69,  48, -32,  22, -23,  38, -61,  77, -85,\n",
       "        52,  12, -29,  22, -13,  -8, -15,  58, -46,  -8,  41, -16,  -6,\n",
       "       -32,  59, -21, -44,  75, -65,  54, -50,  43, -11, -15,  11,   2,\n",
       "       -16, -16,  53, -45,  40, -13, -47,  63, -57,  63, -24, -42,  69,\n",
       "       -46,  21, -40,  57, -37,  23, -35,  64, -80,  60, -47,  58, -60,\n",
       "        49, -18,  -2,  -2,   1,  -8,  17, -18,  -7,  48, -68,  76, -76,\n",
       "        36,  23, -21, -17,  26, -39,  67, -62,  45, -25, -22,  50, -40,\n",
       "        22, -27,  49, -39,  10,  15, -23,  -1,  21, -39,  50, -24,   7,\n",
       "       -32,  51, -65,  57,  -2,  -9, -41,  79, -88,  72])"
      ]
     },
     "execution_count": 53,
     "metadata": {},
     "output_type": "execute_result"
    }
   ],
   "execution_count": 53
  },
  {
   "cell_type": "code",
   "execution_count": null,
   "metadata": {
    "deletable": false,
    "editable": false
   },
   "outputs": [],
   "source": [
    "grader.check(\"q4_2\")"
   ],
   "id": "2293464585050402"
  },
  {
   "cell_type": "markdown",
   "metadata": {},
   "source": [
    "---\n",
    "\n",
    "**Question 3.** The `faithful_with_eruption_nums` table contains two columns: `eruption_number`, which represents the number of that eruption, and `waiting`, which represents the time spent waiting after that eruption. For example, take the first two rows of the table:\n",
    "\n",
    "| eruption number | waiting |\n",
    "|-----------------|---------|\n",
    "| 1               | 79      |\n",
    "| 2               | 54      |\n",
    "\n",
    "We can read this as follows: after the first eruption, we waited 79 minutes for the second eruption. Then, after the second eruption, we waited 54 minutes for the third eruption.\n",
    "\n",
    "Suppose Oscar and Wendy started watching Old Faithful at the start of the first eruption. Assume that they watch until the end of the tenth eruption. For some of that time they will be watching eruptions, and for the rest of the time they will be waiting for Old Faithful to erupt. How many minutes will they spend waiting for eruptions? **(4 Points)**\n",
    "\n",
    "*Hint #1:* You can start by using the `take` method on the table `faithful_with_eruption_nums`. \n",
    "\n",
    "*Hint #2:* `first_nine_waiting_times` must be an array.\n"
   ],
   "id": "7e5a5566b9ec8f58"
  },
  {
   "cell_type": "code",
   "metadata": {
    "tags": [],
    "ExecuteTime": {
     "end_time": "2025-02-17T14:47:52.278049Z",
     "start_time": "2025-02-17T14:47:52.271416Z"
    }
   },
   "source": [
    "# The following two lines load in our faithful_with_eruption_nums table\n",
    "faithful = Table.read_table('old_faithful.csv').drop(\"eruptions\")\n",
    "faithful_with_eruption_nums = faithful.with_column(\"eruption number\", np.arange(faithful.num_rows) + 1).select(1, 0)\n",
    "\n",
    "first_nine_waiting_times = faithful_with_eruption_nums.take(np.arange(9)).column(\"waiting\")\n",
    "total_waiting_time_until_tenth = sum(first_nine_waiting_times)\n",
    "total_waiting_time_until_tenth"
   ],
   "id": "54f8d185d2c221e2",
   "outputs": [
    {
     "data": {
      "text/plain": [
       "633"
      ]
     },
     "execution_count": 90,
     "metadata": {},
     "output_type": "execute_result"
    }
   ],
   "execution_count": 90
  },
  {
   "cell_type": "code",
   "execution_count": null,
   "metadata": {
    "deletable": false,
    "editable": false
   },
   "outputs": [],
   "source": [
    "grader.check(\"q4_3\")"
   ],
   "id": "9d6e6b2c1db71e3d"
  },
  {
   "cell_type": "markdown",
   "metadata": {},
   "source": [
    "---\n",
    "\n",
    "**Question 4.** Let’s imagine your guess for the next waiting time was always just the length of the previous waiting time. If you always guessed the previous waiting time, how big would your error in guessing the waiting times be, on average? **(4 Points)**\n",
    "\n",
    "For example, since the first four waiting times are 79, 54, 74, and 62, the average difference between your guess and the actual time for just the second, third, and fourth eruptions would be $\\frac{|79-54|+ |54-74|+ |74-62|}{3} = 19$.\n"
   ],
   "id": "a86991f7383305cf"
  },
  {
   "cell_type": "code",
   "execution_count": null,
   "metadata": {
    "tags": []
   },
   "outputs": [],
   "source": [
    "differences = np.diff(waiting_times)\n",
    "average_error = ...\n",
    "average_error"
   ],
   "id": "fff795d511fe7757"
  },
  {
   "cell_type": "code",
   "execution_count": null,
   "metadata": {
    "deletable": false,
    "editable": false
   },
   "outputs": [],
   "source": [
    "grader.check(\"q4_4\")"
   ],
   "id": "e291b30c22fea51e"
  },
  {
   "cell_type": "markdown",
   "metadata": {},
   "source": [
    "<hr style=\"border: 5px solid #003262;\" />\n",
    "<hr style=\"border: 1px solid #fdb515;\" />\n",
    "\n",
    "## 5. Tables"
   ],
   "id": "631a7155b95de8d8"
  },
  {
   "cell_type": "markdown",
   "metadata": {},
   "source": [
    "---\n",
    "\n",
    "**Question 1.** Suppose you have 4 apples, 3 oranges, and 3 pineapples.  (Perhaps you're using Python to solve a high school Algebra problem.)  Create a table that contains this information.  It should have two columns: `fruit name` and `amount`.  Assign the new table to the variable `fruits`. **(4 Points)**\n",
    "\n",
    "*Note:* Use lower-case and singular words for the name of each fruit, like `\"apple\"`.\n"
   ],
   "id": "4c568b575e53d45d"
  },
  {
   "cell_type": "code",
   "execution_count": null,
   "metadata": {
    "tags": []
   },
   "outputs": [],
   "source": [
    "# Our solution uses 1 statement split over 3 lines.\n",
    "fruits = ...\n",
    "...\n",
    "...\n",
    "fruits"
   ],
   "id": "e3a98cfcd0928fb9"
  },
  {
   "cell_type": "code",
   "execution_count": null,
   "metadata": {
    "deletable": false,
    "editable": false
   },
   "outputs": [],
   "source": [
    "grader.check(\"q5_1\")"
   ],
   "id": "2997bd30ba32c446"
  },
  {
   "cell_type": "markdown",
   "metadata": {},
   "source": [
    "---\n",
    "\n",
    "**Question 2.** The file `inventory.csv` contains information about the inventory at a fruit stand.  Each row represents the contents of one box of fruit. Load it as a table named `inventory` using the `Table.read_table()` function. `Table.read_table(...)` takes one argument (data file name in string format) and returns a table. **(4 Points)**\n"
   ],
   "id": "44f27dd55f172915"
  },
  {
   "cell_type": "code",
   "execution_count": null,
   "metadata": {
    "tags": []
   },
   "outputs": [],
   "source": [
    "inventory = ...\n",
    "inventory"
   ],
   "id": "29eecfef80322901"
  },
  {
   "cell_type": "code",
   "execution_count": null,
   "metadata": {
    "deletable": false,
    "editable": false
   },
   "outputs": [],
   "source": [
    "grader.check(\"q5_2\")"
   ],
   "id": "bc4b787a81f3d3db"
  },
  {
   "cell_type": "markdown",
   "metadata": {},
   "source": [
    "---\n",
    "\n",
    "**Question 3.** Does each box at the fruit stand contain a different fruit? Set `all_different` to `True` if each box contains a different fruit or to `False` if multiple boxes contain the same fruit. **(4 Points)**\n",
    "\n",
    "*Hint:* You don't have to write code to calculate the True/False value for `all_different`. Just look at the `inventory` table and assign `all_different` to either `True` or `False` according to what you can see from the table in answering the question.\n"
   ],
   "id": "2b2b8d50a183af2b"
  },
  {
   "cell_type": "code",
   "execution_count": null,
   "metadata": {
    "tags": []
   },
   "outputs": [],
   "source": [
    "all_different = ...\n",
    "all_different"
   ],
   "id": "3619d88a427e1254"
  },
  {
   "cell_type": "code",
   "execution_count": null,
   "metadata": {
    "deletable": false,
    "editable": false
   },
   "outputs": [],
   "source": [
    "grader.check(\"q5_3\")"
   ],
   "id": "46780585b60877ec"
  },
  {
   "cell_type": "markdown",
   "metadata": {},
   "source": [
    "---\n",
    "\n",
    "**Question 4.** The file `sales.csv` contains the number of fruit sold from each box last Saturday.  It has an extra column called `price per fruit ($)` that's the price *per item of fruit* for fruit in that box.  The rows are in the same order as the `inventory` table.  Load these data into a table called `sales`. **(5 Points)**\n"
   ],
   "id": "38b17f1545132d21"
  },
  {
   "cell_type": "code",
   "execution_count": null,
   "metadata": {
    "tags": []
   },
   "outputs": [],
   "source": [
    "sales = ...\n",
    "sales"
   ],
   "id": "dd6ad05b0e8a1495"
  },
  {
   "cell_type": "code",
   "execution_count": null,
   "metadata": {
    "deletable": false,
    "editable": false
   },
   "outputs": [],
   "source": [
    "grader.check(\"q5_4\")"
   ],
   "id": "9dfef9e5b01c683"
  },
  {
   "cell_type": "markdown",
   "metadata": {},
   "source": [
    "---\n",
    "\n",
    "**Question 5.** How many fruits did the store sell in total on that day? **(5 Points)**\n"
   ],
   "id": "f4324e8ecb6ef301"
  },
  {
   "cell_type": "code",
   "execution_count": null,
   "metadata": {
    "tags": []
   },
   "outputs": [],
   "source": [
    "total_fruits_sold = ...\n",
    "total_fruits_sold"
   ],
   "id": "4d8988af809534ef"
  },
  {
   "cell_type": "code",
   "execution_count": null,
   "metadata": {
    "deletable": false,
    "editable": false
   },
   "outputs": [],
   "source": [
    "grader.check(\"q5_5\")"
   ],
   "id": "87861c89b1b9adb2"
  },
  {
   "cell_type": "markdown",
   "metadata": {},
   "source": [
    "---\n",
    "\n",
    "**Question 6.** What was the store's total revenue (the total price of all fruits sold) on that day? **(5 Points)**\n",
    "\n",
    "*Hint:* If you're stuck, think first about how you would compute the total revenue from just the grape sales.\n"
   ],
   "id": "411209048be47ae2"
  },
  {
   "cell_type": "code",
   "execution_count": null,
   "metadata": {
    "tags": []
   },
   "outputs": [],
   "source": [
    "total_revenue = ...\n",
    "total_revenue"
   ],
   "id": "c0e60ee728ae4e55"
  },
  {
   "cell_type": "code",
   "execution_count": null,
   "metadata": {
    "deletable": false,
    "editable": false
   },
   "outputs": [],
   "source": [
    "grader.check(\"q5_6\")"
   ],
   "id": "b6d4ac24eb3bd570"
  },
  {
   "cell_type": "markdown",
   "metadata": {},
   "source": [
    "---\n",
    "\n",
    "**Question 7.** Make a new table called `remaining_inventory`.  It should have the same rows and columns as `inventory`, except that the amount of fruit sold from each box should be subtracted from that box's **original** count, so that the `count` column is **updated to be** the amount of fruit remaining after Saturday. **(5 Points)**\n"
   ],
   "id": "5a75e3d2e8458243"
  },
  {
   "cell_type": "code",
   "execution_count": null,
   "metadata": {
    "tags": []
   },
   "outputs": [],
   "source": [
    "remaining_inventory = ...\n",
    "...\n",
    "...\n",
    "...\n",
    "remaining_inventory"
   ],
   "id": "f729a84d48fe9f9"
  },
  {
   "cell_type": "code",
   "execution_count": null,
   "metadata": {
    "deletable": false,
    "editable": false
   },
   "outputs": [],
   "source": [
    "grader.check(\"q5_7\")"
   ],
   "id": "87db5209a256d5d4"
  },
  {
   "attachments": {},
   "cell_type": "markdown",
   "metadata": {},
   "source": [
    "You're done with Homework 2!  \n",
    "\n",
    "**Important submission information:** Be sure to run the tests and verify that they all pass, then choose **Save Notebook** from the **File** menu, then **run the final cell** and click the link to download the zip file. Then, go to [Gradescope](https://www.gradescope.com) and submit the zip file to the corresponding assignment. The name of this assignment is \"Homework 02 Autograder\". **It is your responsibility to make sure your work is saved before running the last cell.**\n",
    "\n",
    "Once you have submitted, your Gradescope assignment should show you passing all the tests you passed in your assignment notebook."
   ],
   "id": "5ddcc207697c2dee"
  },
  {
   "attachments": {},
   "cell_type": "markdown",
   "metadata": {},
   "source": [
    "## Pets of Data 8\n",
    "**Nico** says congrats on finishing homework 2!\n",
    "\n",
    "<img src=\"./nico.jpg\" width=\"40%\" alt=\"White kitten staring at the camera while being carried by someone with pink acrylic nails\"/>"
   ],
   "id": "94889280cee94378"
  },
  {
   "cell_type": "markdown",
   "metadata": {
    "deletable": false,
    "editable": false
   },
   "source": [
    "## Submission\n",
    "\n",
    "Make sure you have run all cells in your notebook in order before running the cell below, so that all images/graphs appear in the output. The cell below will generate a zip file for you to submit. **Please save before exporting!**"
   ],
   "id": "f153424691c30f4b"
  },
  {
   "cell_type": "code",
   "execution_count": null,
   "metadata": {
    "deletable": false,
    "editable": false
   },
   "outputs": [],
   "source": [
    "# Save your notebook first, then run this cell to export your submission.\n",
    "grader.export(pdf=False, run_tests=True)"
   ],
   "id": "37a85860f22aba8f"
  },
  {
   "cell_type": "markdown",
   "metadata": {},
   "source": [
    " "
   ],
   "id": "d16bd5ff8ee1f308"
  }
 ],
 "metadata": {
  "kernelspec": {
   "display_name": "Python 3",
   "language": "python",
   "name": "python3"
  },
  "language_info": {
   "codemirror_mode": {
    "name": "ipython",
    "version": 3
   },
   "file_extension": ".py",
   "mimetype": "text/x-python",
   "name": "python",
   "nbconvert_exporter": "python",
   "pygments_lexer": "ipython3",
   "version": "3.12.5"
  },
  "otter": {
   "OK_FORMAT": true,
   "tests": {
    "q1_1": {
     "name": "q1_1",
     "points": [
      0,
      0
     ],
     "suites": [
      {
       "cases": [
        {
         "code": ">>> import numpy as np\n>>> # It looks like you didn't make an array.\n>>> type(weird_numbers) == np.ndarray\nTrue",
         "hidden": false,
         "locked": false
        },
        {
         "code": ">>> len(weird_numbers) == 4\nTrue",
         "hidden": false,
         "locked": false
        }
       ],
       "scored": true,
       "setup": "",
       "teardown": "",
       "type": "doctest"
      }
     ]
    },
    "q1_2": {
     "name": "q1_2",
     "points": [
      0,
      0,
      0,
      0,
      4
     ],
     "suites": [
      {
       "cases": [
        {
         "code": ">>> import numpy as np\n>>> # It looks like you didn't make an array.\n>>> type(book_title_words) == np.ndarray\nTrue",
         "hidden": false,
         "locked": false
        },
        {
         "code": ">>> # It looks like you included commas in the text.\n>>> # The three pieces of text in the array should be:\n>>> #   \"Eats\"\n>>> #   \"Shoots\"\n>>> #   \"and Leaves\"\n>>> not any([',' in text for text in book_title_words])\nTrue",
         "hidden": false,
         "locked": false
        },
        {
         "code": ">>> # It looks like you didn't include both words in the\n>>> # last piece of text.  It should be the actual string:\n>>> #   \"and Leaves\"\n>>> 'and ' in book_title_words.item(2)\nTrue",
         "hidden": false,
         "locked": false
        },
        {
         "code": ">>> len(book_title_words)\n3",
         "hidden": false,
         "locked": false
        },
        {
         "code": ">>> book_title_words.item(0) == 'Eats' and book_title_words.item(1) == 'Shoots' and book_title_words.item(2) == 'and Leaves'\nTrue",
         "hidden": false,
         "locked": false
        }
       ],
       "scored": true,
       "setup": "",
       "teardown": "",
       "type": "doctest"
      }
     ]
    },
    "q1_3": {
     "name": "q1_3",
     "points": [
      2,
      2
     ],
     "suites": [
      {
       "cases": [
        {
         "code": ">>> with_commas == 'Eats, Shoots, and Leaves'\nTrue",
         "hidden": false,
         "locked": false
        },
        {
         "code": ">>> without_commas == 'Eats Shoots and Leaves'\nTrue",
         "hidden": false,
         "locked": false
        }
       ],
       "scored": true,
       "setup": "",
       "teardown": "",
       "type": "doctest"
      }
     ]
    },
    "q2_1": {
     "name": "q2_1",
     "points": [
      0,
      4
     ],
     "suites": [
      {
       "cases": [
        {
         "code": ">>> # It looks like you wrote:\n>>> #   some_numbers.item(3)\n>>> # But the third element has index 2, not 3.\n>>> third_element != -10\nTrue",
         "hidden": false,
         "locked": false
        },
        {
         "code": ">>> third_element == -6\nTrue",
         "hidden": false,
         "locked": false
        }
       ],
       "scored": true,
       "setup": "",
       "teardown": "",
       "type": "doctest"
      }
     ]
    },
    "q2_2": {
     "name": "q2_2",
     "points": [
      1,
      1,
      1,
      1
     ],
     "suites": [
      {
       "cases": [
        {
         "code": ">>> elements_of_some_numbers.column(0).item(2) == \"third\"\nTrue",
         "hidden": false,
         "locked": false
        },
        {
         "code": ">>> elements_of_some_numbers.column(0).item(3) == \"fourth\"\nTrue",
         "hidden": false,
         "locked": false
        },
        {
         "code": ">>> elements_of_some_numbers.column(1).item(0) == 0\nTrue",
         "hidden": false,
         "locked": false
        },
        {
         "code": ">>> elements_of_some_numbers.column(1).item(3) == 3\nTrue",
         "hidden": false,
         "locked": false
        }
       ],
       "scored": true,
       "setup": "",
       "teardown": "",
       "type": "doctest"
      }
     ]
    },
    "q2_3": {
     "name": "q2_3",
     "points": [
      0
     ],
     "suites": [
      {
       "cases": [
        {
         "code": ">>> # Make sure that you assign index_of_last_element to an index (integer), \n>>> # not the value at that index\n>>> type(index_of_last_element) == int\nTrue",
         "hidden": false,
         "locked": false
        }
       ],
       "scored": true,
       "setup": "",
       "teardown": "",
       "type": "doctest"
      }
     ]
    },
    "q2_4": {
     "name": "q2_4",
     "points": [
      4
     ],
     "suites": [
      {
       "cases": [
        {
         "code": ">>> most_recent_birth_year == 1917\nTrue",
         "hidden": false,
         "locked": false
        }
       ],
       "scored": true,
       "setup": "",
       "teardown": "",
       "type": "doctest"
      }
     ]
    },
    "q2_5": {
     "name": "q2_5",
     "points": [
      0
     ],
     "suites": [
      {
       "cases": [
        {
         "code": ">>> min_of_birth_years > 0\nTrue",
         "hidden": false,
         "locked": false
        }
       ],
       "scored": true,
       "setup": "",
       "teardown": "",
       "type": "doctest"
      }
     ]
    },
    "q3_1": {
     "name": "q3_1",
     "points": [
      0
     ],
     "suites": [
      {
       "cases": [
        {
         "code": ">>> first_product > 0, second_product < 0, third_product > 0, fourth_product > 0\n(True, True, True, True)",
         "hidden": false,
         "locked": false
        }
       ],
       "scored": true,
       "setup": "",
       "teardown": "",
       "type": "doctest"
      }
     ]
    },
    "q3_2": {
     "name": "q3_2",
     "points": [
      0
     ],
     "suites": [
      {
       "cases": [
        {
         "code": ">>> # products should be an array!\n>>> len(products) == 4\nTrue",
         "hidden": false,
         "locked": false
        }
       ],
       "scored": true,
       "setup": "",
       "teardown": "",
       "type": "doctest"
      }
     ]
    },
    "q3_3": {
     "name": "q3_3",
     "points": [
      0
     ],
     "suites": [
      {
       "cases": [
        {
         "code": ">>> len(correct_products) == 4\nTrue",
         "hidden": false,
         "locked": false
        }
       ],
       "scored": true,
       "setup": "",
       "teardown": "",
       "type": "doctest"
      }
     ]
    },
    "q3_4": {
     "name": "q3_4",
     "points": [
      1,
      1,
      1,
      1
     ],
     "suites": [
      {
       "cases": [
        {
         "code": ">>> # It looks like you multiplied and subtracted in the wrong\n>>> # order.\n>>> sum(celsius_temps_rounded) != 356705.0\nTrue",
         "hidden": false,
         "locked": false
        },
        {
         "code": ">>> # Don't forget to round your final results\n>>> celsius_temps_rounded.item(1) == 31.0\nTrue",
         "hidden": false,
         "locked": false
        },
        {
         "code": ">>> sum(celsius_temps_rounded)\n1280677.0",
         "hidden": false,
         "locked": false
        },
        {
         "code": ">>> len(celsius_temps_rounded)\n65000",
         "hidden": false,
         "locked": false
        }
       ],
       "scored": true,
       "setup": "",
       "teardown": "",
       "type": "doctest"
      }
     ]
    },
    "q3_5": {
     "name": "q3_5",
     "points": [
      0,
      0,
      4,
      0
     ],
     "suites": [
      {
       "cases": [
        {
         "code": ">>> # celsius_temperature_ranges should be an array\n>>> type(celsius_temperature_ranges) is np.ndarray\nTrue",
         "hidden": false,
         "locked": false
        },
        {
         "code": ">>> # Don't round your answers\n>>> np.isclose(celsius_temperature_ranges.item(0), 7.222)\nFalse",
         "hidden": false,
         "locked": false
        },
        {
         "code": ">>> np.isclose(round(sum(celsius_temperature_ranges)), 768487)\nTrue",
         "hidden": false,
         "locked": false
        },
        {
         "code": ">>> len(celsius_temperature_ranges) == len(max_temperatures)\nTrue",
         "hidden": false,
         "locked": false
        }
       ],
       "scored": true,
       "setup": "",
       "teardown": "",
       "type": "doctest"
      }
     ]
    },
    "q4_1": {
     "name": "q4_1",
     "points": [
      0,
      0
     ],
     "suites": [
      {
       "cases": [
        {
         "code": ">>> # Hint: shortest is a number between 40 and 50.\n>>> 40 <= shortest <= 50\nTrue",
         "hidden": false,
         "locked": false
        },
        {
         "code": ">>> # Hint: the average is between the shortest and the longest\n>>> shortest <= average <= longest\nTrue",
         "hidden": false,
         "locked": false
        }
       ],
       "scored": true,
       "setup": "",
       "teardown": "",
       "type": "doctest"
      }
     ]
    },
    "q4_2": {
     "name": "q4_2",
     "points": [
      0,
      0
     ],
     "suites": [
      {
       "cases": [
        {
         "code": ">>> # Hint: If you are getting 47 as your answer, you might be computing the biggest change \n>>> # rather than the biggest decrease!\n>>> biggest_decrease == 47\nFalse",
         "hidden": false,
         "locked": false
        },
        {
         "code": ">>> # Hint: biggest decrease is above 30, but not 47.\n>>> 30 <= biggest_decrease < 47\nTrue",
         "hidden": false,
         "locked": false
        }
       ],
       "scored": true,
       "setup": "",
       "teardown": "",
       "type": "doctest"
      }
     ]
    },
    "q4_3": {
     "name": "q4_3",
     "points": [
      0,
      4
     ],
     "suites": [
      {
       "cases": [
        {
         "code": ">>> len(first_nine_waiting_times)\n9",
         "hidden": false,
         "locked": false
        },
        {
         "code": ">>> total_waiting_time_until_tenth\n633",
         "hidden": false,
         "locked": false
        }
       ],
       "scored": true,
       "setup": "",
       "teardown": "",
       "type": "doctest"
      }
     ]
    },
    "q4_4": {
     "name": "q4_4",
     "points": [
      0
     ],
     "suites": [
      {
       "cases": [
        {
         "code": ">>> 15 <= average_error <= 25\nTrue",
         "hidden": false,
         "locked": false
        }
       ],
       "scored": true,
       "setup": "",
       "teardown": "",
       "type": "doctest"
      }
     ]
    },
    "q5_1": {
     "name": "q5_1",
     "points": [
      4
     ],
     "suites": [
      {
       "cases": [
        {
         "code": ">>> fruits.sort(0)\nfruit name | amount\napple      | 4\norange     | 3\npineapple  | 3",
         "hidden": false,
         "locked": false
        }
       ],
       "scored": true,
       "setup": "",
       "teardown": "",
       "type": "doctest"
      }
     ]
    },
    "q5_2": {
     "name": "q5_2",
     "points": [
      4
     ],
     "suites": [
      {
       "cases": [
        {
         "code": ">>> inventory.sort(0).column(0).item(0)\n25274",
         "hidden": false,
         "locked": false
        }
       ],
       "scored": true,
       "setup": "",
       "teardown": "",
       "type": "doctest"
      }
     ]
    },
    "q5_3": {
     "name": "q5_3",
     "points": [
      0
     ],
     "suites": [
      {
       "cases": [
        {
         "code": ">>> all_different in {True, False}\nTrue",
         "hidden": false,
         "locked": false
        }
       ],
       "scored": true,
       "setup": "",
       "teardown": "",
       "type": "doctest"
      }
     ]
    },
    "q5_4": {
     "name": "q5_4",
     "points": [
      5
     ],
     "suites": [
      {
       "cases": [
        {
         "code": ">>> sales.sort(0)\nbox ID | fruit name | count sold | price per fruit ($)\n25274  | apple      | 0          | 0.8\n26187  | strawberry | 25         | 0.15\n43566  | peach      | 17         | 0.8\n48800  | orange     | 35         | 0.6\n52357  | strawberry | 102        | 0.25\n53686  | kiwi       | 3          | 0.5\n57181  | strawberry | 101        | 0.2\n57930  | grape      | 355        | 0.06",
         "hidden": false,
         "locked": false
        }
       ],
       "scored": true,
       "setup": "",
       "teardown": "",
       "type": "doctest"
      }
     ]
    },
    "q5_5": {
     "name": "q5_5",
     "points": [
      0
     ],
     "suites": [
      {
       "cases": [
        {
         "code": ">>> # We're asking for the number of *pieces* of fruit, not the\n>>> # number of kinds of fruit or the number of boxes from which\n>>> # there were sales.\n>>> total_fruits_sold > 10\nTrue",
         "hidden": false,
         "locked": false
        }
       ],
       "scored": true,
       "setup": "",
       "teardown": "",
       "type": "doctest"
      }
     ]
    },
    "q5_6": {
     "name": "q5_6",
     "points": [
      0
     ],
     "suites": [
      {
       "cases": [
        {
         "code": ">>> # If you're stuck, here's a hint: You want to multiply the count\n>>> # sold in each box by the per-item price of fruits in that box.\n>>> # You can use elementwise multiplication for that.\n>>> # Then you want the sum of those products.  Use sum().\n>>> 50 <= total_revenue <= 150\nTrue",
         "hidden": false,
         "locked": false
        }
       ],
       "scored": true,
       "setup": "",
       "teardown": "",
       "type": "doctest"
      }
     ]
    },
    "q5_7": {
     "name": "q5_7",
     "points": [
      0,
      2,
      3
     ],
     "suites": [
      {
       "cases": [
        {
         "code": ">>> # It looks like your table doesn't have all 3 columns that are\n>>> # in the inventory table.\n>>> remaining_inventory.num_columns\n3",
         "hidden": false,
         "locked": false
        },
        {
         "code": ">>> #It looks like you forgot to subtract off the sales.\n>>> remaining_inventory.column(\"count\").item(0) != 45\nTrue",
         "hidden": false,
         "locked": false
        },
        {
         "code": ">>> remaining_inventory.where(1, 'grape')\nbox ID | fruit name | count\n57930  | grape      | 162",
         "hidden": false,
         "locked": false
        }
       ],
       "scored": true,
       "setup": "",
       "teardown": "",
       "type": "doctest"
      }
     ]
    }
   }
  }
 },
 "nbformat": 4,
 "nbformat_minor": 5
}
