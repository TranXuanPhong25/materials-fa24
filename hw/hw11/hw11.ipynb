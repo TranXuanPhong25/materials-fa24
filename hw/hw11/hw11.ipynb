{
 "cells": [
  {
   "cell_type": "code",
   "execution_count": 1,
   "id": "ac38f9dc",
   "metadata": {
    "ExecuteTime": {
     "end_time": "2025-05-03T05:41:05.098861Z",
     "start_time": "2025-05-03T05:41:04.094983Z"
    },
    "deletable": false,
    "editable": false
   },
   "outputs": [],
   "source": [
    "# Initialize Otter\n",
    "import otter\n",
    "grader = otter.Notebook(\"hw11.ipynb\")"
   ]
  },
  {
   "cell_type": "markdown",
   "id": "8c534309",
   "metadata": {},
   "source": [
    "<img src=\"data8logo.png\" alt=\"Data 8 Logo\" style=\"width: 15%; float: right; padding: 1%; margin-right: 2%;\"/>\n",
    "\n",
    "# Homework 11: Regression Inference\n",
    "\n",
    "**Helpful Resource:**\n",
    "\n",
    "- [Python Reference](http://data8.org/fa24/reference/): Cheat sheet of helpful array & table methods used in Data 8!\n",
    "\n",
    "**Recommended Reading**: \n",
    "\n",
    "* [Using Confidence Intervals](https://inferentialthinking.com/chapters/13/4/Using_Confidence_Intervals.html)\n",
    "* [The Regression Line](https://inferentialthinking.com/chapters/15/2/Regression_Line.html#the-regression-line-in-standard-units)\n",
    "* [Inference for Regression](https://www.inferentialthinking.com/chapters/16/Inference_for_Regression.html)"
   ]
  },
  {
   "attachments": {},
   "cell_type": "markdown",
   "id": "bcd1f6c2",
   "metadata": {},
   "source": [
    "Please complete this notebook by filling in the cells provided. **Before you begin, execute the cell below to setup the notebook by importing some helpful libraries.** Each time you start your server, you will need to execute this cell again.\n",
    "\n",
    "For all problems that you must write explanations and sentences for, you **must** provide your answer in the designated space. Moreover, throughout this homework and all future ones, **please be sure to not re-assign variables throughout the notebook!** For example, if you use `max_temperature` in your answer to one question, do not reassign it later on. Otherwise, you will fail tests that you thought you were passing previously!\n",
    "\n",
    "**Deadline:**\n",
    "\n",
    "This assignment is **due Wednesday, 11/20 at 5:00pm PT**. Submissions after this time will be accepted for 24 hours and will incur a 20% penalty. Any submissions later than this 24 hour period will not be accepted unless an extension has been granted as per the [policies](http://data8.org/fa24/policies/) page. Turn it in by Tuesday, 11/19 at 5:00pm PT for 5 extra credit points.\n",
    "\n",
    "<span style=\"color:red\">**Note: This homework has hidden tests on it. That means even though tests may say 100% passed, it doesn't mean your final grade will be 100%. We will be running more tests for correctness once everyone turns in the homework.**</span>\n",
    "\n",
    "Directly sharing answers is not okay, but discussing problems with the course staff or with other students is encouraged. Refer to the [policies](http://data8.org/fa24/policies/#learning-cooperatively) page to learn more about how to learn cooperatively.\n",
    "\n",
    "You should start early so that you have time to get help if you're stuck. Office hours are held Monday through Friday in [Warren Hall](https://www.berkeley.edu/map?warren) 101B. The office hours schedule appears [here](http://data8.org/fa24/schedule/)."
   ]
  },
  {
   "cell_type": "markdown",
   "id": "17201275",
   "metadata": {},
   "source": [
    "---\n",
    "\n",
    "The point breakdown for this assignment is given in the table below:\n",
    "| Category | Points |\n",
    "| --- | --- |\n",
    "| Autograder (Coding questions) | 54 |\n",
    "| Written (1.1, 1.4, 1.6, 1.7, 2.4) | 46 |\n",
    "| **Total** | 100 |"
   ]
  },
  {
   "cell_type": "code",
   "execution_count": 2,
   "id": "68d739c4",
   "metadata": {
    "ExecuteTime": {
     "end_time": "2025-05-03T05:41:06.486876Z",
     "start_time": "2025-05-03T05:41:05.108518Z"
    }
   },
   "outputs": [],
   "source": [
    "# Don't change this cell; just run it. \n",
    "\n",
    "import numpy as np\n",
    "from datascience import *\n",
    "\n",
    "# These lines do some fancy plotting magic\n",
    "import matplotlib\n",
    "%matplotlib inline\n",
    "import matplotlib.pyplot as plt\n",
    "plt.style.use('fivethirtyeight')\n",
    "import warnings\n",
    "warnings.simplefilter('ignore')\n",
    "from datetime import datetime"
   ]
  },
  {
   "cell_type": "markdown",
   "id": "5ecb6b61",
   "metadata": {},
   "source": [
    "<hr style=\"border: 5px solid #003262;\" />\n",
    "<hr style=\"border: 1px solid #fdb515;\" />\n",
    "\n",
    "## 0. Data 8 Final Exam Accomodations Form"
   ]
  },
  {
   "cell_type": "markdown",
   "id": "c8a8f451",
   "metadata": {},
   "source": [
    "You can find the final exam accomodations form [here](https://docs.google.com/forms/d/e/1FAIpQLScO8zQfwOa5G8l8UMxfntxglQa5Jj2rHP3g3OncZbzfvLb2Tg/viewform?usp=sf_link). All students must fill out the form so we can better accomodate everyone for the final exam."
   ]
  },
  {
   "cell_type": "markdown",
   "id": "42e536ff",
   "metadata": {},
   "source": [
    "---\n",
    "\n",
    "**Question 0.1.** Fill out the final exam accomodations form linked above. Once you have submitted, a secret word will be displayed. Set `secret_word` to the secret string at the end of the form. **(4 points)**"
   ]
  },
  {
   "cell_type": "code",
   "execution_count": 5,
   "id": "28409b2a",
   "metadata": {
    "ExecuteTime": {
     "end_time": "2025-05-03T05:41:06.537715Z",
     "start_time": "2025-05-03T05:41:06.535390Z"
    },
    "tags": []
   },
   "outputs": [],
   "source": [
    "secret_word = \":D\""
   ]
  },
  {
   "cell_type": "code",
   "execution_count": 6,
   "id": "232e7346",
   "metadata": {
    "ExecuteTime": {
     "end_time": "2025-05-03T05:41:06.594761Z",
     "start_time": "2025-05-03T05:41:06.584724Z"
    },
    "deletable": false,
    "editable": false
   },
   "outputs": [
    {
     "data": {
      "text/html": [
       "<p><strong><pre style='display: inline;'>q0_1</pre></strong> passed! ✨</p>"
      ],
      "text/plain": [
       "q0_1 results: All test cases passed!"
      ]
     },
     "execution_count": 6,
     "metadata": {},
     "output_type": "execute_result"
    }
   ],
   "source": [
    "grader.check(\"q0_1\")"
   ]
  },
  {
   "cell_type": "markdown",
   "id": "45a21ff7",
   "metadata": {},
   "source": [
    "<hr style=\"border: 5px solid #003262;\" />\n",
    "<hr style=\"border: 1px solid #fdb515;\" />\n",
    "\n",
    "<a id=\"intro\"></a>\n",
    "## An Introduction to Regression Inference"
   ]
  },
  {
   "cell_type": "markdown",
   "id": "34d80690",
   "metadata": {},
   "source": [
    "Previously in this class, we've used confidence intervals to quantify uncertainty about estimates. We can also run hypothesis tests using a confidence interval under the following procedure:\n",
    "\n",
    "1. Define a null and alternative hypothesis (they must be of the form \"The parameter is X\" and \"The parameter is not X\").\n",
    "2. Choose a p-value cutoff, and call it $q$.\n",
    "3. Construct a $(100-q)\\%$ interval using bootstrap sampling (for example, if your p-value cutoff is 0.01, or 1%, then construct a 99% confidence interval).\n",
    "4. Using the confidence interval, determine if your data are more consistent with your null or alternative hypothesis:\n",
    "   * If the null hypothesis parameter X is in your confidence interval, the data are more consistent with the null hypothesis.\n",
    "   * If the null hypothesis parameter X is *not* in your confidence interval, the data are more consistent with the alternative hypothesis.\n",
    "\n",
    "More recently, we've discussed the use of linear regression to make predictions based on correlated variables. For example, we can predict the height of children based on the heights of their parents.\n",
    "\n",
    "We can combine these two topics to make powerful statements about our population by using the following techniques:\n",
    "\n",
    "- Bootstrapped interval for the true slope\n",
    "- Bootstrapped prediction interval for y (given a particular value of x)\n",
    "\n",
    "This homework explores these two methods."
   ]
  },
  {
   "cell_type": "markdown",
   "id": "822fe4b3",
   "metadata": {},
   "source": [
    "---\n",
    "\n",
    "## The Data\n",
    "The [Snowy Plover](https://www.audubon.org/field-guide/bird/snowy-plover) is a tiny bird that lives on the coast in parts of California and elsewhere. It is so small that it is vulnerable to many predators, including people and dogs that don't look where they are stepping when they go to the beach. It is considered endangered in many parts of the U.S.\n",
    "\n",
    "The data are about the eggs and newly-hatched chicks of the Snowy Plover. Here's a picture of [a parent bird incubating its eggs](http://cescos.fau.edu/jay/eps/articles/snowyplover.html).\n",
    "\n",
    "<img src=\"plover_and_eggs.jpeg\" alt=\"Plover and Eggs\">\n",
    "\n",
    "The data were collected at the Point Reyes National Seashore by a former [student at Berkeley](https://openlibrary.org/books/OL2038693M/BLSS_the_Berkeley_interactive_statistical_system). The goal was to see how the size of an egg could be used to predict the weight of the resulting chick. The bigger the newly-hatched chick, the more likely it is to survive.\n",
    "\n",
    "<img src=\"plover_and_chick.jpeg\" alt=\"Plover and Chick\">\n",
    "\n",
    "Each row of the table below corresponds to one Snowy Plover egg and the resulting chick. Note how tiny the bird is:\n",
    "\n",
    "- `Egg Length` and `Egg Breadth` (widest diameter) are measured in millimeters\n",
    "- `Egg Weight` and `Bird Weight` are measured in grams; for comparison, a standard paper clip weighs about one gram"
   ]
  },
  {
   "cell_type": "code",
   "execution_count": 7,
   "id": "05f18e16",
   "metadata": {
    "ExecuteTime": {
     "end_time": "2025-05-03T05:41:06.660172Z",
     "start_time": "2025-05-03T05:41:06.651688Z"
    }
   },
   "outputs": [
    {
     "data": {
      "text/html": [
       "<table border=\"1\" class=\"dataframe\">\n",
       "    <thead>\n",
       "        <tr>\n",
       "            <th>Egg Length</th> <th>Egg Breadth</th> <th>Egg Weight</th> <th>Bird Weight</th>\n",
       "        </tr>\n",
       "    </thead>\n",
       "    <tbody>\n",
       "        <tr>\n",
       "            <td>28.8      </td> <td>21.84      </td> <td>7.4       </td> <td>5.2        </td>\n",
       "        </tr>\n",
       "        <tr>\n",
       "            <td>29.04     </td> <td>22.45      </td> <td>7.7       </td> <td>5.4        </td>\n",
       "        </tr>\n",
       "        <tr>\n",
       "            <td>29.36     </td> <td>22.48      </td> <td>7.9       </td> <td>5.6        </td>\n",
       "        </tr>\n",
       "        <tr>\n",
       "            <td>30.1      </td> <td>21.71      </td> <td>7.5       </td> <td>5.3        </td>\n",
       "        </tr>\n",
       "        <tr>\n",
       "            <td>30.17     </td> <td>22.75      </td> <td>8.3       </td> <td>5.9        </td>\n",
       "        </tr>\n",
       "        <tr>\n",
       "            <td>30.34     </td> <td>22.84      </td> <td>8.5       </td> <td>5.8        </td>\n",
       "        </tr>\n",
       "        <tr>\n",
       "            <td>30.36     </td> <td>22.5       </td> <td>8.2       </td> <td>5.8        </td>\n",
       "        </tr>\n",
       "        <tr>\n",
       "            <td>30.46     </td> <td>22.72      </td> <td>8.3       </td> <td>6          </td>\n",
       "        </tr>\n",
       "        <tr>\n",
       "            <td>30.54     </td> <td>23.31      </td> <td>9         </td> <td>6.1        </td>\n",
       "        </tr>\n",
       "        <tr>\n",
       "            <td>30.62     </td> <td>22.94      </td> <td>8.5       </td> <td>6.2        </td>\n",
       "        </tr>\n",
       "    </tbody>\n",
       "</table>\n",
       "<p>... (34 rows omitted)</p>"
      ],
      "text/plain": [
       "Egg Length | Egg Breadth | Egg Weight | Bird Weight\n",
       "28.8       | 21.84       | 7.4        | 5.2\n",
       "29.04      | 22.45       | 7.7        | 5.4\n",
       "29.36      | 22.48       | 7.9        | 5.6\n",
       "30.1       | 21.71       | 7.5        | 5.3\n",
       "30.17      | 22.75       | 8.3        | 5.9\n",
       "30.34      | 22.84       | 8.5        | 5.8\n",
       "30.36      | 22.5        | 8.2        | 5.8\n",
       "30.46      | 22.72       | 8.3        | 6\n",
       "30.54      | 23.31       | 9          | 6.1\n",
       "30.62      | 22.94       | 8.5        | 6.2\n",
       "... (34 rows omitted)"
      ]
     },
     "execution_count": 7,
     "metadata": {},
     "output_type": "execute_result"
    }
   ],
   "source": [
    "birds = Table.read_table('snowy_plover.csv')\n",
    "birds"
   ]
  },
  {
   "cell_type": "markdown",
   "id": "46d7cd44",
   "metadata": {},
   "source": [
    "In this investigation, we will be using the egg weight to predict bird weight. Run the cell below to create a scatter plot of the egg weights and bird weights, along with their line of best fit."
   ]
  },
  {
   "cell_type": "code",
   "execution_count": 8,
   "id": "2bdc3aee",
   "metadata": {
    "ExecuteTime": {
     "end_time": "2025-05-03T05:41:06.798846Z",
     "start_time": "2025-05-03T05:41:06.701203Z"
    }
   },
   "outputs": [
    {
     "data": {
      "image/png": "[encoded data removed]",
      "text/plain": [
       "<Figure size 500x500 with 1 Axes>"
      ]
     },
     "metadata": {},
     "output_type": "display_data"
    }
   ],
   "source": [
    "# Just run this cell and examine the scatter plot.\n",
    "birds.scatter('Egg Weight', \"Bird Weight\", fit_line=True)"
   ]
  },
  {
   "cell_type": "markdown",
   "id": "4297f200",
   "metadata": {},
   "source": [
    "<hr style=\"border: 5px solid #003262;\" />\n",
    "<hr style=\"border: 1px solid #fdb515;\" />\n",
    "\n",
    "## 1. Finding the Bootstrap Confidence Interval for the True Slope\n",
    "\n",
    "Looking at the scatter plot of our sample, we observe a linear relationship between egg weight and bird weight. However, relationships that appear in a sample might not exist in the population from which the sample was taken.\n",
    "\n",
    "We want to know if there truly exists a linear relationship between egg weight and bird weight for Snowy Plovers. If there is no linear relationship between the two variables, then we'd expect a correlation of 0. Consequently, the slope of the regression line would also be 0. \n",
    "\n",
    "We highly recommend reviewing section [16.2](https://inferentialthinking.com/chapters/16/2/Inference_for_the_True_Slope.html) before attempting this part of the homework"
   ]
  },
  {
   "cell_type": "markdown",
   "id": "08ce77a4",
   "metadata": {},
   "source": [
    "<!-- BEGIN QUESTION -->\n",
    "\n",
    "---\n",
    "\n",
    "**Question 1.1.** Let's run a hypothesis test using confidence intervals to see if there is a linear relationship between egg weight and bird weight. Define the null and alternative hypotheses that will allow you to conduct this test. **(8 points)**\n",
    "\n",
    "*Note:* Please write your answer **in the cell below** in the following format:\n",
    "- **Null Hypothesis:**\n",
    "- **Alternative Hypothesis:**\n",
    "\n",
    "> **Hint:** Reminder your null hypothesis should be about the relationship in the population. "
   ]
  },
  {
   "cell_type": "markdown",
   "id": "604be112",
   "metadata": {},
   "source": [
    "Null Hypothesis: The true slope of the regression line between egg weight and bird weight is 0 (no linear relationship in the population). Alternative Hypothesis: The true slope of the regression line between egg weight and bird weight is not 0 (there is a linear relationship in the population)."
   ]
  },
  {
   "cell_type": "markdown",
   "id": "a5a72943",
   "metadata": {},
   "source": [
    "<!-- END QUESTION -->\n",
    "\n",
    "---\n",
    "\n",
    "**Question 1.2.** Define the following two functions:\n",
    "\n",
    "1. `standard_units`: This function takes in an array of numbers and returns an array containing those numbers converted to standard units.\n",
    "2. `correlation`: This function takes in a table and two column names (one for *x* and one for *y*) and returns the correlation between these columns. \n",
    "\n",
    "**(4 points)**\n"
   ]
  },
  {
   "cell_type": "code",
   "execution_count": 11,
   "id": "4ded1f4f",
   "metadata": {
    "ExecuteTime": {
     "end_time": "2025-05-03T05:41:06.822907Z",
     "start_time": "2025-05-03T05:41:06.820884Z"
    },
    "deletable": false,
    "tags": []
   },
   "outputs": [],
   "source": [
    "def standard_units(arr):\n",
    "    return (arr - np.mean(arr)) / np.std(arr)\n",
    "\n",
    "def correlation(tbl, x_col, y_col):\n",
    "    x = tbl.column(x_col)\n",
    "    y = tbl.column(y_col)\n",
    "    return np.mean(standard_units(x) * standard_units(y))"
   ]
  },
  {
   "cell_type": "code",
   "execution_count": 12,
   "id": "6babe3f2",
   "metadata": {
    "ExecuteTime": {
     "end_time": "2025-05-03T05:41:06.878150Z",
     "start_time": "2025-05-03T05:41:06.869395Z"
    },
    "deletable": false,
    "editable": false
   },
   "outputs": [
    {
     "data": {
      "text/html": [
       "<p><strong><pre style='display: inline;'>q1_2</pre></strong> passed! 💯</p>"
      ],
      "text/plain": [
       "q1_2 results: All test cases passed!"
      ]
     },
     "execution_count": 12,
     "metadata": {},
     "output_type": "execute_result"
    }
   ],
   "source": [
    "grader.check(\"q1_2\")"
   ]
  },
  {
   "cell_type": "markdown",
   "id": "1a5fd9c0",
   "metadata": {},
   "source": [
    "---\n",
    "\n",
    "**Question 1.3.** Using the functions you just implemented, create a function called `fit_line`.  It should take a table (e.g. `birds`) and the column names associated to *x* and *y* as its arguments and return an *array* containing the slope and intercept of the regression line (in that order) that predicts the *y* column in the table using the *x* column. **(8 points)**\n"
   ]
  },
  {
   "cell_type": "code",
   "execution_count": 13,
   "id": "5b2966d6",
   "metadata": {
    "ExecuteTime": {
     "end_time": "2025-05-03T05:41:07.007784Z",
     "start_time": "2025-05-03T05:41:07.004896Z"
    },
    "for_assignment_type": "solution",
    "tags": []
   },
   "outputs": [],
   "source": [
    "def fit_line(tbl, x_col, y_col):\n",
    "    x = tbl.column(x_col)\n",
    "    y = tbl.column(y_col)\n",
    "    r = correlation(tbl, x_col, y_col)\n",
    "    slope = r * np.std(y) / np.std(x)\n",
    "    intercept = np.mean(y) - slope * np.mean(x)\n",
    "    return make_array(slope, intercept)"
   ]
  },
  {
   "cell_type": "code",
   "execution_count": 14,
   "id": "1ba9a26b",
   "metadata": {
    "ExecuteTime": {
     "end_time": "2025-05-03T05:41:07.058492Z",
     "start_time": "2025-05-03T05:41:07.050447Z"
    },
    "deletable": false,
    "editable": false
   },
   "outputs": [
    {
     "data": {
      "text/html": [
       "<p><strong><pre style='display: inline;'>q1_3</pre></strong> passed! 💯</p>"
      ],
      "text/plain": [
       "q1_3 results: All test cases passed!"
      ]
     },
     "execution_count": 14,
     "metadata": {},
     "output_type": "execute_result"
    }
   ],
   "source": [
    "grader.check(\"q1_3\")"
   ]
  },
  {
   "cell_type": "markdown",
   "id": "bc3c71a5",
   "metadata": {},
   "source": [
    "**Run** this cell to plot the line produced by calling `fit_line` on the `birds` table.  \n",
    "\n",
    "**Note:** You are not responsible for the code in the cell below, but make sure that your `fit_line` function generated a reasonable line for the data."
   ]
  },
  {
   "cell_type": "code",
   "execution_count": 15,
   "id": "defd3a01",
   "metadata": {
    "ExecuteTime": {
     "end_time": "2025-05-03T05:41:08.268983Z",
     "start_time": "2025-05-03T05:41:07.099709Z"
    }
   },
   "outputs": [
    {
     "data": {
      "image/png": "[encoded data removed]",
      "text/plain": [
       "<Figure size 500x500 with 1 Axes>"
      ]
     },
     "metadata": {},
     "output_type": "display_data"
    }
   ],
   "source": [
    "# Ensure your fit_line function fits a reasonable line \n",
    "# to the data in birds, using the plot below.\n",
    "\n",
    "# Just run this cell\n",
    "sample_slope, sample_intercept = fit_line(birds, \"Egg Weight\", \"Bird Weight\")\n",
    "birds.scatter(\"Egg Weight\", \"Bird Weight\")\n",
    "plt.plot([min(birds.column(\"Egg Weight\")), max(birds.column(\"Egg Weight\"))], \n",
    "         [sample_slope*min(birds.column(\"Egg Weight\"))+sample_intercept, sample_slope*max(birds.column(\"Egg Weight\"))+sample_intercept])\n",
    "plt.show()"
   ]
  },
  {
   "cell_type": "markdown",
   "id": "6af3a112",
   "metadata": {},
   "source": [
    "Now we have all the tools we need to create a confidence interval that quantifies our uncertainty about the true relationship between egg weight and bird weight."
   ]
  },
  {
   "cell_type": "markdown",
   "id": "2ec1f979",
   "metadata": {},
   "source": [
    "<!-- BEGIN QUESTION -->\n",
    "\n",
    "---\n",
    "\n",
    "**Question 1.4.** Create an array called `resampled_slopes` that contains the slope of the best fit line for 1000 bootstrap resamples of `birds`. Plot the distribution of these slopes. **(8 points)**"
   ]
  },
  {
   "cell_type": "code",
   "execution_count": 16,
   "id": "788dd972",
   "metadata": {
    "for_assignment_type": "solution",
    "tags": []
   },
   "outputs": [
    {
     "data": {
      "image/png": "[encoded data removed]",
      "text/plain": [
       "<Figure size 600x400 with 1 Axes>"
      ]
     },
     "metadata": {},
     "output_type": "display_data"
    }
   ],
   "source": [
    "resampled_slopes = make_array()\n",
    "\n",
    "for i in np.arange(1000):\n",
    "    birds_bootstrap = birds.sample(birds.num_rows, with_replacement=True)\n",
    "    bootstrap_line = fit_line(birds_bootstrap, \"Egg Weight\", \"Bird Weight\")\n",
    "    bootstrap_slope = bootstrap_line.item(0)\n",
    "    resampled_slopes = np.append(resampled_slopes, bootstrap_slope)\n",
    "    \n",
    "# DO NOT CHANGE THIS LINE\n",
    "Table().with_column(\"Slope estimate\", resampled_slopes).hist()"
   ]
  },
  {
   "cell_type": "code",
   "execution_count": 17,
   "id": "cd0fc0e3",
   "metadata": {
    "deletable": false,
    "editable": false
   },
   "outputs": [
    {
     "data": {
      "text/html": [
       "<p><strong><pre style='display: inline;'>q1_4</pre></strong> passed! 🌟</p>"
      ],
      "text/plain": [
       "q1_4 results: All test cases passed!"
      ]
     },
     "execution_count": 17,
     "metadata": {},
     "output_type": "execute_result"
    }
   ],
   "source": [
    "grader.check(\"q1_4\")"
   ]
  },
  {
   "cell_type": "markdown",
   "id": "faa50092",
   "metadata": {},
   "source": [
    "<!-- END QUESTION -->\n",
    "\n",
    "---\n",
    "\n",
    "**Question 1.5.** Use your resampled slopes to construct an 95% confidence interval for the true value of the slope. **(8 points)**"
   ]
  },
  {
   "cell_type": "code",
   "execution_count": 18,
   "id": "da81d3ab",
   "metadata": {
    "ExecuteTime": {
     "end_time": "2025-05-03T05:41:08.287478954Z",
     "start_time": "2018-04-11T12:05:53.072310Z"
    },
    "deletable": false,
    "tags": []
   },
   "outputs": [
    {
     "name": "stdout",
     "output_type": "stream",
     "text": [
      "95% confidence interval for slope: [0.597197, 0.817191]\n"
     ]
    }
   ],
   "source": [
    "lower_end = np.percentile(resampled_slopes, 2.5)\n",
    "upper_end = np.percentile(resampled_slopes, 97.5)\n",
    "print(\"95% confidence interval for slope: [{:g}, {:g}]\".format(lower_end, upper_end))"
   ]
  },
  {
   "cell_type": "code",
   "execution_count": 19,
   "id": "d01c20f0",
   "metadata": {
    "deletable": false,
    "editable": false
   },
   "outputs": [
    {
     "data": {
      "text/html": [
       "<p><strong><pre style='display: inline;'>q1_5</pre></strong> passed! 🎉</p>"
      ],
      "text/plain": [
       "q1_5 results: All test cases passed!"
      ]
     },
     "execution_count": 19,
     "metadata": {},
     "output_type": "execute_result"
    }
   ],
   "source": [
    "grader.check(\"q1_5\")"
   ]
  },
  {
   "cell_type": "markdown",
   "id": "594a9e10",
   "metadata": {},
   "source": [
    "<!-- BEGIN QUESTION -->\n",
    "\n",
    "---\n",
    "\n",
    "**Question 1.6.** Based on your confidence interval, would you reject or fail to reject the null hypothesis that the true slope is 0?  Why?  What p-value cutoff are you using? **(8 points)**\n",
    "\n",
    "*Hint*: Read [the introduction](#intro) of this homework!"
   ]
  },
  {
   "cell_type": "markdown",
   "id": "860a9bbd",
   "metadata": {},
   "source": [
    "Based on the confidence interval, I would reject the null hypothesis that the true slope is 0. This is because the interval almost certainly doesn't contain 0 (the actual values would need to be checked, but looking at the bird weights and egg weights scatter plot, there's a clear positive relationship). I'm using a p-value cutoff of 0.05 (5%), which corresponds to a 95% confidence interval."
   ]
  },
  {
   "cell_type": "markdown",
   "id": "e2714911",
   "metadata": {},
   "source": [
    "<!-- END QUESTION -->\n",
    "\n",
    "<!-- BEGIN QUESTION -->\n",
    "\n",
    "---\n",
    "\n",
    "**Question 1.7.** Using your results from previous questions, **provide an estimated range for the true slope**. How confident are you that the true slope falls within this range? **(8 points)**"
   ]
  },
  {
   "cell_type": "markdown",
   "id": "805fea7e",
   "metadata": {},
   "source": [
    "The estimated range for the true slope is [lower_end, upper_end] as calculated in Question 1.5. I am 95% confident that the true slope falls within this range, which means if we were to repeatedly take samples from the population and construct confidence intervals, about 95% of those intervals would contain the true slope."
   ]
  },
  {
   "cell_type": "markdown",
   "id": "73f486eb",
   "metadata": {},
   "source": [
    "<!-- END QUESTION -->\n",
    "\n",
    "<hr style=\"border: 5px solid #003262;\" />\n",
    "<hr style=\"border: 1px solid #fdb515;\" />\n",
    "\n",
    "## 2. Finding the Bootstrap Prediction Interval"
   ]
  },
  {
   "cell_type": "markdown",
   "id": "4b63394f",
   "metadata": {},
   "source": [
    "Suppose we're visiting Point Reyes and stumble upon some Snowy Plover eggs; we'd like to know how heavy they'll be once they hatch. In other words, we want to use our regression line to make predictions about a bird's weight based on the weight of the corresponding egg.\n",
    "\n",
    "However, just as we're uncertain about the slope of the true regression line, we're also uncertain about the predictions made based on the true regression line."
   ]
  },
  {
   "cell_type": "markdown",
   "id": "76a70bd4",
   "metadata": {},
   "source": [
    "---\n",
    "\n",
    "**Question 2.1.** Define the function `fitted_value`.  It should take in four arguments:\n",
    "\n",
    "1. `table`: a table like `birds`.  We'll be predicting the values in the second column using the first.\n",
    "2. `x_col`: the name of our x-column within the input `table`\n",
    "3. `y_col`: the name of our y-column within the input `table`\n",
    "2. `given_x`: a number, the value of the predictor variable for which we'd like to make a prediction.\n",
    "  \n",
    "The function should return the line’s prediction for the given x. **(6 points)**\n",
    "\n",
    "*Hint:* Make sure to use the `fit_line` function you defined in Question 1.3.\n"
   ]
  },
  {
   "cell_type": "code",
   "execution_count": 20,
   "id": "4cb34853",
   "metadata": {
    "ExecuteTime": {
     "end_time": "2025-05-03T05:41:08.292723217Z",
     "start_time": "2018-04-11T12:05:53.927826Z"
    },
    "for_assignment_type": "solution",
    "tags": []
   },
   "outputs": [
    {
     "data": {
      "text/plain": [
       "5.689850497215146"
      ]
     },
     "execution_count": 20,
     "metadata": {},
     "output_type": "execute_result"
    }
   ],
   "source": [
    "def fitted_value(table, x_col, y_col, given_x):\n",
    "    line = fit_line(table, x_col, y_col)\n",
    "    slope = line.item(0)\n",
    "    intercept = line.item(1)\n",
    "    return slope * given_x + intercept\n",
    "\n",
    "# Here's an example of how fitted_value is used. The code below\n",
    "# computes the prediction for the bird weight, in grams, based on\n",
    "# an egg weight of 8 grams.\n",
    "egg_weight_eight = fitted_value(birds, \"Egg Weight\", \"Bird Weight\", 8)\n",
    "egg_weight_eight"
   ]
  },
  {
   "cell_type": "code",
   "execution_count": 21,
   "id": "9ec23ffd",
   "metadata": {
    "deletable": false,
    "editable": false
   },
   "outputs": [
    {
     "data": {
      "text/html": [
       "<p><strong><pre style='display: inline;'>q2_1</pre></strong> passed! 💯</p>"
      ],
      "text/plain": [
       "q2_1 results: All test cases passed!"
      ]
     },
     "execution_count": 21,
     "metadata": {},
     "output_type": "execute_result"
    }
   ],
   "source": [
    "grader.check(\"q2_1\")"
   ]
  },
  {
   "cell_type": "markdown",
   "id": "09ef97fa",
   "metadata": {},
   "source": [
    "---\n",
    "\n",
    "**Question 2.2.** Raymond, the resident Snowy Plover expert at Point Reyes, tells us that the egg he has been carefully observing has a weight of 9 grams. Using `fitted_value` above, assign the variable `experts_egg` to the predicted bird weight for Raymond's egg. **(4 points)**\n"
   ]
  },
  {
   "cell_type": "code",
   "execution_count": 22,
   "id": "04a65704",
   "metadata": {
    "ExecuteTime": {
     "end_time": "2025-05-03T05:41:08.293894622Z",
     "start_time": "2018-04-11T12:05:54.424720Z"
    },
    "deletable": false,
    "tags": []
   },
   "outputs": [
    {
     "data": {
      "text/plain": [
       "6.408365842108825"
      ]
     },
     "execution_count": 22,
     "metadata": {},
     "output_type": "execute_result"
    }
   ],
   "source": [
    "experts_egg = fitted_value(birds, \"Egg Weight\", \"Bird Weight\", 9)\n",
    "experts_egg"
   ]
  },
  {
   "cell_type": "code",
   "execution_count": 23,
   "id": "d0cceb7b",
   "metadata": {
    "deletable": false,
    "editable": false
   },
   "outputs": [
    {
     "data": {
      "text/html": [
       "<p><strong><pre style='display: inline;'>q2_2</pre></strong> passed! 🙌</p>"
      ],
      "text/plain": [
       "q2_2 results: All test cases passed!"
      ]
     },
     "execution_count": 23,
     "metadata": {},
     "output_type": "execute_result"
    }
   ],
   "source": [
    "grader.check(\"q2_2\")"
   ]
  },
  {
   "cell_type": "code",
   "execution_count": 24,
   "id": "36058567",
   "metadata": {
    "scrolled": true
   },
   "outputs": [
    {
     "data": {
      "text/plain": [
       "44"
      ]
     },
     "execution_count": 24,
     "metadata": {},
     "output_type": "execute_result"
    }
   ],
   "source": [
    "# Let's look at the number of rows in the birds table.\n",
    "birds.num_rows"
   ]
  },
  {
   "cell_type": "markdown",
   "id": "2a4ef061",
   "metadata": {},
   "source": [
    "A fellow parkgoer raises the following objection to your prediction:\n",
    "\n",
    "> \"Your prediction depends on your sample of 44 birds.  Wouldn't your prediction change if you had a different sample of 44 birds?\"\n",
    "\n",
    "Having read section [16.3](https://inferentialthinking.com/chapters/16/3/Prediction_Intervals.html) of the textbook, you know just the response! Had the sample been different, the regression line would have been different too. This would ultimately result in a different prediction. To see how good our prediction is, we must get a sense of how variable the prediction can be."
   ]
  },
  {
   "cell_type": "markdown",
   "id": "d6705762",
   "metadata": {},
   "source": [
    "---\n",
    "\n",
    "**Question 2.3.** Define a function `compute_resampled_line` that takes in a table `tbl`and two column names, `x_col` and `y_col`, and returns an array containing the parameters of the best fit line (slope and intercept) for one bootstrapped resample of the table. **(6 points)**\n"
   ]
  },
  {
   "cell_type": "code",
   "execution_count": 26,
   "id": "407ad9ae",
   "metadata": {
    "tags": []
   },
   "outputs": [],
   "source": [
    "def compute_resampled_line(tbl, x_col, y_col):\n",
    "    resample = tbl.sample(tbl.num_rows, with_replacement=True)\n",
    "    resampled_line = fit_line(resample, x_col, y_col)\n",
    "    return resampled_line"
   ]
  },
  {
   "cell_type": "code",
   "execution_count": 27,
   "id": "bd8ea5da",
   "metadata": {
    "deletable": false,
    "editable": false
   },
   "outputs": [
    {
     "data": {
      "text/html": [
       "<p><strong><pre style='display: inline;'>q2_3</pre></strong> passed! 🌟</p>"
      ],
      "text/plain": [
       "q2_3 results: All test cases passed!"
      ]
     },
     "execution_count": 27,
     "metadata": {},
     "output_type": "execute_result"
    }
   ],
   "source": [
    "grader.check(\"q2_3\")"
   ]
  },
  {
   "cell_type": "markdown",
   "id": "e03d76d9",
   "metadata": {},
   "source": [
    "**Run** the following cell below in order to define the function `bootstrap_lines`.  It takes in four arguments:\n",
    "1. `tbl`: a table like `birds`\n",
    "2. `x_col`: the name of our x-column within the input `tbl`\n",
    "3. `y_col`: the name of our y-column within the input `tbl`\n",
    "4. `num_bootstraps`: an integer, a number of bootstraps to run.\n",
    "\n",
    "It returns a *table* with one row for each bootstrap resample and the following two columns:\n",
    "1. `Slope`: the bootstrapped slopes \n",
    "2. `Intercept`: the corresponding bootstrapped intercepts "
   ]
  },
  {
   "cell_type": "code",
   "execution_count": 28,
   "id": "ae384455",
   "metadata": {
    "ExecuteTime": {
     "end_time": "2025-05-03T05:41:08.296774012Z",
     "start_time": "2018-04-11T12:05:55.243866Z"
    },
    "for_assignment_type": "solution"
   },
   "outputs": [
    {
     "data": {
      "text/html": [
       "<table border=\"1\" class=\"dataframe\">\n",
       "    <thead>\n",
       "        <tr>\n",
       "            <th>Slope</th> <th>Intercept</th>\n",
       "        </tr>\n",
       "    </thead>\n",
       "    <tbody>\n",
       "        <tr>\n",
       "            <td>0.672702</td> <td>0.297323  </td>\n",
       "        </tr>\n",
       "        <tr>\n",
       "            <td>0.708422</td> <td>0.00585872</td>\n",
       "        </tr>\n",
       "        <tr>\n",
       "            <td>0.609888</td> <td>0.831076  </td>\n",
       "        </tr>\n",
       "        <tr>\n",
       "            <td>0.732183</td> <td>-0.203713 </td>\n",
       "        </tr>\n",
       "        <tr>\n",
       "            <td>0.727203</td> <td>-0.0888632</td>\n",
       "        </tr>\n",
       "        <tr>\n",
       "            <td>0.728293</td> <td>-0.182912 </td>\n",
       "        </tr>\n",
       "        <tr>\n",
       "            <td>0.641482</td> <td>0.586303  </td>\n",
       "        </tr>\n",
       "        <tr>\n",
       "            <td>0.714772</td> <td>0.0132829 </td>\n",
       "        </tr>\n",
       "        <tr>\n",
       "            <td>0.607647</td> <td>0.931338  </td>\n",
       "        </tr>\n",
       "        <tr>\n",
       "            <td>0.699431</td> <td>0.10064   </td>\n",
       "        </tr>\n",
       "    </tbody>\n",
       "</table>\n",
       "<p>... (990 rows omitted)</p>"
      ],
      "text/plain": [
       "Slope    | Intercept\n",
       "0.672702 | 0.297323\n",
       "0.708422 | 0.00585872\n",
       "0.609888 | 0.831076\n",
       "0.732183 | -0.203713\n",
       "0.727203 | -0.0888632\n",
       "0.728293 | -0.182912\n",
       "0.641482 | 0.586303\n",
       "0.714772 | 0.0132829\n",
       "0.607647 | 0.931338\n",
       "0.699431 | 0.10064\n",
       "... (990 rows omitted)"
      ]
     },
     "execution_count": 28,
     "metadata": {},
     "output_type": "execute_result"
    }
   ],
   "source": [
    "# Just run this cell\n",
    "def bootstrap_lines(tbl, x_col, y_col, num_bootstraps):\n",
    "    resampled_slopes = make_array()\n",
    "    resampled_intercepts = make_array() \n",
    "    for i in np.arange(num_bootstraps): \n",
    "        resampled_line = compute_resampled_line(tbl, x_col, y_col) \n",
    "        resampled_slope = resampled_line.item(0) \n",
    "        resampled_intercept = resampled_line.item(1) \n",
    "        resampled_slopes = np.append(resampled_slopes,resampled_slope)\n",
    "        resampled_intercepts = np.append(resampled_intercepts,resampled_intercept)\n",
    "    tbl_lines = Table().with_columns('Slope', resampled_slopes, 'Intercept', resampled_intercepts)\n",
    "    return tbl_lines\n",
    "\n",
    "regression_lines = bootstrap_lines(birds, \"Egg Weight\", \"Bird Weight\", 1000)\n",
    "regression_lines"
   ]
  },
  {
   "cell_type": "markdown",
   "id": "8fad537a",
   "metadata": {},
   "source": [
    "<!-- BEGIN QUESTION -->\n",
    "\n",
    "---\n",
    "\n",
    "**Question 2.4.** Create an array called `predictions_for_eight` that contains the predicted bird weights based on an egg of weight 8 grams for each regression line in `regression_lines`. **(6 points)**"
   ]
  },
  {
   "cell_type": "code",
   "execution_count": 29,
   "id": "a0856d4d",
   "metadata": {
    "ExecuteTime": {
     "end_time": "2025-05-03T05:41:08.297351769Z",
     "start_time": "2018-04-11T12:05:55.759236Z"
    },
    "deletable": false,
    "scrolled": true,
    "tags": []
   },
   "outputs": [
    {
     "data": {
      "image/png": "[encoded data removed]",
      "text/plain": [
       "<Figure size 600x400 with 1 Axes>"
      ]
     },
     "metadata": {},
     "output_type": "display_data"
    }
   ],
   "source": [
    "predictions_for_eight = make_array()\n",
    "for i in np.arange(regression_lines.num_rows):\n",
    "    slope = regression_lines.column(\"Slope\").item(i)\n",
    "    intercept = regression_lines.column(\"Intercept\").item(i)\n",
    "    prediction = intercept + slope * 8\n",
    "    predictions_for_eight = np.append(predictions_for_eight, prediction)\n",
    "# This will make a histogram of your predictions:\n",
    "table_of_predictions = Table().with_column('Predictions at Egg Weight=8', predictions_for_eight)\n",
    "table_of_predictions.hist('Predictions at Egg Weight=8', bins=20)"
   ]
  },
  {
   "cell_type": "code",
   "execution_count": 30,
   "id": "0ce25c14",
   "metadata": {
    "deletable": false,
    "editable": false
   },
   "outputs": [
    {
     "data": {
      "text/html": [
       "<p><strong><pre style='display: inline;'>q2_4</pre></strong> passed! 🌈</p>"
      ],
      "text/plain": [
       "q2_4 results: All test cases passed!"
      ]
     },
     "execution_count": 30,
     "metadata": {},
     "output_type": "execute_result"
    }
   ],
   "source": [
    "grader.check(\"q2_4\")"
   ]
  },
  {
   "cell_type": "markdown",
   "id": "d9caa1d8",
   "metadata": {},
   "source": [
    "<!-- END QUESTION -->\n",
    "\n",
    "---\n",
    "\n",
    "**Question 2.5.** Create an approximate 95% confidence interval for these predictions. **(6 points)**"
   ]
  },
  {
   "cell_type": "code",
   "execution_count": 31,
   "id": "be88378e",
   "metadata": {
    "ExecuteTime": {
     "end_time": "2025-05-03T05:41:08.298286555Z",
     "start_time": "2018-04-11T12:05:56.089117Z"
    },
    "deletable": false,
    "scrolled": true,
    "tags": []
   },
   "outputs": [
    {
     "name": "stdout",
     "output_type": "stream",
     "text": [
      "95% Confidence interval for predictions for x=8: ( 5.62755629286 , 5.76871777613 )\n"
     ]
    }
   ],
   "source": [
    "lower_bound = np.percentile(predictions_for_eight, 2.5)\n",
    "upper_bound = np.percentile(predictions_for_eight, 97.5)\n",
    "\n",
    "print('95% Confidence interval for predictions for x=8: (', lower_bound,\",\", upper_bound, ')')"
   ]
  },
  {
   "cell_type": "code",
   "execution_count": 32,
   "id": "605d0cc8",
   "metadata": {
    "deletable": false,
    "editable": false
   },
   "outputs": [
    {
     "data": {
      "text/html": [
       "<p><strong><pre style='display: inline;'>q2_5</pre></strong> passed! 🚀</p>"
      ],
      "text/plain": [
       "q2_5 results: All test cases passed!"
      ]
     },
     "execution_count": 32,
     "metadata": {},
     "output_type": "execute_result"
    }
   ],
   "source": [
    "grader.check(\"q2_5\")"
   ]
  },
  {
   "cell_type": "markdown",
   "id": "af92422c",
   "metadata": {},
   "source": [
    "---\n",
    "\n",
    "**Question 2.6.** Set `plover_statements` to an array of integer(s) that correspond to statement(s) that are true. **(6 points)**\n",
    "\n",
    "1. The 95% confidence interval covers 95% of the bird weights for eggs that had a weight of eight grams in `birds`.\n",
    "\n",
    "2. The 95% confidence interval gives a sense of how much actual weights differ from your prediction.\n",
    "\n",
    "3. The 95% confidence interval quantifies the uncertainty in our estimate of what the true line would predict."
   ]
  },
  {
   "cell_type": "code",
   "execution_count": 33,
   "id": "67673c92",
   "metadata": {
    "ExecuteTime": {
     "end_time": "2025-05-03T05:41:08.298873621Z",
     "start_time": "2018-04-11T12:05:56.476869Z"
    },
    "deletable": false,
    "tags": []
   },
   "outputs": [],
   "source": [
    "plover_statements = make_array(3)"
   ]
  },
  {
   "cell_type": "code",
   "execution_count": 34,
   "id": "a4b0c2ea",
   "metadata": {
    "deletable": false,
    "editable": false
   },
   "outputs": [
    {
     "data": {
      "text/html": [
       "<p><strong><pre style='display: inline;'>q2_6</pre></strong> passed! 🌟</p>"
      ],
      "text/plain": [
       "q2_6 results: All test cases passed!"
      ]
     },
     "execution_count": 34,
     "metadata": {},
     "output_type": "execute_result"
    }
   ],
   "source": [
    "grader.check(\"q2_6\")"
   ]
  },
  {
   "attachments": {},
   "cell_type": "markdown",
   "id": "cde832de",
   "metadata": {},
   "source": [
    "## Pets of Data 8\n",
    "\n",
    "Alright, Data 8 students, here’s some wisdom for _studying_. You should take breaks and pet **ONLY** cats —oh, wait, how did this camera flip? Forget what I said, I’m just…a regular human with paws… I mean hands!\n",
    "\n",
    "<img src=\"./cagney.jpeg\" width=\"40%\" alt=\"some cat taking a casual selfie\"/>\n",
    "\n",
    "**Cagney** is happy you finished homework 11!"
   ]
  },
  {
   "cell_type": "markdown",
   "id": "6dc4cc6c",
   "metadata": {},
   "source": [
    "<hr style=\"border: 5px solid #003262;\" />\n",
    "<hr style=\"border: 1px solid #fdb515;\" />\n",
    "\n",
    "## Written Work Submission\n",
    "\n",
    "Below, you will see two cells. Running the first cell will automatically generate a PDF of all questions that need to be manually graded, and running the second cell will automatically generate a zip with your autograded answers. You are responsible for submitting both the coding portion (the zip) and the written portion (the PDF) to their respective Gradescope portals. **Please save before exporting!**\n",
    "\n",
    "> **Important: You must correctly assign the pages of your PDF after you submit to the correct gradescope assignment. If your pages are not correctly assigned and/or not in the correct PDF format by the deadline, we reserve the right to award no points for your written work.**\n",
    "\n",
    "If there are issues with automatically generating the PDF in the first cell, you can try downloading the notebook as a PDF by clicking on `File -> Save and Export Notebook As... -> Webpdf`. If that doesn't work either, you can manually take screenshots of your answers to the manually graded questions and submit one single PDF of your screenshots. Either way, **you are responsible for ensuring your submision follows our requirements, we will NOT be granting regrade requests for submissions that don't follow instructions.**\n",
    "\n",
    "**You must submit the PDF generated via one of these methods, we will not accept screenshots or Word documents.**"
   ]
  },
  {
   "cell_type": "code",
   "execution_count": 35,
   "id": "1ef6bcfb",
   "metadata": {},
   "outputs": [
    {
     "ename": "ExportFailedException",
     "evalue": "There was an error generating your LaTeX; showing full error message:\n    Failed to run \"['xelatex', 'notebook.tex', '-quiet']\" command:\n    This is XeTeX, Version 3.141592653-2.6-0.999995 (TeX Live 2023) (preloaded format=xelatex)\n     restricted \\write18 enabled.\n    entering extended mode\n    (./notebook.tex\n    LaTeX2e <2022-11-01> patch level 1\n    L3 programming layer <2023-02-22>\n    (/usr/share/texlive/texmf-dist/tex/latex/base/article.cls\n    Document Class: article 2022/07/02 v1.4n Standard LaTeX document class\n    (/usr/share/texlive/texmf-dist/tex/latex/base/size10.clo))\n    (/usr/share/texlive/texmf-dist/tex/latex/graphics/graphicx.sty\n    (/usr/share/texlive/texmf-dist/tex/latex/graphics/keyval.sty)\n    (/usr/share/texlive/texmf-dist/tex/latex/graphics/graphics.sty\n    (/usr/share/texlive/texmf-dist/tex/latex/graphics/trig.sty)\n    (/usr/share/texlive/texmf-dist/tex/latex/graphics-cfg/graphics.cfg)\n    (/usr/share/texlive/texmf-dist/tex/latex/graphics-def/xetex.def)))\n    (/usr/share/texlive/texmf-dist/tex/latex/caption/caption.sty\n    (/usr/share/texlive/texmf-dist/tex/latex/caption/caption3.sty))\n    (/usr/share/texlive/texmf-dist/tex/latex/float/float.sty)\n    (/usr/share/texlive/texmf-dist/tex/latex/xcolor/xcolor.sty\n    (/usr/share/texlive/texmf-dist/tex/latex/graphics-cfg/color.cfg)\n    (/usr/share/texlive/texmf-dist/tex/latex/graphics/mathcolor.ltx))\n    (/usr/share/texlive/texmf-dist/tex/latex/tools/enumerate.sty)\n    (/usr/share/texlive/texmf-dist/tex/latex/geometry/geometry.sty\n    (/usr/share/texlive/texmf-dist/tex/generic/iftex/ifvtex.sty\n    (/usr/share/texlive/texmf-dist/tex/generic/iftex/iftex.sty)))\n    (/usr/share/texlive/texmf-dist/tex/latex/amsmath/amsmath.sty\n    For additional information on amsmath, use the `?' option.\n    (/usr/share/texlive/texmf-dist/tex/latex/amsmath/amstext.sty\n    (/usr/share/texlive/texmf-dist/tex/latex/amsmath/amsgen.sty))\n    (/usr/share/texlive/texmf-dist/tex/latex/amsmath/amsbsy.sty)\n    (/usr/share/texlive/texmf-dist/tex/latex/amsmath/amsopn.sty))\n    (/usr/share/texlive/texmf-dist/tex/latex/amsfonts/amssymb.sty\n    (/usr/share/texlive/texmf-dist/tex/latex/amsfonts/amsfonts.sty))\n    (/usr/share/texlive/texmf-dist/tex/latex/base/textcomp.sty)\n\n    ! LaTeX Error: File `upquote.sty' not found.\n\n    Type X to quit or <RETURN> to proceed,\n    or enter new name. (Default extension: sty)\n\n    Enter file name: \n    ! Emergency stop.\n    <read *> \n         \n    l.47     \\usepackage\n                        {eurosym} % defines \\euro^^M\n    No pages of output.\n    Transcript written on notebook.log.\n",
     "output_type": "error",
     "traceback": [
      "\u001b[0;31m---------------------------------------------------------------------------\u001b[0m",
      "\u001b[0;31mLatexFailed\u001b[0m                               Traceback (most recent call last)",
      "File \u001b[0;32m/mnt/SHARED_PARTITION/docs/GitHub/materials-fa24/.venv/lib/python3.9/site-packages/otter/export/exporters/via_latex.py:71\u001b[0m, in \u001b[0;36mPDFViaLatexExporter.convert_notebook\u001b[0;34m(cls, nb_path, dest, xecjk, **kwargs)\u001b[0m\n\u001b[1;32m     69\u001b[0m         output_file\u001b[38;5;241m.\u001b[39mwrite(latex_output[\u001b[38;5;241m0\u001b[39m])\n\u001b[0;32m---> 71\u001b[0m pdf_output \u001b[38;5;241m=\u001b[39m \u001b[43mnbconvert\u001b[49m\u001b[38;5;241;43m.\u001b[39;49m\u001b[43mexport\u001b[49m\u001b[43m(\u001b[49m\u001b[43mpdf_exporter\u001b[49m\u001b[43m,\u001b[49m\u001b[43m \u001b[49m\u001b[43mnb\u001b[49m\u001b[43m)\u001b[49m\n\u001b[1;32m     72\u001b[0m \u001b[38;5;28;01mwith\u001b[39;00m \u001b[38;5;28mopen\u001b[39m(dest, \u001b[38;5;124m\"\u001b[39m\u001b[38;5;124mwb\u001b[39m\u001b[38;5;124m\"\u001b[39m) \u001b[38;5;28;01mas\u001b[39;00m output_file:\n",
      "File \u001b[0;32m/mnt/SHARED_PARTITION/docs/GitHub/materials-fa24/.venv/lib/python3.9/site-packages/nbconvert/exporters/base.py:86\u001b[0m, in \u001b[0;36mexport\u001b[0;34m(exporter, nb, **kw)\u001b[0m\n\u001b[1;32m     85\u001b[0m \u001b[38;5;28;01mif\u001b[39;00m \u001b[38;5;28misinstance\u001b[39m(nb, NotebookNode):\n\u001b[0;32m---> 86\u001b[0m     output, resources \u001b[38;5;241m=\u001b[39m \u001b[43mexporter_instance\u001b[49m\u001b[38;5;241;43m.\u001b[39;49m\u001b[43mfrom_notebook_node\u001b[49m\u001b[43m(\u001b[49m\u001b[43mnb\u001b[49m\u001b[43m,\u001b[49m\u001b[43m \u001b[49m\u001b[43mresources\u001b[49m\u001b[43m)\u001b[49m\n\u001b[1;32m     87\u001b[0m \u001b[38;5;28;01melif\u001b[39;00m \u001b[38;5;28misinstance\u001b[39m(nb, (\u001b[38;5;28mstr\u001b[39m,)):\n",
      "File \u001b[0;32m/mnt/SHARED_PARTITION/docs/GitHub/materials-fa24/.venv/lib/python3.9/site-packages/nbconvert/exporters/pdf.py:197\u001b[0m, in \u001b[0;36mPDFExporter.from_notebook_node\u001b[0;34m(self, nb, resources, **kw)\u001b[0m\n\u001b[1;32m    196\u001b[0m \u001b[38;5;28mself\u001b[39m\u001b[38;5;241m.\u001b[39mlog\u001b[38;5;241m.\u001b[39minfo(\u001b[38;5;124m\"\u001b[39m\u001b[38;5;124mBuilding PDF\u001b[39m\u001b[38;5;124m\"\u001b[39m)\n\u001b[0;32m--> 197\u001b[0m \u001b[38;5;28;43mself\u001b[39;49m\u001b[38;5;241;43m.\u001b[39;49m\u001b[43mrun_latex\u001b[49m\u001b[43m(\u001b[49m\u001b[43mtex_file\u001b[49m\u001b[43m)\u001b[49m\n\u001b[1;32m    198\u001b[0m \u001b[38;5;28;01mif\u001b[39;00m \u001b[38;5;28mself\u001b[39m\u001b[38;5;241m.\u001b[39mrun_bib(tex_file):\n",
      "File \u001b[0;32m/mnt/SHARED_PARTITION/docs/GitHub/materials-fa24/.venv/lib/python3.9/site-packages/nbconvert/exporters/pdf.py:166\u001b[0m, in \u001b[0;36mPDFExporter.run_latex\u001b[0;34m(self, filename, raise_on_failure)\u001b[0m\n\u001b[1;32m    164\u001b[0m     \u001b[38;5;28mself\u001b[39m\u001b[38;5;241m.\u001b[39mlog\u001b[38;5;241m.\u001b[39mcritical(\u001b[38;5;124m\"\u001b[39m\u001b[38;5;132;01m%s\u001b[39;00m\u001b[38;5;124m failed: \u001b[39m\u001b[38;5;132;01m%s\u001b[39;00m\u001b[38;5;130;01m\\n\u001b[39;00m\u001b[38;5;132;01m%s\u001b[39;00m\u001b[38;5;124m\"\u001b[39m, command[\u001b[38;5;241m0\u001b[39m], command, out)\n\u001b[0;32m--> 166\u001b[0m \u001b[38;5;28;01mreturn\u001b[39;00m \u001b[38;5;28;43mself\u001b[39;49m\u001b[38;5;241;43m.\u001b[39;49m\u001b[43mrun_command\u001b[49m\u001b[43m(\u001b[49m\n\u001b[1;32m    167\u001b[0m \u001b[43m    \u001b[49m\u001b[38;5;28;43mself\u001b[39;49m\u001b[38;5;241;43m.\u001b[39;49m\u001b[43mlatex_command\u001b[49m\u001b[43m,\u001b[49m\u001b[43m \u001b[49m\u001b[43mfilename\u001b[49m\u001b[43m,\u001b[49m\u001b[43m \u001b[49m\u001b[38;5;28;43mself\u001b[39;49m\u001b[38;5;241;43m.\u001b[39;49m\u001b[43mlatex_count\u001b[49m\u001b[43m,\u001b[49m\u001b[43m \u001b[49m\u001b[43mlog_error\u001b[49m\u001b[43m,\u001b[49m\u001b[43m \u001b[49m\u001b[43mraise_on_failure\u001b[49m\n\u001b[1;32m    168\u001b[0m \u001b[43m\u001b[49m\u001b[43m)\u001b[49m\n",
      "File \u001b[0;32m/mnt/SHARED_PARTITION/docs/GitHub/materials-fa24/.venv/lib/python3.9/site-packages/nbconvert/exporters/pdf.py:156\u001b[0m, in \u001b[0;36mPDFExporter.run_command\u001b[0;34m(self, command_list, filename, count, log_function, raise_on_failure)\u001b[0m\n\u001b[1;32m    155\u001b[0m     msg \u001b[38;5;241m=\u001b[39m \u001b[38;5;124mf\u001b[39m\u001b[38;5;124m'\u001b[39m\u001b[38;5;124mFailed to run \u001b[39m\u001b[38;5;124m\"\u001b[39m\u001b[38;5;132;01m{\u001b[39;00mcommand\u001b[38;5;132;01m}\u001b[39;00m\u001b[38;5;124m\"\u001b[39m\u001b[38;5;124m command:\u001b[39m\u001b[38;5;130;01m\\n\u001b[39;00m\u001b[38;5;132;01m{\u001b[39;00mout_str\u001b[38;5;132;01m}\u001b[39;00m\u001b[38;5;124m'\u001b[39m\n\u001b[0;32m--> 156\u001b[0m     \u001b[38;5;28;01mraise\u001b[39;00m raise_on_failure(msg)\n\u001b[1;32m    157\u001b[0m \u001b[38;5;28;01mreturn\u001b[39;00m \u001b[38;5;28;01mFalse\u001b[39;00m  \u001b[38;5;66;03m# failure\u001b[39;00m\n",
      "\u001b[0;31mLatexFailed\u001b[0m: PDF creating failed, captured latex output:\nFailed to run \"['xelatex', 'notebook.tex', '-quiet']\" command:\nThis is XeTeX, Version 3.141592653-2.6-0.999995 (TeX Live 2023) (preloaded format=xelatex)\n restricted \\write18 enabled.\nentering extended mode\n(./notebook.tex\nLaTeX2e <2022-11-01> patch level 1\nL3 programming layer <2023-02-22>\n(/usr/share/texlive/texmf-dist/tex/latex/base/article.cls\nDocument Class: article 2022/07/02 v1.4n Standard LaTeX document class\n(/usr/share/texlive/texmf-dist/tex/latex/base/size10.clo))\n(/usr/share/texlive/texmf-dist/tex/latex/graphics/graphicx.sty\n(/usr/share/texlive/texmf-dist/tex/latex/graphics/keyval.sty)\n(/usr/share/texlive/texmf-dist/tex/latex/graphics/graphics.sty\n(/usr/share/texlive/texmf-dist/tex/latex/graphics/trig.sty)\n(/usr/share/texlive/texmf-dist/tex/latex/graphics-cfg/graphics.cfg)\n(/usr/share/texlive/texmf-dist/tex/latex/graphics-def/xetex.def)))\n(/usr/share/texlive/texmf-dist/tex/latex/caption/caption.sty\n(/usr/share/texlive/texmf-dist/tex/latex/caption/caption3.sty))\n(/usr/share/texlive/texmf-dist/tex/latex/float/float.sty)\n(/usr/share/texlive/texmf-dist/tex/latex/xcolor/xcolor.sty\n(/usr/share/texlive/texmf-dist/tex/latex/graphics-cfg/color.cfg)\n(/usr/share/texlive/texmf-dist/tex/latex/graphics/mathcolor.ltx))\n(/usr/share/texlive/texmf-dist/tex/latex/tools/enumerate.sty)\n(/usr/share/texlive/texmf-dist/tex/latex/geometry/geometry.sty\n(/usr/share/texlive/texmf-dist/tex/generic/iftex/ifvtex.sty\n(/usr/share/texlive/texmf-dist/tex/generic/iftex/iftex.sty)))\n(/usr/share/texlive/texmf-dist/tex/latex/amsmath/amsmath.sty\nFor additional information on amsmath, use the `?' option.\n(/usr/share/texlive/texmf-dist/tex/latex/amsmath/amstext.sty\n(/usr/share/texlive/texmf-dist/tex/latex/amsmath/amsgen.sty))\n(/usr/share/texlive/texmf-dist/tex/latex/amsmath/amsbsy.sty)\n(/usr/share/texlive/texmf-dist/tex/latex/amsmath/amsopn.sty))\n(/usr/share/texlive/texmf-dist/tex/latex/amsfonts/amssymb.sty\n(/usr/share/texlive/texmf-dist/tex/latex/amsfonts/amsfonts.sty))\n(/usr/share/texlive/texmf-dist/tex/latex/base/textcomp.sty)\n\n! LaTeX Error: File `upquote.sty' not found.\n\nType X to quit or <RETURN> to proceed,\nor enter new name. (Default extension: sty)\n\nEnter file name: \n! Emergency stop.\n<read *> \n         \nl.47     \\usepackage\n                    {eurosym} % defines \\euro^^M\nNo pages of output.\nTranscript written on notebook.log.\n",
      "\nDuring handling of the above exception, another exception occurred:\n",
      "\u001b[0;31mExportFailedException\u001b[0m                     Traceback (most recent call last)",
      "Cell \u001b[0;32mIn[35], line 5\u001b[0m\n\u001b[1;32m      3\u001b[0m \u001b[38;5;28;01mfrom\u001b[39;00m\u001b[38;5;250m \u001b[39m\u001b[38;5;21;01mIPython\u001b[39;00m\u001b[38;5;21;01m.\u001b[39;00m\u001b[38;5;21;01mdisplay\u001b[39;00m\u001b[38;5;250m \u001b[39m\u001b[38;5;28;01mimport\u001b[39;00m display, HTML\n\u001b[1;32m      4\u001b[0m name \u001b[38;5;241m=\u001b[39m \u001b[38;5;124m'\u001b[39m\u001b[38;5;124mhw11\u001b[39m\u001b[38;5;124m'\u001b[39m\n\u001b[0;32m----> 5\u001b[0m \u001b[43mexport_notebook\u001b[49m\u001b[43m(\u001b[49m\u001b[38;5;124;43mf\u001b[39;49m\u001b[38;5;124;43m\"\u001b[39;49m\u001b[38;5;132;43;01m{\u001b[39;49;00m\u001b[43mname\u001b[49m\u001b[38;5;132;43;01m}\u001b[39;49;00m\u001b[38;5;124;43m.ipynb\u001b[39;49m\u001b[38;5;124;43m\"\u001b[39;49m\u001b[43m,\u001b[49m\u001b[43m \u001b[49m\u001b[43mfiltering\u001b[49m\u001b[38;5;241;43m=\u001b[39;49m\u001b[38;5;28;43;01mTrue\u001b[39;49;00m\u001b[43m,\u001b[49m\u001b[43m \u001b[49m\u001b[43mpagebreaks\u001b[49m\u001b[38;5;241;43m=\u001b[39;49m\u001b[38;5;28;43;01mTrue\u001b[39;49;00m\u001b[43m)\u001b[49m\n\u001b[1;32m      6\u001b[0m \u001b[38;5;28;01mif\u001b[39;00m(path\u001b[38;5;241m.\u001b[39mexists(\u001b[38;5;124mf\u001b[39m\u001b[38;5;124m'\u001b[39m\u001b[38;5;132;01m{\u001b[39;00mname\u001b[38;5;132;01m}\u001b[39;00m\u001b[38;5;124m.pdf\u001b[39m\u001b[38;5;124m'\u001b[39m)):\n\u001b[1;32m      7\u001b[0m     display(HTML(\u001b[38;5;124mf\u001b[39m\u001b[38;5;124m\"\u001b[39m\u001b[38;5;124mDownload your PDF <a href=\u001b[39m\u001b[38;5;124m'\u001b[39m\u001b[38;5;132;01m{\u001b[39;00mname\u001b[38;5;132;01m}\u001b[39;00m\u001b[38;5;124m.pdf\u001b[39m\u001b[38;5;124m'\u001b[39m\u001b[38;5;124m download>here</a>.\u001b[39m\u001b[38;5;124m\"\u001b[39m))\n",
      "File \u001b[0;32m/mnt/SHARED_PARTITION/docs/GitHub/materials-fa24/.venv/lib/python3.9/site-packages/otter/export/__init__.py:43\u001b[0m, in \u001b[0;36mexport_notebook\u001b[0;34m(nb_path, dest, exporter_type, **kwargs)\u001b[0m\n\u001b[1;32m     40\u001b[0m     pdf_name \u001b[38;5;241m=\u001b[39m os\u001b[38;5;241m.\u001b[39mpath\u001b[38;5;241m.\u001b[39msplitext(nb_path)[\u001b[38;5;241m0\u001b[39m] \u001b[38;5;241m+\u001b[39m \u001b[38;5;124m\"\u001b[39m\u001b[38;5;124m.pdf\u001b[39m\u001b[38;5;124m\"\u001b[39m\n\u001b[1;32m     42\u001b[0m Exporter \u001b[38;5;241m=\u001b[39m get_exporter(exporter_type\u001b[38;5;241m=\u001b[39mexporter_type)\n\u001b[0;32m---> 43\u001b[0m \u001b[43mExporter\u001b[49m\u001b[38;5;241;43m.\u001b[39;49m\u001b[43mconvert_notebook\u001b[49m\u001b[43m(\u001b[49m\u001b[43mnb_path\u001b[49m\u001b[43m,\u001b[49m\u001b[43m \u001b[49m\u001b[43mpdf_name\u001b[49m\u001b[43m,\u001b[49m\u001b[43m \u001b[49m\u001b[38;5;241;43m*\u001b[39;49m\u001b[38;5;241;43m*\u001b[39;49m\u001b[43mkwargs\u001b[49m\u001b[43m)\u001b[49m\n\u001b[1;32m     45\u001b[0m \u001b[38;5;28;01mreturn\u001b[39;00m pdf_name\n",
      "File \u001b[0;32m/mnt/SHARED_PARTITION/docs/GitHub/materials-fa24/.venv/lib/python3.9/site-packages/otter/export/exporters/via_latex.py:84\u001b[0m, in \u001b[0;36mPDFViaLatexExporter.convert_notebook\u001b[0;34m(cls, nb_path, dest, xecjk, **kwargs)\u001b[0m\n\u001b[1;32m     78\u001b[0m     \u001b[38;5;28;01mif\u001b[39;00m xecjk:\n\u001b[1;32m     79\u001b[0m         message \u001b[38;5;241m+\u001b[39m\u001b[38;5;241m=\u001b[39m (\n\u001b[1;32m     80\u001b[0m             \u001b[38;5;124m\"\u001b[39m\u001b[38;5;130;01m\\n\u001b[39;00m\u001b[38;5;130;01m\\n\u001b[39;00m\u001b[38;5;124mIf the error above is related to xeCJK or fandol in LaTeX \u001b[39m\u001b[38;5;124m\"\u001b[39m\n\u001b[1;32m     81\u001b[0m             \u001b[38;5;124m\"\u001b[39m\u001b[38;5;124mand you don\u001b[39m\u001b[38;5;124m'\u001b[39m\u001b[38;5;124mt require this functionality, try running again without \u001b[39m\u001b[38;5;124m\"\u001b[39m\n\u001b[1;32m     82\u001b[0m             \u001b[38;5;124m\"\u001b[39m\u001b[38;5;124mxecjk set to True or the --xecjk flag.\u001b[39m\u001b[38;5;124m\"\u001b[39m\n\u001b[1;32m     83\u001b[0m         )\n\u001b[0;32m---> 84\u001b[0m     \u001b[38;5;28;01mraise\u001b[39;00m ExportFailedException(message)\n\u001b[1;32m     86\u001b[0m \u001b[38;5;28;01mfinally\u001b[39;00m:\n\u001b[1;32m     87\u001b[0m     nbconvert\u001b[38;5;241m.\u001b[39mTemplateExporter\u001b[38;5;241m.\u001b[39mtemplate_name \u001b[38;5;241m=\u001b[39m orig_template_name\n",
      "\u001b[0;31mExportFailedException\u001b[0m: There was an error generating your LaTeX; showing full error message:\n    Failed to run \"['xelatex', 'notebook.tex', '-quiet']\" command:\n    This is XeTeX, Version 3.141592653-2.6-0.999995 (TeX Live 2023) (preloaded format=xelatex)\n     restricted \\write18 enabled.\n    entering extended mode\n    (./notebook.tex\n    LaTeX2e <2022-11-01> patch level 1\n    L3 programming layer <2023-02-22>\n    (/usr/share/texlive/texmf-dist/tex/latex/base/article.cls\n    Document Class: article 2022/07/02 v1.4n Standard LaTeX document class\n    (/usr/share/texlive/texmf-dist/tex/latex/base/size10.clo))\n    (/usr/share/texlive/texmf-dist/tex/latex/graphics/graphicx.sty\n    (/usr/share/texlive/texmf-dist/tex/latex/graphics/keyval.sty)\n    (/usr/share/texlive/texmf-dist/tex/latex/graphics/graphics.sty\n    (/usr/share/texlive/texmf-dist/tex/latex/graphics/trig.sty)\n    (/usr/share/texlive/texmf-dist/tex/latex/graphics-cfg/graphics.cfg)\n    (/usr/share/texlive/texmf-dist/tex/latex/graphics-def/xetex.def)))\n    (/usr/share/texlive/texmf-dist/tex/latex/caption/caption.sty\n    (/usr/share/texlive/texmf-dist/tex/latex/caption/caption3.sty))\n    (/usr/share/texlive/texmf-dist/tex/latex/float/float.sty)\n    (/usr/share/texlive/texmf-dist/tex/latex/xcolor/xcolor.sty\n    (/usr/share/texlive/texmf-dist/tex/latex/graphics-cfg/color.cfg)\n    (/usr/share/texlive/texmf-dist/tex/latex/graphics/mathcolor.ltx))\n    (/usr/share/texlive/texmf-dist/tex/latex/tools/enumerate.sty)\n    (/usr/share/texlive/texmf-dist/tex/latex/geometry/geometry.sty\n    (/usr/share/texlive/texmf-dist/tex/generic/iftex/ifvtex.sty\n    (/usr/share/texlive/texmf-dist/tex/generic/iftex/iftex.sty)))\n    (/usr/share/texlive/texmf-dist/tex/latex/amsmath/amsmath.sty\n    For additional information on amsmath, use the `?' option.\n    (/usr/share/texlive/texmf-dist/tex/latex/amsmath/amstext.sty\n    (/usr/share/texlive/texmf-dist/tex/latex/amsmath/amsgen.sty))\n    (/usr/share/texlive/texmf-dist/tex/latex/amsmath/amsbsy.sty)\n    (/usr/share/texlive/texmf-dist/tex/latex/amsmath/amsopn.sty))\n    (/usr/share/texlive/texmf-dist/tex/latex/amsfonts/amssymb.sty\n    (/usr/share/texlive/texmf-dist/tex/latex/amsfonts/amsfonts.sty))\n    (/usr/share/texlive/texmf-dist/tex/latex/base/textcomp.sty)\n\n    ! LaTeX Error: File `upquote.sty' not found.\n\n    Type X to quit or <RETURN> to proceed,\n    or enter new name. (Default extension: sty)\n\n    Enter file name: \n    ! Emergency stop.\n    <read *> \n         \n    l.47     \\usepackage\n                        {eurosym} % defines \\euro^^M\n    No pages of output.\n    Transcript written on notebook.log.\n"
     ]
    }
   ],
   "source": [
    "from otter.export import export_notebook\n",
    "from os import path\n",
    "from IPython.display import display, HTML\n",
    "name = 'hw11'\n",
    "export_notebook(f\"{name}.ipynb\", filtering=True, pagebreaks=True)\n",
    "if(path.exists(f'{name}.pdf')):\n",
    "    display(HTML(f\"Download your PDF <a href='{name}.pdf' download>here</a>.\"))\n",
    "else:\n",
    "    print(\"\\n Pdf generation failed, please try the other methods described above\")"
   ]
  },
  {
   "cell_type": "markdown",
   "id": "0a1ca0d7",
   "metadata": {
    "deletable": false,
    "editable": false
   },
   "source": [
    "## Submission\n",
    "\n",
    "Make sure you have run all cells in your notebook in order before running the cell below, so that all images/graphs appear in the output. The cell below will generate a zip file for you to submit. **Please save before exporting!**"
   ]
  },
  {
   "cell_type": "code",
   "execution_count": 36,
   "id": "21519998",
   "metadata": {
    "deletable": false,
    "editable": false
   },
   "outputs": [
    {
     "name": "stdout",
     "output_type": "stream",
     "text": [
      "Running your submission against local test cases...\n",
      "\n",
      "\n",
      "Your submission received the following results when run against available test cases:\n",
      "\n",
      "    q0_1 results: All test cases passed!\n",
      "\n",
      "    q1_2 results: All test cases passed!\n",
      "\n",
      "    q1_3 results: All test cases passed!\n",
      "\n",
      "    q1_4 results: All test cases passed!\n",
      "\n",
      "    q1_5 results: All test cases passed!\n",
      "\n",
      "    q2_1 results: All test cases passed!\n",
      "\n",
      "    q2_2 results: All test cases passed!\n",
      "\n",
      "    q2_3 results: All test cases passed!\n",
      "\n",
      "    q2_4 results: All test cases passed!\n",
      "\n",
      "    q2_5 results: All test cases passed!\n",
      "\n",
      "    q2_6 results: All test cases passed!\n"
     ]
    },
    {
     "data": {
      "text/html": [
       "\n",
       "                    <p>\n",
       "                        Your submission has been exported. Click\n",
       "                        <a href=\"hw11_2025_05_03T12_49_46_682801.zip\" download=\"hw11_2025_05_03T12_49_46_682801.zip\" target=\"_blank\">here</a> to download\n",
       "                        the zip file.\n",
       "                    </p>\n",
       "                "
      ],
      "text/plain": [
       "<IPython.core.display.HTML object>"
      ]
     },
     "metadata": {},
     "output_type": "display_data"
    }
   ],
   "source": [
    "# Save your notebook first, then run this cell to export your submission.\n",
    "grader.export(pdf=False, run_tests=True)"
   ]
  },
  {
   "cell_type": "markdown",
   "id": "2c3dc5cf",
   "metadata": {},
   "source": [
    " "
   ]
  }
 ],
 "metadata": {
  "kernelspec": {
   "display_name": "Python 3 (ipykernel)",
   "language": "python",
   "name": "python3"
  },
  "language_info": {
   "codemirror_mode": {
    "name": "ipython",
    "version": 3
   },
   "file_extension": ".py",
   "mimetype": "text/x-python",
   "name": "python",
   "nbconvert_exporter": "python",
   "pygments_lexer": "ipython3",
   "version": "3.9.21"
  },
  "otter": {
   "OK_FORMAT": true,
   "tests": {
    "q0_1": {
     "name": "q0_1",
     "points": [
      0
     ],
     "suites": [
      {
       "cases": [
        {
         "code": ">>> len(secret_word) > 0\nTrue",
         "hidden": false,
         "locked": false
        }
       ],
       "scored": true,
       "setup": "",
       "teardown": "",
       "type": "doctest"
      }
     ]
    },
    "q1_2": {
     "name": "q1_2",
     "points": [
      0
     ],
     "suites": [
      {
       "cases": [
        {
         "code": ">>> # Ensure your correlation function returns one number between -1 and 1\n>>> abs(correlation(Table().with_columns('a', np.random.normal(0, 1, 10),'b', np.random.normal(0, 1, 10)), \"a\", \"b\")) <= 1\nTrue",
         "hidden": false,
         "locked": false
        }
       ],
       "scored": true,
       "setup": "",
       "teardown": "",
       "type": "doctest"
      }
     ]
    },
    "q1_3": {
     "name": "q1_3",
     "points": [
      0,
      0,
      2
     ],
     "suites": [
      {
       "cases": [
        {
         "code": ">>> type(fit_line(Table().with_columns('x', make_array(0, 1), 'y', make_array(1, 3)), \"x\", \"y\")) == np.ndarray\nTrue",
         "hidden": false,
         "locked": false
        },
        {
         "code": ">>> len(fit_line(Table().with_columns('x', make_array(0, 1), 'y', make_array(1, 3)), \"x\", \"y\")) == 2\nTrue",
         "hidden": false,
         "locked": false
        },
        {
         "code": ">>> np.allclose(np.round(fit_line(Table().with_columns('x', make_array(0, 1), 'y', make_array(1, 3)), \"x\", \"y\"), 5), np.array([2, 1]))\nTrue",
         "hidden": false,
         "locked": false
        }
       ],
       "scored": true,
       "setup": "",
       "teardown": "",
       "type": "doctest"
      }
     ]
    },
    "q1_4": {
     "name": "q1_4",
     "points": null,
     "suites": [
      {
       "cases": [
        {
         "code": ">>> len(resampled_slopes) == 1000\nTrue",
         "hidden": false,
         "locked": false
        }
       ],
       "scored": true,
       "setup": "",
       "teardown": "",
       "type": "doctest"
      }
     ]
    },
    "q1_5": {
     "name": "q1_5",
     "points": [
      0,
      0
     ],
     "suites": [
      {
       "cases": [
        {
         "code": ">>> lower_end > 0\nTrue",
         "hidden": false,
         "locked": false
        },
        {
         "code": ">>> upper_end < 4\nTrue",
         "hidden": false,
         "locked": false
        }
       ],
       "scored": true,
       "setup": "",
       "teardown": "",
       "type": "doctest"
      }
     ]
    },
    "q2_1": {
     "name": "q2_1",
     "points": [
      0
     ],
     "suites": [
      {
       "cases": [
        {
         "code": ">>> type(egg_weight_eight) in set([float, np.float32, np.float64])\nTrue",
         "hidden": false,
         "locked": false
        }
       ],
       "scored": true,
       "setup": "",
       "teardown": "",
       "type": "doctest"
      }
     ]
    },
    "q2_2": {
     "name": "q2_2",
     "points": [
      0
     ],
     "suites": [
      {
       "cases": [
        {
         "code": ">>> type(experts_egg) in set([float, np.float32, np.float64])\nTrue",
         "hidden": false,
         "locked": false
        }
       ],
       "scored": true,
       "setup": "",
       "teardown": "",
       "type": "doctest"
      }
     ]
    },
    "q2_3": {
     "name": "q2_3",
     "points": [
      0
     ],
     "suites": [
      {
       "cases": [
        {
         "code": ">>> len(compute_resampled_line(Table().with_columns('x', make_array(0, 1), 'y', make_array(1, 3)), \"x\", \"y\")) == 2\nTrue",
         "hidden": false,
         "locked": false
        }
       ],
       "scored": true,
       "setup": "",
       "teardown": "",
       "type": "doctest"
      }
     ]
    },
    "q2_4": {
     "name": "q2_4",
     "points": null,
     "suites": [
      {
       "cases": [
        {
         "code": ">>> len(predictions_for_eight) == regression_lines.num_rows\nTrue",
         "hidden": false,
         "locked": false
        }
       ],
       "scored": true,
       "setup": "",
       "teardown": "",
       "type": "doctest"
      }
     ]
    },
    "q2_5": {
     "name": "q2_5",
     "points": [
      0,
      0
     ],
     "suites": [
      {
       "cases": [
        {
         "code": ">>> lower_bound > 5\nTrue",
         "hidden": false,
         "locked": false
        },
        {
         "code": ">>> upper_bound < 6.5\nTrue",
         "hidden": false,
         "locked": false
        }
       ],
       "scored": true,
       "setup": "",
       "teardown": "",
       "type": "doctest"
      }
     ]
    },
    "q2_6": {
     "name": "q2_6",
     "points": [
      0
     ],
     "suites": [
      {
       "cases": [
        {
         "code": ">>> type(plover_statements) == np.ndarray\nTrue",
         "hidden": false,
         "locked": false
        }
       ],
       "scored": true,
       "setup": "",
       "teardown": "",
       "type": "doctest"
      }
     ]
    }
   }
  }
 },
 "nbformat": 4,
 "nbformat_minor": 5
}
