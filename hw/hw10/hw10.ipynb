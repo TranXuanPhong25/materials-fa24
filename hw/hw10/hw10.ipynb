{
 "cells": [
  {
   "cell_type": "code",
   "id": "c7b9ba77",
   "metadata": {
    "deletable": false,
    "editable": false,
    "ExecuteTime": {
     "end_time": "2025-04-20T06:25:46.873112Z",
     "start_time": "2025-04-20T06:25:45.895225Z"
    }
   },
   "source": [
    "# Initialize Otter\n",
    "import otter\n",
    "from matplotlib.pyplot import scatter\n",
    "\n",
    "grader = otter.Notebook(\"hw10.ipynb\")"
   ],
   "outputs": [],
   "execution_count": 1
  },
  {
   "cell_type": "markdown",
   "id": "032c3615",
   "metadata": {},
   "source": [
    "<img src=\"data8logo.png\" alt=\"Data 8 Logo\" style=\"width: 15%; float: right; padding: 1%; margin-right: 2%;\"/>\n",
    "\n",
    "# Homework 10: Linear Regression\n",
    "\n",
    "**Helpful Resource:**\n",
    "\n",
    "- [Python Reference](http://data8.org/fa24/reference/): Cheat sheet of helpful array & table methods used in Data 8!\n",
    "\n",
    "**Recommended Readings**: \n",
    "\n",
    "* [Correlation](https://inferentialthinking.com/chapters/15/1/Correlation.html)\n",
    "* [The Regression Line](https://www.inferentialthinking.com/chapters/15/2/Regression_Line.html)\n",
    "* [Method of Least Squares](https://www.inferentialthinking.com/chapters/15/3/Method_of_Least_Squares.html)\n",
    "* [Least Squares Regression](https://www.inferentialthinking.com/chapters/15/4/Least_Squares_Regression.html)"
   ]
  },
  {
   "attachments": {},
   "cell_type": "markdown",
   "id": "44d0647a",
   "metadata": {},
   "source": [
    "Please complete this notebook by filling in the cells provided. **Before you begin, execute the cell below to setup the notebook by importing some helpful libraries.** Each time you start your server, you will need to execute this cell again.\n",
    "\n",
    "For all problems that you must write explanations and sentences for, you **must** provide your answer in the designated space. Moreover, throughout this homework and all future ones, **please be sure to not re-assign variables throughout the notebook!** For example, if you use `max_temperature` in your answer to one question, do not reassign it later on. Otherwise, you will fail tests that you thought you were passing previously!\n",
    "\n",
    "**Deadline:**\n",
    "\n",
    "This assignment is **due Wednesday, 11/13 at 5:00pm PT**. Submissions after this time will be accepted for 24 hours and will incur a 20% penalty. Any submissions later than this 24 hour period will not be accepted unless an extension has been granted as per the [policies](http://data8.org/fa24/policies/) page. Turn it in by Tuesday, 11/12 at 5:00pm PT for 5 extra credit points.\n",
    "\n",
    "<span style=\"color:red\">**Note: This homework has hidden tests on it. That means even though tests may say 100% passed, it doesn't mean your final grade will be 100%. We will be running more tests for correctness once everyone turns in the homework.**</span>\n",
    "\n",
    "Directly sharing answers is not okay, but discussing problems with the course staff or with other students is encouraged. Refer to the [policies](http://data8.org/fa24/policies/#learning-cooperatively) page to learn more about how to learn cooperatively.\n",
    "\n",
    "You should start early so that you have time to get help if you're stuck. Office hours are held Monday through Friday in [Warren Hall](https://www.berkeley.edu/map?warren) 101B. The office hours schedule appears [here](http://data8.org/fa24/officehours/)."
   ]
  },
  {
   "cell_type": "markdown",
   "id": "3b94911b",
   "metadata": {},
   "source": [
    "---\n",
    "\n",
    "The point breakdown for this assignment is given in the table below:\n",
    "| Category | Points |\n",
    "| --- | --- |\n",
    "| Autograder (Coding questions) | 56 |\n",
    "| Written | 44 |\n",
    "| **Total** | 100 |"
   ]
  },
  {
   "cell_type": "code",
   "id": "c066111a",
   "metadata": {
    "ExecuteTime": {
     "end_time": "2025-04-20T06:25:54.339424Z",
     "start_time": "2025-04-20T06:25:53.095730Z"
    }
   },
   "source": [
    "# Run this cell to set up the notebook, but please don't change it.\n",
    "\n",
    "import numpy as np\n",
    "from datascience import * \n",
    "\n",
    "# These lines do some fancy plotting magic.\n",
    "import matplotlib\n",
    "%matplotlib inline\n",
    "import matplotlib.pyplot as plt\n",
    "plt.style.use('fivethirtyeight')\n",
    "import warnings\n",
    "warnings.simplefilter('ignore', FutureWarning)\n",
    "from datetime import datetime"
   ],
   "outputs": [],
   "execution_count": 2
  },
  {
   "attachments": {},
   "cell_type": "markdown",
   "id": "3711929e",
   "metadata": {},
   "source": [
    "<hr style=\"border: 5px solid #003262;\" />\n",
    "<hr style=\"border: 1px solid #fdb515;\" />\n",
    "\n",
    "## 1. Linear Regression Setup"
   ]
  },
  {
   "attachments": {},
   "cell_type": "markdown",
   "id": "458092a5",
   "metadata": {},
   "source": [
    "When performing linear regression, we need to compute several important quantities which will be used throughout our analysis. **Unless otherwise specified when asked to make a prediction please assume we are predicting y from x throughout this assignment.** To help with our later analysis, we will begin by writing some of these functions and understanding what they can do for us."
   ]
  },
  {
   "cell_type": "markdown",
   "id": "1650768f",
   "metadata": {},
   "source": [
    "---\n",
    "\n",
    "**Question 1.1.** Define a function `standard_units` that converts a given array to standard units. **(3 points)**\n",
    "\n",
    "*Hint:* You may find the `np.mean` and `np.std` functions helpful.\n"
   ]
  },
  {
   "cell_type": "code",
   "id": "2031de00",
   "metadata": {
    "tags": [],
    "ExecuteTime": {
     "end_time": "2025-04-20T06:31:34.279226Z",
     "start_time": "2025-04-20T06:31:34.276355Z"
    }
   },
   "source": [
    "def standard_units(data):\n",
    "    return (data-np.mean(data)) / np.std(data)"
   ],
   "outputs": [],
   "execution_count": 3
  },
  {
   "cell_type": "code",
   "id": "daf8cce2",
   "metadata": {
    "deletable": false,
    "editable": false,
    "ExecuteTime": {
     "end_time": "2025-04-20T06:31:37.621837Z",
     "start_time": "2025-04-20T06:31:37.602514Z"
    }
   },
   "source": [
    "grader.check(\"q1_1\")"
   ],
   "outputs": [
    {
     "data": {
      "text/plain": [
       "q1_1 results: All test cases passed!"
      ],
      "text/html": [
       "<p><strong><pre style='display: inline;'>q1_1</pre></strong> passed! 🌈</p>"
      ]
     },
     "execution_count": 4,
     "metadata": {},
     "output_type": "execute_result"
    }
   ],
   "execution_count": 4
  },
  {
   "cell_type": "markdown",
   "id": "23a7b791",
   "metadata": {},
   "source": [
    "---\n",
    "\n",
    "**Question 1.2.** Which of the following are true about standard units? Assume we have converted an array of data into standard units using the function above. **(5 points)**\n",
    "\n",
    "1. The unit of all our data when converted into standard units is the same as the unit of the original data.\n",
    "2. The sum of all our data when converted into standard units is 0.\n",
    "3. The standard deviation of all our data when converted into standard units is 1.\n",
    "4. Adding a constant, C, to our original data has no impact on the resultant data when converted to standard units.\n",
    "5. Multiplying our original data by a positive constant, C (>0), has no impact on the resultant data when converted to standard units.\n",
    "\n",
    "Assign `standard_array` to an array of your selections, in increasing numerical order. For example, if you wanted to select options 1, 3, and 5,\n",
    "you would assign `standard_array` to `make_array(1, 3, 5)`.\n"
   ]
  },
  {
   "cell_type": "code",
   "id": "d6db5b6d",
   "metadata": {
    "tags": [],
    "ExecuteTime": {
     "end_time": "2025-04-20T06:48:41.256470Z",
     "start_time": "2025-04-20T06:48:41.254299Z"
    }
   },
   "source": "standard_array = make_array(2,4,5,5)",
   "outputs": [],
   "execution_count": 7
  },
  {
   "cell_type": "code",
   "id": "76c3c1c7",
   "metadata": {
    "deletable": false,
    "editable": false,
    "ExecuteTime": {
     "end_time": "2025-04-20T06:48:42.557055Z",
     "start_time": "2025-04-20T06:48:42.549950Z"
    }
   },
   "source": [
    "grader.check(\"q1_2\")"
   ],
   "outputs": [
    {
     "data": {
      "text/plain": [
       "q1_2 results: All test cases passed!"
      ],
      "text/html": [
       "<p><strong><pre style='display: inline;'>q1_2</pre></strong> passed! 💯</p>"
      ]
     },
     "execution_count": 8,
     "metadata": {},
     "output_type": "execute_result"
    }
   ],
   "execution_count": 8
  },
  {
   "cell_type": "markdown",
   "id": "d5501eef",
   "metadata": {},
   "source": [
    "---\n",
    "\n",
    "**Question 1.3.** Define a function `correlation` that computes the correlation between 2 arrays of data in original units. **(3 points)**\n",
    "\n",
    "*Hint:* Feel free to use functions you have defined previously.\n"
   ]
  },
  {
   "cell_type": "code",
   "id": "97f4b238",
   "metadata": {
    "tags": [],
    "ExecuteTime": {
     "end_time": "2025-04-20T06:52:05.945559Z",
     "start_time": "2025-04-20T06:52:05.942708Z"
    }
   },
   "source": [
    "def correlation(x, y):\n",
    "    return np.mean(standard_units(x)*standard_units(y))"
   ],
   "outputs": [],
   "execution_count": 13
  },
  {
   "cell_type": "code",
   "id": "3fcbac0d",
   "metadata": {
    "deletable": false,
    "editable": false,
    "ExecuteTime": {
     "end_time": "2025-04-20T06:52:07.470375Z",
     "start_time": "2025-04-20T06:52:07.464032Z"
    }
   },
   "source": [
    "grader.check(\"q1_3\")"
   ],
   "outputs": [
    {
     "data": {
      "text/plain": [
       "q1_3 results: All test cases passed!"
      ],
      "text/html": [
       "<p><strong><pre style='display: inline;'>q1_3</pre></strong> passed! 🚀</p>"
      ]
     },
     "execution_count": 14,
     "metadata": {},
     "output_type": "execute_result"
    }
   ],
   "execution_count": 14
  },
  {
   "cell_type": "markdown",
   "id": "702027f5",
   "metadata": {},
   "source": [
    "---\n",
    "\n",
    "**Question 1.4.** Which of the following are true about the correlation coefficient $r$? **(5 points)**\n",
    "\n",
    "1. The correlation coefficient measures the strength of a linear relationship.\n",
    "2. When looking at the existing data, a correlation coefficient of 1.0 means an increase in one variable always means an increase in the other variable.\n",
    "3. The correlation coefficient is the slope of the regression line in standard units.\n",
    "4. The correlation coefficient stays the same if we swap our x-axis and y-axis.\n",
    "5. If we add a constant, C, to our original data, our correlation coefficient will increase by the same C.\n",
    "\n",
    "Assign `r_array` to an array of your selections, in increasing numerical order. For example, if you wanted to select options 1, 3, and 5,\n",
    "you would assign `r_array` to `make_array(1, 3, 5)`.\n"
   ]
  },
  {
   "cell_type": "code",
   "id": "642d792c",
   "metadata": {
    "tags": [],
    "ExecuteTime": {
     "end_time": "2025-04-20T07:18:09.935983Z",
     "start_time": "2025-04-20T07:18:09.932565Z"
    }
   },
   "source": "r_array = make_array(1,2,3,4)",
   "outputs": [],
   "execution_count": 15
  },
  {
   "cell_type": "code",
   "id": "a6c3de01",
   "metadata": {
    "deletable": false,
    "editable": false,
    "ExecuteTime": {
     "end_time": "2025-04-20T07:18:11.663267Z",
     "start_time": "2025-04-20T07:18:11.655033Z"
    }
   },
   "source": [
    "grader.check(\"q1_4\")"
   ],
   "outputs": [
    {
     "data": {
      "text/plain": [
       "q1_4 results: All test cases passed!"
      ],
      "text/html": [
       "<p><strong><pre style='display: inline;'>q1_4</pre></strong> passed! 🌟</p>"
      ]
     },
     "execution_count": 16,
     "metadata": {},
     "output_type": "execute_result"
    }
   ],
   "execution_count": 16
  },
  {
   "cell_type": "markdown",
   "id": "0d08d7e2",
   "metadata": {},
   "source": [
    "---\n",
    "\n",
    "**Question 1.5.** Define a function `slope` that computes the slope of our line of best fit (to predict y given x), given two arrays of data in original units. Assume we want to create a line of best fit in original units. **(3 points)**\n",
    "\n",
    "*Hint:* Feel free to use functions you have defined previously.\n"
   ]
  },
  {
   "cell_type": "code",
   "id": "4820befa",
   "metadata": {
    "tags": [],
    "ExecuteTime": {
     "end_time": "2025-04-20T07:21:44.253028Z",
     "start_time": "2025-04-20T07:21:44.250508Z"
    }
   },
   "source": [
    "def slope(x, y):\n",
    "    r = correlation(x, y)\n",
    "    return r * np.std(y)/np.std(x)"
   ],
   "outputs": [],
   "execution_count": 22
  },
  {
   "cell_type": "code",
   "id": "e3d9a7c8",
   "metadata": {
    "deletable": false,
    "editable": false,
    "ExecuteTime": {
     "end_time": "2025-04-20T07:21:45.890017Z",
     "start_time": "2025-04-20T07:21:45.879380Z"
    }
   },
   "source": "grader.check(\"q1_5\")",
   "outputs": [
    {
     "data": {
      "text/plain": [
       "q1_5 results: All test cases passed!"
      ],
      "text/html": [
       "<p><strong><pre style='display: inline;'>q1_5</pre></strong> passed! 💯</p>"
      ]
     },
     "execution_count": 23,
     "metadata": {},
     "output_type": "execute_result"
    }
   ],
   "execution_count": 23
  },
  {
   "cell_type": "markdown",
   "id": "339236c5",
   "metadata": {},
   "source": [
    "---\n",
    "\n",
    "**Question 1.6.** Which of the following are true about the slope of our line of best fit? Assume `x` refers to the value of one variable that we use to predict the value of `y`. **(5 points)**\n",
    "\n",
    "1. In original units, the slope has the unit: unit of x / unit of y.\n",
    "2. In standard units, the slope is unitless.\n",
    "3. In original units, the slope is unchanged by swapping x and y.\n",
    "4. In standard units, a slope of 1 means our data is perfectly linearly correlated.\n",
    "5. In original units and standard units, the slope always has the same positive or negative sign.\n",
    "\n",
    "Assign `slope_array` to an array of your selections, in increasing numerical order. For example, if you wanted to select options 1, 3, and 5,\n",
    "you would assign `slope_array` to `make_array(1, 3, 5)`.\n"
   ]
  },
  {
   "cell_type": "code",
   "id": "3388b689",
   "metadata": {
    "tags": [],
    "ExecuteTime": {
     "end_time": "2025-04-20T07:29:06.167075Z",
     "start_time": "2025-04-20T07:29:06.164445Z"
    }
   },
   "source": "slope_array = make_array(2,4,5)",
   "outputs": [],
   "execution_count": 24
  },
  {
   "cell_type": "code",
   "id": "e7a6b6a6",
   "metadata": {
    "deletable": false,
    "editable": false,
    "ExecuteTime": {
     "end_time": "2025-04-20T07:29:07.392917Z",
     "start_time": "2025-04-20T07:29:07.383712Z"
    }
   },
   "source": [
    "grader.check(\"q1_6\")"
   ],
   "outputs": [
    {
     "data": {
      "text/plain": [
       "q1_6 results: All test cases passed!"
      ],
      "text/html": [
       "<p><strong><pre style='display: inline;'>q1_6</pre></strong> passed! 🙌</p>"
      ]
     },
     "execution_count": 25,
     "metadata": {},
     "output_type": "execute_result"
    }
   ],
   "execution_count": 25
  },
  {
   "cell_type": "markdown",
   "id": "a3afaf86",
   "metadata": {},
   "source": [
    "---\n",
    "\n",
    "**Question 1.7.** Define a function `intercept` that computes the intercept of our line of best fit (to predict y given x), given 2 arrays of data in original units. Assume we want to create a line of best fit in original units. **(3 points)**\n",
    "\n",
    "*Hint:* Feel free to use functions you have defined previously.\n"
   ]
  },
  {
   "cell_type": "code",
   "id": "cb6d5deb",
   "metadata": {
    "tags": [],
    "ExecuteTime": {
     "end_time": "2025-04-20T07:29:45.040470Z",
     "start_time": "2025-04-20T07:29:45.037055Z"
    }
   },
   "source": [
    "def intercept(x, y):\n",
    "    return np.mean(y) - slope(x, y) * np.mean(x)"
   ],
   "outputs": [],
   "execution_count": 26
  },
  {
   "cell_type": "code",
   "id": "51710ed8",
   "metadata": {
    "deletable": false,
    "editable": false,
    "ExecuteTime": {
     "end_time": "2025-04-20T07:29:45.898652Z",
     "start_time": "2025-04-20T07:29:45.887952Z"
    }
   },
   "source": [
    "grader.check(\"q1_7\")"
   ],
   "outputs": [
    {
     "data": {
      "text/plain": [
       "q1_7 results: All test cases passed!"
      ],
      "text/html": [
       "<p><strong><pre style='display: inline;'>q1_7</pre></strong> passed! ✨</p>"
      ]
     },
     "execution_count": 27,
     "metadata": {},
     "output_type": "execute_result"
    }
   ],
   "execution_count": 27
  },
  {
   "cell_type": "markdown",
   "id": "784b877e",
   "metadata": {},
   "source": [
    "---\n",
    "\n",
    "**Question 1.8.** Which of the following are true about the intercept of our line of best fit? Assume `x` refers to the value of one variable that we use to predict the value of `y`. **(5 points)**\n",
    "\n",
    "1. In original units, the intercept has the same unit as the y values.\n",
    "2. In original units, the intercept has the same unit as the x values.\n",
    "3. In original units, the slope and intercept have the same unit.\n",
    "4. In standard units, the intercept for the regression line is 0.\n",
    "5. In original units and standard units, the intercept always has the same numerical value.\n",
    "\n",
    "Assign `intercept_array` to an array of your selections, in increasing numerical order. For example, if you wanted to select options 1, 3, and 5,\n",
    "you would assign `intercept_array` to `make_array(1, 3, 5)`.\n"
   ]
  },
  {
   "cell_type": "code",
   "id": "dec5be36",
   "metadata": {
    "tags": [],
    "ExecuteTime": {
     "end_time": "2025-04-20T07:33:00.774093Z",
     "start_time": "2025-04-20T07:33:00.769855Z"
    }
   },
   "source": "intercept_array = make_array(1,4)",
   "outputs": [],
   "execution_count": 28
  },
  {
   "cell_type": "code",
   "id": "c10ed23c",
   "metadata": {
    "deletable": false,
    "editable": false,
    "ExecuteTime": {
     "end_time": "2025-04-20T07:33:03.037565Z",
     "start_time": "2025-04-20T07:33:03.028460Z"
    }
   },
   "source": [
    "grader.check(\"q1_8\")"
   ],
   "outputs": [
    {
     "data": {
      "text/plain": [
       "q1_8 results: All test cases passed!"
      ],
      "text/html": [
       "<p><strong><pre style='display: inline;'>q1_8</pre></strong> passed! 🍀</p>"
      ]
     },
     "execution_count": 29,
     "metadata": {},
     "output_type": "execute_result"
    }
   ],
   "execution_count": 29
  },
  {
   "cell_type": "markdown",
   "id": "dfbd2230",
   "metadata": {},
   "source": [
    "---\n",
    "\n",
    "**Question 1.9.** Define a function `predict` that takes in a table and 2 column names, and returns an array of predictions. The predictions should be created using a fitted **regression line**. We are predicting `\"col2\"` from `\"col1\"`, both in original units. **(5 points)**\n",
    "\n",
    "*Hint 1:* Feel free to use functions you have defined previously.\n",
    "\n",
    "*Hint 2:* Re-reading [15.2](https://inferentialthinking.com/chapters/15/2/Regression_Line.html#the-regression-line) might be helpful here.\n",
    "\n",
    "Note: The public tests are quite comprehensive for this question, so passing them means that your function most likely works correctly.\n"
   ]
  },
  {
   "cell_type": "code",
   "id": "3513d80b",
   "metadata": {
    "tags": [],
    "ExecuteTime": {
     "end_time": "2025-04-20T07:41:35.920684Z",
     "start_time": "2025-04-20T07:41:35.916062Z"
    }
   },
   "source": [
    "def predict(tbl, col1, col2):\n",
    "    x = tbl.column(col1)\n",
    "    y = tbl.column(col2)\n",
    "    return intercept(x, y) + slope(x, y) * x"
   ],
   "outputs": [],
   "execution_count": 54
  },
  {
   "cell_type": "code",
   "id": "0a27353c",
   "metadata": {
    "deletable": false,
    "editable": false,
    "ExecuteTime": {
     "end_time": "2025-04-20T07:41:36.522817Z",
     "start_time": "2025-04-20T07:41:36.511786Z"
    }
   },
   "source": [
    "grader.check(\"q1_9\")"
   ],
   "outputs": [
    {
     "data": {
      "text/plain": [
       "q1_9 results: All test cases passed!"
      ],
      "text/html": [
       "<p><strong><pre style='display: inline;'>q1_9</pre></strong> passed! 🍀</p>"
      ]
     },
     "execution_count": 55,
     "metadata": {},
     "output_type": "execute_result"
    }
   ],
   "execution_count": 55
  },
  {
   "attachments": {},
   "cell_type": "markdown",
   "id": "81cac628",
   "metadata": {},
   "source": [
    "<hr style=\"border: 5px solid #003262;\" />\n",
    "<hr style=\"border: 1px solid #fdb515;\" />\n",
    "\n",
    "## 2. FIFA Predictions"
   ]
  },
  {
   "attachments": {},
   "cell_type": "markdown",
   "id": "d20e78df",
   "metadata": {},
   "source": [
    "The following data was scraped from [sofifa.com](https://sofifa.com/), a website dedicated to collecting information from FIFA video games. The dataset consists of all players in FIFA 22 and their corresponding attributes. We have truncated the dataset to a limited number of rows (100) to ease with our visualizations and analysis. Since we’re learning about linear regression, we will look specifically for a linear association between various player attributes. **To help with understanding where the line of best fit generated in linear regression comes from please do not use the `.fit_line` argument in `.scatter` at any point on question 2 unless the code was provided for you.**\n",
    "\n",
    "Feel free to read more about the video game on [Wikipedia](https://en.wikipedia.org/wiki/FIFA_22)."
   ]
  },
  {
   "cell_type": "code",
   "id": "5956a832",
   "metadata": {
    "ExecuteTime": {
     "end_time": "2025-04-20T09:22:33.281131Z",
     "start_time": "2025-04-20T09:22:33.263751Z"
    }
   },
   "source": [
    "# Run this cell to load the data\n",
    "fifa = Table.read_table('fifa22.csv')\n",
    "\n",
    "# Select a subset of columns to analyze (there are 110 columns in the original dataset)\n",
    "fifa = fifa.select(\"short_name\", \"overall\", \"value_eur\", \"wage_eur\", \"age\", \"pace\", \"shooting\", \"passing\", \"attacking_finishing\")\n",
    "fifa.show(5)"
   ],
   "outputs": [
    {
     "data": {
      "text/plain": [
       "<IPython.core.display.HTML object>"
      ],
      "text/html": [
       "<table border=\"1\" class=\"dataframe\">\n",
       "    <thead>\n",
       "        <tr>\n",
       "            <th>short_name</th> <th>overall</th> <th>value_eur</th> <th>wage_eur</th> <th>age</th> <th>pace</th> <th>shooting</th> <th>passing</th> <th>attacking_finishing</th>\n",
       "        </tr>\n",
       "    </thead>\n",
       "    <tbody>\n",
       "        <tr>\n",
       "            <td>L. Messi         </td> <td>93     </td> <td>78000000 </td> <td>320000  </td> <td>34  </td> <td>85  </td> <td>92      </td> <td>91     </td> <td>95                 </td>\n",
       "        </tr>\n",
       "        <tr>\n",
       "            <td>R. Lewandowski   </td> <td>92     </td> <td>119500000</td> <td>270000  </td> <td>32  </td> <td>78  </td> <td>92      </td> <td>79     </td> <td>95                 </td>\n",
       "        </tr>\n",
       "        <tr>\n",
       "            <td>Cristiano Ronaldo</td> <td>91     </td> <td>45000000 </td> <td>270000  </td> <td>36  </td> <td>87  </td> <td>94      </td> <td>80     </td> <td>95                 </td>\n",
       "        </tr>\n",
       "        <tr>\n",
       "            <td>Neymar Jr        </td> <td>91     </td> <td>129000000</td> <td>270000  </td> <td>29  </td> <td>91  </td> <td>83      </td> <td>86     </td> <td>83                 </td>\n",
       "        </tr>\n",
       "        <tr>\n",
       "            <td>K. De Bruyne     </td> <td>91     </td> <td>125500000</td> <td>350000  </td> <td>30  </td> <td>76  </td> <td>86      </td> <td>93     </td> <td>82                 </td>\n",
       "        </tr>\n",
       "    </tbody>\n",
       "</table>\n",
       "<p>... (95 rows omitted)</p>"
      ]
     },
     "metadata": {},
     "output_type": "display_data"
    }
   ],
   "execution_count": 110
  },
  {
   "cell_type": "markdown",
   "id": "69944d0e",
   "metadata": {},
   "source": [
    "<!-- BEGIN QUESTION -->\n",
    "\n",
    "---\n",
    "\n",
    "**Question 2.1.** Before jumping into any statistical techniques, it’s important to see what the data looks like, because data visualizations allow us to uncover patterns in our data that would have otherwise been much more difficult to see. **(3 points)**\n",
    "\n",
    "Create a scatter plot with age on the x-axis (“age”), and the player’s value in Euros (“value_eur”) on the y-axis.\n"
   ]
  },
  {
   "cell_type": "code",
   "id": "afcafe12",
   "metadata": {
    "tags": [],
    "ExecuteTime": {
     "end_time": "2025-04-20T09:22:34.795017Z",
     "start_time": "2025-04-20T09:22:34.708907Z"
    }
   },
   "source": "plt.scatter(fifa['age'], fifa['value_eur'])",
   "outputs": [
    {
     "data": {
      "text/plain": [
       "<matplotlib.collections.PathCollection at 0x7f0c636b81c0>"
      ]
     },
     "execution_count": 111,
     "metadata": {},
     "output_type": "execute_result"
    },
    {
     "data": {
      "text/plain": [
       "<Figure size 640x480 with 1 Axes>"
      ],
      "image/png": "[encoded data removed]"
     },
     "metadata": {},
     "output_type": "display_data"
    }
   ],
   "execution_count": 111
  },
  {
   "cell_type": "markdown",
   "id": "aaa5175c",
   "metadata": {},
   "source": [
    "<!-- END QUESTION -->\n",
    "\n",
    "---\n",
    "\n",
    "**Question 2.2.** Does the correlation coefficient `r` for the data in our scatter plot in 2.1 look closest to 0, 0.75, or -0.75? **(3 points)**\n",
    "\n",
    "Assign `r_guess` to one of 0, 0.75, or -0.75.\n"
   ]
  },
  {
   "cell_type": "code",
   "id": "39387e60",
   "metadata": {
    "tags": [],
    "ExecuteTime": {
     "end_time": "2025-04-20T09:22:36.139448Z",
     "start_time": "2025-04-20T09:22:36.136489Z"
    }
   },
   "source": "r_guess = -0.75",
   "outputs": [],
   "execution_count": 112
  },
  {
   "cell_type": "code",
   "id": "b2d5226d",
   "metadata": {
    "deletable": false,
    "editable": false,
    "ExecuteTime": {
     "end_time": "2025-04-20T07:39:23.106496Z",
     "start_time": "2025-04-20T07:39:23.101459Z"
    }
   },
   "source": [
    "grader.check(\"q2_2\")"
   ],
   "outputs": [
    {
     "data": {
      "text/plain": [
       "q2_2 results: All test cases passed!"
      ],
      "text/html": [
       "<p><strong><pre style='display: inline;'>q2_2</pre></strong> passed! 🍀</p>"
      ]
     },
     "execution_count": 38,
     "metadata": {},
     "output_type": "execute_result"
    }
   ],
   "execution_count": 38
  },
  {
   "cell_type": "markdown",
   "id": "2049a557",
   "metadata": {},
   "source": [
    "<!-- BEGIN QUESTION -->\n",
    "\n",
    "---\n",
    "\n",
    "**Question 2.3.** Create a scatter plot with player age (\"age\") along the x-axis and both real player value (\"value_eur\") and predicted player value along the y-axis. The predictions should be created using a fitted **regression line**. The color of the dots for the real player values should be different from the color for the predicted player values. **(8 points)**\n",
    "\n",
    "*Hint 1:* Feel free to use functions you have defined previously.\n",
    "\n",
    "*Hint 2:* [15.2](https://inferentialthinking.com/chapters/15/2/Regression_Line.html#) and [7.3](https://inferentialthinking.com/chapters/07/3/Overlaid_Graphs.html#overlaid-scatter-plots) has examples of creating such scatter plots.\n"
   ]
  },
  {
   "cell_type": "code",
   "id": "31e2a83c",
   "metadata": {
    "tags": [],
    "ExecuteTime": {
     "end_time": "2025-04-20T09:22:38.117119Z",
     "start_time": "2025-04-20T09:22:37.892541Z"
    }
   },
   "source": [
    "predictions = predict(fifa, 'age', 'value_eur')\n",
    "fifa_with_predictions = fifa.with_columns('predicted_value', predictions)\n",
    "plt.scatter(fifa_with_predictions['age'], fifa_with_predictions['value_eur'], label='Real Value', color='blue')\n",
    "plt.scatter(fifa_with_predictions['age'], fifa_with_predictions['predicted_value'], label='Predicted Value', color='orange')"
   ],
   "outputs": [
    {
     "data": {
      "text/plain": [
       "<matplotlib.collections.PathCollection at 0x7f0c6803aeb0>"
      ]
     },
     "execution_count": 113,
     "metadata": {},
     "output_type": "execute_result"
    },
    {
     "data": {
      "text/plain": [
       "<Figure size 640x480 with 1 Axes>"
      ],
      "image/png": "[encoded data removed]"
     },
     "metadata": {},
     "output_type": "display_data"
    }
   ],
   "execution_count": 113
  },
  {
   "cell_type": "markdown",
   "id": "d7a8751a",
   "metadata": {},
   "source": [
    "<!-- END QUESTION -->\n",
    "\n",
    "<!-- BEGIN QUESTION -->\n",
    "\n",
    "---\n",
    "\n",
    "**Question 2.4.** Looking at the scatter plot you produced above, is linear regression a good model to use? If so, what features or characteristics make this model reasonable? If not, what features or characteristics make it unreasonable? **(5 points)**\n"
   ]
  },
  {
   "cell_type": "markdown",
   "id": "7ad55c6f",
   "metadata": {},
   "source": [
    "\n",
    "Linear regression is not a good model for this data. The scatter plot shows that the relationship between age and player value is not linear. There appears to be a curved relationship where player value tends to increase in early career years, peak around ages 25-30, and then decline sharply as players get older. This non-linear pattern means a straight line cannot effectively capture the relationship between age and value. Additionally, there's high variance in player values particularly for younger players, with some being extremely valuable while others have much lower values.\n",
    "<!-- END QUESTION -->\n",
    "\n",
    "<!-- BEGIN QUESTION -->\n",
    "\n",
    "---\n",
    "\n",
    "**Question 2.5.** In 2.3, we created a scatter plot **in original units**. Now, create a scatter plot with player age **in standard units** along the x-axis and both real and predicted player value **in standard units** along the y-axis. The color of the dots of the real and predicted values should be different. **(8 points)**\n",
    "\n",
    "*Hint:* Feel free to use functions you have defined previously.\n"
   ]
  },
  {
   "cell_type": "code",
   "id": "7f49f1fb",
   "metadata": {
    "tags": [],
    "ExecuteTime": {
     "end_time": "2025-04-20T09:22:39.624704Z",
     "start_time": "2025-04-20T09:22:39.548394Z"
    }
   },
   "source": [
    "age_su = standard_units(fifa_with_predictions['age'])\n",
    "value_su = standard_units(fifa_with_predictions['value_eur'])\n",
    "\n",
    "r = correlation(age_su, value_su)\n",
    "predictions_su = r* age_su\n",
    "fifa_su = Table().with_columns('predicted_value', predictions_su,\"value_eur\",value_su,\"age\",age_su,\"pace\",age_su)\n",
    "plt.scatter(fifa_su['age'], fifa_su['value_eur'], label='Real Value', color='blue')\n",
    "plt.scatter(fifa_su['age'], fifa_su['predicted_value'], label='Predicted Value', color='orange')"
   ],
   "outputs": [
    {
     "data": {
      "text/plain": [
       "<matplotlib.collections.PathCollection at 0x7f0c63d14a90>"
      ]
     },
     "execution_count": 114,
     "metadata": {},
     "output_type": "execute_result"
    },
    {
     "data": {
      "text/plain": [
       "<Figure size 640x480 with 1 Axes>"
      ],
      "image/png": "[encoded data removed]"
     },
     "metadata": {},
     "output_type": "display_data"
    }
   ],
   "execution_count": 114
  },
  {
   "cell_type": "markdown",
   "id": "be47f12a",
   "metadata": {},
   "source": [
    "<!-- END QUESTION -->\n",
    "\n",
    "<!-- BEGIN QUESTION -->\n",
    "\n",
    "---\n",
    "\n",
    "**Question 2.6.** Compare your plots in 2.3 and 2.5. What similarities do they share? What differences do they have? **(5 points)**\n"
   ]
  },
  {
   "cell_type": "markdown",
   "id": "a5bd4f81",
   "metadata": {},
   "source": [
    "### Similarities:\n",
    "- Both plots show the same underlying relationship between age and player value\n",
    "- The regression line passes through the center of the data in both plots\n",
    "- Both plots demonstrate that our model doesn't capture the non-linear relationship well\n",
    "### Differences:\n",
    "- In standard units, both axes are centered around 0 with similar scales\n",
    "- In standard units, the regression line has a slope equal to the correlation coefficient\n",
    "- The standard units plot has y-intercept exactly at 0, while the original units plot has an intercept that\n",
    "      represents the predicted value when age = 0\n",
    "- The spread of the data looks more uniform in standard units, while in original units the variance differs across different age ranges\n"
   ]
  },
  {
   "cell_type": "markdown",
   "id": "f1197009",
   "metadata": {},
   "source": [
    "<!-- END QUESTION -->\n",
    "\n",
    "---\n",
    "\n",
    "**Question 2.7.** Define a function `rmse` that takes in two arguments: a slope and an intercept for a potential regression line. The function should return the root mean squared error between the values predicted by a regression line with the given slope and intercept and the actual outcomes. **(6 points)**\n",
    "\n",
    "Assume we are still predicting “value_eur” from “age” in original units from the `fifa` table.\n"
   ]
  },
  {
   "cell_type": "code",
   "id": "8a4135ef",
   "metadata": {
    "tags": [],
    "ExecuteTime": {
     "end_time": "2025-04-20T09:29:39.634368Z",
     "start_time": "2025-04-20T09:29:39.630984Z"
    }
   },
   "source": [
    "def rmse(slope, intercept):\n",
    "    prdt = slope * fifa.column(\"age\") + intercept\n",
    "    errors = (prdt - fifa['value_eur'])\n",
    "    mse = np.mean((errors) ** 2)\n",
    "    return np.sqrt(mse)"
   ],
   "outputs": [],
   "execution_count": 122
  },
  {
   "cell_type": "code",
   "id": "edd84dc1",
   "metadata": {
    "deletable": false,
    "editable": false,
    "ExecuteTime": {
     "end_time": "2025-04-20T08:05:12.662940Z",
     "start_time": "2025-04-20T08:05:12.652447Z"
    }
   },
   "source": [
    "grader.check(\"q2_7\")"
   ],
   "outputs": [
    {
     "data": {
      "text/plain": [
       "q2_7 results: All test cases passed!"
      ],
      "text/html": [
       "<p><strong><pre style='display: inline;'>q2_7</pre></strong> passed! ✨</p>"
      ]
     },
     "execution_count": 74,
     "metadata": {},
     "output_type": "execute_result"
    }
   ],
   "execution_count": 74
  },
  {
   "cell_type": "markdown",
   "id": "8b95c86b",
   "metadata": {},
   "source": [
    "m<!-- BEGIN QUESTION -->\n",
    "\n",
    "---\n",
    "\n",
    "**Question 2.8.** Use the `rmse` function you defined along with `minimize` to find the least-squares regression parameters predicting player value from player age. Here's an [example](https://inferentialthinking.com/chapters/15/3/Method_of_Least_Squares.html#numerical-optimization) of using the `minimize` function from the textbook. **(10 points)**\n",
    "\n",
    "Then set `lsq_slope` and `lsq_intercept` to be the least-squares regression line slope and intercept, respectively.\n",
    "\n",
    "Finally, create a scatter plot like you did in 2.3 with player age (\"age\") along the x-axis and both real player value (\"value_eur\") and predicted player value along the y-axis. **Be sure to use your least-squares regression line to compute the predicted values.** The color of the dots for the real player values should be different from the color for the predicted player values.\n",
    "\n",
    "> **Note:** Your solution should not make any calls to the slope or intercept functions defined earlier.\n",
    "\n",
    "*Hint:* Your call to `minimize` will return an array of argument values that minimize the return value of the function passed to `minimize`."
   ]
  },
  {
   "cell_type": "code",
   "id": "cc1f5271",
   "metadata": {
    "tags": [],
    "ExecuteTime": {
     "end_time": "2025-04-20T09:29:41.612695Z",
     "start_time": "2025-04-20T09:29:41.509402Z"
    }
   },
   "source": [
    "\n",
    "minimized_parameters = minimize(rmse)\n",
    "lsq_slope = minimized_parameters[0]\n",
    "lsq_intercept =minimized_parameters[1]\n",
    "# This just prints your slope and intercept\n",
    "print(\"Slope: {:g} | Intercept: {:g}\".format(lsq_slope, lsq_intercept))\n",
    "lsq_predictions = lsq_slope * fifa.column(\"age\") + lsq_intercept\n",
    "fifa_with_lsq_predictions = fifa.with_columns('lsq_predicted_value', lsq_predictions)\n",
    "plt.scatter(fifa_with_lsq_predictions['age'], fifa_with_lsq_predictions['value_eur'], label='Real Value', color='blue')\n",
    "plt.scatter(fifa_with_lsq_predictions['age'], fifa_with_lsq_predictions['lsq_predicted_value'], label='Predicted Value', color='orange')\n"
   ],
   "outputs": [
    {
     "name": "stdout",
     "output_type": "stream",
     "text": [
      "Slope: -6.41462e+06 | Intercept: 2.55525e+08\n"
     ]
    },
    {
     "data": {
      "text/plain": [
       "<matplotlib.collections.PathCollection at 0x7f0c63341130>"
      ]
     },
     "execution_count": 123,
     "metadata": {},
     "output_type": "execute_result"
    },
    {
     "data": {
      "text/plain": [
       "<Figure size 640x480 with 1 Axes>"
      ],
      "image/png": "[encoded data removed]"
     },
     "metadata": {},
     "output_type": "display_data"
    }
   ],
   "execution_count": 123
  },
  {
   "cell_type": "markdown",
   "id": "91acdb5b",
   "metadata": {},
   "source": [
    "<!-- END QUESTION -->\n",
    "\n",
    "<!-- BEGIN QUESTION -->\n",
    "\n",
    "---\n",
    "\n",
    "**Question 2.9.** The resulting line you found in 2.8 should appear very similar to the line you found in 2.3. Why were we able to minimize RMSE to find nearly the same slope and intercept from the previous formulas? **(5 points)**\n",
    "\n",
    "*Hint:* Re-reading [15.3](https://inferentialthinking.com/chapters/15/3/Method_of_Least_Squares.html#the-least-squares-line) might be helpful here.\n"
   ]
  },
  {
   "metadata": {},
   "cell_type": "markdown",
   "source": [
    "\n",
    "We got nearly identical results because both methods fundamentally solve the same mathematical problem. The slope and intercept formulas used earlier are derived by minimizing the mean of squared errors (or equivalently, minimizing RMSE).\n",
    "\n",
    "When we derive the slope and intercept formulas analytically, we take the partial derivatives of the mean squared error with respect to slope and intercept, set them to zero, and solve the resulting system of equations. This gives us the exact formulas we used before.\n",
    "\n",
    "The numerical optimization approach with minimize is simply finding these same values through an iterative algorithm rather than using closed-form equations. Both approaches aim to find the line that minimizes the sum of squared vertical distances between the actual data points and the predicted values on the line."
   ],
   "id": "44863c06f8d81e64"
  },
  {
   "cell_type": "markdown",
   "id": "454e0dd7",
   "metadata": {},
   "source": [
    "<!-- END QUESTION -->\n",
    "\n",
    "---\n",
    "\n",
    "**Question 2.10** For which of the following error functions would we have resulted in the same slope and intercept values in 2.8 instead of using RMSE? Assume `error` is assigned to the actual values minus the predicted values. **(5 points)**\n",
    "\n",
    "1. `np.sum(error) ** 0.5`\n",
    "2. `np.sum(error ** 2)`\n",
    "3. `np.mean(error) ** 0.5`\n",
    "4. `np.mean(error ** 2)`\n",
    "\n",
    "Assign `error_array` to an array of your selections, in increasing numerical order. For example, if you wanted to select options 1, 3, and 5,\n",
    "you would assign `error_array` to `make_array(1, 3, 5)`.\n",
    "\n",
    "Hint: What was the purpose of RMSE? Are there any alternatives, and if so, does minimizing them them yield the same results as minimizing the RMSE? "
   ]
  },
  {
   "cell_type": "code",
   "id": "09ede7cd",
   "metadata": {
    "tags": [],
    "ExecuteTime": {
     "end_time": "2025-04-20T09:38:56.714635Z",
     "start_time": "2025-04-20T09:38:56.712030Z"
    }
   },
   "source": "error_array = make_array(2,4)",
   "outputs": [],
   "execution_count": 124
  },
  {
   "cell_type": "code",
   "id": "249f0c42",
   "metadata": {
    "deletable": false,
    "editable": false,
    "ExecuteTime": {
     "end_time": "2025-04-20T09:38:58.818254Z",
     "start_time": "2025-04-20T09:38:58.804017Z"
    }
   },
   "source": [
    "grader.check(\"q2_10\")"
   ],
   "outputs": [
    {
     "data": {
      "text/plain": [
       "q2_10 results: All test cases passed!"
      ],
      "text/html": [
       "<p><strong><pre style='display: inline;'>q2_10</pre></strong> passed! 🍀</p>"
      ]
     },
     "execution_count": 125,
     "metadata": {},
     "output_type": "execute_result"
    }
   ],
   "execution_count": 125
  },
  {
   "cell_type": "code",
   "id": "d3b81849",
   "metadata": {
    "ExecuteTime": {
     "end_time": "2025-04-20T09:44:03.136158Z",
     "start_time": "2025-04-20T09:44:03.132613Z"
    }
   },
   "source": [
    "# goalies don't have shooting in our dataset so we removed them before looking at the pace stat\n",
    "no_goalies = fifa.where(\"shooting\", are.above(0))\n",
    "no_goalies"
   ],
   "outputs": [
    {
     "data": {
      "text/plain": [
       "short_name        | overall | value_eur | wage_eur | age  | pace | shooting | passing | attacking_finishing\n",
       "L. Messi          | 93      | 78000000  | 320000   | 34   | 85   | 92       | 91      | 95\n",
       "R. Lewandowski    | 92      | 119500000 | 270000   | 32   | 78   | 92       | 79      | 95\n",
       "Cristiano Ronaldo | 91      | 45000000  | 270000   | 36   | 87   | 94       | 80      | 95\n",
       "Neymar Jr         | 91      | 129000000 | 270000   | 29   | 91   | 83       | 86      | 83\n",
       "K. De Bruyne      | 91      | 125500000 | 350000   | 30   | 76   | 86       | 93      | 82\n",
       "K. Mbappé         | 91      | 194000000 | 230000   | 22   | 97   | 88       | 80      | 93\n",
       "H. Kane           | 90      | 129500000 | 240000   | 27   | 70   | 91       | 83      | 94\n",
       "N. Kanté          | 90      | 100000000 | 230000   | 30   | 78   | 66       | 75      | 65\n",
       "K. Benzema        | 89      | 66000000  | 350000   | 33   | 76   | 86       | 81      | 90\n",
       "H. Son            | 89      | 104000000 | 220000   | 28   | 88   | 87       | 82      | 88\n",
       "... (75 rows omitted)"
      ],
      "text/html": [
       "<table border=\"1\" class=\"dataframe\">\n",
       "    <thead>\n",
       "        <tr>\n",
       "            <th>short_name</th> <th>overall</th> <th>value_eur</th> <th>wage_eur</th> <th>age</th> <th>pace</th> <th>shooting</th> <th>passing</th> <th>attacking_finishing</th>\n",
       "        </tr>\n",
       "    </thead>\n",
       "    <tbody>\n",
       "        <tr>\n",
       "            <td>L. Messi         </td> <td>93     </td> <td>78000000 </td> <td>320000  </td> <td>34  </td> <td>85  </td> <td>92      </td> <td>91     </td> <td>95                 </td>\n",
       "        </tr>\n",
       "        <tr>\n",
       "            <td>R. Lewandowski   </td> <td>92     </td> <td>119500000</td> <td>270000  </td> <td>32  </td> <td>78  </td> <td>92      </td> <td>79     </td> <td>95                 </td>\n",
       "        </tr>\n",
       "        <tr>\n",
       "            <td>Cristiano Ronaldo</td> <td>91     </td> <td>45000000 </td> <td>270000  </td> <td>36  </td> <td>87  </td> <td>94      </td> <td>80     </td> <td>95                 </td>\n",
       "        </tr>\n",
       "        <tr>\n",
       "            <td>Neymar Jr        </td> <td>91     </td> <td>129000000</td> <td>270000  </td> <td>29  </td> <td>91  </td> <td>83      </td> <td>86     </td> <td>83                 </td>\n",
       "        </tr>\n",
       "        <tr>\n",
       "            <td>K. De Bruyne     </td> <td>91     </td> <td>125500000</td> <td>350000  </td> <td>30  </td> <td>76  </td> <td>86      </td> <td>93     </td> <td>82                 </td>\n",
       "        </tr>\n",
       "        <tr>\n",
       "            <td>K. Mbappé        </td> <td>91     </td> <td>194000000</td> <td>230000  </td> <td>22  </td> <td>97  </td> <td>88      </td> <td>80     </td> <td>93                 </td>\n",
       "        </tr>\n",
       "        <tr>\n",
       "            <td>H. Kane          </td> <td>90     </td> <td>129500000</td> <td>240000  </td> <td>27  </td> <td>70  </td> <td>91      </td> <td>83     </td> <td>94                 </td>\n",
       "        </tr>\n",
       "        <tr>\n",
       "            <td>N. Kanté         </td> <td>90     </td> <td>100000000</td> <td>230000  </td> <td>30  </td> <td>78  </td> <td>66      </td> <td>75     </td> <td>65                 </td>\n",
       "        </tr>\n",
       "        <tr>\n",
       "            <td>K. Benzema       </td> <td>89     </td> <td>66000000 </td> <td>350000  </td> <td>33  </td> <td>76  </td> <td>86      </td> <td>81     </td> <td>90                 </td>\n",
       "        </tr>\n",
       "        <tr>\n",
       "            <td>H. Son           </td> <td>89     </td> <td>104000000</td> <td>220000  </td> <td>28  </td> <td>88  </td> <td>87      </td> <td>82     </td> <td>88                 </td>\n",
       "        </tr>\n",
       "    </tbody>\n",
       "</table>\n",
       "<p>... (75 rows omitted)</p>"
      ]
     },
     "execution_count": 143,
     "metadata": {},
     "output_type": "execute_result"
    }
   ],
   "execution_count": 143
  },
  {
   "cell_type": "code",
   "id": "1598a3e3",
   "metadata": {
    "ExecuteTime": {
     "end_time": "2025-04-20T09:44:00.709312Z",
     "start_time": "2025-04-20T09:44:00.640947Z"
    }
   },
   "source": [
    "# Run this cell to generate a scatter plot for the next part.\n",
    "no_goalies.scatter('shooting', 'attacking_finishing', fit_line=True)"
   ],
   "outputs": [
    {
     "data": {
      "text/plain": [
       "<Figure size 500x500 with 1 Axes>"
      ],
      "image/png": "[encoded data removed]"
     },
     "metadata": {},
     "output_type": "display_data"
    }
   ],
   "execution_count": 142
  },
  {
   "cell_type": "markdown",
   "id": "139e4b48",
   "metadata": {},
   "source": [
    "---\n",
    "\n",
    "**Question 2.11.** Above is a scatter plot showing the relationship between a player’s shooting ability (“shooting”) and their scoring ability (“attacking_finishing”). \n",
    "\n",
    "There is clearly a strong positive correlation between the 2 variables, and we’d like to predict a player’s scoring ability from their shooting ability. Which of the following are true, assuming linear regression is a reasonable model? **(5 points)**\n",
    "\n",
    "*Hint:* Re-reading [15.2](https://inferentialthinking.com/chapters/15/2/Regression_Line.html#) might be helpful here.\n",
    "\n",
    "1. For a majority of players with a `shooting` attribute above 80 our model predicts they have a better scoring ability than shooting ability.\n",
    "2. A randomly selected player's predicted scoring ability in standard units will always be less than their shooting ability in standard units.\n",
    "3. If we select a player who’s shooting ability is 1.0 in standard units, their scoring ability, on average, will be less than 1.0 in standard units.\n",
    "4. Goalies have attacking_finishing scores in our dataset but do not have shooting scores. We can still use our model to predict their attacking_finishing scores.\n",
    "\n",
    "Assign `scoring_array` to an array of your selections, in increasing numerical order. For example, if you wanted to select options 1, 3, and 5,\n",
    "you would assign `scoring_array` to `make_array(1, 3, 5)`.\n"
   ]
  },
  {
   "cell_type": "code",
   "id": "c9c7cd65",
   "metadata": {
    "tags": [],
    "ExecuteTime": {
     "end_time": "2025-04-20T09:41:13.935288Z",
     "start_time": "2025-04-20T09:41:13.932645Z"
    }
   },
   "source": "scoring_array = make_array(2,3)",
   "outputs": [],
   "execution_count": 128
  },
  {
   "cell_type": "code",
   "id": "c6a9b385",
   "metadata": {
    "deletable": false,
    "editable": false,
    "ExecuteTime": {
     "end_time": "2025-04-20T09:41:16.910498Z",
     "start_time": "2025-04-20T09:41:16.894002Z"
    }
   },
   "source": [
    "grader.check(\"q2_11\")"
   ],
   "outputs": [
    {
     "data": {
      "text/plain": [
       "q2_11 results: All test cases passed!"
      ],
      "text/html": [
       "<p><strong><pre style='display: inline;'>q2_11</pre></strong> passed! 🌈</p>"
      ]
     },
     "execution_count": 129,
     "metadata": {},
     "output_type": "execute_result"
    }
   ],
   "execution_count": 129
  },
  {
   "attachments": {},
   "cell_type": "markdown",
   "id": "0dbdcd3e",
   "metadata": {},
   "source": [
    "You're done with Homework 10!  \n",
    "\n",
    "**Important submission steps:** \n",
    "1. Run the tests and verify that they all pass.\n",
    "2. Choose **Save Notebook** from the **File** menu, then **run the final cell**. \n",
    "3. Click the link to download the zip file.\n",
    "4. Go to [Gradescope](https://www.gradescope.com) and submit the zip file to the corresponding assignment. The name of this assignment is \"HW 10 Autograder\". \n",
    "\n",
    "**It is your responsibility to make sure your work is saved before running the last cell.**"
   ]
  },
  {
   "attachments": {},
   "cell_type": "markdown",
   "id": "c0d4681a",
   "metadata": {},
   "source": [
    "## Pets of Data 8\n",
    "**Gucci and Dior** are so proud of you for finishing homework 10. They hope you have a great rest of your day!\n",
    "\n",
    "<img src=\"./guccianddior.png\" width=\"40%\" alt=\"two maltese staring at camera\"/>"
   ]
  },
  {
   "cell_type": "markdown",
   "id": "d3e8745c",
   "metadata": {},
   "source": [
    "<hr style=\"border: 5px solid #003262;\" />\n",
    "<hr style=\"border: 1px solid #fdb515;\" />\n",
    "\n",
    "## Written Work Submission\n",
    "\n",
    "Below, you will see two cells. Running the first cell will automatically generate a PDF of all questions that need to be manually graded, and running the second cell will automatically generate a zip with your autograded answers. You are responsible for submitting both the coding portion (the zip) and the written portion (the PDF) to their respective Gradescope portals. **Please save before exporting!**\n",
    "\n",
    "> **Important: You must correctly assign the pages of your PDF after you submit to the correct gradescope assignment. If your pages are not correctly assigned and/or not in the correct PDF format by the deadline, we reserve the right to award no points for your written work.**\n",
    "\n",
    "If there are issues with automatically generating the PDF in the first cell, you can try downloading the notebook as a PDF by clicking on `File -> Save and Export Notebook As... -> Webpdf`. If that doesn't work either, you can manually take screenshots of your answers to the manually graded questions and submit one single PDF of your screenshots. Either way, **you are responsible for ensuring your submision follows our requirements, we will NOT be granting regrade requests for submissions that don't follow instructions.**\n",
    "\n",
    "**You must submit the PDF generated via one of these methods, we will not accept screenshots or Word documents.**"
   ]
  },
  {
   "cell_type": "code",
   "id": "14fa5416",
   "metadata": {
    "ExecuteTime": {
     "end_time": "2025-04-20T09:41:38.318424Z",
     "start_time": "2025-04-20T09:41:37.010309Z"
    }
   },
   "source": [
    "from otter.export import export_notebook\n",
    "from os import path\n",
    "from IPython.display import display, HTML\n",
    "name = 'hw10'\n",
    "export_notebook(f\"{name}.ipynb\", filtering=True, pagebreaks=True)\n",
    "if(path.exists(f'{name}.pdf')):\n",
    "    display(HTML(f\"Download your PDF <a href='{name}.pdf' download>here</a>.\"))\n",
    "else:\n",
    "    print(\"\\n Pdf generation failed, please try the other methods described above\")"
   ],
   "outputs": [
    {
     "ename": "ExportFailedException",
     "evalue": "There was an error generating your LaTeX; showing full error message:\n    Failed to run \"['xelatex', 'notebook.tex', '-quiet']\" command:\n    This is XeTeX, Version 3.141592653-2.6-0.999995 (TeX Live 2023) (preloaded format=xelatex)\n     restricted \\write18 enabled.\n    entering extended mode\n    (./notebook.tex\n    LaTeX2e <2022-11-01> patch level 1\n    L3 programming layer <2023-02-22>\n    (/usr/share/texlive/texmf-dist/tex/latex/base/article.cls\n    Document Class: article 2022/07/02 v1.4n Standard LaTeX document class\n    (/usr/share/texlive/texmf-dist/tex/latex/base/size10.clo))\n    (/usr/share/texlive/texmf-dist/tex/latex/graphics/graphicx.sty\n    (/usr/share/texlive/texmf-dist/tex/latex/graphics/keyval.sty)\n    (/usr/share/texlive/texmf-dist/tex/latex/graphics/graphics.sty\n    (/usr/share/texlive/texmf-dist/tex/latex/graphics/trig.sty)\n    (/usr/share/texlive/texmf-dist/tex/latex/graphics-cfg/graphics.cfg)\n    (/usr/share/texlive/texmf-dist/tex/latex/graphics-def/xetex.def)))\n    (/usr/share/texlive/texmf-dist/tex/latex/caption/caption.sty\n    (/usr/share/texlive/texmf-dist/tex/latex/caption/caption3.sty))\n    (/usr/share/texlive/texmf-dist/tex/latex/float/float.sty)\n    (/usr/share/texlive/texmf-dist/tex/latex/xcolor/xcolor.sty\n    (/usr/share/texlive/texmf-dist/tex/latex/graphics-cfg/color.cfg)\n    (/usr/share/texlive/texmf-dist/tex/latex/graphics/mathcolor.ltx))\n    (/usr/share/texlive/texmf-dist/tex/latex/tools/enumerate.sty)\n    (/usr/share/texlive/texmf-dist/tex/latex/geometry/geometry.sty\n    (/usr/share/texlive/texmf-dist/tex/generic/iftex/ifvtex.sty\n    (/usr/share/texlive/texmf-dist/tex/generic/iftex/iftex.sty)))\n    (/usr/share/texlive/texmf-dist/tex/latex/amsmath/amsmath.sty\n    For additional information on amsmath, use the `?' option.\n    (/usr/share/texlive/texmf-dist/tex/latex/amsmath/amstext.sty\n    (/usr/share/texlive/texmf-dist/tex/latex/amsmath/amsgen.sty))\n    (/usr/share/texlive/texmf-dist/tex/latex/amsmath/amsbsy.sty)\n    (/usr/share/texlive/texmf-dist/tex/latex/amsmath/amsopn.sty))\n    (/usr/share/texlive/texmf-dist/tex/latex/amsfonts/amssymb.sty\n    (/usr/share/texlive/texmf-dist/tex/latex/amsfonts/amsfonts.sty))\n    (/usr/share/texlive/texmf-dist/tex/latex/base/textcomp.sty)\n\n    ! LaTeX Error: File `upquote.sty' not found.\n\n    Type X to quit or <RETURN> to proceed,\n    or enter new name. (Default extension: sty)\n\n    Enter file name: \n    ! Emergency stop.\n    <read *> \n         \n    l.47     \\usepackage\n                        {eurosym} % defines \\euro^^M\n    No pages of output.\n    Transcript written on notebook.log.\n",
     "output_type": "error",
     "traceback": [
      "\u001B[0;31m---------------------------------------------------------------------------\u001B[0m",
      "\u001B[0;31mLatexFailed\u001B[0m                               Traceback (most recent call last)",
      "File \u001B[0;32m/mnt/SHARED_PARTITION/docs/GitHub/materials-fa24/.venv/lib/python3.9/site-packages/otter/export/exporters/via_latex.py:71\u001B[0m, in \u001B[0;36mPDFViaLatexExporter.convert_notebook\u001B[0;34m(cls, nb_path, dest, xecjk, **kwargs)\u001B[0m\n\u001B[1;32m     69\u001B[0m         output_file\u001B[38;5;241m.\u001B[39mwrite(latex_output[\u001B[38;5;241m0\u001B[39m])\n\u001B[0;32m---> 71\u001B[0m pdf_output \u001B[38;5;241m=\u001B[39m \u001B[43mnbconvert\u001B[49m\u001B[38;5;241;43m.\u001B[39;49m\u001B[43mexport\u001B[49m\u001B[43m(\u001B[49m\u001B[43mpdf_exporter\u001B[49m\u001B[43m,\u001B[49m\u001B[43m \u001B[49m\u001B[43mnb\u001B[49m\u001B[43m)\u001B[49m\n\u001B[1;32m     72\u001B[0m \u001B[38;5;28;01mwith\u001B[39;00m \u001B[38;5;28mopen\u001B[39m(dest, \u001B[38;5;124m\"\u001B[39m\u001B[38;5;124mwb\u001B[39m\u001B[38;5;124m\"\u001B[39m) \u001B[38;5;28;01mas\u001B[39;00m output_file:\n",
      "File \u001B[0;32m/mnt/SHARED_PARTITION/docs/GitHub/materials-fa24/.venv/lib/python3.9/site-packages/nbconvert/exporters/base.py:86\u001B[0m, in \u001B[0;36mexport\u001B[0;34m(exporter, nb, **kw)\u001B[0m\n\u001B[1;32m     85\u001B[0m \u001B[38;5;28;01mif\u001B[39;00m \u001B[38;5;28misinstance\u001B[39m(nb, NotebookNode):\n\u001B[0;32m---> 86\u001B[0m     output, resources \u001B[38;5;241m=\u001B[39m \u001B[43mexporter_instance\u001B[49m\u001B[38;5;241;43m.\u001B[39;49m\u001B[43mfrom_notebook_node\u001B[49m\u001B[43m(\u001B[49m\u001B[43mnb\u001B[49m\u001B[43m,\u001B[49m\u001B[43m \u001B[49m\u001B[43mresources\u001B[49m\u001B[43m)\u001B[49m\n\u001B[1;32m     87\u001B[0m \u001B[38;5;28;01melif\u001B[39;00m \u001B[38;5;28misinstance\u001B[39m(nb, (\u001B[38;5;28mstr\u001B[39m,)):\n",
      "File \u001B[0;32m/mnt/SHARED_PARTITION/docs/GitHub/materials-fa24/.venv/lib/python3.9/site-packages/nbconvert/exporters/pdf.py:197\u001B[0m, in \u001B[0;36mPDFExporter.from_notebook_node\u001B[0;34m(self, nb, resources, **kw)\u001B[0m\n\u001B[1;32m    196\u001B[0m \u001B[38;5;28mself\u001B[39m\u001B[38;5;241m.\u001B[39mlog\u001B[38;5;241m.\u001B[39minfo(\u001B[38;5;124m\"\u001B[39m\u001B[38;5;124mBuilding PDF\u001B[39m\u001B[38;5;124m\"\u001B[39m)\n\u001B[0;32m--> 197\u001B[0m \u001B[38;5;28;43mself\u001B[39;49m\u001B[38;5;241;43m.\u001B[39;49m\u001B[43mrun_latex\u001B[49m\u001B[43m(\u001B[49m\u001B[43mtex_file\u001B[49m\u001B[43m)\u001B[49m\n\u001B[1;32m    198\u001B[0m \u001B[38;5;28;01mif\u001B[39;00m \u001B[38;5;28mself\u001B[39m\u001B[38;5;241m.\u001B[39mrun_bib(tex_file):\n",
      "File \u001B[0;32m/mnt/SHARED_PARTITION/docs/GitHub/materials-fa24/.venv/lib/python3.9/site-packages/nbconvert/exporters/pdf.py:166\u001B[0m, in \u001B[0;36mPDFExporter.run_latex\u001B[0;34m(self, filename, raise_on_failure)\u001B[0m\n\u001B[1;32m    164\u001B[0m     \u001B[38;5;28mself\u001B[39m\u001B[38;5;241m.\u001B[39mlog\u001B[38;5;241m.\u001B[39mcritical(\u001B[38;5;124m\"\u001B[39m\u001B[38;5;132;01m%s\u001B[39;00m\u001B[38;5;124m failed: \u001B[39m\u001B[38;5;132;01m%s\u001B[39;00m\u001B[38;5;130;01m\\n\u001B[39;00m\u001B[38;5;132;01m%s\u001B[39;00m\u001B[38;5;124m\"\u001B[39m, command[\u001B[38;5;241m0\u001B[39m], command, out)\n\u001B[0;32m--> 166\u001B[0m \u001B[38;5;28;01mreturn\u001B[39;00m \u001B[38;5;28;43mself\u001B[39;49m\u001B[38;5;241;43m.\u001B[39;49m\u001B[43mrun_command\u001B[49m\u001B[43m(\u001B[49m\n\u001B[1;32m    167\u001B[0m \u001B[43m    \u001B[49m\u001B[38;5;28;43mself\u001B[39;49m\u001B[38;5;241;43m.\u001B[39;49m\u001B[43mlatex_command\u001B[49m\u001B[43m,\u001B[49m\u001B[43m \u001B[49m\u001B[43mfilename\u001B[49m\u001B[43m,\u001B[49m\u001B[43m \u001B[49m\u001B[38;5;28;43mself\u001B[39;49m\u001B[38;5;241;43m.\u001B[39;49m\u001B[43mlatex_count\u001B[49m\u001B[43m,\u001B[49m\u001B[43m \u001B[49m\u001B[43mlog_error\u001B[49m\u001B[43m,\u001B[49m\u001B[43m \u001B[49m\u001B[43mraise_on_failure\u001B[49m\n\u001B[1;32m    168\u001B[0m \u001B[43m\u001B[49m\u001B[43m)\u001B[49m\n",
      "File \u001B[0;32m/mnt/SHARED_PARTITION/docs/GitHub/materials-fa24/.venv/lib/python3.9/site-packages/nbconvert/exporters/pdf.py:156\u001B[0m, in \u001B[0;36mPDFExporter.run_command\u001B[0;34m(self, command_list, filename, count, log_function, raise_on_failure)\u001B[0m\n\u001B[1;32m    155\u001B[0m     msg \u001B[38;5;241m=\u001B[39m \u001B[38;5;124mf\u001B[39m\u001B[38;5;124m'\u001B[39m\u001B[38;5;124mFailed to run \u001B[39m\u001B[38;5;124m\"\u001B[39m\u001B[38;5;132;01m{\u001B[39;00mcommand\u001B[38;5;132;01m}\u001B[39;00m\u001B[38;5;124m\"\u001B[39m\u001B[38;5;124m command:\u001B[39m\u001B[38;5;130;01m\\n\u001B[39;00m\u001B[38;5;132;01m{\u001B[39;00mout_str\u001B[38;5;132;01m}\u001B[39;00m\u001B[38;5;124m'\u001B[39m\n\u001B[0;32m--> 156\u001B[0m     \u001B[38;5;28;01mraise\u001B[39;00m raise_on_failure(msg)\n\u001B[1;32m    157\u001B[0m \u001B[38;5;28;01mreturn\u001B[39;00m \u001B[38;5;28;01mFalse\u001B[39;00m  \u001B[38;5;66;03m# failure\u001B[39;00m\n",
      "\u001B[0;31mLatexFailed\u001B[0m: PDF creating failed, captured latex output:\nFailed to run \"['xelatex', 'notebook.tex', '-quiet']\" command:\nThis is XeTeX, Version 3.141592653-2.6-0.999995 (TeX Live 2023) (preloaded format=xelatex)\n restricted \\write18 enabled.\nentering extended mode\n(./notebook.tex\nLaTeX2e <2022-11-01> patch level 1\nL3 programming layer <2023-02-22>\n(/usr/share/texlive/texmf-dist/tex/latex/base/article.cls\nDocument Class: article 2022/07/02 v1.4n Standard LaTeX document class\n(/usr/share/texlive/texmf-dist/tex/latex/base/size10.clo))\n(/usr/share/texlive/texmf-dist/tex/latex/graphics/graphicx.sty\n(/usr/share/texlive/texmf-dist/tex/latex/graphics/keyval.sty)\n(/usr/share/texlive/texmf-dist/tex/latex/graphics/graphics.sty\n(/usr/share/texlive/texmf-dist/tex/latex/graphics/trig.sty)\n(/usr/share/texlive/texmf-dist/tex/latex/graphics-cfg/graphics.cfg)\n(/usr/share/texlive/texmf-dist/tex/latex/graphics-def/xetex.def)))\n(/usr/share/texlive/texmf-dist/tex/latex/caption/caption.sty\n(/usr/share/texlive/texmf-dist/tex/latex/caption/caption3.sty))\n(/usr/share/texlive/texmf-dist/tex/latex/float/float.sty)\n(/usr/share/texlive/texmf-dist/tex/latex/xcolor/xcolor.sty\n(/usr/share/texlive/texmf-dist/tex/latex/graphics-cfg/color.cfg)\n(/usr/share/texlive/texmf-dist/tex/latex/graphics/mathcolor.ltx))\n(/usr/share/texlive/texmf-dist/tex/latex/tools/enumerate.sty)\n(/usr/share/texlive/texmf-dist/tex/latex/geometry/geometry.sty\n(/usr/share/texlive/texmf-dist/tex/generic/iftex/ifvtex.sty\n(/usr/share/texlive/texmf-dist/tex/generic/iftex/iftex.sty)))\n(/usr/share/texlive/texmf-dist/tex/latex/amsmath/amsmath.sty\nFor additional information on amsmath, use the `?' option.\n(/usr/share/texlive/texmf-dist/tex/latex/amsmath/amstext.sty\n(/usr/share/texlive/texmf-dist/tex/latex/amsmath/amsgen.sty))\n(/usr/share/texlive/texmf-dist/tex/latex/amsmath/amsbsy.sty)\n(/usr/share/texlive/texmf-dist/tex/latex/amsmath/amsopn.sty))\n(/usr/share/texlive/texmf-dist/tex/latex/amsfonts/amssymb.sty\n(/usr/share/texlive/texmf-dist/tex/latex/amsfonts/amsfonts.sty))\n(/usr/share/texlive/texmf-dist/tex/latex/base/textcomp.sty)\n\n! LaTeX Error: File `upquote.sty' not found.\n\nType X to quit or <RETURN> to proceed,\nor enter new name. (Default extension: sty)\n\nEnter file name: \n! Emergency stop.\n<read *> \n         \nl.47     \\usepackage\n                    {eurosym} % defines \\euro^^M\nNo pages of output.\nTranscript written on notebook.log.\n",
      "\nDuring handling of the above exception, another exception occurred:\n",
      "\u001B[0;31mExportFailedException\u001B[0m                     Traceback (most recent call last)",
      "Cell \u001B[0;32mIn[131], line 5\u001B[0m\n\u001B[1;32m      3\u001B[0m \u001B[38;5;28;01mfrom\u001B[39;00m\u001B[38;5;250m \u001B[39m\u001B[38;5;21;01mIPython\u001B[39;00m\u001B[38;5;21;01m.\u001B[39;00m\u001B[38;5;21;01mdisplay\u001B[39;00m\u001B[38;5;250m \u001B[39m\u001B[38;5;28;01mimport\u001B[39;00m display, HTML\n\u001B[1;32m      4\u001B[0m name \u001B[38;5;241m=\u001B[39m \u001B[38;5;124m'\u001B[39m\u001B[38;5;124mhw10\u001B[39m\u001B[38;5;124m'\u001B[39m\n\u001B[0;32m----> 5\u001B[0m \u001B[43mexport_notebook\u001B[49m\u001B[43m(\u001B[49m\u001B[38;5;124;43mf\u001B[39;49m\u001B[38;5;124;43m\"\u001B[39;49m\u001B[38;5;132;43;01m{\u001B[39;49;00m\u001B[43mname\u001B[49m\u001B[38;5;132;43;01m}\u001B[39;49;00m\u001B[38;5;124;43m.ipynb\u001B[39;49m\u001B[38;5;124;43m\"\u001B[39;49m\u001B[43m,\u001B[49m\u001B[43m \u001B[49m\u001B[43mfiltering\u001B[49m\u001B[38;5;241;43m=\u001B[39;49m\u001B[38;5;28;43;01mTrue\u001B[39;49;00m\u001B[43m,\u001B[49m\u001B[43m \u001B[49m\u001B[43mpagebreaks\u001B[49m\u001B[38;5;241;43m=\u001B[39;49m\u001B[38;5;28;43;01mTrue\u001B[39;49;00m\u001B[43m)\u001B[49m\n\u001B[1;32m      6\u001B[0m \u001B[38;5;28;01mif\u001B[39;00m(path\u001B[38;5;241m.\u001B[39mexists(\u001B[38;5;124mf\u001B[39m\u001B[38;5;124m'\u001B[39m\u001B[38;5;132;01m{\u001B[39;00mname\u001B[38;5;132;01m}\u001B[39;00m\u001B[38;5;124m.pdf\u001B[39m\u001B[38;5;124m'\u001B[39m)):\n\u001B[1;32m      7\u001B[0m     display(HTML(\u001B[38;5;124mf\u001B[39m\u001B[38;5;124m\"\u001B[39m\u001B[38;5;124mDownload your PDF <a href=\u001B[39m\u001B[38;5;124m'\u001B[39m\u001B[38;5;132;01m{\u001B[39;00mname\u001B[38;5;132;01m}\u001B[39;00m\u001B[38;5;124m.pdf\u001B[39m\u001B[38;5;124m'\u001B[39m\u001B[38;5;124m download>here</a>.\u001B[39m\u001B[38;5;124m\"\u001B[39m))\n",
      "File \u001B[0;32m/mnt/SHARED_PARTITION/docs/GitHub/materials-fa24/.venv/lib/python3.9/site-packages/otter/export/__init__.py:43\u001B[0m, in \u001B[0;36mexport_notebook\u001B[0;34m(nb_path, dest, exporter_type, **kwargs)\u001B[0m\n\u001B[1;32m     40\u001B[0m     pdf_name \u001B[38;5;241m=\u001B[39m os\u001B[38;5;241m.\u001B[39mpath\u001B[38;5;241m.\u001B[39msplitext(nb_path)[\u001B[38;5;241m0\u001B[39m] \u001B[38;5;241m+\u001B[39m \u001B[38;5;124m\"\u001B[39m\u001B[38;5;124m.pdf\u001B[39m\u001B[38;5;124m\"\u001B[39m\n\u001B[1;32m     42\u001B[0m Exporter \u001B[38;5;241m=\u001B[39m get_exporter(exporter_type\u001B[38;5;241m=\u001B[39mexporter_type)\n\u001B[0;32m---> 43\u001B[0m \u001B[43mExporter\u001B[49m\u001B[38;5;241;43m.\u001B[39;49m\u001B[43mconvert_notebook\u001B[49m\u001B[43m(\u001B[49m\u001B[43mnb_path\u001B[49m\u001B[43m,\u001B[49m\u001B[43m \u001B[49m\u001B[43mpdf_name\u001B[49m\u001B[43m,\u001B[49m\u001B[43m \u001B[49m\u001B[38;5;241;43m*\u001B[39;49m\u001B[38;5;241;43m*\u001B[39;49m\u001B[43mkwargs\u001B[49m\u001B[43m)\u001B[49m\n\u001B[1;32m     45\u001B[0m \u001B[38;5;28;01mreturn\u001B[39;00m pdf_name\n",
      "File \u001B[0;32m/mnt/SHARED_PARTITION/docs/GitHub/materials-fa24/.venv/lib/python3.9/site-packages/otter/export/exporters/via_latex.py:84\u001B[0m, in \u001B[0;36mPDFViaLatexExporter.convert_notebook\u001B[0;34m(cls, nb_path, dest, xecjk, **kwargs)\u001B[0m\n\u001B[1;32m     78\u001B[0m     \u001B[38;5;28;01mif\u001B[39;00m xecjk:\n\u001B[1;32m     79\u001B[0m         message \u001B[38;5;241m+\u001B[39m\u001B[38;5;241m=\u001B[39m (\n\u001B[1;32m     80\u001B[0m             \u001B[38;5;124m\"\u001B[39m\u001B[38;5;130;01m\\n\u001B[39;00m\u001B[38;5;130;01m\\n\u001B[39;00m\u001B[38;5;124mIf the error above is related to xeCJK or fandol in LaTeX \u001B[39m\u001B[38;5;124m\"\u001B[39m\n\u001B[1;32m     81\u001B[0m             \u001B[38;5;124m\"\u001B[39m\u001B[38;5;124mand you don\u001B[39m\u001B[38;5;124m'\u001B[39m\u001B[38;5;124mt require this functionality, try running again without \u001B[39m\u001B[38;5;124m\"\u001B[39m\n\u001B[1;32m     82\u001B[0m             \u001B[38;5;124m\"\u001B[39m\u001B[38;5;124mxecjk set to True or the --xecjk flag.\u001B[39m\u001B[38;5;124m\"\u001B[39m\n\u001B[1;32m     83\u001B[0m         )\n\u001B[0;32m---> 84\u001B[0m     \u001B[38;5;28;01mraise\u001B[39;00m ExportFailedException(message)\n\u001B[1;32m     86\u001B[0m \u001B[38;5;28;01mfinally\u001B[39;00m:\n\u001B[1;32m     87\u001B[0m     nbconvert\u001B[38;5;241m.\u001B[39mTemplateExporter\u001B[38;5;241m.\u001B[39mtemplate_name \u001B[38;5;241m=\u001B[39m orig_template_name\n",
      "\u001B[0;31mExportFailedException\u001B[0m: There was an error generating your LaTeX; showing full error message:\n    Failed to run \"['xelatex', 'notebook.tex', '-quiet']\" command:\n    This is XeTeX, Version 3.141592653-2.6-0.999995 (TeX Live 2023) (preloaded format=xelatex)\n     restricted \\write18 enabled.\n    entering extended mode\n    (./notebook.tex\n    LaTeX2e <2022-11-01> patch level 1\n    L3 programming layer <2023-02-22>\n    (/usr/share/texlive/texmf-dist/tex/latex/base/article.cls\n    Document Class: article 2022/07/02 v1.4n Standard LaTeX document class\n    (/usr/share/texlive/texmf-dist/tex/latex/base/size10.clo))\n    (/usr/share/texlive/texmf-dist/tex/latex/graphics/graphicx.sty\n    (/usr/share/texlive/texmf-dist/tex/latex/graphics/keyval.sty)\n    (/usr/share/texlive/texmf-dist/tex/latex/graphics/graphics.sty\n    (/usr/share/texlive/texmf-dist/tex/latex/graphics/trig.sty)\n    (/usr/share/texlive/texmf-dist/tex/latex/graphics-cfg/graphics.cfg)\n    (/usr/share/texlive/texmf-dist/tex/latex/graphics-def/xetex.def)))\n    (/usr/share/texlive/texmf-dist/tex/latex/caption/caption.sty\n    (/usr/share/texlive/texmf-dist/tex/latex/caption/caption3.sty))\n    (/usr/share/texlive/texmf-dist/tex/latex/float/float.sty)\n    (/usr/share/texlive/texmf-dist/tex/latex/xcolor/xcolor.sty\n    (/usr/share/texlive/texmf-dist/tex/latex/graphics-cfg/color.cfg)\n    (/usr/share/texlive/texmf-dist/tex/latex/graphics/mathcolor.ltx))\n    (/usr/share/texlive/texmf-dist/tex/latex/tools/enumerate.sty)\n    (/usr/share/texlive/texmf-dist/tex/latex/geometry/geometry.sty\n    (/usr/share/texlive/texmf-dist/tex/generic/iftex/ifvtex.sty\n    (/usr/share/texlive/texmf-dist/tex/generic/iftex/iftex.sty)))\n    (/usr/share/texlive/texmf-dist/tex/latex/amsmath/amsmath.sty\n    For additional information on amsmath, use the `?' option.\n    (/usr/share/texlive/texmf-dist/tex/latex/amsmath/amstext.sty\n    (/usr/share/texlive/texmf-dist/tex/latex/amsmath/amsgen.sty))\n    (/usr/share/texlive/texmf-dist/tex/latex/amsmath/amsbsy.sty)\n    (/usr/share/texlive/texmf-dist/tex/latex/amsmath/amsopn.sty))\n    (/usr/share/texlive/texmf-dist/tex/latex/amsfonts/amssymb.sty\n    (/usr/share/texlive/texmf-dist/tex/latex/amsfonts/amsfonts.sty))\n    (/usr/share/texlive/texmf-dist/tex/latex/base/textcomp.sty)\n\n    ! LaTeX Error: File `upquote.sty' not found.\n\n    Type X to quit or <RETURN> to proceed,\n    or enter new name. (Default extension: sty)\n\n    Enter file name: \n    ! Emergency stop.\n    <read *> \n         \n    l.47     \\usepackage\n                        {eurosym} % defines \\euro^^M\n    No pages of output.\n    Transcript written on notebook.log.\n"
     ]
    }
   ],
   "execution_count": 131
  },
  {
   "cell_type": "markdown",
   "id": "d4fe26ed",
   "metadata": {
    "deletable": false,
    "editable": false
   },
   "source": [
    "## Submission\n",
    "\n",
    "Make sure you have run all cells in your notebook in order before running the cell below, so that all images/graphs appear in the output. The cell below will generate a zip file for you to submit. **Please save before exporting!**"
   ]
  },
  {
   "cell_type": "code",
   "id": "8494a26c",
   "metadata": {
    "deletable": false,
    "editable": false,
    "ExecuteTime": {
     "end_time": "2025-04-20T09:44:26.784190Z",
     "start_time": "2025-04-20T09:44:18.028531Z"
    }
   },
   "source": [
    "# Save your notebook first, then run this cell to export your submission.\n",
    "grader.export(pdf=False, run_tests=True)"
   ],
   "outputs": [
    {
     "name": "stdout",
     "output_type": "stream",
     "text": [
      "Running your submission against local test cases...\n",
      "\n",
      "\n",
      "Your submission received the following results when run against available test cases:\n",
      "\n",
      "    q1_1 results: All test cases passed!\n",
      "\n",
      "    q1_2 results: All test cases passed!\n",
      "\n",
      "    q1_3 results: All test cases passed!\n",
      "\n",
      "    q1_4 results: All test cases passed!\n",
      "\n",
      "    q1_5 results: All test cases passed!\n",
      "\n",
      "    q1_6 results: All test cases passed!\n",
      "\n",
      "    q1_7 results: All test cases passed!\n",
      "\n",
      "    q1_8 results: All test cases passed!\n",
      "\n",
      "    q1_9 results: All test cases passed!\n",
      "\n",
      "    q2_2 results: All test cases passed!\n",
      "\n",
      "    q2_7 results: All test cases passed!\n",
      "\n",
      "    q2_10 results: All test cases passed!\n",
      "\n",
      "    q2_11 results: All test cases passed!\n"
     ]
    },
    {
     "name": "stderr",
     "output_type": "stream",
     "text": [
      "/mnt/SHARED_PARTITION/docs/GitHub/materials-fa24/.venv/lib/python3.9/site-packages/otter/check/utils.py:115: RuntimeWarning: [IPKernelApp] CRITICAL | xelatex failed: ['xelatex', 'notebook.tex', '-quiet']\n",
      "b\"This is XeTeX, Version 3.141592653-2.6-0.999995 (TeX Live 2023) (preloaded format=xelatex)\\n restricted \\\\write18 enabled.\\nentering extended mode\\n(./notebook.tex\\nLaTeX2e <2022-11-01> patch level 1\\nL3 programming layer <2023-02-22>\\n(/usr/share/texlive/texmf-dist/tex/latex/base/article.cls\\nDocument Class: article 2022/07/02 v1.4n Standard LaTeX document class\\n(/usr/share/texlive/texmf-dist/tex/latex/base/size10.clo))\\n(/usr/share/texlive/texmf-dist/tex/latex/graphics/graphicx.sty\\n(/usr/share/texlive/texmf-dist/tex/latex/graphics/keyval.sty)\\n(/usr/share/texlive/texmf-dist/tex/latex/graphics/graphics.sty\\n(/usr/share/texlive/texmf-dist/tex/latex/graphics/trig.sty)\\n(/usr/share/texlive/texmf-dist/tex/latex/graphics-cfg/graphics.cfg)\\n(/usr/share/texlive/texmf-dist/tex/latex/graphics-def/xetex.def)))\\n(/usr/share/texlive/texmf-dist/tex/latex/caption/caption.sty\\n(/usr/share/texlive/texmf-dist/tex/latex/caption/caption3.sty))\\n(/usr/share/texlive/texmf-dist/tex/latex/float/float.sty)\\n(/usr/share/texlive/texmf-dist/tex/latex/xcolor/xcolor.sty\\n(/usr/share/texlive/texmf-dist/tex/latex/graphics-cfg/color.cfg)\\n(/usr/share/texlive/texmf-dist/tex/latex/graphics/mathcolor.ltx))\\n(/usr/share/texlive/texmf-dist/tex/latex/tools/enumerate.sty)\\n(/usr/share/texlive/texmf-dist/tex/latex/geometry/geometry.sty\\n(/usr/share/texlive/texmf-dist/tex/generic/iftex/ifvtex.sty\\n(/usr/share/texlive/texmf-dist/tex/generic/iftex/iftex.sty)))\\n(/usr/share/texlive/texmf-dist/tex/latex/amsmath/amsmath.sty\\nFor additional information on amsmath, use the `?' option.\\n(/usr/share/texlive/texmf-dist/tex/latex/amsmath/amstext.sty\\n(/usr/share/texlive/texmf-dist/tex/latex/amsmath/amsgen.sty))\\n(/usr/share/texlive/texmf-dist/tex/latex/amsmath/amsbsy.sty)\\n(/usr/share/texlive/texmf-dist/tex/latex/amsmath/amsopn.sty))\\n(/usr/share/texlive/texmf-dist/tex/latex/amsfonts/amssymb.sty\\n(/usr/share/texlive/texmf-dist/tex/latex/amsfonts/amsfonts.sty))\\n(/usr/share/texlive/texmf-dist/tex/latex/base/textcomp.sty)\\n\\n! LaTeX Error: File `upquote.sty' not found.\\n\\nType X to quit or <RETURN> to proceed,\\nor enter new name. (Default extension: sty)\\n\\nEnter file name: \\n! Emergency stop.\\n<read *> \\n         \\nl.47     \\\\usepackage\\n                    {eurosym} % defines \\\\euro^^M\\nNo pages of output.\\nTranscript written on notebook.log.\\n\"\n",
      "\n",
      "  warnings.warn(results.stderr.decode(\"utf-8\"), RuntimeWarning)\n"
     ]
    },
    {
     "data": {
      "text/plain": [
       "<IPython.core.display.HTML object>"
      ],
      "text/html": [
       "\n",
       "                    <p>\n",
       "                        Your submission has been exported. Click\n",
       "                        <a href=\"hw10_2025_04_20T16_44_18_035004.zip\" download=\"hw10_2025_04_20T16_44_18_035004.zip\" target=\"_blank\">here</a> to download\n",
       "                        the zip file.\n",
       "                    </p>\n",
       "                "
      ]
     },
     "metadata": {},
     "output_type": "display_data"
    }
   ],
   "execution_count": 144
  },
  {
   "cell_type": "markdown",
   "id": "0e9e205e",
   "metadata": {},
   "source": [
    " "
   ]
  }
 ],
 "metadata": {
  "kernelspec": {
   "display_name": "Python 3",
   "language": "python",
   "name": "python3"
  },
  "language_info": {
   "codemirror_mode": {
    "name": "ipython",
    "version": 3
   },
   "file_extension": ".py",
   "mimetype": "text/x-python",
   "name": "python",
   "nbconvert_exporter": "python",
   "pygments_lexer": "ipython3",
   "version": "3.12.6"
  },
  "otter": {
   "OK_FORMAT": true,
   "tests": {
    "q1_1": {
     "name": "q1_1",
     "points": [
      0,
      0,
      0
     ],
     "suites": [
      {
       "cases": [
        {
         "code": ">>> standard_units([1,2,3,4,5])\narray([-1.41421356, -0.70710678,  0.        ,  0.70710678,  1.41421356])",
         "hidden": false,
         "locked": false
        },
        {
         "code": ">>> np.isclose(np.mean(standard_units([1,2,3,4,5])), 0)\nTrue",
         "hidden": false,
         "locked": false
        },
        {
         "code": ">>> np.isclose(np.std(standard_units([1,2,3,4,5])), 0.9999999999999999)\nTrue",
         "hidden": false,
         "locked": false
        }
       ],
       "scored": true,
       "setup": "",
       "teardown": "",
       "type": "doctest"
      }
     ]
    },
    "q1_2": {
     "name": "q1_2",
     "points": [
      0,
      0,
      0
     ],
     "suites": [
      {
       "cases": [
        {
         "code": ">>> # Make sure standard_array is an array.\n>>> import numpy as np\n>>> type(standard_array) == np.ndarray\nTrue",
         "hidden": false,
         "locked": false
        },
        {
         "code": ">>> # Make sure array is in order\n>>> all(standard_array == np.sort(standard_array))\nTrue",
         "hidden": false,
         "locked": false
        },
        {
         "code": ">>> # Make sure you have set standard_array to an array with at least 1 number\n>>> 1 <= standard_array.item(0) <= 5\nTrue",
         "hidden": false,
         "locked": false
        }
       ],
       "scored": true,
       "setup": "",
       "teardown": "",
       "type": "doctest"
      }
     ]
    },
    "q1_3": {
     "name": "q1_3",
     "points": [
      0
     ],
     "suites": [
      {
       "cases": [
        {
         "code": ">>> np.isclose(correlation([1,2,3], [4,5,6]), 0.9999999999999999)\nTrue",
         "hidden": false,
         "locked": false
        }
       ],
       "scored": true,
       "setup": "",
       "teardown": "",
       "type": "doctest"
      }
     ]
    },
    "q1_4": {
     "name": "q1_4",
     "points": [
      0,
      0,
      0
     ],
     "suites": [
      {
       "cases": [
        {
         "code": ">>> # Make sure r_array is an array.\n>>> import numpy as np\n>>> type(r_array) == np.ndarray\nTrue",
         "hidden": false,
         "locked": false
        },
        {
         "code": ">>> # Make sure array is in order\n>>> all(r_array == np.sort(r_array))\nTrue",
         "hidden": false,
         "locked": false
        },
        {
         "code": ">>> # Make sure you have set r_array to an array with at least 1 number\n>>> 1 <= r_array.item(0) <= 5\nTrue",
         "hidden": false,
         "locked": false
        }
       ],
       "scored": true,
       "setup": "",
       "teardown": "",
       "type": "doctest"
      }
     ]
    },
    "q1_5": {
     "name": "q1_5",
     "points": [
      0
     ],
     "suites": [
      {
       "cases": [
        {
         "code": ">>> # The slope of a line going through (1,1) and (2,2) should be 1.\n>>> np.isclose(slope([1, 2], [1, 2]), 1.0)\nTrue",
         "hidden": false,
         "locked": false
        }
       ],
       "scored": true,
       "setup": "",
       "teardown": "",
       "type": "doctest"
      }
     ]
    },
    "q1_6": {
     "name": "q1_6",
     "points": [
      0,
      0,
      0
     ],
     "suites": [
      {
       "cases": [
        {
         "code": ">>> # Make sure slope_array is an array.\n>>> import numpy as np\n>>> type(slope_array) == np.ndarray\nTrue",
         "hidden": false,
         "locked": false
        },
        {
         "code": ">>> # Make sure array is in order\n>>> all(slope_array == np.sort(slope_array))\nTrue",
         "hidden": false,
         "locked": false
        },
        {
         "code": ">>> # Make sure you have set slope_array to an array with at least 1 number\n>>> 1 <= slope_array.item(0) <= 5\nTrue",
         "hidden": false,
         "locked": false
        }
       ],
       "scored": true,
       "setup": "",
       "teardown": "",
       "type": "doctest"
      }
     ]
    },
    "q1_7": {
     "name": "q1_7",
     "points": [
      0
     ],
     "suites": [
      {
       "cases": [
        {
         "code": ">>> # The intercept of a line going through (1,1) and (2,2) should be 0.\n>>> np.isclose(intercept([1, 2], [1, 2]), 0.0)\nTrue",
         "hidden": false,
         "locked": false
        }
       ],
       "scored": true,
       "setup": "",
       "teardown": "",
       "type": "doctest"
      }
     ]
    },
    "q1_8": {
     "name": "q1_8",
     "points": [
      0,
      0,
      0
     ],
     "suites": [
      {
       "cases": [
        {
         "code": ">>> # Make sure intercept_array is an array.\n>>> import numpy as np\n>>> type(intercept_array) == np.ndarray\nTrue",
         "hidden": false,
         "locked": false
        },
        {
         "code": ">>> # Make sure array is in order\n>>> all(intercept_array == np.sort(intercept_array))\nTrue",
         "hidden": false,
         "locked": false
        },
        {
         "code": ">>> # Make sure you have set intercept_array to an array with at least 1 number\n>>> 1 <= intercept_array.item(0) <= 5\nTrue",
         "hidden": false,
         "locked": false
        }
       ],
       "scored": true,
       "setup": "",
       "teardown": "",
       "type": "doctest"
      }
     ]
    },
    "q1_9": {
     "name": "q1_9",
     "points": [
      2,
      3
     ],
     "suites": [
      {
       "cases": [
        {
         "code": ">>> test_table = Table().with_columns('x', make_array(1, 2, 4), 'y', make_array(4, 5, 6))\n>>> np.all(np.isclose(predict(test_table, 'x', 'y'), make_array(4.14285714, 4.78571429, 6.07142857)))\nTrue",
         "hidden": false,
         "locked": false
        },
        {
         "code": ">>> test_table_2 = Table().with_columns('x', make_array(-1, -3, -5), 'y', make_array(0, 3, 4))\n>>> np.all(np.isclose(predict(test_table_2, 'x', 'y'), make_array(0.33333333, 2.33333333, 4.33333333)))\nTrue",
         "hidden": false,
         "locked": false
        }
       ],
       "scored": true,
       "setup": "",
       "teardown": "",
       "type": "doctest"
      }
     ]
    },
    "q2_10": {
     "name": "q2_10",
     "points": [
      0,
      0,
      0
     ],
     "suites": [
      {
       "cases": [
        {
         "code": ">>> # Make sure error_array is an array.\n>>> import numpy as np\n>>> type(error_array) == np.ndarray\nTrue",
         "hidden": false,
         "locked": false
        },
        {
         "code": ">>> # Make sure array is in order\n>>> all(error_array == np.sort(error_array))\nTrue",
         "hidden": false,
         "locked": false
        },
        {
         "code": ">>> # Make sure you have set error_array to an array with at least 1 number\n>>> 1 <= error_array.item(0) <= 5\nTrue",
         "hidden": false,
         "locked": false
        }
       ],
       "scored": true,
       "setup": "",
       "teardown": "",
       "type": "doctest"
      }
     ]
    },
    "q2_11": {
     "name": "q2_11",
     "points": [
      0,
      0,
      0
     ],
     "suites": [
      {
       "cases": [
        {
         "code": ">>> # Make sure scoring_array is an array.\n>>> import numpy as np\n>>> type(scoring_array) == np.ndarray\nTrue",
         "hidden": false,
         "locked": false
        },
        {
         "code": ">>> # Make sure array is in order\n>>> all(scoring_array == np.sort(scoring_array))\nTrue",
         "hidden": false,
         "locked": false
        },
        {
         "code": ">>> # Make sure you have set scoring_array to an array with at least 1 number\n>>> 1 <= scoring_array.item(0) <= 4\nTrue",
         "hidden": false,
         "locked": false
        }
       ],
       "scored": true,
       "setup": "",
       "teardown": "",
       "type": "doctest"
      }
     ]
    },
    "q2_2": {
     "name": "q2_2",
     "points": [
      0
     ],
     "suites": [
      {
       "cases": [
        {
         "code": ">>> # Make sure r_guess is one of the 3 options.\n>>> r_guess == 0 or r_guess == 0.75 or r_guess == -0.75\nTrue",
         "hidden": false,
         "locked": false
        }
       ],
       "scored": true,
       "setup": "",
       "teardown": "",
       "type": "doctest"
      }
     ]
    },
    "q2_7": {
     "name": "q2_7",
     "points": [
      0
     ],
     "suites": [
      {
       "cases": [
        {
         "code": ">>> # Make sure your function returns the value you computed for the RMSE.\n>>> import numpy as np\n>>> type(rmse(1, 2)) == np.float64 or type(rmse(1, 2)) == float\nTrue",
         "hidden": false,
         "locked": false
        }
       ],
       "scored": true,
       "setup": "",
       "teardown": "",
       "type": "doctest"
      }
     ]
    }
   }
  }
 },
 "nbformat": 4,
 "nbformat_minor": 5
}
